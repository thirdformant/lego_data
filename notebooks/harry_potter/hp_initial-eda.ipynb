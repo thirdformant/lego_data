{
 "cells": [
  {
   "cell_type": "markdown",
   "metadata": {},
   "source": [
    "# An initial look at the Harry Potter theme"
   ]
  },
  {
   "cell_type": "markdown",
   "metadata": {},
   "source": [
    "## Introduction"
   ]
  },
  {
   "cell_type": "markdown",
   "metadata": {},
   "source": [
    "Harry Potter was always my favourite Lego theme, and now that it's back (to witches and wizards and magical beasts!) I've grabbed the database of lego sets and parts from [Rebrickable](https://rebrickable.com/downloads/) and had a look at how the theme has changed over the years. It also gave me a chance to do some visualisation with [Altair](https://altair-viz.github.io/), which is awesome."
   ]
  },
  {
   "cell_type": "markdown",
   "metadata": {},
   "source": [
    "## Libraries and setup"
   ]
  },
  {
   "cell_type": "code",
   "execution_count": 1,
   "metadata": {},
   "outputs": [],
   "source": [
    "import sqlite3\n",
    "from pathlib import Path\n",
    "\n",
    "import numpy as np\n",
    "import pandas as pd\n",
    "\n",
    "import matplotlib.pyplot as plt\n",
    "import seaborn as sns\n",
    "import altair as alt"
   ]
  },
  {
   "cell_type": "code",
   "execution_count": 2,
   "metadata": {},
   "outputs": [],
   "source": [
    "DB_PATH = Path(\"../../data/db\")"
   ]
  },
  {
   "cell_type": "code",
   "execution_count": 3,
   "metadata": {},
   "outputs": [
    {
     "name": "stdout",
     "output_type": "stream",
     "text": [
      "20190511115712.log  lego.db\n"
     ]
    }
   ],
   "source": [
    "!ls {DB_PATH}"
   ]
  },
  {
   "cell_type": "code",
   "execution_count": 4,
   "metadata": {},
   "outputs": [],
   "source": [
    "conn = sqlite3.connect(str(DB_PATH / \"lego.db\"))"
   ]
  },
  {
   "cell_type": "markdown",
   "metadata": {},
   "source": [
    "## Datasets"
   ]
  },
  {
   "cell_type": "markdown",
   "metadata": {},
   "source": [
    "The data was downloaded from [Rebrickable](https://rebrickable.com/downloads/) and accurate as of 2019-05-08. I wrote a Python script to create a SQLite version of the original Rebrickable database using the provided scheme - you can download it [here](), along with the Jupyter Notebooks with the source code for most of this post (once I get around to committing them...).\n",
    "\n",
    "I made a few minor changes to the data:\n",
    "- I dropped four sets ([K4706-1](https://rebrickable.com/sets/K4706-1/sorcerers-stone-kit/), [K4701-1](https://rebrickable.com/sets/K4701-1/chamber-of-secrets-kit/), [K4729-1](https://rebrickable.com/sets/K4729-1/deluxe-hogwarts-kit/) and [5000068-1](https://rebrickable.com/sets/5000068-1/harry-potter-classic-kit/)). These are collections of other sets which were released separately and shouldn't be considered sets in their own right.\n",
    "- I renamed the *Sorcerer's Stone* subtheme to *Philosopher's Stone*.\n",
    "- Some sets have duplicate names e.g. Hogwarts, Hogwarts Express. These were renamed."
   ]
  },
  {
   "cell_type": "code",
   "execution_count": 5,
   "metadata": {},
   "outputs": [],
   "source": [
    "theme_order = [\"Philosopher's Stone\", \"Chamber of Secrets\", \"Prisoner of Azkaban\", \"Goblet of Fire\",\n",
    "              \"Order of the Phoenix\", \"Harry Potter\", \"Fantastic Beasts\"]"
   ]
  },
  {
   "cell_type": "markdown",
   "metadata": {},
   "source": [
    "### Related to subthemes and sets"
   ]
  },
  {
   "cell_type": "code",
   "execution_count": 6,
   "metadata": {},
   "outputs": [],
   "source": [
    "cols = \"sets.name, sets.set_num, sets.year, sets.num_parts, themes.name as theme_name\"\n",
    "\n",
    "hp_themes_df = pd.read_sql_query(\n",
    "    f\"\"\"SELECT {cols} FROM sets\n",
    "    JOIN themes on sets.theme_id = themes.id\n",
    "    WHERE themes.name = 'Harry Potter'\n",
    "        OR themes.name LIKE '%Sorcerer''s Stone%'\n",
    "        OR themes.name = 'Chamber of Secrets'\n",
    "        OR themes.name = 'Prisoner of Azkaban'\n",
    "        OR themes.name = 'Goblet of Fire'\n",
    "        OR themes.name = 'Order of the Phoenix'\n",
    "        OR themes.name = 'Fantastic Beasts'\"\"\",\n",
    "    conn)"
   ]
  },
  {
   "cell_type": "code",
   "execution_count": 7,
   "metadata": {},
   "outputs": [],
   "source": [
    "hp_themes_df = hp_themes_df[hp_themes_df['year']!=2019]"
   ]
  },
  {
   "cell_type": "code",
   "execution_count": 8,
   "metadata": {},
   "outputs": [
    {
     "data": {
      "text/html": [
       "<div>\n",
       "<style scoped>\n",
       "    .dataframe tbody tr th:only-of-type {\n",
       "        vertical-align: middle;\n",
       "    }\n",
       "\n",
       "    .dataframe tbody tr th {\n",
       "        vertical-align: top;\n",
       "    }\n",
       "\n",
       "    .dataframe thead th {\n",
       "        text-align: right;\n",
       "    }\n",
       "</style>\n",
       "<table border=\"1\" class=\"dataframe\">\n",
       "  <thead>\n",
       "    <tr style=\"text-align: right;\">\n",
       "      <th></th>\n",
       "      <th>name</th>\n",
       "      <th>set_num</th>\n",
       "      <th>year</th>\n",
       "      <th>num_parts</th>\n",
       "      <th>theme_name</th>\n",
       "    </tr>\n",
       "  </thead>\n",
       "  <tbody>\n",
       "    <tr>\n",
       "      <th>0</th>\n",
       "      <td>Diagon Alley</td>\n",
       "      <td>10217-1</td>\n",
       "      <td>2011</td>\n",
       "      <td>2031</td>\n",
       "      <td>Harry Potter</td>\n",
       "    </tr>\n",
       "    <tr>\n",
       "      <th>1</th>\n",
       "      <td>Trolley</td>\n",
       "      <td>30110-1</td>\n",
       "      <td>2011</td>\n",
       "      <td>22</td>\n",
       "      <td>Harry Potter</td>\n",
       "    </tr>\n",
       "    <tr>\n",
       "      <th>2</th>\n",
       "      <td>The Lab</td>\n",
       "      <td>30111-1</td>\n",
       "      <td>2011</td>\n",
       "      <td>34</td>\n",
       "      <td>Harry Potter</td>\n",
       "    </tr>\n",
       "    <tr>\n",
       "      <th>3</th>\n",
       "      <td>Mini Hogwarts Express</td>\n",
       "      <td>40028-1</td>\n",
       "      <td>2011</td>\n",
       "      <td>64</td>\n",
       "      <td>Harry Potter</td>\n",
       "    </tr>\n",
       "    <tr>\n",
       "      <th>4</th>\n",
       "      <td>Freeing Dobby</td>\n",
       "      <td>4736-1</td>\n",
       "      <td>2010</td>\n",
       "      <td>73</td>\n",
       "      <td>Harry Potter</td>\n",
       "    </tr>\n",
       "  </tbody>\n",
       "</table>\n",
       "</div>"
      ],
      "text/plain": [
       "                    name  set_num  year  num_parts    theme_name\n",
       "0           Diagon Alley  10217-1  2011       2031  Harry Potter\n",
       "1                Trolley  30110-1  2011         22  Harry Potter\n",
       "2                The Lab  30111-1  2011         34  Harry Potter\n",
       "3  Mini Hogwarts Express  40028-1  2011         64  Harry Potter\n",
       "4          Freeing Dobby   4736-1  2010         73  Harry Potter"
      ]
     },
     "execution_count": 8,
     "metadata": {},
     "output_type": "execute_result"
    }
   ],
   "source": [
    "hp_themes_df.head()"
   ]
  },
  {
   "cell_type": "markdown",
   "metadata": {},
   "source": [
    "### Related to parts and colours"
   ]
  },
  {
   "cell_type": "code",
   "execution_count": 9,
   "metadata": {},
   "outputs": [],
   "source": [
    "cols = \"\"\"sets.set_num, sets.name, sets.year, sets.num_parts, color_id,\n",
    "        parts.part_num, inventory_parts.quantity, colors.rgb, colors.is_trans, colors.name as color_name,\n",
    "        themes.name as theme_name, inventories.id as inv_id, parts.name as part_name\"\"\"\n",
    "\n",
    "hp_parts_df = pd.read_sql_query(\n",
    "    f\"\"\"SELECT {cols} FROM sets\n",
    "    JOIN themes on sets.theme_id = themes.id\n",
    "    JOIN inventories on sets.set_num = inventories.set_num\n",
    "    JOIN inventory_parts on inventories.id = inventory_parts.inventory_id\n",
    "    JOIN parts on inventory_parts.part_num = parts.part_num\n",
    "    JOIN colors on inventory_parts.color_id = colors.id\n",
    "    WHERE themes.name = 'Harry Potter'\n",
    "        OR themes.name LIKE '%Sorcerer''s Stone%'\n",
    "        OR themes.name = 'Chamber of Secrets'\n",
    "        OR themes.name = 'Prisoner of Azkaban'\n",
    "        OR themes.name = 'Goblet of Fire'\n",
    "        OR themes.name = 'Order of the Phoenix'\n",
    "        OR themes.name = 'Fantastic Beasts'\n",
    "        AND sets.year != 2019\"\"\",\n",
    "    conn)"
   ]
  },
  {
   "cell_type": "code",
   "execution_count": 10,
   "metadata": {},
   "outputs": [
    {
     "data": {
      "text/html": [
       "<div>\n",
       "<style scoped>\n",
       "    .dataframe tbody tr th:only-of-type {\n",
       "        vertical-align: middle;\n",
       "    }\n",
       "\n",
       "    .dataframe tbody tr th {\n",
       "        vertical-align: top;\n",
       "    }\n",
       "\n",
       "    .dataframe thead th {\n",
       "        text-align: right;\n",
       "    }\n",
       "</style>\n",
       "<table border=\"1\" class=\"dataframe\">\n",
       "  <thead>\n",
       "    <tr style=\"text-align: right;\">\n",
       "      <th></th>\n",
       "      <th>set_num</th>\n",
       "      <th>name</th>\n",
       "      <th>year</th>\n",
       "      <th>num_parts</th>\n",
       "      <th>color_id</th>\n",
       "      <th>part_num</th>\n",
       "      <th>quantity</th>\n",
       "      <th>rgb</th>\n",
       "      <th>is_trans</th>\n",
       "      <th>color_name</th>\n",
       "      <th>theme_name</th>\n",
       "      <th>inv_id</th>\n",
       "      <th>part_name</th>\n",
       "    </tr>\n",
       "  </thead>\n",
       "  <tbody>\n",
       "    <tr>\n",
       "      <th>0</th>\n",
       "      <td>10132-1</td>\n",
       "      <td>Motorized Hogwarts Express</td>\n",
       "      <td>2004</td>\n",
       "      <td>712</td>\n",
       "      <td>72</td>\n",
       "      <td>2039</td>\n",
       "      <td>2</td>\n",
       "      <td>6C6E68</td>\n",
       "      <td>f</td>\n",
       "      <td>Dark Bluish Gray</td>\n",
       "      <td>Prisoner of Azkaban</td>\n",
       "      <td>10570</td>\n",
       "      <td>Lamp Post 2 x 2 x 7 with 6 Base Flutes</td>\n",
       "    </tr>\n",
       "    <tr>\n",
       "      <th>1</th>\n",
       "      <td>10132-1</td>\n",
       "      <td>Motorized Hogwarts Express</td>\n",
       "      <td>2004</td>\n",
       "      <td>712</td>\n",
       "      <td>4</td>\n",
       "      <td>2357</td>\n",
       "      <td>2</td>\n",
       "      <td>C91A09</td>\n",
       "      <td>f</td>\n",
       "      <td>Red</td>\n",
       "      <td>Prisoner of Azkaban</td>\n",
       "      <td>10570</td>\n",
       "      <td>Brick 2 x 2 Corner</td>\n",
       "    </tr>\n",
       "    <tr>\n",
       "      <th>2</th>\n",
       "      <td>10132-1</td>\n",
       "      <td>Motorized Hogwarts Express</td>\n",
       "      <td>2004</td>\n",
       "      <td>712</td>\n",
       "      <td>72</td>\n",
       "      <td>2357</td>\n",
       "      <td>21</td>\n",
       "      <td>6C6E68</td>\n",
       "      <td>f</td>\n",
       "      <td>Dark Bluish Gray</td>\n",
       "      <td>Prisoner of Azkaban</td>\n",
       "      <td>10570</td>\n",
       "      <td>Brick 2 x 2 Corner</td>\n",
       "    </tr>\n",
       "    <tr>\n",
       "      <th>3</th>\n",
       "      <td>10132-1</td>\n",
       "      <td>Motorized Hogwarts Express</td>\n",
       "      <td>2004</td>\n",
       "      <td>712</td>\n",
       "      <td>4</td>\n",
       "      <td>2377</td>\n",
       "      <td>2</td>\n",
       "      <td>C91A09</td>\n",
       "      <td>f</td>\n",
       "      <td>Red</td>\n",
       "      <td>Prisoner of Azkaban</td>\n",
       "      <td>10570</td>\n",
       "      <td>Window 1 x 2 x 2 Plane</td>\n",
       "    </tr>\n",
       "    <tr>\n",
       "      <th>4</th>\n",
       "      <td>10132-1</td>\n",
       "      <td>Motorized Hogwarts Express</td>\n",
       "      <td>2004</td>\n",
       "      <td>712</td>\n",
       "      <td>72</td>\n",
       "      <td>2412b</td>\n",
       "      <td>11</td>\n",
       "      <td>6C6E68</td>\n",
       "      <td>f</td>\n",
       "      <td>Dark Bluish Gray</td>\n",
       "      <td>Prisoner of Azkaban</td>\n",
       "      <td>10570</td>\n",
       "      <td>Tile Special 1 x 2 Grille with Bottom Groove</td>\n",
       "    </tr>\n",
       "  </tbody>\n",
       "</table>\n",
       "</div>"
      ],
      "text/plain": [
       "   set_num                        name  year  num_parts  color_id part_num  \\\n",
       "0  10132-1  Motorized Hogwarts Express  2004        712        72     2039   \n",
       "1  10132-1  Motorized Hogwarts Express  2004        712         4     2357   \n",
       "2  10132-1  Motorized Hogwarts Express  2004        712        72     2357   \n",
       "3  10132-1  Motorized Hogwarts Express  2004        712         4     2377   \n",
       "4  10132-1  Motorized Hogwarts Express  2004        712        72    2412b   \n",
       "\n",
       "   quantity     rgb is_trans        color_name           theme_name  inv_id  \\\n",
       "0         2  6C6E68        f  Dark Bluish Gray  Prisoner of Azkaban   10570   \n",
       "1         2  C91A09        f               Red  Prisoner of Azkaban   10570   \n",
       "2        21  6C6E68        f  Dark Bluish Gray  Prisoner of Azkaban   10570   \n",
       "3         2  C91A09        f               Red  Prisoner of Azkaban   10570   \n",
       "4        11  6C6E68        f  Dark Bluish Gray  Prisoner of Azkaban   10570   \n",
       "\n",
       "                                      part_name  \n",
       "0        Lamp Post 2 x 2 x 7 with 6 Base Flutes  \n",
       "1                            Brick 2 x 2 Corner  \n",
       "2                            Brick 2 x 2 Corner  \n",
       "3                        Window 1 x 2 x 2 Plane  \n",
       "4  Tile Special 1 x 2 Grille with Bottom Groove  "
      ]
     },
     "execution_count": 10,
     "metadata": {},
     "output_type": "execute_result"
    }
   ],
   "source": [
    "hp_parts_df.head(5)"
   ]
  },
  {
   "cell_type": "markdown",
   "metadata": {},
   "source": [
    "## Global data cleaning and new features"
   ]
  },
  {
   "cell_type": "code",
   "execution_count": 11,
   "metadata": {},
   "outputs": [],
   "source": [
    "dfs = [hp_themes_df, hp_parts_df]"
   ]
  },
  {
   "cell_type": "markdown",
   "metadata": {},
   "source": [
    "There are four sets ([K4706-1](https://rebrickable.com/sets/K4706-1/sorcerers-stone-kit/), [K4701-1](https://rebrickable.com/sets/K4701-1/chamber-of-secrets-kit/), [K4729-1](https://rebrickable.com/sets/K4729-1/deluxe-hogwarts-kit/) and [5000068-1](https://rebrickable.com/sets/5000068-1/harry-potter-classic-kit/)) under the *Harry Potter* theme that are collections of other sets. I haven't included them here as they aren't really sets in their own right."
   ]
  },
  {
   "cell_type": "code",
   "execution_count": 12,
   "metadata": {},
   "outputs": [],
   "source": [
    "for df in dfs:\n",
    "    df.drop(df[(df['set_num']=='K4706-1') | (df['set_num']=='K4701-1') | (df['set_num']=='K4729-1') | (df['set_num']=='5000068-1')]\\\n",
    "            .index, axis=0, inplace=True)"
   ]
  },
  {
   "cell_type": "code",
   "execution_count": 13,
   "metadata": {},
   "outputs": [],
   "source": [
    "# Fixes identically named sets\n",
    "# Changes 'Sorcerer's Stone' to 'Philosopher's Stone'\n",
    "for df in dfs:\n",
    "    df.loc[df['theme_name']==\"Sorcerer's Stone\", 'theme_name'] = \"Philosopher's Stone\"\n",
    "    df.loc[(df['name']=='Hogwarts Castle') & (df['theme_name']=='Order of the Phoenix'), 'name'] = 'Hogwarts (Third Edition)'\n",
    "    df.loc[(df['name']=='Hogwarts Castle') & (df['theme_name']==\"Sorcerer's Stone\"), 'name'] = 'Hogwarts (First Edition)'\n",
    "    df.loc[(df['name']=='Diagon Alley') & (df['theme_name']=='Harry Potter'), 'name'] = 'Diagon Alley'\n",
    "    df.loc[(df['name']=='Diagon Alley') & (df['theme_name']=='Fantastic Beasts'), 'name'] = 'Diagon Alley (micro)'\n",
    "    df.loc[(df['name']=='Hogwarts Express') & (df['theme_name']==\"Philosopher's Stone\"), 'name'] = 'Hogwarts Express (1st Edition)'\n",
    "    df.loc[(df['name']=='Hogwarts Express') & (df['theme_name']=='Fantastic Beasts'), 'name'] = 'Hogwarts Express (4th Edition)'"
   ]
  },
  {
   "cell_type": "code",
   "execution_count": 14,
   "metadata": {},
   "outputs": [],
   "source": [
    "# Combines set_num and name columns\n",
    "# It's easier for people to look up sets this way, but set_num by itself is opaque\n",
    "for df in dfs:\n",
    "    df['num_name'] = df['set_num'] + \": \" + df[\"name\"]"
   ]
  },
  {
   "cell_type": "markdown",
   "metadata": {},
   "source": [
    "### Year"
   ]
  },
  {
   "cell_type": "code",
   "execution_count": 15,
   "metadata": {},
   "outputs": [
    {
     "data": {
      "text/html": [
       "<div>\n",
       "<style scoped>\n",
       "    .dataframe tbody tr th:only-of-type {\n",
       "        vertical-align: middle;\n",
       "    }\n",
       "\n",
       "    .dataframe tbody tr th {\n",
       "        vertical-align: top;\n",
       "    }\n",
       "\n",
       "    .dataframe thead th {\n",
       "        text-align: right;\n",
       "    }\n",
       "</style>\n",
       "<table border=\"1\" class=\"dataframe\">\n",
       "  <thead>\n",
       "    <tr style=\"text-align: right;\">\n",
       "      <th></th>\n",
       "      <th>theme_name</th>\n",
       "      <th>year</th>\n",
       "      <th>year_count</th>\n",
       "      <th>set_count</th>\n",
       "    </tr>\n",
       "  </thead>\n",
       "  <tbody>\n",
       "    <tr>\n",
       "      <th>0</th>\n",
       "      <td>Chamber of Secrets</td>\n",
       "      <td>2002</td>\n",
       "      <td>8</td>\n",
       "      <td>10</td>\n",
       "    </tr>\n",
       "    <tr>\n",
       "      <th>1</th>\n",
       "      <td>Chamber of Secrets</td>\n",
       "      <td>2003</td>\n",
       "      <td>2</td>\n",
       "      <td>10</td>\n",
       "    </tr>\n",
       "    <tr>\n",
       "      <th>2</th>\n",
       "      <td>Fantastic Beasts</td>\n",
       "      <td>2018</td>\n",
       "      <td>12</td>\n",
       "      <td>12</td>\n",
       "    </tr>\n",
       "    <tr>\n",
       "      <th>3</th>\n",
       "      <td>Goblet of Fire</td>\n",
       "      <td>2005</td>\n",
       "      <td>5</td>\n",
       "      <td>5</td>\n",
       "    </tr>\n",
       "    <tr>\n",
       "      <th>4</th>\n",
       "      <td>Harry Potter</td>\n",
       "      <td>2002</td>\n",
       "      <td>6</td>\n",
       "      <td>21</td>\n",
       "    </tr>\n",
       "    <tr>\n",
       "      <th>5</th>\n",
       "      <td>Harry Potter</td>\n",
       "      <td>2010</td>\n",
       "      <td>6</td>\n",
       "      <td>21</td>\n",
       "    </tr>\n",
       "    <tr>\n",
       "      <th>6</th>\n",
       "      <td>Harry Potter</td>\n",
       "      <td>2011</td>\n",
       "      <td>7</td>\n",
       "      <td>21</td>\n",
       "    </tr>\n",
       "    <tr>\n",
       "      <th>7</th>\n",
       "      <td>Harry Potter</td>\n",
       "      <td>2018</td>\n",
       "      <td>2</td>\n",
       "      <td>21</td>\n",
       "    </tr>\n",
       "    <tr>\n",
       "      <th>8</th>\n",
       "      <td>Order of the Phoenix</td>\n",
       "      <td>2007</td>\n",
       "      <td>1</td>\n",
       "      <td>1</td>\n",
       "    </tr>\n",
       "    <tr>\n",
       "      <th>9</th>\n",
       "      <td>Philosopher's Stone</td>\n",
       "      <td>2001</td>\n",
       "      <td>11</td>\n",
       "      <td>14</td>\n",
       "    </tr>\n",
       "  </tbody>\n",
       "</table>\n",
       "</div>"
      ],
      "text/plain": [
       "             theme_name  year  year_count  set_count\n",
       "0    Chamber of Secrets  2002           8         10\n",
       "1    Chamber of Secrets  2003           2         10\n",
       "2      Fantastic Beasts  2018          12         12\n",
       "3        Goblet of Fire  2005           5          5\n",
       "4          Harry Potter  2002           6         21\n",
       "5          Harry Potter  2010           6         21\n",
       "6          Harry Potter  2011           7         21\n",
       "7          Harry Potter  2018           2         21\n",
       "8  Order of the Phoenix  2007           1          1\n",
       "9   Philosopher's Stone  2001          11         14"
      ]
     },
     "execution_count": 15,
     "metadata": {},
     "output_type": "execute_result"
    }
   ],
   "source": [
    "# Compute count of sets by year\n",
    "hp_yearsets_df = hp_themes_df[['year', 'theme_name', 'name']]\n",
    "hp_yearsets_df = hp_yearsets_df.groupby(['theme_name', 'year'])['name'].count().reset_index(name=\"year_count\")\n",
    "\n",
    "# Compute count of sets by theme\n",
    "hp_themesets_df = hp_themes_df[['theme_name', 'name']]\n",
    "hp_themesets_df = hp_themesets_df.groupby(['theme_name'])['name'].count().reset_index(name=\"set_count\")\n",
    "\n",
    "# Combine datasets\n",
    "hp_yearsets_df = hp_yearsets_df.merge(hp_themesets_df, on=\"theme_name\", how=\"left\")\n",
    "hp_yearsets_df.head(10)"
   ]
  },
  {
   "cell_type": "markdown",
   "metadata": {},
   "source": [
    "### Parts"
   ]
  },
  {
   "cell_type": "code",
   "execution_count": 16,
   "metadata": {},
   "outputs": [],
   "source": [
    "# Get name of set with most parts per theme\n",
    "most_parts = hp_themes_df\\\n",
    "    .groupby('theme_name')['num_name', 'num_parts']\\\n",
    "    .apply(lambda grp: grp.nlargest(1, 'num_parts'))\\\n",
    "    .reset_index()[['theme_name', 'num_name']]\\\n",
    "    .rename(columns={'num_name': 'most_parts'})\n",
    "hp_themes_df = hp_themes_df.merge(most_parts, on=\"theme_name\", how=\"right\")"
   ]
  },
  {
   "cell_type": "markdown",
   "metadata": {},
   "source": [
    "### Colours"
   ]
  },
  {
   "cell_type": "code",
   "execution_count": 17,
   "metadata": {},
   "outputs": [],
   "source": [
    "hp_colors_df = hp_parts_df.reindex(hp_parts_df.index.repeat(hp_parts_df['quantity']))\n",
    "hp_colors_df['hex'] = '#' + hp_colors_df['rgb']"
   ]
  },
  {
   "cell_type": "code",
   "execution_count": 18,
   "metadata": {},
   "outputs": [],
   "source": [
    "# By year\n",
    "colors_count_year = hp_colors_df.groupby(['year', 'color_name', 'hex'], as_index=False)\\\n",
    "    .count()[['year', 'hex', 'quantity', 'color_name']]\n",
    "colors_count_year['transparent'] = colors_count_year['hex'].isin(list(hp_colors_df[hp_colors_df['is_trans'] == 't']['hex']))\n",
    "\n",
    "# By theme\n",
    "colors_count_theme = hp_colors_df.groupby(['theme_name', 'color_name', 'hex'], as_index=False)\\\n",
    "    .count()[['theme_name', 'hex', 'quantity', 'color_name']]\n",
    "colors_count_theme['transparent'] = colors_count_theme['hex'].isin(list(hp_colors_df[hp_colors_df['is_trans'] == 't']['hex']))\n",
    "\n",
    "# By set\n",
    "colors_count_set = hp_colors_df.groupby(['theme_name', 'num_name', 'name', 'color_name', 'hex'], as_index=False)\\\n",
    "    .count()[['theme_name', 'num_name', 'name', 'hex', 'quantity', 'color_name', 'num_parts']]\n",
    "colors_count_set['transparent'] = colors_count_set['hex'].isin(list(hp_colors_df[hp_colors_df['is_trans'] == 't']['hex']))"
   ]
  },
  {
   "cell_type": "code",
   "execution_count": 19,
   "metadata": {},
   "outputs": [],
   "source": [
    "# Size of the palette\n",
    "# By year\n",
    "colors_number_year = hp_parts_df.groupby(['year'])['color_name'].nunique().reset_index(name='color_count')\n",
    "\n",
    "# By theme\n",
    "colors_number_theme = hp_parts_df.groupby(['theme_name'])['color_name'].nunique().reset_index(name='color_count')\n",
    "\n",
    "# By set\n",
    "colors_number_set = hp_parts_df.groupby(['set_num'])['color_name'].nunique().reset_index(name='color_count')"
   ]
  },
  {
   "cell_type": "markdown",
   "metadata": {},
   "source": [
    "## Sets released by year"
   ]
  },
  {
   "cell_type": "markdown",
   "metadata": {},
   "source": [
    "The film adaptation of Harry Potter and the Philosopher's Stone was released in 2001 and Lego had the license to release tie-in sets under, obviously, the *Philosopher's (Sorcerer's) Stone* subtheme. This trend of releasing sets to coincide with, or shortly after, the release of a film continued for several years. However, massive financial problems at Lego meant that the number of sets released under the theme declined sharply after 2004, with only a single set ([5378-1: Hogwarts Castle](https://brickset.com/sets/5378-1/Hogwarts-Castle)) being released in 2007. This culminated with the theme being discontinued after 2007.\n",
    "\n",
    "Luckily for those of us who liked the theme, it was only to be a temporary hiatus. The theme returned in 2010, with new sets released under the general *Harry Potter* theme rather than the film-specific structure of the past. That said, set [4840-1: The Burrow](https://brickset.com/sets/4840-1/The-Burrow), along with [4867-1: Hogwarts](https://rebrickable.com/sets/4867-1/hogwarts/) and [4865-1: The Forbidden Forest](https://rebrickable.com/sets/4865-1/the-forbidden-forest/), were based on events in *Half-Blood Prince* and *Deathly Hallows* respectively.\n",
    "\n",
    "Then, in 2011, the theme got hit with Avada Kedavra and discontinued for a second time. Like Harry in the Forbidden Forest though it wasn't truly dead and returned unexpectedly in 2018 with a large range of new sets. While the revival is listed in Rebrickable's database under the *Fantastic Beasts* theme, and was happened between the first and second films, only three sets to date (and some collectable minifigures) are actually from the film. The majority are based on the events in *Philosopher's Stone* and *Chamber of Azkaban*, with some scenes from *Prisoner of Azkaban* represented in [75955-1: Hogwarts Express](https://brickset.com/sets/75955-1/Hogwarts-Express). 2019 is bringing more, continuing *Prisoner of Azkaban* and introducing sets from *Goblet of Fire*. None announced so far relate to the Fantastic Beasts franchise...\n"
   ]
  },
  {
   "cell_type": "code",
   "execution_count": 20,
   "metadata": {},
   "outputs": [
    {
     "data": {
      "application/vnd.vegalite.v3+json": {
       "$schema": "https://vega.github.io/schema/vega-lite/v3.2.1.json",
       "config": {
        "mark": {
         "tooltip": null
        },
        "view": {
         "height": 300,
         "width": 400
        }
       },
       "data": {
        "name": "data-84f9c902b1c491d177a25ae3617a0e4c"
       },
       "datasets": {
        "data-84f9c902b1c491d177a25ae3617a0e4c": [
         {
          "set_count": 10,
          "theme_name": "Chamber of Secrets",
          "year": 2002,
          "year_count": 8
         },
         {
          "set_count": 10,
          "theme_name": "Chamber of Secrets",
          "year": 2003,
          "year_count": 2
         },
         {
          "set_count": 12,
          "theme_name": "Fantastic Beasts",
          "year": 2018,
          "year_count": 12
         },
         {
          "set_count": 5,
          "theme_name": "Goblet of Fire",
          "year": 2005,
          "year_count": 5
         },
         {
          "set_count": 21,
          "theme_name": "Harry Potter",
          "year": 2002,
          "year_count": 6
         },
         {
          "set_count": 21,
          "theme_name": "Harry Potter",
          "year": 2010,
          "year_count": 6
         },
         {
          "set_count": 21,
          "theme_name": "Harry Potter",
          "year": 2011,
          "year_count": 7
         },
         {
          "set_count": 21,
          "theme_name": "Harry Potter",
          "year": 2018,
          "year_count": 2
         },
         {
          "set_count": 1,
          "theme_name": "Order of the Phoenix",
          "year": 2007,
          "year_count": 1
         },
         {
          "set_count": 14,
          "theme_name": "Philosopher's Stone",
          "year": 2001,
          "year_count": 11
         },
         {
          "set_count": 14,
          "theme_name": "Philosopher's Stone",
          "year": 2002,
          "year_count": 3
         },
         {
          "set_count": 14,
          "theme_name": "Prisoner of Azkaban",
          "year": 2004,
          "year_count": 14
         }
        ]
       },
       "encoding": {
        "color": {
         "field": "theme_name",
         "sort": [
          "Philosopher's Stone",
          "Chamber of Secrets",
          "Prisoner of Azkaban",
          "Goblet of Fire",
          "Order of the Phoenix",
          "Harry Potter",
          "Fantastic Beasts"
         ],
         "title": "Theme name",
         "type": "nominal"
        },
        "tooltip": [
         {
          "field": "set_count",
          "title": "Total sets in theme",
          "type": "quantitative"
         }
        ],
        "x": {
         "field": "year",
         "title": "Year",
         "type": "ordinal"
        },
        "y": {
         "field": "year_count",
         "title": "Number of sets released",
         "type": "quantitative"
        }
       },
       "height": 400,
       "mark": "bar",
       "width": 400
      },
      "image/png": "[encoded data removed]",
      "text/plain": [
       "<VegaLite 3 object>\n",
       "\n",
       "If you see this message, it means the renderer has not been properly enabled\n",
       "for the frontend that you are using. For more information, see\n",
       "https://altair-viz.github.io/user_guide/troubleshooting.html\n"
      ]
     },
     "execution_count": 20,
     "metadata": {},
     "output_type": "execute_result"
    }
   ],
   "source": [
    "plot_sets_year = alt.Chart(hp_yearsets_df).mark_bar().encode(\n",
    "    x=alt.X('year:O', title='Year'),\n",
    "    y=alt.Y('year_count:Q', title='Number of sets released'),\n",
    "    color=alt.Color('theme_name:N', title='Theme name', sort=theme_order),\n",
    "    tooltip=alt.Tooltip(['set_count:Q'], title='Total sets in theme')\n",
    ").properties(\n",
    "    width=400,\n",
    "    height=400\n",
    ")\n",
    "\n",
    "plot_sets_year.save('hp_plt_sets_year.html')\n",
    "\n",
    "plot_sets_year"
   ]
  },
  {
   "cell_type": "code",
   "execution_count": 21,
   "metadata": {},
   "outputs": [
    {
     "data": {
      "text/html": [
       "<div>\n",
       "<style scoped>\n",
       "    .dataframe tbody tr th:only-of-type {\n",
       "        vertical-align: middle;\n",
       "    }\n",
       "\n",
       "    .dataframe tbody tr th {\n",
       "        vertical-align: top;\n",
       "    }\n",
       "\n",
       "    .dataframe thead th {\n",
       "        text-align: right;\n",
       "    }\n",
       "</style>\n",
       "<table border=\"1\" class=\"dataframe\">\n",
       "  <thead>\n",
       "    <tr style=\"text-align: right;\">\n",
       "      <th></th>\n",
       "      <th>name</th>\n",
       "      <th>set_num</th>\n",
       "      <th>year</th>\n",
       "      <th>num_parts</th>\n",
       "      <th>theme_name</th>\n",
       "      <th>num_name</th>\n",
       "      <th>most_parts</th>\n",
       "    </tr>\n",
       "  </thead>\n",
       "  <tbody>\n",
       "    <tr>\n",
       "      <th>0</th>\n",
       "      <td>Diagon Alley</td>\n",
       "      <td>10217-1</td>\n",
       "      <td>2011</td>\n",
       "      <td>2031</td>\n",
       "      <td>Harry Potter</td>\n",
       "      <td>10217-1: Diagon Alley</td>\n",
       "      <td>10217-1: Diagon Alley</td>\n",
       "    </tr>\n",
       "    <tr>\n",
       "      <th>1</th>\n",
       "      <td>Trolley</td>\n",
       "      <td>30110-1</td>\n",
       "      <td>2011</td>\n",
       "      <td>22</td>\n",
       "      <td>Harry Potter</td>\n",
       "      <td>30110-1: Trolley</td>\n",
       "      <td>10217-1: Diagon Alley</td>\n",
       "    </tr>\n",
       "    <tr>\n",
       "      <th>2</th>\n",
       "      <td>The Lab</td>\n",
       "      <td>30111-1</td>\n",
       "      <td>2011</td>\n",
       "      <td>34</td>\n",
       "      <td>Harry Potter</td>\n",
       "      <td>30111-1: The Lab</td>\n",
       "      <td>10217-1: Diagon Alley</td>\n",
       "    </tr>\n",
       "    <tr>\n",
       "      <th>3</th>\n",
       "      <td>Mini Hogwarts Express</td>\n",
       "      <td>40028-1</td>\n",
       "      <td>2011</td>\n",
       "      <td>64</td>\n",
       "      <td>Harry Potter</td>\n",
       "      <td>40028-1: Mini Hogwarts Express</td>\n",
       "      <td>10217-1: Diagon Alley</td>\n",
       "    </tr>\n",
       "    <tr>\n",
       "      <th>10</th>\n",
       "      <td>The Forbidden Forest</td>\n",
       "      <td>4865-1</td>\n",
       "      <td>2011</td>\n",
       "      <td>64</td>\n",
       "      <td>Harry Potter</td>\n",
       "      <td>4865-1: The Forbidden Forest</td>\n",
       "      <td>10217-1: Diagon Alley</td>\n",
       "    </tr>\n",
       "    <tr>\n",
       "      <th>11</th>\n",
       "      <td>The Knight Bus</td>\n",
       "      <td>4866-1</td>\n",
       "      <td>2011</td>\n",
       "      <td>281</td>\n",
       "      <td>Harry Potter</td>\n",
       "      <td>4866-1: The Knight Bus</td>\n",
       "      <td>10217-1: Diagon Alley</td>\n",
       "    </tr>\n",
       "    <tr>\n",
       "      <th>12</th>\n",
       "      <td>Hogwarts</td>\n",
       "      <td>4867-1</td>\n",
       "      <td>2011</td>\n",
       "      <td>465</td>\n",
       "      <td>Harry Potter</td>\n",
       "      <td>4867-1: Hogwarts</td>\n",
       "      <td>10217-1: Diagon Alley</td>\n",
       "    </tr>\n",
       "  </tbody>\n",
       "</table>\n",
       "</div>"
      ],
      "text/plain": [
       "                     name  set_num  year  num_parts    theme_name  \\\n",
       "0            Diagon Alley  10217-1  2011       2031  Harry Potter   \n",
       "1                 Trolley  30110-1  2011         22  Harry Potter   \n",
       "2                 The Lab  30111-1  2011         34  Harry Potter   \n",
       "3   Mini Hogwarts Express  40028-1  2011         64  Harry Potter   \n",
       "10   The Forbidden Forest   4865-1  2011         64  Harry Potter   \n",
       "11         The Knight Bus   4866-1  2011        281  Harry Potter   \n",
       "12               Hogwarts   4867-1  2011        465  Harry Potter   \n",
       "\n",
       "                          num_name             most_parts  \n",
       "0            10217-1: Diagon Alley  10217-1: Diagon Alley  \n",
       "1                 30110-1: Trolley  10217-1: Diagon Alley  \n",
       "2                 30111-1: The Lab  10217-1: Diagon Alley  \n",
       "3   40028-1: Mini Hogwarts Express  10217-1: Diagon Alley  \n",
       "10    4865-1: The Forbidden Forest  10217-1: Diagon Alley  \n",
       "11          4866-1: The Knight Bus  10217-1: Diagon Alley  \n",
       "12                4867-1: Hogwarts  10217-1: Diagon Alley  "
      ]
     },
     "execution_count": 21,
     "metadata": {},
     "output_type": "execute_result"
    }
   ],
   "source": [
    "hp_themes_df[(hp_themes_df['theme_name']=='Harry Potter') & (hp_themes_df['year']==2011)]"
   ]
  },
  {
   "cell_type": "markdown",
   "metadata": {},
   "source": [
    "## Number of parts"
   ]
  },
  {
   "cell_type": "markdown",
   "metadata": {},
   "source": [
    "### Number of parts by year"
   ]
  },
  {
   "cell_type": "code",
   "execution_count": 22,
   "metadata": {},
   "outputs": [
    {
     "data": {
      "application/vnd.vegalite.v3+json": {
       "$schema": "https://vega.github.io/schema/vega-lite/v3.2.1.json",
       "config": {
        "mark": {
         "tooltip": null
        },
        "view": {
         "height": 300,
         "width": 400
        }
       },
       "data": {
        "name": "data-dfcbac34551f2878bb7072f2dd40bc04"
       },
       "datasets": {
        "data-dfcbac34551f2878bb7072f2dd40bc04": [
         {
          "most_parts": "10217-1: Diagon Alley",
          "name": "Diagon Alley",
          "num_name": "10217-1: Diagon Alley",
          "num_parts": 2031,
          "set_num": "10217-1",
          "theme_name": "Harry Potter",
          "year": 2011
         },
         {
          "most_parts": "10217-1: Diagon Alley",
          "name": "Trolley",
          "num_name": "30110-1: Trolley",
          "num_parts": 22,
          "set_num": "30110-1",
          "theme_name": "Harry Potter",
          "year": 2011
         },
         {
          "most_parts": "10217-1: Diagon Alley",
          "name": "The Lab",
          "num_name": "30111-1: The Lab",
          "num_parts": 34,
          "set_num": "30111-1",
          "theme_name": "Harry Potter",
          "year": 2011
         },
         {
          "most_parts": "10217-1: Diagon Alley",
          "name": "Mini Hogwarts Express",
          "num_name": "40028-1: Mini Hogwarts Express",
          "num_parts": 64,
          "set_num": "40028-1",
          "theme_name": "Harry Potter",
          "year": 2011
         },
         {
          "most_parts": "10217-1: Diagon Alley",
          "name": "Freeing Dobby",
          "num_name": "4736-1: Freeing Dobby",
          "num_parts": 73,
          "set_num": "4736-1",
          "theme_name": "Harry Potter",
          "year": 2010
         },
         {
          "most_parts": "10217-1: Diagon Alley",
          "name": "Quidditch Match",
          "num_name": "4737-1: Quidditch Match",
          "num_parts": 153,
          "set_num": "4737-1",
          "theme_name": "Harry Potter",
          "year": 2010
         },
         {
          "most_parts": "10217-1: Diagon Alley",
          "name": "Hagrid's Hut (3rd edition)",
          "num_name": "4738-1: Hagrid's Hut (3rd edition)",
          "num_parts": 442,
          "set_num": "4738-1",
          "theme_name": "Harry Potter",
          "year": 2010
         },
         {
          "most_parts": "10217-1: Diagon Alley",
          "name": "The Burrow",
          "num_name": "4840-1: The Burrow",
          "num_parts": 572,
          "set_num": "4840-1",
          "theme_name": "Harry Potter",
          "year": 2010
         },
         {
          "most_parts": "10217-1: Diagon Alley",
          "name": "Hogwarts Express (3rd edition)",
          "num_name": "4841-1: Hogwarts Express (3rd edition)",
          "num_parts": 646,
          "set_num": "4841-1",
          "theme_name": "Harry Potter",
          "year": 2010
         },
         {
          "most_parts": "10217-1: Diagon Alley",
          "name": "Hogwarts Castle [Fourth Edition]",
          "num_name": "4842-1: Hogwarts Castle [Fourth Edition]",
          "num_parts": 1290,
          "set_num": "4842-1",
          "theme_name": "Harry Potter",
          "year": 2010
         },
         {
          "most_parts": "10217-1: Diagon Alley",
          "name": "The Forbidden Forest",
          "num_name": "4865-1: The Forbidden Forest",
          "num_parts": 64,
          "set_num": "4865-1",
          "theme_name": "Harry Potter",
          "year": 2011
         },
         {
          "most_parts": "10217-1: Diagon Alley",
          "name": "The Knight Bus",
          "num_name": "4866-1: The Knight Bus",
          "num_parts": 281,
          "set_num": "4866-1",
          "theme_name": "Harry Potter",
          "year": 2011
         },
         {
          "most_parts": "10217-1: Diagon Alley",
          "name": "Hogwarts",
          "num_name": "4867-1: Hogwarts",
          "num_parts": 465,
          "set_num": "4867-1",
          "theme_name": "Harry Potter",
          "year": 2011
         },
         {
          "most_parts": "10217-1: Diagon Alley",
          "name": "Harry Potter Gallery 1 - Potter L. Malfoy Lockhart Madame Hooch",
          "num_name": "HPG01-1: Harry Potter Gallery 1 - Potter L. Malfoy Lockhart Madame Hooch",
          "num_parts": 20,
          "set_num": "HPG01-1",
          "theme_name": "Harry Potter",
          "year": 2002
         },
         {
          "most_parts": "10217-1: Diagon Alley",
          "name": "Harry Potter Gallery 2 - Hagrid V. Dursley Crabbe Ron Weasley",
          "num_name": "HPG02-1: Harry Potter Gallery 2 - Hagrid V. Dursley Crabbe Ron Weasley",
          "num_parts": 17,
          "set_num": "HPG02-1",
          "theme_name": "Harry Potter",
          "year": 2002
         },
         {
          "most_parts": "10217-1: Diagon Alley",
          "name": "Harry Potter Gallery 3 - Dumbledore Ginny Weasley D. Malfoy Snape",
          "num_name": "HPG03-1: Harry Potter Gallery 3 - Dumbledore Ginny Weasley D. Malfoy Snape",
          "num_parts": 23,
          "set_num": "HPG03-1",
          "theme_name": "Harry Potter",
          "year": 2002
         },
         {
          "most_parts": "10217-1: Diagon Alley",
          "name": "Harry Potter Gallery 4 - Tom Riddle McGonagall Dobby Goyle Hermione",
          "num_name": "HPG04-1: Harry Potter Gallery 4 - Tom Riddle McGonagall Dobby Goyle Hermione",
          "num_parts": 23,
          "set_num": "HPG04-1",
          "theme_name": "Harry Potter",
          "year": 2002
         },
         {
          "most_parts": "10217-1: Diagon Alley",
          "name": "Harry Potter Wand",
          "num_name": "HPWAND-1: Harry Potter Wand",
          "num_parts": 26,
          "set_num": "HPWAND-1",
          "theme_name": "Harry Potter",
          "year": 2018
         },
         {
          "most_parts": "10217-1: Diagon Alley",
          "name": "Coca Cola Harry Potter Gift Set",
          "num_name": "KCCHP-1: Coca Cola Harry Potter Gift Set",
          "num_parts": 7,
          "set_num": "KCCHP-1",
          "theme_name": "Harry Potter",
          "year": 2002
         },
         {
          "most_parts": "10217-1: Diagon Alley",
          "name": "Harry Potter Quidditch Tower (TRU Event Exclusive)",
          "num_name": "TRU01-1: Harry Potter Quidditch Tower (TRU Event Exclusive)",
          "num_parts": 37,
          "set_num": "TRU01-1",
          "theme_name": "Harry Potter",
          "year": 2002
         },
         {
          "most_parts": "10217-1: Diagon Alley",
          "name": "Weasley Family Car",
          "num_name": "TRUWEASLEYCAR-1: Weasley Family Car",
          "num_parts": 36,
          "set_num": "TRUWEASLEYCAR-1",
          "theme_name": "Harry Potter",
          "year": 2018
         },
         {
          "most_parts": "4730-1: Chamber of Secrets",
          "name": "Quality Quidditch Supplies",
          "num_name": "4719-1: Quality Quidditch Supplies",
          "num_parts": 121,
          "set_num": "4719-1",
          "theme_name": "Chamber of Secrets",
          "year": 2003
         },
         {
          "most_parts": "4730-1: Chamber of Secrets",
          "name": "Knockturn Alley",
          "num_name": "4720-1: Knockturn Alley",
          "num_parts": 211,
          "set_num": "4720-1",
          "theme_name": "Chamber of Secrets",
          "year": 2003
         },
         {
          "most_parts": "4730-1: Chamber of Secrets",
          "name": "Quidditch Practice",
          "num_name": "4726-1: Quidditch Practice",
          "num_parts": 131,
          "set_num": "4726-1",
          "theme_name": "Chamber of Secrets",
          "year": 2002
         },
         {
          "most_parts": "4730-1: Chamber of Secrets",
          "name": "Aragog in the Dark Forest",
          "num_name": "4727-1: Aragog in the Dark Forest",
          "num_parts": 183,
          "set_num": "4727-1",
          "theme_name": "Chamber of Secrets",
          "year": 2002
         },
         {
          "most_parts": "4730-1: Chamber of Secrets",
          "name": "Escape from Privet Drive",
          "num_name": "4728-1: Escape from Privet Drive",
          "num_parts": 282,
          "set_num": "4728-1",
          "theme_name": "Chamber of Secrets",
          "year": 2002
         },
         {
          "most_parts": "4730-1: Chamber of Secrets",
          "name": "Dumbledore's Office",
          "num_name": "4729-1: Dumbledore's Office",
          "num_parts": 451,
          "set_num": "4729-1",
          "theme_name": "Chamber of Secrets",
          "year": 2002
         },
         {
          "most_parts": "4730-1: Chamber of Secrets",
          "name": "Chamber of Secrets",
          "num_name": "4730-1: Chamber of Secrets",
          "num_parts": 597,
          "set_num": "4730-1",
          "theme_name": "Chamber of Secrets",
          "year": 2002
         },
         {
          "most_parts": "4730-1: Chamber of Secrets",
          "name": "Dobby's Release",
          "num_name": "4731-1: Dobby's Release",
          "num_parts": 71,
          "set_num": "4731-1",
          "theme_name": "Chamber of Secrets",
          "year": 2002
         },
         {
          "most_parts": "4730-1: Chamber of Secrets",
          "name": "The Dueling Club",
          "num_name": "4733-1: The Dueling Club",
          "num_parts": 133,
          "set_num": "4733-1",
          "theme_name": "Chamber of Secrets",
          "year": 2002
         },
         {
          "most_parts": "4730-1: Chamber of Secrets",
          "name": "Slytherin",
          "num_name": "4735-1: Slytherin",
          "num_parts": 93,
          "set_num": "4735-1",
          "theme_name": "Chamber of Secrets",
          "year": 2002
         },
         {
          "most_parts": "4768-2: The Durmstrang Ship with Bonus Mini - Figures (Target exclusive)",
          "name": "Rescue from the Merpeople",
          "num_name": "4762-1: Rescue from the Merpeople",
          "num_parts": 177,
          "set_num": "4762-1",
          "theme_name": "Goblet of Fire",
          "year": 2005
         },
         {
          "most_parts": "4768-2: The Durmstrang Ship with Bonus Mini - Figures (Target exclusive)",
          "name": "Graveyard Duel",
          "num_name": "4766-1: Graveyard Duel",
          "num_parts": 551,
          "set_num": "4766-1",
          "theme_name": "Goblet of Fire",
          "year": 2005
         },
         {
          "most_parts": "4768-2: The Durmstrang Ship with Bonus Mini - Figures (Target exclusive)",
          "name": "Harry and the Hungarian Horntail",
          "num_name": "4767-1: Harry and the Hungarian Horntail",
          "num_parts": 265,
          "set_num": "4767-1",
          "theme_name": "Goblet of Fire",
          "year": 2005
         },
         {
          "most_parts": "4768-2: The Durmstrang Ship with Bonus Mini - Figures (Target exclusive)",
          "name": "The Durmstrang Ship",
          "num_name": "4768-1: The Durmstrang Ship",
          "num_parts": 552,
          "set_num": "4768-1",
          "theme_name": "Goblet of Fire",
          "year": 2005
         },
         {
          "most_parts": "4768-2: The Durmstrang Ship with Bonus Mini - Figures (Target exclusive)",
          "name": "The Durmstrang Ship with Bonus Mini - Figures (Target exclusive)",
          "num_name": "4768-2: The Durmstrang Ship with Bonus Mini - Figures (Target exclusive)",
          "num_parts": 569,
          "set_num": "4768-2",
          "theme_name": "Goblet of Fire",
          "year": 2005
         },
         {
          "most_parts": "5378-1: Hogwarts (Third Edition)",
          "name": "Hogwarts (Third Edition)",
          "num_name": "5378-1: Hogwarts (Third Edition)",
          "num_parts": 945,
          "set_num": "5378-1",
          "theme_name": "Order of the Phoenix",
          "year": 2007
         },
         {
          "most_parts": "4757-1: Hogwarts Castle (2nd edition)",
          "name": "Motorized Hogwarts Express",
          "num_name": "10132-1: Motorized Hogwarts Express",
          "num_parts": 712,
          "set_num": "10132-1",
          "theme_name": "Prisoner of Azkaban",
          "year": 2004
         },
         {
          "most_parts": "4757-1: Hogwarts Castle (2nd edition)",
          "name": "Knight Bus - Mini",
          "num_name": "4695-1: Knight Bus - Mini",
          "num_parts": 58,
          "set_num": "4695-1",
          "theme_name": "Prisoner of Azkaban",
          "year": 2004
         },
         {
          "most_parts": "4757-1: Hogwarts Castle (2nd edition)",
          "name": "Draco's Encounter with Buckbeak",
          "num_name": "4750-1: Draco's Encounter with Buckbeak",
          "num_parts": 37,
          "set_num": "4750-1",
          "theme_name": "Prisoner of Azkaban",
          "year": 2004
         },
         {
          "most_parts": "4757-1: Hogwarts Castle (2nd edition)",
          "name": "Harry and the Marauder's Map",
          "num_name": "4751-1: Harry and the Marauder's Map",
          "num_parts": 109,
          "set_num": "4751-1",
          "theme_name": "Prisoner of Azkaban",
          "year": 2004
         },
         {
          "most_parts": "4757-1: Hogwarts Castle (2nd edition)",
          "name": "Professor Lupin's Classroom",
          "num_name": "4752-1: Professor Lupin's Classroom",
          "num_parts": 158,
          "set_num": "4752-1",
          "theme_name": "Prisoner of Azkaban",
          "year": 2004
         },
         {
          "most_parts": "4757-1: Hogwarts Castle (2nd edition)",
          "name": "Sirius Black's Escape",
          "num_name": "4753-1: Sirius Black's Escape",
          "num_parts": 192,
          "set_num": "4753-1",
          "theme_name": "Prisoner of Azkaban",
          "year": 2004
         },
         {
          "most_parts": "4757-1: Hogwarts Castle (2nd edition)",
          "name": "Hagrid's Hut (2nd edition)",
          "num_name": "4754-1: Hagrid's Hut (2nd edition)",
          "num_parts": 304,
          "set_num": "4754-1",
          "theme_name": "Prisoner of Azkaban",
          "year": 2004
         },
         {
          "most_parts": "4757-1: Hogwarts Castle (2nd edition)",
          "name": "Knight Bus",
          "num_name": "4755-1: Knight Bus",
          "num_parts": 244,
          "set_num": "4755-1",
          "theme_name": "Prisoner of Azkaban",
          "year": 2004
         },
         {
          "most_parts": "4757-1: Hogwarts Castle (2nd edition)",
          "name": "Shrieking Shack",
          "num_name": "4756-1: Shrieking Shack",
          "num_parts": 449,
          "set_num": "4756-1",
          "theme_name": "Prisoner of Azkaban",
          "year": 2004
         },
         {
          "most_parts": "4757-1: Hogwarts Castle (2nd edition)",
          "name": "Hogwarts Castle (2nd edition)",
          "num_name": "4757-1: Hogwarts Castle (2nd edition)",
          "num_parts": 935,
          "set_num": "4757-1",
          "theme_name": "Prisoner of Azkaban",
          "year": 2004
         },
         {
          "most_parts": "4757-1: Hogwarts Castle (2nd edition)",
          "name": "Hogwarts Express (2nd edition)",
          "num_name": "4758-1: Hogwarts Express (2nd edition)",
          "num_parts": 388,
          "set_num": "4758-1",
          "theme_name": "Prisoner of Azkaban",
          "year": 2004
         },
         {
          "most_parts": "4757-1: Hogwarts Castle (2nd edition)",
          "name": "Hogwarts Express (2nd edition) Co-Pack (contains 10132 4515 4520)",
          "num_name": "65524-1: Hogwarts Express (2nd edition) Co-Pack (contains 10132 4515 4520)",
          "num_parts": 3,
          "set_num": "65524-1",
          "theme_name": "Prisoner of Azkaban",
          "year": 2004
         },
         {
          "most_parts": "4757-1: Hogwarts Castle (2nd edition)",
          "name": "Marauder's Map Kit  (contains 4750 4751 4695)",
          "num_name": "K4751-1: Marauder's Map Kit  (contains 4750 4751 4695)",
          "num_parts": 3,
          "set_num": "K4751-1",
          "theme_name": "Prisoner of Azkaban",
          "year": 2004
         },
         {
          "most_parts": "4757-1: Hogwarts Castle (2nd edition)",
          "name": "Knight Bus Collection",
          "num_name": "K4755-1: Knight Bus Collection",
          "num_parts": 2,
          "set_num": "K4755-1",
          "theme_name": "Prisoner of Azkaban",
          "year": 2004
         },
         {
          "most_parts": "4709-1: Hogwarts Castle",
          "name": "Sorting Hat",
          "num_name": "4701-1: Sorting Hat",
          "num_parts": 50,
          "set_num": "4701-1",
          "theme_name": "Philosopher's Stone",
          "year": 2001
         },
         {
          "most_parts": "4709-1: Hogwarts Castle",
          "name": "The Final Challenge",
          "num_name": "4702-1: The Final Challenge",
          "num_parts": 61,
          "set_num": "4702-1",
          "theme_name": "Philosopher's Stone",
          "year": 2001
         },
         {
          "most_parts": "4709-1: Hogwarts Castle",
          "name": "The Chamber of the Winged Keys",
          "num_name": "4704-1: The Chamber of the Winged Keys",
          "num_parts": 180,
          "set_num": "4704-1",
          "theme_name": "Philosopher's Stone",
          "year": 2001
         },
         {
          "most_parts": "4709-1: Hogwarts Castle",
          "name": "Snape's Class",
          "num_name": "4705-1: Snape's Class",
          "num_parts": 167,
          "set_num": "4705-1",
          "theme_name": "Philosopher's Stone",
          "year": 2001
         },
         {
          "most_parts": "4709-1: Hogwarts Castle",
          "name": "Forbidden Corridor",
          "num_name": "4706-1: Forbidden Corridor",
          "num_parts": 239,
          "set_num": "4706-1",
          "theme_name": "Philosopher's Stone",
          "year": 2001
         },
         {
          "most_parts": "4709-1: Hogwarts Castle",
          "name": "Hagrid's Hut",
          "num_name": "4707-1: Hagrid's Hut",
          "num_parts": 298,
          "set_num": "4707-1",
          "theme_name": "Philosopher's Stone",
          "year": 2001
         },
         {
          "most_parts": "4709-1: Hogwarts Castle",
          "name": "Hogwarts Express (1st Edition)",
          "num_name": "4708-1: Hogwarts Express (1st Edition)",
          "num_parts": 412,
          "set_num": "4708-1",
          "theme_name": "Philosopher's Stone",
          "year": 2001
         },
         {
          "most_parts": "4709-1: Hogwarts Castle",
          "name": "Hogwarts Castle",
          "num_name": "4709-1: Hogwarts Castle",
          "num_parts": 696,
          "set_num": "4709-1",
          "theme_name": "Philosopher's Stone",
          "year": 2001
         },
         {
          "most_parts": "4709-1: Hogwarts Castle",
          "name": "Flying Lesson",
          "num_name": "4711-1: Flying Lesson",
          "num_parts": 24,
          "set_num": "4711-1",
          "theme_name": "Philosopher's Stone",
          "year": 2002
         },
         {
          "most_parts": "4709-1: Hogwarts Castle",
          "name": "Troll on the Loose",
          "num_name": "4712-1: Troll on the Loose",
          "num_parts": 69,
          "set_num": "4712-1",
          "theme_name": "Philosopher's Stone",
          "year": 2002
         },
         {
          "most_parts": "4709-1: Hogwarts Castle",
          "name": "Gringott's Bank",
          "num_name": "4714-1: Gringott's Bank",
          "num_parts": 263,
          "set_num": "4714-1",
          "theme_name": "Philosopher's Stone",
          "year": 2002
         },
         {
          "most_parts": "4709-1: Hogwarts Castle",
          "name": "Hogwarts Classroom",
          "num_name": "4721-1: Hogwarts Classroom",
          "num_parts": 75,
          "set_num": "4721-1",
          "theme_name": "Philosopher's Stone",
          "year": 2001
         },
         {
          "most_parts": "4709-1: Hogwarts Castle",
          "name": "Gryffindor",
          "num_name": "4722-1: Gryffindor",
          "num_parts": 70,
          "set_num": "4722-1",
          "theme_name": "Philosopher's Stone",
          "year": 2001
         },
         {
          "most_parts": "4709-1: Hogwarts Castle",
          "name": "Diagon Alley Shops",
          "num_name": "4723-1: Diagon Alley Shops",
          "num_parts": 85,
          "set_num": "4723-1",
          "theme_name": "Philosopher's Stone",
          "year": 2001
         },
         {
          "most_parts": "71043-1: Hogwarts Castle",
          "name": "Harry's Journey to Hogwarts",
          "num_name": "30407-1: Harry's Journey to Hogwarts",
          "num_parts": 40,
          "set_num": "30407-1",
          "theme_name": "Fantastic Beasts",
          "year": 2018
         },
         {
          "most_parts": "71043-1: Hogwarts Castle",
          "name": "Diagon Alley (micro)",
          "num_name": "40289-1: Diagon Alley (micro)",
          "num_parts": 374,
          "set_num": "40289-1",
          "theme_name": "Fantastic Beasts",
          "year": 2018
         },
         {
          "most_parts": "71043-1: Hogwarts Castle",
          "name": "Hogwarts Castle",
          "num_name": "71043-1: Hogwarts Castle",
          "num_parts": 6016,
          "set_num": "71043-1",
          "theme_name": "Fantastic Beasts",
          "year": 2018
         },
         {
          "most_parts": "71043-1: Hogwarts Castle",
          "name": "Hogwarts Express (4th Edition)",
          "num_name": "71247-2: Hogwarts Express (4th Edition)",
          "num_parts": 43,
          "set_num": "71247-2",
          "theme_name": "Fantastic Beasts",
          "year": 2018
         },
         {
          "most_parts": "71043-1: Hogwarts Castle",
          "name": "Aragog's Lair",
          "num_name": "75950-1: Aragog's Lair",
          "num_parts": 159,
          "set_num": "75950-1",
          "theme_name": "Fantastic Beasts",
          "year": 2018
         },
         {
          "most_parts": "71043-1: Hogwarts Castle",
          "name": "Grindelwald's Escape",
          "num_name": "75951-1: Grindelwald's Escape",
          "num_parts": 132,
          "set_num": "75951-1",
          "theme_name": "Fantastic Beasts",
          "year": 2018
         },
         {
          "most_parts": "71043-1: Hogwarts Castle",
          "name": "Newt's Case of Magical Creatures",
          "num_name": "75952-1: Newt's Case of Magical Creatures",
          "num_parts": 694,
          "set_num": "75952-1",
          "theme_name": "Fantastic Beasts",
          "year": 2018
         },
         {
          "most_parts": "71043-1: Hogwarts Castle",
          "name": "Hogwarts Whomping Willow",
          "num_name": "75953-1: Hogwarts Whomping Willow",
          "num_parts": 756,
          "set_num": "75953-1",
          "theme_name": "Fantastic Beasts",
          "year": 2018
         },
         {
          "most_parts": "71043-1: Hogwarts Castle",
          "name": "Hogwarts Great Hall",
          "num_name": "75954-1: Hogwarts Great Hall",
          "num_parts": 882,
          "set_num": "75954-1",
          "theme_name": "Fantastic Beasts",
          "year": 2018
         },
         {
          "most_parts": "71043-1: Hogwarts Castle",
          "name": "Hogwarts Express (4th Edition)",
          "num_name": "75955-1: Hogwarts Express (4th Edition)",
          "num_parts": 805,
          "set_num": "75955-1",
          "theme_name": "Fantastic Beasts",
          "year": 2018
         },
         {
          "most_parts": "71043-1: Hogwarts Castle",
          "name": "Quidditch Match",
          "num_name": "75956-1: Quidditch Match",
          "num_parts": 501,
          "set_num": "75956-1",
          "theme_name": "Fantastic Beasts",
          "year": 2018
         },
         {
          "most_parts": "71043-1: Hogwarts Castle",
          "name": "Golden Snitch",
          "num_name": "HP-SNITCH: Golden Snitch",
          "num_parts": 35,
          "set_num": "HP-SNITCH",
          "theme_name": "Fantastic Beasts",
          "year": 2018
         }
        ]
       },
       "encoding": {
        "x": {
         "field": "year",
         "type": "ordinal"
        },
        "y": {
         "aggregate": "sum",
         "field": "num_parts",
         "type": "quantitative"
        }
       },
       "height": 300,
       "mark": "line",
       "width": 300
      },
      "image/png": "[encoded data removed]",
      "text/plain": [
       "<VegaLite 3 object>\n",
       "\n",
       "If you see this message, it means the renderer has not been properly enabled\n",
       "for the frontend that you are using. For more information, see\n",
       "https://altair-viz.github.io/user_guide/troubleshooting.html\n"
      ]
     },
     "execution_count": 22,
     "metadata": {},
     "output_type": "execute_result"
    }
   ],
   "source": [
    "alt.Chart(hp_themes_df).mark_line().encode(\n",
    "    x='year:O',\n",
    "    y='sum(num_parts):Q'\n",
    ").properties(\n",
    "    height=300,\n",
    "    width=300\n",
    ")"
   ]
  },
  {
   "cell_type": "code",
   "execution_count": 23,
   "metadata": {},
   "outputs": [
    {
     "data": {
      "application/vnd.vegalite.v3+json": {
       "$schema": "https://vega.github.io/schema/vega-lite/v3.2.1.json",
       "config": {
        "mark": {
         "tooltip": null
        },
        "view": {
         "height": 300,
         "width": 400
        }
       },
       "data": {
        "name": "data-dfcbac34551f2878bb7072f2dd40bc04"
       },
       "datasets": {
        "data-dfcbac34551f2878bb7072f2dd40bc04": [
         {
          "most_parts": "10217-1: Diagon Alley",
          "name": "Diagon Alley",
          "num_name": "10217-1: Diagon Alley",
          "num_parts": 2031,
          "set_num": "10217-1",
          "theme_name": "Harry Potter",
          "year": 2011
         },
         {
          "most_parts": "10217-1: Diagon Alley",
          "name": "Trolley",
          "num_name": "30110-1: Trolley",
          "num_parts": 22,
          "set_num": "30110-1",
          "theme_name": "Harry Potter",
          "year": 2011
         },
         {
          "most_parts": "10217-1: Diagon Alley",
          "name": "The Lab",
          "num_name": "30111-1: The Lab",
          "num_parts": 34,
          "set_num": "30111-1",
          "theme_name": "Harry Potter",
          "year": 2011
         },
         {
          "most_parts": "10217-1: Diagon Alley",
          "name": "Mini Hogwarts Express",
          "num_name": "40028-1: Mini Hogwarts Express",
          "num_parts": 64,
          "set_num": "40028-1",
          "theme_name": "Harry Potter",
          "year": 2011
         },
         {
          "most_parts": "10217-1: Diagon Alley",
          "name": "Freeing Dobby",
          "num_name": "4736-1: Freeing Dobby",
          "num_parts": 73,
          "set_num": "4736-1",
          "theme_name": "Harry Potter",
          "year": 2010
         },
         {
          "most_parts": "10217-1: Diagon Alley",
          "name": "Quidditch Match",
          "num_name": "4737-1: Quidditch Match",
          "num_parts": 153,
          "set_num": "4737-1",
          "theme_name": "Harry Potter",
          "year": 2010
         },
         {
          "most_parts": "10217-1: Diagon Alley",
          "name": "Hagrid's Hut (3rd edition)",
          "num_name": "4738-1: Hagrid's Hut (3rd edition)",
          "num_parts": 442,
          "set_num": "4738-1",
          "theme_name": "Harry Potter",
          "year": 2010
         },
         {
          "most_parts": "10217-1: Diagon Alley",
          "name": "The Burrow",
          "num_name": "4840-1: The Burrow",
          "num_parts": 572,
          "set_num": "4840-1",
          "theme_name": "Harry Potter",
          "year": 2010
         },
         {
          "most_parts": "10217-1: Diagon Alley",
          "name": "Hogwarts Express (3rd edition)",
          "num_name": "4841-1: Hogwarts Express (3rd edition)",
          "num_parts": 646,
          "set_num": "4841-1",
          "theme_name": "Harry Potter",
          "year": 2010
         },
         {
          "most_parts": "10217-1: Diagon Alley",
          "name": "Hogwarts Castle [Fourth Edition]",
          "num_name": "4842-1: Hogwarts Castle [Fourth Edition]",
          "num_parts": 1290,
          "set_num": "4842-1",
          "theme_name": "Harry Potter",
          "year": 2010
         },
         {
          "most_parts": "10217-1: Diagon Alley",
          "name": "The Forbidden Forest",
          "num_name": "4865-1: The Forbidden Forest",
          "num_parts": 64,
          "set_num": "4865-1",
          "theme_name": "Harry Potter",
          "year": 2011
         },
         {
          "most_parts": "10217-1: Diagon Alley",
          "name": "The Knight Bus",
          "num_name": "4866-1: The Knight Bus",
          "num_parts": 281,
          "set_num": "4866-1",
          "theme_name": "Harry Potter",
          "year": 2011
         },
         {
          "most_parts": "10217-1: Diagon Alley",
          "name": "Hogwarts",
          "num_name": "4867-1: Hogwarts",
          "num_parts": 465,
          "set_num": "4867-1",
          "theme_name": "Harry Potter",
          "year": 2011
         },
         {
          "most_parts": "10217-1: Diagon Alley",
          "name": "Harry Potter Gallery 1 - Potter L. Malfoy Lockhart Madame Hooch",
          "num_name": "HPG01-1: Harry Potter Gallery 1 - Potter L. Malfoy Lockhart Madame Hooch",
          "num_parts": 20,
          "set_num": "HPG01-1",
          "theme_name": "Harry Potter",
          "year": 2002
         },
         {
          "most_parts": "10217-1: Diagon Alley",
          "name": "Harry Potter Gallery 2 - Hagrid V. Dursley Crabbe Ron Weasley",
          "num_name": "HPG02-1: Harry Potter Gallery 2 - Hagrid V. Dursley Crabbe Ron Weasley",
          "num_parts": 17,
          "set_num": "HPG02-1",
          "theme_name": "Harry Potter",
          "year": 2002
         },
         {
          "most_parts": "10217-1: Diagon Alley",
          "name": "Harry Potter Gallery 3 - Dumbledore Ginny Weasley D. Malfoy Snape",
          "num_name": "HPG03-1: Harry Potter Gallery 3 - Dumbledore Ginny Weasley D. Malfoy Snape",
          "num_parts": 23,
          "set_num": "HPG03-1",
          "theme_name": "Harry Potter",
          "year": 2002
         },
         {
          "most_parts": "10217-1: Diagon Alley",
          "name": "Harry Potter Gallery 4 - Tom Riddle McGonagall Dobby Goyle Hermione",
          "num_name": "HPG04-1: Harry Potter Gallery 4 - Tom Riddle McGonagall Dobby Goyle Hermione",
          "num_parts": 23,
          "set_num": "HPG04-1",
          "theme_name": "Harry Potter",
          "year": 2002
         },
         {
          "most_parts": "10217-1: Diagon Alley",
          "name": "Harry Potter Wand",
          "num_name": "HPWAND-1: Harry Potter Wand",
          "num_parts": 26,
          "set_num": "HPWAND-1",
          "theme_name": "Harry Potter",
          "year": 2018
         },
         {
          "most_parts": "10217-1: Diagon Alley",
          "name": "Coca Cola Harry Potter Gift Set",
          "num_name": "KCCHP-1: Coca Cola Harry Potter Gift Set",
          "num_parts": 7,
          "set_num": "KCCHP-1",
          "theme_name": "Harry Potter",
          "year": 2002
         },
         {
          "most_parts": "10217-1: Diagon Alley",
          "name": "Harry Potter Quidditch Tower (TRU Event Exclusive)",
          "num_name": "TRU01-1: Harry Potter Quidditch Tower (TRU Event Exclusive)",
          "num_parts": 37,
          "set_num": "TRU01-1",
          "theme_name": "Harry Potter",
          "year": 2002
         },
         {
          "most_parts": "10217-1: Diagon Alley",
          "name": "Weasley Family Car",
          "num_name": "TRUWEASLEYCAR-1: Weasley Family Car",
          "num_parts": 36,
          "set_num": "TRUWEASLEYCAR-1",
          "theme_name": "Harry Potter",
          "year": 2018
         },
         {
          "most_parts": "4730-1: Chamber of Secrets",
          "name": "Quality Quidditch Supplies",
          "num_name": "4719-1: Quality Quidditch Supplies",
          "num_parts": 121,
          "set_num": "4719-1",
          "theme_name": "Chamber of Secrets",
          "year": 2003
         },
         {
          "most_parts": "4730-1: Chamber of Secrets",
          "name": "Knockturn Alley",
          "num_name": "4720-1: Knockturn Alley",
          "num_parts": 211,
          "set_num": "4720-1",
          "theme_name": "Chamber of Secrets",
          "year": 2003
         },
         {
          "most_parts": "4730-1: Chamber of Secrets",
          "name": "Quidditch Practice",
          "num_name": "4726-1: Quidditch Practice",
          "num_parts": 131,
          "set_num": "4726-1",
          "theme_name": "Chamber of Secrets",
          "year": 2002
         },
         {
          "most_parts": "4730-1: Chamber of Secrets",
          "name": "Aragog in the Dark Forest",
          "num_name": "4727-1: Aragog in the Dark Forest",
          "num_parts": 183,
          "set_num": "4727-1",
          "theme_name": "Chamber of Secrets",
          "year": 2002
         },
         {
          "most_parts": "4730-1: Chamber of Secrets",
          "name": "Escape from Privet Drive",
          "num_name": "4728-1: Escape from Privet Drive",
          "num_parts": 282,
          "set_num": "4728-1",
          "theme_name": "Chamber of Secrets",
          "year": 2002
         },
         {
          "most_parts": "4730-1: Chamber of Secrets",
          "name": "Dumbledore's Office",
          "num_name": "4729-1: Dumbledore's Office",
          "num_parts": 451,
          "set_num": "4729-1",
          "theme_name": "Chamber of Secrets",
          "year": 2002
         },
         {
          "most_parts": "4730-1: Chamber of Secrets",
          "name": "Chamber of Secrets",
          "num_name": "4730-1: Chamber of Secrets",
          "num_parts": 597,
          "set_num": "4730-1",
          "theme_name": "Chamber of Secrets",
          "year": 2002
         },
         {
          "most_parts": "4730-1: Chamber of Secrets",
          "name": "Dobby's Release",
          "num_name": "4731-1: Dobby's Release",
          "num_parts": 71,
          "set_num": "4731-1",
          "theme_name": "Chamber of Secrets",
          "year": 2002
         },
         {
          "most_parts": "4730-1: Chamber of Secrets",
          "name": "The Dueling Club",
          "num_name": "4733-1: The Dueling Club",
          "num_parts": 133,
          "set_num": "4733-1",
          "theme_name": "Chamber of Secrets",
          "year": 2002
         },
         {
          "most_parts": "4730-1: Chamber of Secrets",
          "name": "Slytherin",
          "num_name": "4735-1: Slytherin",
          "num_parts": 93,
          "set_num": "4735-1",
          "theme_name": "Chamber of Secrets",
          "year": 2002
         },
         {
          "most_parts": "4768-2: The Durmstrang Ship with Bonus Mini - Figures (Target exclusive)",
          "name": "Rescue from the Merpeople",
          "num_name": "4762-1: Rescue from the Merpeople",
          "num_parts": 177,
          "set_num": "4762-1",
          "theme_name": "Goblet of Fire",
          "year": 2005
         },
         {
          "most_parts": "4768-2: The Durmstrang Ship with Bonus Mini - Figures (Target exclusive)",
          "name": "Graveyard Duel",
          "num_name": "4766-1: Graveyard Duel",
          "num_parts": 551,
          "set_num": "4766-1",
          "theme_name": "Goblet of Fire",
          "year": 2005
         },
         {
          "most_parts": "4768-2: The Durmstrang Ship with Bonus Mini - Figures (Target exclusive)",
          "name": "Harry and the Hungarian Horntail",
          "num_name": "4767-1: Harry and the Hungarian Horntail",
          "num_parts": 265,
          "set_num": "4767-1",
          "theme_name": "Goblet of Fire",
          "year": 2005
         },
         {
          "most_parts": "4768-2: The Durmstrang Ship with Bonus Mini - Figures (Target exclusive)",
          "name": "The Durmstrang Ship",
          "num_name": "4768-1: The Durmstrang Ship",
          "num_parts": 552,
          "set_num": "4768-1",
          "theme_name": "Goblet of Fire",
          "year": 2005
         },
         {
          "most_parts": "4768-2: The Durmstrang Ship with Bonus Mini - Figures (Target exclusive)",
          "name": "The Durmstrang Ship with Bonus Mini - Figures (Target exclusive)",
          "num_name": "4768-2: The Durmstrang Ship with Bonus Mini - Figures (Target exclusive)",
          "num_parts": 569,
          "set_num": "4768-2",
          "theme_name": "Goblet of Fire",
          "year": 2005
         },
         {
          "most_parts": "5378-1: Hogwarts (Third Edition)",
          "name": "Hogwarts (Third Edition)",
          "num_name": "5378-1: Hogwarts (Third Edition)",
          "num_parts": 945,
          "set_num": "5378-1",
          "theme_name": "Order of the Phoenix",
          "year": 2007
         },
         {
          "most_parts": "4757-1: Hogwarts Castle (2nd edition)",
          "name": "Motorized Hogwarts Express",
          "num_name": "10132-1: Motorized Hogwarts Express",
          "num_parts": 712,
          "set_num": "10132-1",
          "theme_name": "Prisoner of Azkaban",
          "year": 2004
         },
         {
          "most_parts": "4757-1: Hogwarts Castle (2nd edition)",
          "name": "Knight Bus - Mini",
          "num_name": "4695-1: Knight Bus - Mini",
          "num_parts": 58,
          "set_num": "4695-1",
          "theme_name": "Prisoner of Azkaban",
          "year": 2004
         },
         {
          "most_parts": "4757-1: Hogwarts Castle (2nd edition)",
          "name": "Draco's Encounter with Buckbeak",
          "num_name": "4750-1: Draco's Encounter with Buckbeak",
          "num_parts": 37,
          "set_num": "4750-1",
          "theme_name": "Prisoner of Azkaban",
          "year": 2004
         },
         {
          "most_parts": "4757-1: Hogwarts Castle (2nd edition)",
          "name": "Harry and the Marauder's Map",
          "num_name": "4751-1: Harry and the Marauder's Map",
          "num_parts": 109,
          "set_num": "4751-1",
          "theme_name": "Prisoner of Azkaban",
          "year": 2004
         },
         {
          "most_parts": "4757-1: Hogwarts Castle (2nd edition)",
          "name": "Professor Lupin's Classroom",
          "num_name": "4752-1: Professor Lupin's Classroom",
          "num_parts": 158,
          "set_num": "4752-1",
          "theme_name": "Prisoner of Azkaban",
          "year": 2004
         },
         {
          "most_parts": "4757-1: Hogwarts Castle (2nd edition)",
          "name": "Sirius Black's Escape",
          "num_name": "4753-1: Sirius Black's Escape",
          "num_parts": 192,
          "set_num": "4753-1",
          "theme_name": "Prisoner of Azkaban",
          "year": 2004
         },
         {
          "most_parts": "4757-1: Hogwarts Castle (2nd edition)",
          "name": "Hagrid's Hut (2nd edition)",
          "num_name": "4754-1: Hagrid's Hut (2nd edition)",
          "num_parts": 304,
          "set_num": "4754-1",
          "theme_name": "Prisoner of Azkaban",
          "year": 2004
         },
         {
          "most_parts": "4757-1: Hogwarts Castle (2nd edition)",
          "name": "Knight Bus",
          "num_name": "4755-1: Knight Bus",
          "num_parts": 244,
          "set_num": "4755-1",
          "theme_name": "Prisoner of Azkaban",
          "year": 2004
         },
         {
          "most_parts": "4757-1: Hogwarts Castle (2nd edition)",
          "name": "Shrieking Shack",
          "num_name": "4756-1: Shrieking Shack",
          "num_parts": 449,
          "set_num": "4756-1",
          "theme_name": "Prisoner of Azkaban",
          "year": 2004
         },
         {
          "most_parts": "4757-1: Hogwarts Castle (2nd edition)",
          "name": "Hogwarts Castle (2nd edition)",
          "num_name": "4757-1: Hogwarts Castle (2nd edition)",
          "num_parts": 935,
          "set_num": "4757-1",
          "theme_name": "Prisoner of Azkaban",
          "year": 2004
         },
         {
          "most_parts": "4757-1: Hogwarts Castle (2nd edition)",
          "name": "Hogwarts Express (2nd edition)",
          "num_name": "4758-1: Hogwarts Express (2nd edition)",
          "num_parts": 388,
          "set_num": "4758-1",
          "theme_name": "Prisoner of Azkaban",
          "year": 2004
         },
         {
          "most_parts": "4757-1: Hogwarts Castle (2nd edition)",
          "name": "Hogwarts Express (2nd edition) Co-Pack (contains 10132 4515 4520)",
          "num_name": "65524-1: Hogwarts Express (2nd edition) Co-Pack (contains 10132 4515 4520)",
          "num_parts": 3,
          "set_num": "65524-1",
          "theme_name": "Prisoner of Azkaban",
          "year": 2004
         },
         {
          "most_parts": "4757-1: Hogwarts Castle (2nd edition)",
          "name": "Marauder's Map Kit  (contains 4750 4751 4695)",
          "num_name": "K4751-1: Marauder's Map Kit  (contains 4750 4751 4695)",
          "num_parts": 3,
          "set_num": "K4751-1",
          "theme_name": "Prisoner of Azkaban",
          "year": 2004
         },
         {
          "most_parts": "4757-1: Hogwarts Castle (2nd edition)",
          "name": "Knight Bus Collection",
          "num_name": "K4755-1: Knight Bus Collection",
          "num_parts": 2,
          "set_num": "K4755-1",
          "theme_name": "Prisoner of Azkaban",
          "year": 2004
         },
         {
          "most_parts": "4709-1: Hogwarts Castle",
          "name": "Sorting Hat",
          "num_name": "4701-1: Sorting Hat",
          "num_parts": 50,
          "set_num": "4701-1",
          "theme_name": "Philosopher's Stone",
          "year": 2001
         },
         {
          "most_parts": "4709-1: Hogwarts Castle",
          "name": "The Final Challenge",
          "num_name": "4702-1: The Final Challenge",
          "num_parts": 61,
          "set_num": "4702-1",
          "theme_name": "Philosopher's Stone",
          "year": 2001
         },
         {
          "most_parts": "4709-1: Hogwarts Castle",
          "name": "The Chamber of the Winged Keys",
          "num_name": "4704-1: The Chamber of the Winged Keys",
          "num_parts": 180,
          "set_num": "4704-1",
          "theme_name": "Philosopher's Stone",
          "year": 2001
         },
         {
          "most_parts": "4709-1: Hogwarts Castle",
          "name": "Snape's Class",
          "num_name": "4705-1: Snape's Class",
          "num_parts": 167,
          "set_num": "4705-1",
          "theme_name": "Philosopher's Stone",
          "year": 2001
         },
         {
          "most_parts": "4709-1: Hogwarts Castle",
          "name": "Forbidden Corridor",
          "num_name": "4706-1: Forbidden Corridor",
          "num_parts": 239,
          "set_num": "4706-1",
          "theme_name": "Philosopher's Stone",
          "year": 2001
         },
         {
          "most_parts": "4709-1: Hogwarts Castle",
          "name": "Hagrid's Hut",
          "num_name": "4707-1: Hagrid's Hut",
          "num_parts": 298,
          "set_num": "4707-1",
          "theme_name": "Philosopher's Stone",
          "year": 2001
         },
         {
          "most_parts": "4709-1: Hogwarts Castle",
          "name": "Hogwarts Express (1st Edition)",
          "num_name": "4708-1: Hogwarts Express (1st Edition)",
          "num_parts": 412,
          "set_num": "4708-1",
          "theme_name": "Philosopher's Stone",
          "year": 2001
         },
         {
          "most_parts": "4709-1: Hogwarts Castle",
          "name": "Hogwarts Castle",
          "num_name": "4709-1: Hogwarts Castle",
          "num_parts": 696,
          "set_num": "4709-1",
          "theme_name": "Philosopher's Stone",
          "year": 2001
         },
         {
          "most_parts": "4709-1: Hogwarts Castle",
          "name": "Flying Lesson",
          "num_name": "4711-1: Flying Lesson",
          "num_parts": 24,
          "set_num": "4711-1",
          "theme_name": "Philosopher's Stone",
          "year": 2002
         },
         {
          "most_parts": "4709-1: Hogwarts Castle",
          "name": "Troll on the Loose",
          "num_name": "4712-1: Troll on the Loose",
          "num_parts": 69,
          "set_num": "4712-1",
          "theme_name": "Philosopher's Stone",
          "year": 2002
         },
         {
          "most_parts": "4709-1: Hogwarts Castle",
          "name": "Gringott's Bank",
          "num_name": "4714-1: Gringott's Bank",
          "num_parts": 263,
          "set_num": "4714-1",
          "theme_name": "Philosopher's Stone",
          "year": 2002
         },
         {
          "most_parts": "4709-1: Hogwarts Castle",
          "name": "Hogwarts Classroom",
          "num_name": "4721-1: Hogwarts Classroom",
          "num_parts": 75,
          "set_num": "4721-1",
          "theme_name": "Philosopher's Stone",
          "year": 2001
         },
         {
          "most_parts": "4709-1: Hogwarts Castle",
          "name": "Gryffindor",
          "num_name": "4722-1: Gryffindor",
          "num_parts": 70,
          "set_num": "4722-1",
          "theme_name": "Philosopher's Stone",
          "year": 2001
         },
         {
          "most_parts": "4709-1: Hogwarts Castle",
          "name": "Diagon Alley Shops",
          "num_name": "4723-1: Diagon Alley Shops",
          "num_parts": 85,
          "set_num": "4723-1",
          "theme_name": "Philosopher's Stone",
          "year": 2001
         },
         {
          "most_parts": "71043-1: Hogwarts Castle",
          "name": "Harry's Journey to Hogwarts",
          "num_name": "30407-1: Harry's Journey to Hogwarts",
          "num_parts": 40,
          "set_num": "30407-1",
          "theme_name": "Fantastic Beasts",
          "year": 2018
         },
         {
          "most_parts": "71043-1: Hogwarts Castle",
          "name": "Diagon Alley (micro)",
          "num_name": "40289-1: Diagon Alley (micro)",
          "num_parts": 374,
          "set_num": "40289-1",
          "theme_name": "Fantastic Beasts",
          "year": 2018
         },
         {
          "most_parts": "71043-1: Hogwarts Castle",
          "name": "Hogwarts Castle",
          "num_name": "71043-1: Hogwarts Castle",
          "num_parts": 6016,
          "set_num": "71043-1",
          "theme_name": "Fantastic Beasts",
          "year": 2018
         },
         {
          "most_parts": "71043-1: Hogwarts Castle",
          "name": "Hogwarts Express (4th Edition)",
          "num_name": "71247-2: Hogwarts Express (4th Edition)",
          "num_parts": 43,
          "set_num": "71247-2",
          "theme_name": "Fantastic Beasts",
          "year": 2018
         },
         {
          "most_parts": "71043-1: Hogwarts Castle",
          "name": "Aragog's Lair",
          "num_name": "75950-1: Aragog's Lair",
          "num_parts": 159,
          "set_num": "75950-1",
          "theme_name": "Fantastic Beasts",
          "year": 2018
         },
         {
          "most_parts": "71043-1: Hogwarts Castle",
          "name": "Grindelwald's Escape",
          "num_name": "75951-1: Grindelwald's Escape",
          "num_parts": 132,
          "set_num": "75951-1",
          "theme_name": "Fantastic Beasts",
          "year": 2018
         },
         {
          "most_parts": "71043-1: Hogwarts Castle",
          "name": "Newt's Case of Magical Creatures",
          "num_name": "75952-1: Newt's Case of Magical Creatures",
          "num_parts": 694,
          "set_num": "75952-1",
          "theme_name": "Fantastic Beasts",
          "year": 2018
         },
         {
          "most_parts": "71043-1: Hogwarts Castle",
          "name": "Hogwarts Whomping Willow",
          "num_name": "75953-1: Hogwarts Whomping Willow",
          "num_parts": 756,
          "set_num": "75953-1",
          "theme_name": "Fantastic Beasts",
          "year": 2018
         },
         {
          "most_parts": "71043-1: Hogwarts Castle",
          "name": "Hogwarts Great Hall",
          "num_name": "75954-1: Hogwarts Great Hall",
          "num_parts": 882,
          "set_num": "75954-1",
          "theme_name": "Fantastic Beasts",
          "year": 2018
         },
         {
          "most_parts": "71043-1: Hogwarts Castle",
          "name": "Hogwarts Express (4th Edition)",
          "num_name": "75955-1: Hogwarts Express (4th Edition)",
          "num_parts": 805,
          "set_num": "75955-1",
          "theme_name": "Fantastic Beasts",
          "year": 2018
         },
         {
          "most_parts": "71043-1: Hogwarts Castle",
          "name": "Quidditch Match",
          "num_name": "75956-1: Quidditch Match",
          "num_parts": 501,
          "set_num": "75956-1",
          "theme_name": "Fantastic Beasts",
          "year": 2018
         },
         {
          "most_parts": "71043-1: Hogwarts Castle",
          "name": "Golden Snitch",
          "num_name": "HP-SNITCH: Golden Snitch",
          "num_parts": 35,
          "set_num": "HP-SNITCH",
          "theme_name": "Fantastic Beasts",
          "year": 2018
         }
        ]
       },
       "encoding": {
        "tooltip": [
         {
          "field": "most_parts",
          "title": "Set with most parts",
          "type": "nominal"
         }
        ],
        "x": {
         "field": "theme_name",
         "sort": [
          "Philosopher's Stone",
          "Chamber of Secrets",
          "Prisoner of Azkaban",
          "Goblet of Fire",
          "Order of the Phoenix",
          "Harry Potter",
          "Fantastic Beasts"
         ],
         "title": "Theme name",
         "type": "ordinal"
        },
        "y": {
         "aggregate": "sum",
         "field": "num_parts",
         "title": "Number of parts",
         "type": "quantitative"
        }
       },
       "height": 300,
       "mark": "bar",
       "width": 300
      },
      "image/png": "[encoded data removed]",
      "text/plain": [
       "<VegaLite 3 object>\n",
       "\n",
       "If you see this message, it means the renderer has not been properly enabled\n",
       "for the frontend that you are using. For more information, see\n",
       "https://altair-viz.github.io/user_guide/troubleshooting.html\n"
      ]
     },
     "execution_count": 23,
     "metadata": {},
     "output_type": "execute_result"
    }
   ],
   "source": [
    "alt.Chart(hp_themes_df).mark_bar().encode(\n",
    "    x=alt.X('theme_name:O', title='Theme name', sort=theme_order),\n",
    "    y=alt.Y('sum(num_parts):Q', title='Number of parts'),\n",
    "    tooltip=alt.Tooltip([\"most_parts:N\"], title=\"Set with most parts\")\n",
    ").properties(\n",
    "    height=300,\n",
    "    width=300\n",
    ")"
   ]
  },
  {
   "cell_type": "markdown",
   "metadata": {},
   "source": [
    "The Fantastic Beasts theme is skewed almost entirely by the 6020 part [71043-1: Hogwarts Castle](https://rebrickable.com/sets/71043-1/hogwarts-castle) set (listed here as 6016 parts for...some reason). Removing it perhaps creates a better comparison of the themes in general."
   ]
  },
  {
   "cell_type": "code",
   "execution_count": 24,
   "metadata": {},
   "outputs": [
    {
     "data": {
      "application/vnd.vegalite.v3+json": {
       "$schema": "https://vega.github.io/schema/vega-lite/v3.2.1.json",
       "config": {
        "mark": {
         "tooltip": null
        },
        "view": {
         "height": 300,
         "width": 400
        }
       },
       "data": {
        "name": "data-ce22010ecc86e63ec0be5951e08ecd10"
       },
       "datasets": {
        "data-ce22010ecc86e63ec0be5951e08ecd10": [
         {
          "most_parts": "10217-1: Diagon Alley",
          "name": "Diagon Alley",
          "num_name": "10217-1: Diagon Alley",
          "num_parts": 2031,
          "set_num": "10217-1",
          "theme_name": "Harry Potter",
          "year": 2011
         },
         {
          "most_parts": "10217-1: Diagon Alley",
          "name": "Trolley",
          "num_name": "30110-1: Trolley",
          "num_parts": 22,
          "set_num": "30110-1",
          "theme_name": "Harry Potter",
          "year": 2011
         },
         {
          "most_parts": "10217-1: Diagon Alley",
          "name": "The Lab",
          "num_name": "30111-1: The Lab",
          "num_parts": 34,
          "set_num": "30111-1",
          "theme_name": "Harry Potter",
          "year": 2011
         },
         {
          "most_parts": "10217-1: Diagon Alley",
          "name": "Mini Hogwarts Express",
          "num_name": "40028-1: Mini Hogwarts Express",
          "num_parts": 64,
          "set_num": "40028-1",
          "theme_name": "Harry Potter",
          "year": 2011
         },
         {
          "most_parts": "10217-1: Diagon Alley",
          "name": "Freeing Dobby",
          "num_name": "4736-1: Freeing Dobby",
          "num_parts": 73,
          "set_num": "4736-1",
          "theme_name": "Harry Potter",
          "year": 2010
         },
         {
          "most_parts": "10217-1: Diagon Alley",
          "name": "Quidditch Match",
          "num_name": "4737-1: Quidditch Match",
          "num_parts": 153,
          "set_num": "4737-1",
          "theme_name": "Harry Potter",
          "year": 2010
         },
         {
          "most_parts": "10217-1: Diagon Alley",
          "name": "Hagrid's Hut (3rd edition)",
          "num_name": "4738-1: Hagrid's Hut (3rd edition)",
          "num_parts": 442,
          "set_num": "4738-1",
          "theme_name": "Harry Potter",
          "year": 2010
         },
         {
          "most_parts": "10217-1: Diagon Alley",
          "name": "The Burrow",
          "num_name": "4840-1: The Burrow",
          "num_parts": 572,
          "set_num": "4840-1",
          "theme_name": "Harry Potter",
          "year": 2010
         },
         {
          "most_parts": "10217-1: Diagon Alley",
          "name": "Hogwarts Express (3rd edition)",
          "num_name": "4841-1: Hogwarts Express (3rd edition)",
          "num_parts": 646,
          "set_num": "4841-1",
          "theme_name": "Harry Potter",
          "year": 2010
         },
         {
          "most_parts": "10217-1: Diagon Alley",
          "name": "Hogwarts Castle [Fourth Edition]",
          "num_name": "4842-1: Hogwarts Castle [Fourth Edition]",
          "num_parts": 1290,
          "set_num": "4842-1",
          "theme_name": "Harry Potter",
          "year": 2010
         },
         {
          "most_parts": "10217-1: Diagon Alley",
          "name": "The Forbidden Forest",
          "num_name": "4865-1: The Forbidden Forest",
          "num_parts": 64,
          "set_num": "4865-1",
          "theme_name": "Harry Potter",
          "year": 2011
         },
         {
          "most_parts": "10217-1: Diagon Alley",
          "name": "The Knight Bus",
          "num_name": "4866-1: The Knight Bus",
          "num_parts": 281,
          "set_num": "4866-1",
          "theme_name": "Harry Potter",
          "year": 2011
         },
         {
          "most_parts": "10217-1: Diagon Alley",
          "name": "Hogwarts",
          "num_name": "4867-1: Hogwarts",
          "num_parts": 465,
          "set_num": "4867-1",
          "theme_name": "Harry Potter",
          "year": 2011
         },
         {
          "most_parts": "10217-1: Diagon Alley",
          "name": "Harry Potter Gallery 1 - Potter L. Malfoy Lockhart Madame Hooch",
          "num_name": "HPG01-1: Harry Potter Gallery 1 - Potter L. Malfoy Lockhart Madame Hooch",
          "num_parts": 20,
          "set_num": "HPG01-1",
          "theme_name": "Harry Potter",
          "year": 2002
         },
         {
          "most_parts": "10217-1: Diagon Alley",
          "name": "Harry Potter Gallery 2 - Hagrid V. Dursley Crabbe Ron Weasley",
          "num_name": "HPG02-1: Harry Potter Gallery 2 - Hagrid V. Dursley Crabbe Ron Weasley",
          "num_parts": 17,
          "set_num": "HPG02-1",
          "theme_name": "Harry Potter",
          "year": 2002
         },
         {
          "most_parts": "10217-1: Diagon Alley",
          "name": "Harry Potter Gallery 3 - Dumbledore Ginny Weasley D. Malfoy Snape",
          "num_name": "HPG03-1: Harry Potter Gallery 3 - Dumbledore Ginny Weasley D. Malfoy Snape",
          "num_parts": 23,
          "set_num": "HPG03-1",
          "theme_name": "Harry Potter",
          "year": 2002
         },
         {
          "most_parts": "10217-1: Diagon Alley",
          "name": "Harry Potter Gallery 4 - Tom Riddle McGonagall Dobby Goyle Hermione",
          "num_name": "HPG04-1: Harry Potter Gallery 4 - Tom Riddle McGonagall Dobby Goyle Hermione",
          "num_parts": 23,
          "set_num": "HPG04-1",
          "theme_name": "Harry Potter",
          "year": 2002
         },
         {
          "most_parts": "10217-1: Diagon Alley",
          "name": "Harry Potter Wand",
          "num_name": "HPWAND-1: Harry Potter Wand",
          "num_parts": 26,
          "set_num": "HPWAND-1",
          "theme_name": "Harry Potter",
          "year": 2018
         },
         {
          "most_parts": "10217-1: Diagon Alley",
          "name": "Coca Cola Harry Potter Gift Set",
          "num_name": "KCCHP-1: Coca Cola Harry Potter Gift Set",
          "num_parts": 7,
          "set_num": "KCCHP-1",
          "theme_name": "Harry Potter",
          "year": 2002
         },
         {
          "most_parts": "10217-1: Diagon Alley",
          "name": "Harry Potter Quidditch Tower (TRU Event Exclusive)",
          "num_name": "TRU01-1: Harry Potter Quidditch Tower (TRU Event Exclusive)",
          "num_parts": 37,
          "set_num": "TRU01-1",
          "theme_name": "Harry Potter",
          "year": 2002
         },
         {
          "most_parts": "10217-1: Diagon Alley",
          "name": "Weasley Family Car",
          "num_name": "TRUWEASLEYCAR-1: Weasley Family Car",
          "num_parts": 36,
          "set_num": "TRUWEASLEYCAR-1",
          "theme_name": "Harry Potter",
          "year": 2018
         },
         {
          "most_parts": "4730-1: Chamber of Secrets",
          "name": "Quality Quidditch Supplies",
          "num_name": "4719-1: Quality Quidditch Supplies",
          "num_parts": 121,
          "set_num": "4719-1",
          "theme_name": "Chamber of Secrets",
          "year": 2003
         },
         {
          "most_parts": "4730-1: Chamber of Secrets",
          "name": "Knockturn Alley",
          "num_name": "4720-1: Knockturn Alley",
          "num_parts": 211,
          "set_num": "4720-1",
          "theme_name": "Chamber of Secrets",
          "year": 2003
         },
         {
          "most_parts": "4730-1: Chamber of Secrets",
          "name": "Quidditch Practice",
          "num_name": "4726-1: Quidditch Practice",
          "num_parts": 131,
          "set_num": "4726-1",
          "theme_name": "Chamber of Secrets",
          "year": 2002
         },
         {
          "most_parts": "4730-1: Chamber of Secrets",
          "name": "Aragog in the Dark Forest",
          "num_name": "4727-1: Aragog in the Dark Forest",
          "num_parts": 183,
          "set_num": "4727-1",
          "theme_name": "Chamber of Secrets",
          "year": 2002
         },
         {
          "most_parts": "4730-1: Chamber of Secrets",
          "name": "Escape from Privet Drive",
          "num_name": "4728-1: Escape from Privet Drive",
          "num_parts": 282,
          "set_num": "4728-1",
          "theme_name": "Chamber of Secrets",
          "year": 2002
         },
         {
          "most_parts": "4730-1: Chamber of Secrets",
          "name": "Dumbledore's Office",
          "num_name": "4729-1: Dumbledore's Office",
          "num_parts": 451,
          "set_num": "4729-1",
          "theme_name": "Chamber of Secrets",
          "year": 2002
         },
         {
          "most_parts": "4730-1: Chamber of Secrets",
          "name": "Chamber of Secrets",
          "num_name": "4730-1: Chamber of Secrets",
          "num_parts": 597,
          "set_num": "4730-1",
          "theme_name": "Chamber of Secrets",
          "year": 2002
         },
         {
          "most_parts": "4730-1: Chamber of Secrets",
          "name": "Dobby's Release",
          "num_name": "4731-1: Dobby's Release",
          "num_parts": 71,
          "set_num": "4731-1",
          "theme_name": "Chamber of Secrets",
          "year": 2002
         },
         {
          "most_parts": "4730-1: Chamber of Secrets",
          "name": "The Dueling Club",
          "num_name": "4733-1: The Dueling Club",
          "num_parts": 133,
          "set_num": "4733-1",
          "theme_name": "Chamber of Secrets",
          "year": 2002
         },
         {
          "most_parts": "4730-1: Chamber of Secrets",
          "name": "Slytherin",
          "num_name": "4735-1: Slytherin",
          "num_parts": 93,
          "set_num": "4735-1",
          "theme_name": "Chamber of Secrets",
          "year": 2002
         },
         {
          "most_parts": "4768-2: The Durmstrang Ship with Bonus Mini - Figures (Target exclusive)",
          "name": "Rescue from the Merpeople",
          "num_name": "4762-1: Rescue from the Merpeople",
          "num_parts": 177,
          "set_num": "4762-1",
          "theme_name": "Goblet of Fire",
          "year": 2005
         },
         {
          "most_parts": "4768-2: The Durmstrang Ship with Bonus Mini - Figures (Target exclusive)",
          "name": "Graveyard Duel",
          "num_name": "4766-1: Graveyard Duel",
          "num_parts": 551,
          "set_num": "4766-1",
          "theme_name": "Goblet of Fire",
          "year": 2005
         },
         {
          "most_parts": "4768-2: The Durmstrang Ship with Bonus Mini - Figures (Target exclusive)",
          "name": "Harry and the Hungarian Horntail",
          "num_name": "4767-1: Harry and the Hungarian Horntail",
          "num_parts": 265,
          "set_num": "4767-1",
          "theme_name": "Goblet of Fire",
          "year": 2005
         },
         {
          "most_parts": "4768-2: The Durmstrang Ship with Bonus Mini - Figures (Target exclusive)",
          "name": "The Durmstrang Ship",
          "num_name": "4768-1: The Durmstrang Ship",
          "num_parts": 552,
          "set_num": "4768-1",
          "theme_name": "Goblet of Fire",
          "year": 2005
         },
         {
          "most_parts": "4768-2: The Durmstrang Ship with Bonus Mini - Figures (Target exclusive)",
          "name": "The Durmstrang Ship with Bonus Mini - Figures (Target exclusive)",
          "num_name": "4768-2: The Durmstrang Ship with Bonus Mini - Figures (Target exclusive)",
          "num_parts": 569,
          "set_num": "4768-2",
          "theme_name": "Goblet of Fire",
          "year": 2005
         },
         {
          "most_parts": "5378-1: Hogwarts (Third Edition)",
          "name": "Hogwarts (Third Edition)",
          "num_name": "5378-1: Hogwarts (Third Edition)",
          "num_parts": 945,
          "set_num": "5378-1",
          "theme_name": "Order of the Phoenix",
          "year": 2007
         },
         {
          "most_parts": "4757-1: Hogwarts Castle (2nd edition)",
          "name": "Motorized Hogwarts Express",
          "num_name": "10132-1: Motorized Hogwarts Express",
          "num_parts": 712,
          "set_num": "10132-1",
          "theme_name": "Prisoner of Azkaban",
          "year": 2004
         },
         {
          "most_parts": "4757-1: Hogwarts Castle (2nd edition)",
          "name": "Knight Bus - Mini",
          "num_name": "4695-1: Knight Bus - Mini",
          "num_parts": 58,
          "set_num": "4695-1",
          "theme_name": "Prisoner of Azkaban",
          "year": 2004
         },
         {
          "most_parts": "4757-1: Hogwarts Castle (2nd edition)",
          "name": "Draco's Encounter with Buckbeak",
          "num_name": "4750-1: Draco's Encounter with Buckbeak",
          "num_parts": 37,
          "set_num": "4750-1",
          "theme_name": "Prisoner of Azkaban",
          "year": 2004
         },
         {
          "most_parts": "4757-1: Hogwarts Castle (2nd edition)",
          "name": "Harry and the Marauder's Map",
          "num_name": "4751-1: Harry and the Marauder's Map",
          "num_parts": 109,
          "set_num": "4751-1",
          "theme_name": "Prisoner of Azkaban",
          "year": 2004
         },
         {
          "most_parts": "4757-1: Hogwarts Castle (2nd edition)",
          "name": "Professor Lupin's Classroom",
          "num_name": "4752-1: Professor Lupin's Classroom",
          "num_parts": 158,
          "set_num": "4752-1",
          "theme_name": "Prisoner of Azkaban",
          "year": 2004
         },
         {
          "most_parts": "4757-1: Hogwarts Castle (2nd edition)",
          "name": "Sirius Black's Escape",
          "num_name": "4753-1: Sirius Black's Escape",
          "num_parts": 192,
          "set_num": "4753-1",
          "theme_name": "Prisoner of Azkaban",
          "year": 2004
         },
         {
          "most_parts": "4757-1: Hogwarts Castle (2nd edition)",
          "name": "Hagrid's Hut (2nd edition)",
          "num_name": "4754-1: Hagrid's Hut (2nd edition)",
          "num_parts": 304,
          "set_num": "4754-1",
          "theme_name": "Prisoner of Azkaban",
          "year": 2004
         },
         {
          "most_parts": "4757-1: Hogwarts Castle (2nd edition)",
          "name": "Knight Bus",
          "num_name": "4755-1: Knight Bus",
          "num_parts": 244,
          "set_num": "4755-1",
          "theme_name": "Prisoner of Azkaban",
          "year": 2004
         },
         {
          "most_parts": "4757-1: Hogwarts Castle (2nd edition)",
          "name": "Shrieking Shack",
          "num_name": "4756-1: Shrieking Shack",
          "num_parts": 449,
          "set_num": "4756-1",
          "theme_name": "Prisoner of Azkaban",
          "year": 2004
         },
         {
          "most_parts": "4757-1: Hogwarts Castle (2nd edition)",
          "name": "Hogwarts Castle (2nd edition)",
          "num_name": "4757-1: Hogwarts Castle (2nd edition)",
          "num_parts": 935,
          "set_num": "4757-1",
          "theme_name": "Prisoner of Azkaban",
          "year": 2004
         },
         {
          "most_parts": "4757-1: Hogwarts Castle (2nd edition)",
          "name": "Hogwarts Express (2nd edition)",
          "num_name": "4758-1: Hogwarts Express (2nd edition)",
          "num_parts": 388,
          "set_num": "4758-1",
          "theme_name": "Prisoner of Azkaban",
          "year": 2004
         },
         {
          "most_parts": "4757-1: Hogwarts Castle (2nd edition)",
          "name": "Hogwarts Express (2nd edition) Co-Pack (contains 10132 4515 4520)",
          "num_name": "65524-1: Hogwarts Express (2nd edition) Co-Pack (contains 10132 4515 4520)",
          "num_parts": 3,
          "set_num": "65524-1",
          "theme_name": "Prisoner of Azkaban",
          "year": 2004
         },
         {
          "most_parts": "4757-1: Hogwarts Castle (2nd edition)",
          "name": "Marauder's Map Kit  (contains 4750 4751 4695)",
          "num_name": "K4751-1: Marauder's Map Kit  (contains 4750 4751 4695)",
          "num_parts": 3,
          "set_num": "K4751-1",
          "theme_name": "Prisoner of Azkaban",
          "year": 2004
         },
         {
          "most_parts": "4757-1: Hogwarts Castle (2nd edition)",
          "name": "Knight Bus Collection",
          "num_name": "K4755-1: Knight Bus Collection",
          "num_parts": 2,
          "set_num": "K4755-1",
          "theme_name": "Prisoner of Azkaban",
          "year": 2004
         },
         {
          "most_parts": "4709-1: Hogwarts Castle",
          "name": "Sorting Hat",
          "num_name": "4701-1: Sorting Hat",
          "num_parts": 50,
          "set_num": "4701-1",
          "theme_name": "Philosopher's Stone",
          "year": 2001
         },
         {
          "most_parts": "4709-1: Hogwarts Castle",
          "name": "The Final Challenge",
          "num_name": "4702-1: The Final Challenge",
          "num_parts": 61,
          "set_num": "4702-1",
          "theme_name": "Philosopher's Stone",
          "year": 2001
         },
         {
          "most_parts": "4709-1: Hogwarts Castle",
          "name": "The Chamber of the Winged Keys",
          "num_name": "4704-1: The Chamber of the Winged Keys",
          "num_parts": 180,
          "set_num": "4704-1",
          "theme_name": "Philosopher's Stone",
          "year": 2001
         },
         {
          "most_parts": "4709-1: Hogwarts Castle",
          "name": "Snape's Class",
          "num_name": "4705-1: Snape's Class",
          "num_parts": 167,
          "set_num": "4705-1",
          "theme_name": "Philosopher's Stone",
          "year": 2001
         },
         {
          "most_parts": "4709-1: Hogwarts Castle",
          "name": "Forbidden Corridor",
          "num_name": "4706-1: Forbidden Corridor",
          "num_parts": 239,
          "set_num": "4706-1",
          "theme_name": "Philosopher's Stone",
          "year": 2001
         },
         {
          "most_parts": "4709-1: Hogwarts Castle",
          "name": "Hagrid's Hut",
          "num_name": "4707-1: Hagrid's Hut",
          "num_parts": 298,
          "set_num": "4707-1",
          "theme_name": "Philosopher's Stone",
          "year": 2001
         },
         {
          "most_parts": "4709-1: Hogwarts Castle",
          "name": "Hogwarts Express (1st Edition)",
          "num_name": "4708-1: Hogwarts Express (1st Edition)",
          "num_parts": 412,
          "set_num": "4708-1",
          "theme_name": "Philosopher's Stone",
          "year": 2001
         },
         {
          "most_parts": "4709-1: Hogwarts Castle",
          "name": "Hogwarts Castle",
          "num_name": "4709-1: Hogwarts Castle",
          "num_parts": 696,
          "set_num": "4709-1",
          "theme_name": "Philosopher's Stone",
          "year": 2001
         },
         {
          "most_parts": "4709-1: Hogwarts Castle",
          "name": "Flying Lesson",
          "num_name": "4711-1: Flying Lesson",
          "num_parts": 24,
          "set_num": "4711-1",
          "theme_name": "Philosopher's Stone",
          "year": 2002
         },
         {
          "most_parts": "4709-1: Hogwarts Castle",
          "name": "Troll on the Loose",
          "num_name": "4712-1: Troll on the Loose",
          "num_parts": 69,
          "set_num": "4712-1",
          "theme_name": "Philosopher's Stone",
          "year": 2002
         },
         {
          "most_parts": "4709-1: Hogwarts Castle",
          "name": "Gringott's Bank",
          "num_name": "4714-1: Gringott's Bank",
          "num_parts": 263,
          "set_num": "4714-1",
          "theme_name": "Philosopher's Stone",
          "year": 2002
         },
         {
          "most_parts": "4709-1: Hogwarts Castle",
          "name": "Hogwarts Classroom",
          "num_name": "4721-1: Hogwarts Classroom",
          "num_parts": 75,
          "set_num": "4721-1",
          "theme_name": "Philosopher's Stone",
          "year": 2001
         },
         {
          "most_parts": "4709-1: Hogwarts Castle",
          "name": "Gryffindor",
          "num_name": "4722-1: Gryffindor",
          "num_parts": 70,
          "set_num": "4722-1",
          "theme_name": "Philosopher's Stone",
          "year": 2001
         },
         {
          "most_parts": "4709-1: Hogwarts Castle",
          "name": "Diagon Alley Shops",
          "num_name": "4723-1: Diagon Alley Shops",
          "num_parts": 85,
          "set_num": "4723-1",
          "theme_name": "Philosopher's Stone",
          "year": 2001
         },
         {
          "most_parts": "71043-1: Hogwarts Castle",
          "name": "Harry's Journey to Hogwarts",
          "num_name": "30407-1: Harry's Journey to Hogwarts",
          "num_parts": 40,
          "set_num": "30407-1",
          "theme_name": "Fantastic Beasts",
          "year": 2018
         },
         {
          "most_parts": "71043-1: Hogwarts Castle",
          "name": "Diagon Alley (micro)",
          "num_name": "40289-1: Diagon Alley (micro)",
          "num_parts": 374,
          "set_num": "40289-1",
          "theme_name": "Fantastic Beasts",
          "year": 2018
         },
         {
          "most_parts": "71043-1: Hogwarts Castle",
          "name": "Hogwarts Express (4th Edition)",
          "num_name": "71247-2: Hogwarts Express (4th Edition)",
          "num_parts": 43,
          "set_num": "71247-2",
          "theme_name": "Fantastic Beasts",
          "year": 2018
         },
         {
          "most_parts": "71043-1: Hogwarts Castle",
          "name": "Aragog's Lair",
          "num_name": "75950-1: Aragog's Lair",
          "num_parts": 159,
          "set_num": "75950-1",
          "theme_name": "Fantastic Beasts",
          "year": 2018
         },
         {
          "most_parts": "71043-1: Hogwarts Castle",
          "name": "Grindelwald's Escape",
          "num_name": "75951-1: Grindelwald's Escape",
          "num_parts": 132,
          "set_num": "75951-1",
          "theme_name": "Fantastic Beasts",
          "year": 2018
         },
         {
          "most_parts": "71043-1: Hogwarts Castle",
          "name": "Newt's Case of Magical Creatures",
          "num_name": "75952-1: Newt's Case of Magical Creatures",
          "num_parts": 694,
          "set_num": "75952-1",
          "theme_name": "Fantastic Beasts",
          "year": 2018
         },
         {
          "most_parts": "71043-1: Hogwarts Castle",
          "name": "Hogwarts Whomping Willow",
          "num_name": "75953-1: Hogwarts Whomping Willow",
          "num_parts": 756,
          "set_num": "75953-1",
          "theme_name": "Fantastic Beasts",
          "year": 2018
         },
         {
          "most_parts": "71043-1: Hogwarts Castle",
          "name": "Hogwarts Great Hall",
          "num_name": "75954-1: Hogwarts Great Hall",
          "num_parts": 882,
          "set_num": "75954-1",
          "theme_name": "Fantastic Beasts",
          "year": 2018
         },
         {
          "most_parts": "71043-1: Hogwarts Castle",
          "name": "Hogwarts Express (4th Edition)",
          "num_name": "75955-1: Hogwarts Express (4th Edition)",
          "num_parts": 805,
          "set_num": "75955-1",
          "theme_name": "Fantastic Beasts",
          "year": 2018
         },
         {
          "most_parts": "71043-1: Hogwarts Castle",
          "name": "Quidditch Match",
          "num_name": "75956-1: Quidditch Match",
          "num_parts": 501,
          "set_num": "75956-1",
          "theme_name": "Fantastic Beasts",
          "year": 2018
         },
         {
          "most_parts": "71043-1: Hogwarts Castle",
          "name": "Golden Snitch",
          "num_name": "HP-SNITCH: Golden Snitch",
          "num_parts": 35,
          "set_num": "HP-SNITCH",
          "theme_name": "Fantastic Beasts",
          "year": 2018
         }
        ]
       },
       "encoding": {
        "tooltip": [
         {
          "field": "most_parts",
          "title": "Set with most parts",
          "type": "nominal"
         }
        ],
        "x": {
         "field": "theme_name",
         "sort": [
          "Philosopher's Stone",
          "Chamber of Secrets",
          "Prisoner of Azkaban",
          "Goblet of Fire",
          "Order of the Phoenix",
          "Harry Potter",
          "Fantastic Beasts"
         ],
         "title": "Theme name",
         "type": "ordinal"
        },
        "y": {
         "aggregate": "sum",
         "field": "num_parts",
         "title": "Number of parts",
         "type": "quantitative"
        }
       },
       "height": 300,
       "mark": "bar",
       "width": 300
      },
      "image/png": "[encoded data removed]",
      "text/plain": [
       "<VegaLite 3 object>\n",
       "\n",
       "If you see this message, it means the renderer has not been properly enabled\n",
       "for the frontend that you are using. For more information, see\n",
       "https://altair-viz.github.io/user_guide/troubleshooting.html\n"
      ]
     },
     "execution_count": 24,
     "metadata": {},
     "output_type": "execute_result"
    }
   ],
   "source": [
    "alt.Chart(hp_themes_df[hp_themes_df['set_num']!='71043-1']).mark_bar().encode(\n",
    "    x=alt.X('theme_name:O', title='Theme name', sort=theme_order),\n",
    "    y=alt.Y('sum(num_parts):Q', title='Number of parts'),\n",
    "    tooltip=alt.Tooltip([\"most_parts:N\"], title=\"Set with most parts\")\n",
    ").properties(\n",
    "    height=300,\n",
    "    width=300\n",
    ")"
   ]
  },
  {
   "cell_type": "code",
   "execution_count": 25,
   "metadata": {},
   "outputs": [
    {
     "data": {
      "text/html": [
       "<div>\n",
       "<style scoped>\n",
       "    .dataframe tbody tr th:only-of-type {\n",
       "        vertical-align: middle;\n",
       "    }\n",
       "\n",
       "    .dataframe tbody tr th {\n",
       "        vertical-align: top;\n",
       "    }\n",
       "\n",
       "    .dataframe thead th {\n",
       "        text-align: right;\n",
       "    }\n",
       "</style>\n",
       "<table border=\"1\" class=\"dataframe\">\n",
       "  <thead>\n",
       "    <tr style=\"text-align: right;\">\n",
       "      <th></th>\n",
       "      <th>theme_name</th>\n",
       "      <th>name</th>\n",
       "      <th>num_parts</th>\n",
       "    </tr>\n",
       "  </thead>\n",
       "  <tbody>\n",
       "    <tr>\n",
       "      <th>0</th>\n",
       "      <td>Chamber of Secrets</td>\n",
       "      <td>Chamber of Secrets</td>\n",
       "      <td>597</td>\n",
       "    </tr>\n",
       "    <tr>\n",
       "      <th>1</th>\n",
       "      <td>Chamber of Secrets</td>\n",
       "      <td>Dumbledore's Office</td>\n",
       "      <td>451</td>\n",
       "    </tr>\n",
       "    <tr>\n",
       "      <th>2</th>\n",
       "      <td>Chamber of Secrets</td>\n",
       "      <td>Escape from Privet Drive</td>\n",
       "      <td>282</td>\n",
       "    </tr>\n",
       "    <tr>\n",
       "      <th>3</th>\n",
       "      <td>Chamber of Secrets</td>\n",
       "      <td>Knockturn Alley</td>\n",
       "      <td>211</td>\n",
       "    </tr>\n",
       "    <tr>\n",
       "      <th>4</th>\n",
       "      <td>Chamber of Secrets</td>\n",
       "      <td>Aragog in the Dark Forest</td>\n",
       "      <td>183</td>\n",
       "    </tr>\n",
       "    <tr>\n",
       "      <th>5</th>\n",
       "      <td>Fantastic Beasts</td>\n",
       "      <td>Hogwarts Castle</td>\n",
       "      <td>6016</td>\n",
       "    </tr>\n",
       "    <tr>\n",
       "      <th>6</th>\n",
       "      <td>Fantastic Beasts</td>\n",
       "      <td>Hogwarts Great Hall</td>\n",
       "      <td>882</td>\n",
       "    </tr>\n",
       "    <tr>\n",
       "      <th>7</th>\n",
       "      <td>Fantastic Beasts</td>\n",
       "      <td>Hogwarts Express (4th Edition)</td>\n",
       "      <td>805</td>\n",
       "    </tr>\n",
       "    <tr>\n",
       "      <th>8</th>\n",
       "      <td>Fantastic Beasts</td>\n",
       "      <td>Hogwarts Whomping Willow</td>\n",
       "      <td>756</td>\n",
       "    </tr>\n",
       "    <tr>\n",
       "      <th>9</th>\n",
       "      <td>Fantastic Beasts</td>\n",
       "      <td>Newt's Case of Magical Creatures</td>\n",
       "      <td>694</td>\n",
       "    </tr>\n",
       "    <tr>\n",
       "      <th>10</th>\n",
       "      <td>Goblet of Fire</td>\n",
       "      <td>The Durmstrang Ship with Bonus Mini - Figures ...</td>\n",
       "      <td>569</td>\n",
       "    </tr>\n",
       "    <tr>\n",
       "      <th>11</th>\n",
       "      <td>Goblet of Fire</td>\n",
       "      <td>The Durmstrang Ship</td>\n",
       "      <td>552</td>\n",
       "    </tr>\n",
       "    <tr>\n",
       "      <th>12</th>\n",
       "      <td>Goblet of Fire</td>\n",
       "      <td>Graveyard Duel</td>\n",
       "      <td>551</td>\n",
       "    </tr>\n",
       "    <tr>\n",
       "      <th>13</th>\n",
       "      <td>Goblet of Fire</td>\n",
       "      <td>Harry and the Hungarian Horntail</td>\n",
       "      <td>265</td>\n",
       "    </tr>\n",
       "    <tr>\n",
       "      <th>14</th>\n",
       "      <td>Goblet of Fire</td>\n",
       "      <td>Rescue from the Merpeople</td>\n",
       "      <td>177</td>\n",
       "    </tr>\n",
       "    <tr>\n",
       "      <th>15</th>\n",
       "      <td>Harry Potter</td>\n",
       "      <td>Diagon Alley</td>\n",
       "      <td>2031</td>\n",
       "    </tr>\n",
       "    <tr>\n",
       "      <th>16</th>\n",
       "      <td>Harry Potter</td>\n",
       "      <td>Hogwarts Castle [Fourth Edition]</td>\n",
       "      <td>1290</td>\n",
       "    </tr>\n",
       "    <tr>\n",
       "      <th>17</th>\n",
       "      <td>Harry Potter</td>\n",
       "      <td>Hogwarts Express (3rd edition)</td>\n",
       "      <td>646</td>\n",
       "    </tr>\n",
       "    <tr>\n",
       "      <th>18</th>\n",
       "      <td>Harry Potter</td>\n",
       "      <td>The Burrow</td>\n",
       "      <td>572</td>\n",
       "    </tr>\n",
       "    <tr>\n",
       "      <th>19</th>\n",
       "      <td>Harry Potter</td>\n",
       "      <td>Hogwarts</td>\n",
       "      <td>465</td>\n",
       "    </tr>\n",
       "    <tr>\n",
       "      <th>20</th>\n",
       "      <td>Order of the Phoenix</td>\n",
       "      <td>Hogwarts (Third Edition)</td>\n",
       "      <td>945</td>\n",
       "    </tr>\n",
       "    <tr>\n",
       "      <th>21</th>\n",
       "      <td>Philosopher's Stone</td>\n",
       "      <td>Hogwarts Castle</td>\n",
       "      <td>696</td>\n",
       "    </tr>\n",
       "    <tr>\n",
       "      <th>22</th>\n",
       "      <td>Philosopher's Stone</td>\n",
       "      <td>Hogwarts Express (1st Edition)</td>\n",
       "      <td>412</td>\n",
       "    </tr>\n",
       "    <tr>\n",
       "      <th>23</th>\n",
       "      <td>Philosopher's Stone</td>\n",
       "      <td>Hagrid's Hut</td>\n",
       "      <td>298</td>\n",
       "    </tr>\n",
       "    <tr>\n",
       "      <th>24</th>\n",
       "      <td>Philosopher's Stone</td>\n",
       "      <td>Gringott's Bank</td>\n",
       "      <td>263</td>\n",
       "    </tr>\n",
       "    <tr>\n",
       "      <th>25</th>\n",
       "      <td>Philosopher's Stone</td>\n",
       "      <td>Forbidden Corridor</td>\n",
       "      <td>239</td>\n",
       "    </tr>\n",
       "    <tr>\n",
       "      <th>26</th>\n",
       "      <td>Prisoner of Azkaban</td>\n",
       "      <td>Hogwarts Castle (2nd edition)</td>\n",
       "      <td>935</td>\n",
       "    </tr>\n",
       "    <tr>\n",
       "      <th>27</th>\n",
       "      <td>Prisoner of Azkaban</td>\n",
       "      <td>Motorized Hogwarts Express</td>\n",
       "      <td>712</td>\n",
       "    </tr>\n",
       "    <tr>\n",
       "      <th>28</th>\n",
       "      <td>Prisoner of Azkaban</td>\n",
       "      <td>Shrieking Shack</td>\n",
       "      <td>449</td>\n",
       "    </tr>\n",
       "    <tr>\n",
       "      <th>29</th>\n",
       "      <td>Prisoner of Azkaban</td>\n",
       "      <td>Hogwarts Express (2nd edition)</td>\n",
       "      <td>388</td>\n",
       "    </tr>\n",
       "    <tr>\n",
       "      <th>30</th>\n",
       "      <td>Prisoner of Azkaban</td>\n",
       "      <td>Hagrid's Hut (2nd edition)</td>\n",
       "      <td>304</td>\n",
       "    </tr>\n",
       "  </tbody>\n",
       "</table>\n",
       "</div>"
      ],
      "text/plain": [
       "              theme_name                                               name  \\\n",
       "0     Chamber of Secrets                                 Chamber of Secrets   \n",
       "1     Chamber of Secrets                                Dumbledore's Office   \n",
       "2     Chamber of Secrets                           Escape from Privet Drive   \n",
       "3     Chamber of Secrets                                    Knockturn Alley   \n",
       "4     Chamber of Secrets                          Aragog in the Dark Forest   \n",
       "5       Fantastic Beasts                                    Hogwarts Castle   \n",
       "6       Fantastic Beasts                                Hogwarts Great Hall   \n",
       "7       Fantastic Beasts                     Hogwarts Express (4th Edition)   \n",
       "8       Fantastic Beasts                           Hogwarts Whomping Willow   \n",
       "9       Fantastic Beasts                   Newt's Case of Magical Creatures   \n",
       "10        Goblet of Fire  The Durmstrang Ship with Bonus Mini - Figures ...   \n",
       "11        Goblet of Fire                                The Durmstrang Ship   \n",
       "12        Goblet of Fire                                     Graveyard Duel   \n",
       "13        Goblet of Fire                   Harry and the Hungarian Horntail   \n",
       "14        Goblet of Fire                          Rescue from the Merpeople   \n",
       "15          Harry Potter                                       Diagon Alley   \n",
       "16          Harry Potter                   Hogwarts Castle [Fourth Edition]   \n",
       "17          Harry Potter                     Hogwarts Express (3rd edition)   \n",
       "18          Harry Potter                                         The Burrow   \n",
       "19          Harry Potter                                           Hogwarts   \n",
       "20  Order of the Phoenix                           Hogwarts (Third Edition)   \n",
       "21   Philosopher's Stone                                    Hogwarts Castle   \n",
       "22   Philosopher's Stone                     Hogwarts Express (1st Edition)   \n",
       "23   Philosopher's Stone                                       Hagrid's Hut   \n",
       "24   Philosopher's Stone                                    Gringott's Bank   \n",
       "25   Philosopher's Stone                                 Forbidden Corridor   \n",
       "26   Prisoner of Azkaban                      Hogwarts Castle (2nd edition)   \n",
       "27   Prisoner of Azkaban                         Motorized Hogwarts Express   \n",
       "28   Prisoner of Azkaban                                    Shrieking Shack   \n",
       "29   Prisoner of Azkaban                     Hogwarts Express (2nd edition)   \n",
       "30   Prisoner of Azkaban                         Hagrid's Hut (2nd edition)   \n",
       "\n",
       "    num_parts  \n",
       "0         597  \n",
       "1         451  \n",
       "2         282  \n",
       "3         211  \n",
       "4         183  \n",
       "5        6016  \n",
       "6         882  \n",
       "7         805  \n",
       "8         756  \n",
       "9         694  \n",
       "10        569  \n",
       "11        552  \n",
       "12        551  \n",
       "13        265  \n",
       "14        177  \n",
       "15       2031  \n",
       "16       1290  \n",
       "17        646  \n",
       "18        572  \n",
       "19        465  \n",
       "20        945  \n",
       "21        696  \n",
       "22        412  \n",
       "23        298  \n",
       "24        263  \n",
       "25        239  \n",
       "26        935  \n",
       "27        712  \n",
       "28        449  \n",
       "29        388  \n",
       "30        304  "
      ]
     },
     "execution_count": 25,
     "metadata": {},
     "output_type": "execute_result"
    }
   ],
   "source": [
    "hp_themes_df.groupby('theme_name')['name', 'num_parts'].apply(lambda grp: grp.nlargest(5, 'num_parts')).reset_index().drop('level_1', axis=1)"
   ]
  },
  {
   "cell_type": "markdown",
   "metadata": {},
   "source": [
    "## Colours"
   ]
  },
  {
   "cell_type": "markdown",
   "metadata": {},
   "source": [
    "### Size of the colour palette"
   ]
  },
  {
   "cell_type": "markdown",
   "metadata": {},
   "source": [
    "The plots below show the total number of different colours of parts in sets released by both year and subtheme."
   ]
  },
  {
   "cell_type": "code",
   "execution_count": 32,
   "metadata": {},
   "outputs": [],
   "source": [
    "colors_number_year = colors_number_year.merge(\n",
    "    hp_themes_df.groupby(['year'])['num_parts'].sum().reset_index()\n",
    ")\n",
    "\n",
    "colors_number_set = colors_number_set.merge(\n",
    "    hp_themes_df[['set_num', 'num_parts', 'num_name']]\n",
    ")\n",
    "colors_number_set['log_num_parts'] = np.log(colors_number_set['num_parts'])"
   ]
  },
  {
   "cell_type": "code",
   "execution_count": 29,
   "metadata": {},
   "outputs": [
    {
     "data": {
      "application/vnd.vegalite.v3+json": {
       "$schema": "https://vega.github.io/schema/vega-lite/v3.2.1.json",
       "config": {
        "mark": {
         "tooltip": null
        },
        "view": {
         "height": 300,
         "width": 400
        }
       },
       "datasets": {
        "data-62058fbd7604d6f28c13721798b25049": [
         {
          "color_count": 33,
          "theme_name": "Chamber of Secrets"
         },
         {
          "color_count": 58,
          "theme_name": "Fantastic Beasts"
         },
         {
          "color_count": 37,
          "theme_name": "Goblet of Fire"
         },
         {
          "color_count": 59,
          "theme_name": "Harry Potter"
         },
         {
          "color_count": 30,
          "theme_name": "Order of the Phoenix"
         },
         {
          "color_count": 40,
          "theme_name": "Philosopher's Stone"
         },
         {
          "color_count": 39,
          "theme_name": "Prisoner of Azkaban"
         }
        ],
        "data-b41ee36a8e3fcc949b32a1917f9c2789": [
         {
          "color_count": 40,
          "year": 2001
         },
         {
          "color_count": 33,
          "year": 2002
         },
         {
          "color_count": 24,
          "year": 2003
         },
         {
          "color_count": 39,
          "year": 2004
         },
         {
          "color_count": 37,
          "year": 2005
         },
         {
          "color_count": 30,
          "year": 2007
         },
         {
          "color_count": 46,
          "year": 2010
         },
         {
          "color_count": 38,
          "year": 2011
         },
         {
          "color_count": 58,
          "year": 2018
         }
        ]
       },
       "hconcat": [
        {
         "data": {
          "name": "data-b41ee36a8e3fcc949b32a1917f9c2789"
         },
         "encoding": {
          "x": {
           "field": "year",
           "type": "nominal"
          },
          "y": {
           "field": "color_count",
           "type": "quantitative"
          }
         },
         "height": 300,
         "mark": "bar",
         "width": 300
        },
        {
         "data": {
          "name": "data-62058fbd7604d6f28c13721798b25049"
         },
         "encoding": {
          "x": {
           "field": "theme_name",
           "sort": [
            "Philosopher's Stone",
            "Chamber of Secrets",
            "Prisoner of Azkaban",
            "Goblet of Fire",
            "Order of the Phoenix",
            "Harry Potter",
            "Fantastic Beasts"
           ],
           "type": "nominal"
          },
          "y": {
           "field": "color_count",
           "type": "quantitative"
          }
         },
         "height": 300,
         "mark": "bar",
         "width": 300
        }
       ]
      },
      "image/png": "[encoded data removed]",
      "text/plain": [
       "<VegaLite 3 object>\n",
       "\n",
       "If you see this message, it means the renderer has not been properly enabled\n",
       "for the frontend that you are using. For more information, see\n",
       "https://altair-viz.github.io/user_guide/troubleshooting.html\n"
      ]
     },
     "execution_count": 29,
     "metadata": {},
     "output_type": "execute_result"
    }
   ],
   "source": [
    "year_colors = alt.Chart(colors_number_year).mark_bar().encode(\n",
    "    x='year:N',\n",
    "    y='color_count:Q'\n",
    ").properties(\n",
    "    height=300,\n",
    "    width=300\n",
    ")\n",
    "\n",
    "theme_colors = alt.Chart(colors_number_theme).mark_bar().encode(\n",
    "    x=alt.X('theme_name:N', sort=theme_order),\n",
    "    y='color_count:Q'\n",
    ").properties(\n",
    "    height=300,\n",
    "    width=300\n",
    ")\n",
    "\n",
    "year_colors | theme_colors"
   ]
  },
  {
   "cell_type": "markdown",
   "metadata": {},
   "source": [
    "Sets in the *Harry Potter* and *Fantastic Beasts* themes have more colours in their palettes. However, recall that sets in these themes also have the largest parts count. The below plot shows both the part count (log transformed) and the number of colours. The two variables are positively correlated ($r$ = 0.845)."
   ]
  },
  {
   "cell_type": "code",
   "execution_count": 34,
   "metadata": {},
   "outputs": [
    {
     "data": {
      "application/vnd.vegalite.v3+json": {
       "$schema": "https://vega.github.io/schema/vega-lite/v3.2.1.json",
       "config": {
        "mark": {
         "tooltip": null
        },
        "view": {
         "height": 300,
         "width": 400
        }
       },
       "data": {
        "name": "data-5b4c33dbaabeb4b3d854f137ba70c065"
       },
       "datasets": {
        "data-5b4c33dbaabeb4b3d854f137ba70c065": [
         {
          "color_count": 24,
          "log_num_parts": 6.568077911411976,
          "num_name": "10132-1: Motorized Hogwarts Express",
          "num_parts": 712,
          "set_num": "10132-1"
         },
         {
          "color_count": 30,
          "log_num_parts": 7.616283561580385,
          "num_name": "10217-1: Diagon Alley",
          "num_parts": 2031,
          "set_num": "10217-1"
         },
         {
          "color_count": 9,
          "log_num_parts": 3.091042453358316,
          "num_name": "30110-1: Trolley",
          "num_parts": 22,
          "set_num": "30110-1"
         },
         {
          "color_count": 12,
          "log_num_parts": 3.5263605246161616,
          "num_name": "30111-1: The Lab",
          "num_parts": 34,
          "set_num": "30111-1"
         },
         {
          "color_count": 11,
          "log_num_parts": 3.6888794541139363,
          "num_name": "30407-1: Harry's Journey to Hogwarts",
          "num_parts": 40,
          "set_num": "30407-1"
         },
         {
          "color_count": 5,
          "log_num_parts": 4.1588830833596715,
          "num_name": "40028-1: Mini Hogwarts Express",
          "num_parts": 64,
          "set_num": "40028-1"
         },
         {
          "color_count": 23,
          "log_num_parts": 5.924255797414532,
          "num_name": "40289-1: Diagon Alley (micro)",
          "num_parts": 374,
          "set_num": "40289-1"
         },
         {
          "color_count": 4,
          "log_num_parts": 4.060443010546419,
          "num_name": "4695-1: Knight Bus - Mini",
          "num_parts": 58,
          "set_num": "4695-1"
         },
         {
          "color_count": 9,
          "log_num_parts": 3.912023005428146,
          "num_name": "4701-1: Sorting Hat",
          "num_parts": 50,
          "set_num": "4701-1"
         },
         {
          "color_count": 11,
          "log_num_parts": 4.110873864173311,
          "num_name": "4702-1: The Final Challenge",
          "num_parts": 61,
          "set_num": "4702-1"
         },
         {
          "color_count": 13,
          "log_num_parts": 5.19295685089021,
          "num_name": "4704-1: The Chamber of the Winged Keys",
          "num_parts": 180,
          "set_num": "4704-1"
         },
         {
          "color_count": 19,
          "log_num_parts": 5.117993812416755,
          "num_name": "4705-1: Snape's Class",
          "num_parts": 167,
          "set_num": "4705-1"
         },
         {
          "color_count": 14,
          "log_num_parts": 5.476463551931511,
          "num_name": "4706-1: Forbidden Corridor",
          "num_parts": 239,
          "set_num": "4706-1"
         },
         {
          "color_count": 16,
          "log_num_parts": 5.697093486505405,
          "num_name": "4707-1: Hagrid's Hut",
          "num_parts": 298,
          "set_num": "4707-1"
         },
         {
          "color_count": 13,
          "log_num_parts": 6.021023349349527,
          "num_name": "4708-1: Hogwarts Express (1st Edition)",
          "num_parts": 412,
          "set_num": "4708-1"
         },
         {
          "color_count": 26,
          "log_num_parts": 6.54534966033442,
          "num_name": "4709-1: Hogwarts Castle",
          "num_parts": 696,
          "set_num": "4709-1"
         },
         {
          "color_count": 6,
          "log_num_parts": 3.1780538303479458,
          "num_name": "4711-1: Flying Lesson",
          "num_parts": 24,
          "set_num": "4711-1"
         },
         {
          "color_count": 10,
          "log_num_parts": 4.23410650459726,
          "num_name": "4712-1: Troll on the Loose",
          "num_parts": 69,
          "set_num": "4712-1"
         },
         {
          "color_count": 15,
          "log_num_parts": 5.572154032177765,
          "num_name": "4714-1: Gringott's Bank",
          "num_parts": 263,
          "set_num": "4714-1"
         },
         {
          "color_count": 16,
          "log_num_parts": 4.795790545596741,
          "num_name": "4719-1: Quality Quidditch Supplies",
          "num_parts": 121,
          "set_num": "4719-1"
         },
         {
          "color_count": 18,
          "log_num_parts": 5.351858133476067,
          "num_name": "4720-1: Knockturn Alley",
          "num_parts": 211,
          "set_num": "4720-1"
         },
         {
          "color_count": 21,
          "log_num_parts": 4.31748811353631,
          "num_name": "4721-1: Hogwarts Classroom",
          "num_parts": 75,
          "set_num": "4721-1"
         },
         {
          "color_count": 22,
          "log_num_parts": 4.248495242049359,
          "num_name": "4722-1: Gryffindor",
          "num_parts": 70,
          "set_num": "4722-1"
         },
         {
          "color_count": 29,
          "log_num_parts": 4.442651256490317,
          "num_name": "4723-1: Diagon Alley Shops",
          "num_parts": 85,
          "set_num": "4723-1"
         },
         {
          "color_count": 14,
          "log_num_parts": 4.875197323201151,
          "num_name": "4726-1: Quidditch Practice",
          "num_parts": 131,
          "set_num": "4726-1"
         },
         {
          "color_count": 12,
          "log_num_parts": 5.209486152841421,
          "num_name": "4727-1: Aragog in the Dark Forest",
          "num_parts": 183,
          "set_num": "4727-1"
         },
         {
          "color_count": 18,
          "log_num_parts": 5.641907070938114,
          "num_name": "4728-1: Escape from Privet Drive",
          "num_parts": 282,
          "set_num": "4728-1"
         },
         {
          "color_count": 18,
          "log_num_parts": 6.111467339502679,
          "num_name": "4729-1: Dumbledore's Office",
          "num_parts": 451,
          "set_num": "4729-1"
         },
         {
          "color_count": 21,
          "log_num_parts": 6.391917113392602,
          "num_name": "4730-1: Chamber of Secrets",
          "num_parts": 597,
          "set_num": "4730-1"
         },
         {
          "color_count": 9,
          "log_num_parts": 4.2626798770413155,
          "num_name": "4731-1: Dobby's Release",
          "num_parts": 71,
          "set_num": "4731-1"
         },
         {
          "color_count": 10,
          "log_num_parts": 4.890349128221754,
          "num_name": "4733-1: The Dueling Club",
          "num_parts": 133,
          "set_num": "4733-1"
         },
         {
          "color_count": 14,
          "log_num_parts": 4.532599493153256,
          "num_name": "4735-1: Slytherin",
          "num_parts": 93,
          "set_num": "4735-1"
         },
         {
          "color_count": 10,
          "log_num_parts": 4.290459441148391,
          "num_name": "4736-1: Freeing Dobby",
          "num_parts": 73,
          "set_num": "4736-1"
         },
         {
          "color_count": 15,
          "log_num_parts": 5.030437921392435,
          "num_name": "4737-1: Quidditch Match",
          "num_parts": 153,
          "set_num": "4737-1"
         },
         {
          "color_count": 29,
          "log_num_parts": 6.091309882077698,
          "num_name": "4738-1: Hagrid's Hut (3rd edition)",
          "num_parts": 442,
          "set_num": "4738-1"
         },
         {
          "color_count": 10,
          "log_num_parts": 3.6109179126442243,
          "num_name": "4750-1: Draco's Encounter with Buckbeak",
          "num_parts": 37,
          "set_num": "4750-1"
         },
         {
          "color_count": 14,
          "log_num_parts": 4.6913478822291435,
          "num_name": "4751-1: Harry and the Marauder's Map",
          "num_parts": 109,
          "set_num": "4751-1"
         },
         {
          "color_count": 24,
          "log_num_parts": 5.062595033026967,
          "num_name": "4752-1: Professor Lupin's Classroom",
          "num_parts": 158,
          "set_num": "4752-1"
         },
         {
          "color_count": 12,
          "log_num_parts": 5.2574953720277815,
          "num_name": "4753-1: Sirius Black's Escape",
          "num_parts": 192,
          "set_num": "4753-1"
         },
         {
          "color_count": 19,
          "log_num_parts": 5.717027701406222,
          "num_name": "4754-1: Hagrid's Hut (2nd edition)",
          "num_parts": 304,
          "set_num": "4754-1"
         },
         {
          "color_count": 14,
          "log_num_parts": 5.497168225293202,
          "num_name": "4755-1: Knight Bus",
          "num_parts": 244,
          "set_num": "4755-1"
         },
         {
          "color_count": 25,
          "log_num_parts": 6.1070228877422545,
          "num_name": "4756-1: Shrieking Shack",
          "num_parts": 449,
          "set_num": "4756-1"
         },
         {
          "color_count": 25,
          "log_num_parts": 6.840546529288687,
          "num_name": "4757-1: Hogwarts Castle (2nd edition)",
          "num_parts": 935,
          "set_num": "4757-1"
         },
         {
          "color_count": 19,
          "log_num_parts": 5.961005339623274,
          "num_name": "4758-1: Hogwarts Express (2nd edition)",
          "num_parts": 388,
          "set_num": "4758-1"
         },
         {
          "color_count": 22,
          "log_num_parts": 5.176149732573829,
          "num_name": "4762-1: Rescue from the Merpeople",
          "num_parts": 177,
          "set_num": "4762-1"
         },
         {
          "color_count": 18,
          "log_num_parts": 6.311734809152915,
          "num_name": "4766-1: Graveyard Duel",
          "num_parts": 551,
          "set_num": "4766-1"
         },
         {
          "color_count": 14,
          "log_num_parts": 5.579729825986222,
          "num_name": "4767-1: Harry and the Hungarian Horntail",
          "num_parts": 265,
          "set_num": "4767-1"
         },
         {
          "color_count": 20,
          "log_num_parts": 6.313548046277095,
          "num_name": "4768-1: The Durmstrang Ship",
          "num_parts": 552,
          "set_num": "4768-1"
         },
         {
          "color_count": 21,
          "log_num_parts": 6.343880434126331,
          "num_name": "4768-2: The Durmstrang Ship with Bonus Mini - Figures (Target exclusive)",
          "num_parts": 569,
          "set_num": "4768-2"
         },
         {
          "color_count": 28,
          "log_num_parts": 6.349138991379798,
          "num_name": "4840-1: The Burrow",
          "num_parts": 572,
          "set_num": "4840-1"
         },
         {
          "color_count": 22,
          "log_num_parts": 6.470799503782602,
          "num_name": "4841-1: Hogwarts Express (3rd edition)",
          "num_parts": 646,
          "set_num": "4841-1"
         },
         {
          "color_count": 34,
          "log_num_parts": 7.162397497355718,
          "num_name": "4842-1: Hogwarts Castle [Fourth Edition]",
          "num_parts": 1290,
          "set_num": "4842-1"
         },
         {
          "color_count": 14,
          "log_num_parts": 4.1588830833596715,
          "num_name": "4865-1: The Forbidden Forest",
          "num_parts": 64,
          "set_num": "4865-1"
         },
         {
          "color_count": 16,
          "log_num_parts": 5.638354669333745,
          "num_name": "4866-1: The Knight Bus",
          "num_parts": 281,
          "set_num": "4866-1"
         },
         {
          "color_count": 26,
          "log_num_parts": 6.142037405587356,
          "num_name": "4867-1: Hogwarts",
          "num_parts": 465,
          "set_num": "4867-1"
         },
         {
          "color_count": 30,
          "log_num_parts": 6.851184927493743,
          "num_name": "5378-1: Hogwarts (Third Edition)",
          "num_parts": 945,
          "set_num": "5378-1"
         },
         {
          "color_count": 46,
          "log_num_parts": 8.702177865629675,
          "num_name": "71043-1: Hogwarts Castle",
          "num_parts": 6016,
          "set_num": "71043-1"
         },
         {
          "color_count": 6,
          "log_num_parts": 3.7612001156935624,
          "num_name": "71247-2: Hogwarts Express (4th Edition)",
          "num_parts": 43,
          "set_num": "71247-2"
         },
         {
          "color_count": 23,
          "log_num_parts": 5.0689042022202315,
          "num_name": "75950-1: Aragog's Lair",
          "num_parts": 159,
          "set_num": "75950-1"
         },
         {
          "color_count": 18,
          "log_num_parts": 4.882801922586371,
          "num_name": "75951-1: Grindelwald's Escape",
          "num_parts": 132,
          "set_num": "75951-1"
         },
         {
          "color_count": 32,
          "log_num_parts": 6.542471960506805,
          "num_name": "75952-1: Newt's Case of Magical Creatures",
          "num_parts": 694,
          "set_num": "75952-1"
         },
         {
          "color_count": 32,
          "log_num_parts": 6.628041376179533,
          "num_name": "75953-1: Hogwarts Whomping Willow",
          "num_parts": 756,
          "set_num": "75953-1"
         },
         {
          "color_count": 38,
          "log_num_parts": 6.782192056006791,
          "num_name": "75954-1: Hogwarts Great Hall",
          "num_parts": 882,
          "set_num": "75954-1"
         },
         {
          "color_count": 27,
          "log_num_parts": 6.690842277418564,
          "num_name": "75955-1: Hogwarts Express (4th Edition)",
          "num_parts": 805,
          "set_num": "75955-1"
         },
         {
          "color_count": 20,
          "log_num_parts": 6.2166061010848646,
          "num_name": "75956-1: Quidditch Match",
          "num_parts": 501,
          "set_num": "75956-1"
         },
         {
          "color_count": 4,
          "log_num_parts": 3.5553480614894135,
          "num_name": "HP-SNITCH: Golden Snitch",
          "num_parts": 35,
          "set_num": "HP-SNITCH"
         },
         {
          "color_count": 7,
          "log_num_parts": 2.995732273553991,
          "num_name": "HPG01-1: Harry Potter Gallery 1 - Potter L. Malfoy Lockhart Madame Hooch",
          "num_parts": 20,
          "set_num": "HPG01-1"
         },
         {
          "color_count": 5,
          "log_num_parts": 2.833213344056216,
          "num_name": "HPG02-1: Harry Potter Gallery 2 - Hagrid V. Dursley Crabbe Ron Weasley",
          "num_parts": 17,
          "set_num": "HPG02-1"
         },
         {
          "color_count": 8,
          "log_num_parts": 3.1354942159291497,
          "num_name": "HPG03-1: Harry Potter Gallery 3 - Dumbledore Ginny Weasley D. Malfoy Snape",
          "num_parts": 23,
          "set_num": "HPG03-1"
         },
         {
          "color_count": 6,
          "log_num_parts": 3.1354942159291497,
          "num_name": "HPG04-1: Harry Potter Gallery 4 - Tom Riddle McGonagall Dobby Goyle Hermione",
          "num_parts": 23,
          "set_num": "HPG04-1"
         },
         {
          "color_count": 2,
          "log_num_parts": 3.258096538021482,
          "num_name": "HPWAND-1: Harry Potter Wand",
          "num_parts": 26,
          "set_num": "HPWAND-1"
         },
         {
          "color_count": 5,
          "log_num_parts": 3.6109179126442243,
          "num_name": "TRU01-1: Harry Potter Quidditch Tower (TRU Event Exclusive)",
          "num_parts": 37,
          "set_num": "TRU01-1"
         },
         {
          "color_count": 6,
          "log_num_parts": 3.58351893845611,
          "num_name": "TRUWEASLEYCAR-1: Weasley Family Car",
          "num_parts": 36,
          "set_num": "TRUWEASLEYCAR-1"
         }
        ]
       },
       "encoding": {
        "tooltip": {
         "field": "num_name",
         "type": "nominal"
        },
        "x": {
         "field": "color_count",
         "type": "quantitative"
        },
        "y": {
         "field": "log_num_parts",
         "type": "quantitative"
        }
       },
       "height": 300,
       "mark": "circle",
       "width": 300
      },
      "image/png": "[encoded data removed]",
      "text/plain": [
       "<VegaLite 3 object>\n",
       "\n",
       "If you see this message, it means the renderer has not been properly enabled\n",
       "for the frontend that you are using. For more information, see\n",
       "https://altair-viz.github.io/user_guide/troubleshooting.html\n"
      ]
     },
     "execution_count": 34,
     "metadata": {},
     "output_type": "execute_result"
    }
   ],
   "source": [
    "alt.Chart(colors_number_set).mark_circle().encode(\n",
    "    x='color_count:Q',\n",
    "    y='log_num_parts:Q',\n",
    "    tooltip='num_name:N'\n",
    ").properties(\n",
    "    height=300,\n",
    "    width=300\n",
    ")"
   ]
  },
  {
   "cell_type": "code",
   "execution_count": 41,
   "metadata": {},
   "outputs": [
    {
     "data": {
      "text/html": [
       "<div>\n",
       "<style scoped>\n",
       "    .dataframe tbody tr th:only-of-type {\n",
       "        vertical-align: middle;\n",
       "    }\n",
       "\n",
       "    .dataframe tbody tr th {\n",
       "        vertical-align: top;\n",
       "    }\n",
       "\n",
       "    .dataframe thead th {\n",
       "        text-align: right;\n",
       "    }\n",
       "</style>\n",
       "<table border=\"1\" class=\"dataframe\">\n",
       "  <thead>\n",
       "    <tr style=\"text-align: right;\">\n",
       "      <th></th>\n",
       "      <th>color_count</th>\n",
       "      <th>log_num_parts</th>\n",
       "    </tr>\n",
       "  </thead>\n",
       "  <tbody>\n",
       "    <tr>\n",
       "      <th>color_count</th>\n",
       "      <td>1.000000</td>\n",
       "      <td>0.845327</td>\n",
       "    </tr>\n",
       "    <tr>\n",
       "      <th>log_num_parts</th>\n",
       "      <td>0.845327</td>\n",
       "      <td>1.000000</td>\n",
       "    </tr>\n",
       "  </tbody>\n",
       "</table>\n",
       "</div>"
      ],
      "text/plain": [
       "               color_count  log_num_parts\n",
       "color_count       1.000000       0.845327\n",
       "log_num_parts     0.845327       1.000000"
      ]
     },
     "execution_count": 41,
     "metadata": {},
     "output_type": "execute_result"
    }
   ],
   "source": [
    "colors_number_set[['color_count', 'log_num_parts']].corr(method='pearson')"
   ]
  },
  {
   "cell_type": "markdown",
   "metadata": {},
   "source": [
    "### Colour by year"
   ]
  },
  {
   "cell_type": "code",
   "execution_count": 35,
   "metadata": {},
   "outputs": [
    {
     "data": {
      "application/vnd.vegalite.v3+json": {
       "$schema": "https://vega.github.io/schema/vega-lite/v3.2.1.json",
       "config": {
        "mark": {
         "tooltip": null
        },
        "view": {
         "height": 300,
         "width": 400
        }
       },
       "data": {
        "name": "data-083d688fa9c011257ad2355eb5e8f241"
       },
       "datasets": {
        "data-083d688fa9c011257ad2355eb5e8f241": [
         {
          "color_name": "Black",
          "hex": "#05131D",
          "quantity": 501,
          "transparent": false,
          "year": 2001
         },
         {
          "color_name": "Blue",
          "hex": "#0055BF",
          "quantity": 7,
          "transparent": false,
          "year": 2001
         },
         {
          "color_name": "Brown",
          "hex": "#583927",
          "quantity": 133,
          "transparent": false,
          "year": 2001
         },
         {
          "color_name": "Chrome Antique Brass",
          "hex": "#645A4C",
          "quantity": 8,
          "transparent": false,
          "year": 2001
         },
         {
          "color_name": "Chrome Gold",
          "hex": "#BBA53D",
          "quantity": 5,
          "transparent": false,
          "year": 2001
         },
         {
          "color_name": "Chrome Silver",
          "hex": "#E0E0E0",
          "quantity": 3,
          "transparent": false,
          "year": 2001
         },
         {
          "color_name": "Dark Gray",
          "hex": "#6D6E5C",
          "quantity": 357,
          "transparent": false,
          "year": 2001
         },
         {
          "color_name": "Dark Orange",
          "hex": "#A95500",
          "quantity": 2,
          "transparent": false,
          "year": 2001
         },
         {
          "color_name": "Dark Pink",
          "hex": "#C870A0",
          "quantity": 32,
          "transparent": false,
          "year": 2001
         },
         {
          "color_name": "Dark Red",
          "hex": "#720E0F",
          "quantity": 1,
          "transparent": false,
          "year": 2001
         },
         {
          "color_name": "Dark Turquoise",
          "hex": "#008F9B",
          "quantity": 6,
          "transparent": false,
          "year": 2001
         },
         {
          "color_name": "Earth Orange",
          "hex": "#FA9C1C",
          "quantity": 7,
          "transparent": false,
          "year": 2001
         },
         {
          "color_name": "Glow In Dark Opaque",
          "hex": "#D4D5C9",
          "quantity": 2,
          "transparent": false,
          "year": 2001
         },
         {
          "color_name": "Green",
          "hex": "#237841",
          "quantity": 59,
          "transparent": false,
          "year": 2001
         },
         {
          "color_name": "Light Gray",
          "hex": "#9BA19D",
          "quantity": 467,
          "transparent": false,
          "year": 2001
         },
         {
          "color_name": "Light Green",
          "hex": "#C2DAB8",
          "quantity": 1,
          "transparent": false,
          "year": 2001
         },
         {
          "color_name": "Light Turquoise",
          "hex": "#55A5AF",
          "quantity": 2,
          "transparent": false,
          "year": 2001
         },
         {
          "color_name": "Light Violet",
          "hex": "#C9CAE2",
          "quantity": 5,
          "transparent": false,
          "year": 2001
         },
         {
          "color_name": "Medium Blue",
          "hex": "#5A93DB",
          "quantity": 2,
          "transparent": false,
          "year": 2001
         },
         {
          "color_name": "Medium Orange",
          "hex": "#FFA70B",
          "quantity": 14,
          "transparent": false,
          "year": 2001
         },
         {
          "color_name": "Orange",
          "hex": "#FE8A18",
          "quantity": 38,
          "transparent": false,
          "year": 2001
         },
         {
          "color_name": "Purple",
          "hex": "#81007B",
          "quantity": 15,
          "transparent": false,
          "year": 2001
         },
         {
          "color_name": "Red",
          "hex": "#C91A09",
          "quantity": 111,
          "transparent": true,
          "year": 2001
         },
         {
          "color_name": "Royal Blue",
          "hex": "#4C61DB",
          "quantity": 3,
          "transparent": false,
          "year": 2001
         },
         {
          "color_name": "Sand Green",
          "hex": "#A0BCAC",
          "quantity": 23,
          "transparent": false,
          "year": 2001
         },
         {
          "color_name": "Tan",
          "hex": "#E4CD9E",
          "quantity": 297,
          "transparent": false,
          "year": 2001
         },
         {
          "color_name": "Trans-Clear",
          "hex": "#FCFCFC",
          "quantity": 18,
          "transparent": true,
          "year": 2001
         },
         {
          "color_name": "Trans-Dark Blue",
          "hex": "#0020A0",
          "quantity": 10,
          "transparent": true,
          "year": 2001
         },
         {
          "color_name": "Trans-Dark Pink",
          "hex": "#DF6695",
          "quantity": 13,
          "transparent": true,
          "year": 2001
         },
         {
          "color_name": "Trans-Green",
          "hex": "#84B68D",
          "quantity": 6,
          "transparent": true,
          "year": 2001
         },
         {
          "color_name": "Trans-Light Blue",
          "hex": "#AEEFEC",
          "quantity": 7,
          "transparent": true,
          "year": 2001
         },
         {
          "color_name": "Trans-Neon Green",
          "hex": "#F8F184",
          "quantity": 13,
          "transparent": true,
          "year": 2001
         },
         {
          "color_name": "Trans-Neon Orange",
          "hex": "#FF800D",
          "quantity": 60,
          "transparent": true,
          "year": 2001
         },
         {
          "color_name": "Trans-Purple",
          "hex": "#A5A5CB",
          "quantity": 4,
          "transparent": true,
          "year": 2001
         },
         {
          "color_name": "Trans-Red",
          "hex": "#C91A09",
          "quantity": 8,
          "transparent": true,
          "year": 2001
         },
         {
          "color_name": "Trans-Yellow",
          "hex": "#F5CD2F",
          "quantity": 1,
          "transparent": true,
          "year": 2001
         },
         {
          "color_name": "Violet",
          "hex": "#4354A3",
          "quantity": 5,
          "transparent": false,
          "year": 2001
         },
         {
          "color_name": "White",
          "hex": "#FFFFFF",
          "quantity": 64,
          "transparent": false,
          "year": 2001
         },
         {
          "color_name": "Yellow",
          "hex": "#F2CD37",
          "quantity": 56,
          "transparent": false,
          "year": 2001
         },
         {
          "color_name": "[No Color/Any Color]",
          "hex": "#05131D",
          "quantity": 4,
          "transparent": false,
          "year": 2001
         },
         {
          "color_name": "Black",
          "hex": "#05131D",
          "quantity": 519,
          "transparent": false,
          "year": 2002
         },
         {
          "color_name": "Blue",
          "hex": "#0055BF",
          "quantity": 10,
          "transparent": false,
          "year": 2002
         },
         {
          "color_name": "Brown",
          "hex": "#583927",
          "quantity": 124,
          "transparent": false,
          "year": 2002
         },
         {
          "color_name": "Chrome Antique Brass",
          "hex": "#645A4C",
          "quantity": 6,
          "transparent": false,
          "year": 2002
         },
         {
          "color_name": "Chrome Gold",
          "hex": "#BBA53D",
          "quantity": 17,
          "transparent": false,
          "year": 2002
         },
         {
          "color_name": "Chrome Silver",
          "hex": "#E0E0E0",
          "quantity": 3,
          "transparent": false,
          "year": 2002
         },
         {
          "color_name": "Dark Blue",
          "hex": "#0A3463",
          "quantity": 1,
          "transparent": false,
          "year": 2002
         },
         {
          "color_name": "Dark Gray",
          "hex": "#6D6E5C",
          "quantity": 355,
          "transparent": false,
          "year": 2002
         },
         {
          "color_name": "Dark Orange",
          "hex": "#A95500",
          "quantity": 24,
          "transparent": false,
          "year": 2002
         },
         {
          "color_name": "Dark Red",
          "hex": "#720E0F",
          "quantity": 1,
          "transparent": false,
          "year": 2002
         },
         {
          "color_name": "Earth Orange",
          "hex": "#FA9C1C",
          "quantity": 8,
          "transparent": false,
          "year": 2002
         },
         {
          "color_name": "Glow In Dark Opaque",
          "hex": "#D4D5C9",
          "quantity": 4,
          "transparent": false,
          "year": 2002
         },
         {
          "color_name": "Green",
          "hex": "#237841",
          "quantity": 65,
          "transparent": false,
          "year": 2002
         },
         {
          "color_name": "Light Gray",
          "hex": "#9BA19D",
          "quantity": 565,
          "transparent": false,
          "year": 2002
         },
         {
          "color_name": "Medium Blue",
          "hex": "#5A93DB",
          "quantity": 53,
          "transparent": false,
          "year": 2002
         },
         {
          "color_name": "Orange",
          "hex": "#FE8A18",
          "quantity": 1,
          "transparent": false,
          "year": 2002
         },
         {
          "color_name": "Purple",
          "hex": "#81007B",
          "quantity": 6,
          "transparent": false,
          "year": 2002
         },
         {
          "color_name": "Red",
          "hex": "#C91A09",
          "quantity": 19,
          "transparent": true,
          "year": 2002
         },
         {
          "color_name": "Sand Green",
          "hex": "#A0BCAC",
          "quantity": 172,
          "transparent": false,
          "year": 2002
         },
         {
          "color_name": "Sand Red",
          "hex": "#D67572",
          "quantity": 3,
          "transparent": false,
          "year": 2002
         },
         {
          "color_name": "Tan",
          "hex": "#E4CD9E",
          "quantity": 269,
          "transparent": false,
          "year": 2002
         },
         {
          "color_name": "Trans-Clear",
          "hex": "#FCFCFC",
          "quantity": 16,
          "transparent": true,
          "year": 2002
         },
         {
          "color_name": "Trans-Dark Blue",
          "hex": "#0020A0",
          "quantity": 5,
          "transparent": true,
          "year": 2002
         },
         {
          "color_name": "Trans-Green",
          "hex": "#84B68D",
          "quantity": 9,
          "transparent": true,
          "year": 2002
         },
         {
          "color_name": "Trans-Light Blue",
          "hex": "#AEEFEC",
          "quantity": 3,
          "transparent": true,
          "year": 2002
         },
         {
          "color_name": "Trans-Neon Green",
          "hex": "#F8F184",
          "quantity": 3,
          "transparent": true,
          "year": 2002
         },
         {
          "color_name": "Trans-Neon Orange",
          "hex": "#FF800D",
          "quantity": 29,
          "transparent": true,
          "year": 2002
         },
         {
          "color_name": "Trans-Purple",
          "hex": "#A5A5CB",
          "quantity": 5,
          "transparent": true,
          "year": 2002
         },
         {
          "color_name": "Trans-Red",
          "hex": "#C91A09",
          "quantity": 16,
          "transparent": true,
          "year": 2002
         },
         {
          "color_name": "Trans-Yellow",
          "hex": "#F5CD2F",
          "quantity": 7,
          "transparent": true,
          "year": 2002
         },
         {
          "color_name": "White",
          "hex": "#FFFFFF",
          "quantity": 80,
          "transparent": false,
          "year": 2002
         },
         {
          "color_name": "Yellow",
          "hex": "#F2CD37",
          "quantity": 46,
          "transparent": false,
          "year": 2002
         },
         {
          "color_name": "[No Color/Any Color]",
          "hex": "#05131D",
          "quantity": 2,
          "transparent": false,
          "year": 2002
         },
         {
          "color_name": "Black",
          "hex": "#05131D",
          "quantity": 94,
          "transparent": false,
          "year": 2003
         },
         {
          "color_name": "Blue",
          "hex": "#0055BF",
          "quantity": 2,
          "transparent": false,
          "year": 2003
         },
         {
          "color_name": "Brown",
          "hex": "#583927",
          "quantity": 9,
          "transparent": false,
          "year": 2003
         },
         {
          "color_name": "Chrome Antique Brass",
          "hex": "#645A4C",
          "quantity": 1,
          "transparent": false,
          "year": 2003
         },
         {
          "color_name": "Dark Blue",
          "hex": "#0A3463",
          "quantity": 11,
          "transparent": false,
          "year": 2003
         },
         {
          "color_name": "Dark Gray",
          "hex": "#6D6E5C",
          "quantity": 49,
          "transparent": false,
          "year": 2003
         },
         {
          "color_name": "Dark Orange",
          "hex": "#A95500",
          "quantity": 19,
          "transparent": false,
          "year": 2003
         },
         {
          "color_name": "Earth Orange",
          "hex": "#FA9C1C",
          "quantity": 1,
          "transparent": false,
          "year": 2003
         },
         {
          "color_name": "Green",
          "hex": "#237841",
          "quantity": 2,
          "transparent": false,
          "year": 2003
         },
         {
          "color_name": "Light Gray",
          "hex": "#9BA19D",
          "quantity": 38,
          "transparent": false,
          "year": 2003
         },
         {
          "color_name": "Red",
          "hex": "#C91A09",
          "quantity": 5,
          "transparent": true,
          "year": 2003
         },
         {
          "color_name": "Sand Blue",
          "hex": "#6074A1",
          "quantity": 50,
          "transparent": false,
          "year": 2003
         },
         {
          "color_name": "Sand Green",
          "hex": "#A0BCAC",
          "quantity": 23,
          "transparent": false,
          "year": 2003
         },
         {
          "color_name": "Tan",
          "hex": "#E4CD9E",
          "quantity": 4,
          "transparent": false,
          "year": 2003
         },
         {
          "color_name": "Trans-Clear",
          "hex": "#FCFCFC",
          "quantity": 3,
          "transparent": true,
          "year": 2003
         },
         {
          "color_name": "Trans-Dark Blue",
          "hex": "#0020A0",
          "quantity": 1,
          "transparent": true,
          "year": 2003
         },
         {
          "color_name": "Trans-Green",
          "hex": "#84B68D",
          "quantity": 5,
          "transparent": true,
          "year": 2003
         },
         {
          "color_name": "Trans-Neon Green",
          "hex": "#F8F184",
          "quantity": 3,
          "transparent": true,
          "year": 2003
         },
         {
          "color_name": "Trans-Neon Orange",
          "hex": "#FF800D",
          "quantity": 2,
          "transparent": true,
          "year": 2003
         },
         {
          "color_name": "Trans-Purple",
          "hex": "#A5A5CB",
          "quantity": 1,
          "transparent": true,
          "year": 2003
         },
         {
          "color_name": "Trans-Red",
          "hex": "#C91A09",
          "quantity": 4,
          "transparent": true,
          "year": 2003
         },
         {
          "color_name": "Trans-Yellow",
          "hex": "#F5CD2F",
          "quantity": 2,
          "transparent": true,
          "year": 2003
         },
         {
          "color_name": "White",
          "hex": "#FFFFFF",
          "quantity": 5,
          "transparent": false,
          "year": 2003
         },
         {
          "color_name": "Yellow",
          "hex": "#F2CD37",
          "quantity": 3,
          "transparent": false,
          "year": 2003
         },
         {
          "color_name": "Black",
          "hex": "#05131D",
          "quantity": 752,
          "transparent": false,
          "year": 2004
         },
         {
          "color_name": "Blue",
          "hex": "#0055BF",
          "quantity": 40,
          "transparent": false,
          "year": 2004
         },
         {
          "color_name": "Bright Green",
          "hex": "#4B9F4A",
          "quantity": 1,
          "transparent": false,
          "year": 2004
         },
         {
          "color_name": "Chrome Antique Brass",
          "hex": "#645A4C",
          "quantity": 4,
          "transparent": false,
          "year": 2004
         },
         {
          "color_name": "Chrome Gold",
          "hex": "#BBA53D",
          "quantity": 4,
          "transparent": false,
          "year": 2004
         },
         {
          "color_name": "Dark Blue",
          "hex": "#0A3463",
          "quantity": 3,
          "transparent": false,
          "year": 2004
         },
         {
          "color_name": "Dark Bluish Gray",
          "hex": "#6C6E68",
          "quantity": 591,
          "transparent": false,
          "year": 2004
         },
         {
          "color_name": "Dark Green",
          "hex": "#184632",
          "quantity": 8,
          "transparent": false,
          "year": 2004
         },
         {
          "color_name": "Dark Orange",
          "hex": "#A95500",
          "quantity": 42,
          "transparent": false,
          "year": 2004
         },
         {
          "color_name": "Dark Purple",
          "hex": "#3F3691",
          "quantity": 154,
          "transparent": false,
          "year": 2004
         },
         {
          "color_name": "Dark Red",
          "hex": "#720E0F",
          "quantity": 49,
          "transparent": false,
          "year": 2004
         },
         {
          "color_name": "Dark Tan",
          "hex": "#958A73",
          "quantity": 1,
          "transparent": false,
          "year": 2004
         },
         {
          "color_name": "Earth Orange",
          "hex": "#FA9C1C",
          "quantity": 5,
          "transparent": false,
          "year": 2004
         },
         {
          "color_name": "Glow In Dark Opaque",
          "hex": "#D4D5C9",
          "quantity": 2,
          "transparent": false,
          "year": 2004
         },
         {
          "color_name": "Green",
          "hex": "#237841",
          "quantity": 17,
          "transparent": false,
          "year": 2004
         },
         {
          "color_name": "Light Bluish Gray",
          "hex": "#A0A5A9",
          "quantity": 539,
          "transparent": false,
          "year": 2004
         },
         {
          "color_name": "Light Flesh",
          "hex": "#F6D7B3",
          "quantity": 26,
          "transparent": false,
          "year": 2004
         },
         {
          "color_name": "Light Purple",
          "hex": "#CD6298",
          "quantity": 3,
          "transparent": false,
          "year": 2004
         },
         {
          "color_name": "Medium Blue",
          "hex": "#5A93DB",
          "quantity": 2,
          "transparent": false,
          "year": 2004
         },
         {
          "color_name": "Orange",
          "hex": "#FE8A18",
          "quantity": 7,
          "transparent": false,
          "year": 2004
         },
         {
          "color_name": "Red",
          "hex": "#C91A09",
          "quantity": 247,
          "transparent": true,
          "year": 2004
         },
         {
          "color_name": "Reddish Brown",
          "hex": "#582A12",
          "quantity": 300,
          "transparent": false,
          "year": 2004
         },
         {
          "color_name": "Sand Blue",
          "hex": "#6074A1",
          "quantity": 2,
          "transparent": false,
          "year": 2004
         },
         {
          "color_name": "Sand Green",
          "hex": "#A0BCAC",
          "quantity": 150,
          "transparent": false,
          "year": 2004
         },
         {
          "color_name": "Tan",
          "hex": "#E4CD9E",
          "quantity": 347,
          "transparent": false,
          "year": 2004
         },
         {
          "color_name": "Trans-Black",
          "hex": "#635F52",
          "quantity": 1,
          "transparent": true,
          "year": 2004
         },
         {
          "color_name": "Trans-Clear",
          "hex": "#FCFCFC",
          "quantity": 70,
          "transparent": true,
          "year": 2004
         },
         {
          "color_name": "Trans-Dark Blue",
          "hex": "#0020A0",
          "quantity": 16,
          "transparent": true,
          "year": 2004
         },
         {
          "color_name": "Trans-Dark Pink",
          "hex": "#DF6695",
          "quantity": 2,
          "transparent": true,
          "year": 2004
         },
         {
          "color_name": "Trans-Green",
          "hex": "#84B68D",
          "quantity": 13,
          "transparent": true,
          "year": 2004
         },
         {
          "color_name": "Trans-Neon Green",
          "hex": "#F8F184",
          "quantity": 17,
          "transparent": true,
          "year": 2004
         },
         {
          "color_name": "Trans-Neon Orange",
          "hex": "#FF800D",
          "quantity": 49,
          "transparent": true,
          "year": 2004
         },
         {
          "color_name": "Trans-Purple",
          "hex": "#A5A5CB",
          "quantity": 5,
          "transparent": true,
          "year": 2004
         },
         {
          "color_name": "Trans-Red",
          "hex": "#C91A09",
          "quantity": 15,
          "transparent": true,
          "year": 2004
         },
         {
          "color_name": "Trans-Yellow",
          "hex": "#F5CD2F",
          "quantity": 11,
          "transparent": true,
          "year": 2004
         },
         {
          "color_name": "Violet",
          "hex": "#4354A3",
          "quantity": 1,
          "transparent": false,
          "year": 2004
         },
         {
          "color_name": "White",
          "hex": "#FFFFFF",
          "quantity": 127,
          "transparent": false,
          "year": 2004
         },
         {
          "color_name": "Yellow",
          "hex": "#F2CD37",
          "quantity": 28,
          "transparent": false,
          "year": 2004
         },
         {
          "color_name": "[No Color/Any Color]",
          "hex": "#05131D",
          "quantity": 2,
          "transparent": false,
          "year": 2004
         },
         {
          "color_name": "Black",
          "hex": "#05131D",
          "quantity": 438,
          "transparent": false,
          "year": 2005
         },
         {
          "color_name": "Blue",
          "hex": "#0055BF",
          "quantity": 40,
          "transparent": false,
          "year": 2005
         },
         {
          "color_name": "Bright Light Orange",
          "hex": "#F8BB3D",
          "quantity": 1,
          "transparent": false,
          "year": 2005
         },
         {
          "color_name": "Chrome Antique Brass",
          "hex": "#645A4C",
          "quantity": 5,
          "transparent": false,
          "year": 2005
         },
         {
          "color_name": "Chrome Gold",
          "hex": "#BBA53D",
          "quantity": 13,
          "transparent": false,
          "year": 2005
         },
         {
          "color_name": "Chrome Silver",
          "hex": "#E0E0E0",
          "quantity": 4,
          "transparent": false,
          "year": 2005
         },
         {
          "color_name": "Copper",
          "hex": "#AE7A59",
          "quantity": 6,
          "transparent": false,
          "year": 2005
         },
         {
          "color_name": "Dark Blue",
          "hex": "#0A3463",
          "quantity": 16,
          "transparent": false,
          "year": 2005
         },
         {
          "color_name": "Dark Bluish Gray",
          "hex": "#6C6E68",
          "quantity": 333,
          "transparent": false,
          "year": 2005
         },
         {
          "color_name": "Dark Green",
          "hex": "#184632",
          "quantity": 10,
          "transparent": false,
          "year": 2005
         },
         {
          "color_name": "Dark Orange",
          "hex": "#A95500",
          "quantity": 64,
          "transparent": false,
          "year": 2005
         },
         {
          "color_name": "Dark Red",
          "hex": "#720E0F",
          "quantity": 173,
          "transparent": false,
          "year": 2005
         },
         {
          "color_name": "Dark Tan",
          "hex": "#958A73",
          "quantity": 2,
          "transparent": false,
          "year": 2005
         },
         {
          "color_name": "Glow In Dark Opaque",
          "hex": "#D4D5C9",
          "quantity": 1,
          "transparent": false,
          "year": 2005
         },
         {
          "color_name": "Green",
          "hex": "#237841",
          "quantity": 21,
          "transparent": false,
          "year": 2005
         },
         {
          "color_name": "Light Bluish Gray",
          "hex": "#A0A5A9",
          "quantity": 192,
          "transparent": false,
          "year": 2005
         },
         {
          "color_name": "Light Flesh",
          "hex": "#F6D7B3",
          "quantity": 20,
          "transparent": false,
          "year": 2005
         },
         {
          "color_name": "Medium Blue",
          "hex": "#5A93DB",
          "quantity": 185,
          "transparent": false,
          "year": 2005
         },
         {
          "color_name": "Orange",
          "hex": "#FE8A18",
          "quantity": 2,
          "transparent": false,
          "year": 2005
         },
         {
          "color_name": "Pearl Gold",
          "hex": "#AA7F2E",
          "quantity": 1,
          "transparent": false,
          "year": 2005
         },
         {
          "color_name": "Pearl Light Gray",
          "hex": "#9CA3A8",
          "quantity": 2,
          "transparent": false,
          "year": 2005
         },
         {
          "color_name": "Red",
          "hex": "#C91A09",
          "quantity": 16,
          "transparent": true,
          "year": 2005
         },
         {
          "color_name": "Reddish Brown",
          "hex": "#582A12",
          "quantity": 104,
          "transparent": false,
          "year": 2005
         },
         {
          "color_name": "Sand Blue",
          "hex": "#6074A1",
          "quantity": 5,
          "transparent": false,
          "year": 2005
         },
         {
          "color_name": "Sand Green",
          "hex": "#A0BCAC",
          "quantity": 14,
          "transparent": false,
          "year": 2005
         },
         {
          "color_name": "Tan",
          "hex": "#E4CD9E",
          "quantity": 341,
          "transparent": false,
          "year": 2005
         },
         {
          "color_name": "Trans-Clear",
          "hex": "#FCFCFC",
          "quantity": 21,
          "transparent": true,
          "year": 2005
         },
         {
          "color_name": "Trans-Dark Blue",
          "hex": "#0020A0",
          "quantity": 10,
          "transparent": true,
          "year": 2005
         },
         {
          "color_name": "Trans-Green",
          "hex": "#84B68D",
          "quantity": 11,
          "transparent": true,
          "year": 2005
         },
         {
          "color_name": "Trans-Light Blue",
          "hex": "#AEEFEC",
          "quantity": 3,
          "transparent": true,
          "year": 2005
         },
         {
          "color_name": "Trans-Neon Orange",
          "hex": "#FF800D",
          "quantity": 18,
          "transparent": true,
          "year": 2005
         },
         {
          "color_name": "Trans-Orange",
          "hex": "#F08F1C",
          "quantity": 4,
          "transparent": true,
          "year": 2005
         },
         {
          "color_name": "Trans-Red",
          "hex": "#C91A09",
          "quantity": 3,
          "transparent": true,
          "year": 2005
         },
         {
          "color_name": "Trans-Yellow",
          "hex": "#F5CD2F",
          "quantity": 3,
          "transparent": true,
          "year": 2005
         },
         {
          "color_name": "White",
          "hex": "#FFFFFF",
          "quantity": 57,
          "transparent": false,
          "year": 2005
         },
         {
          "color_name": "Yellow",
          "hex": "#F2CD37",
          "quantity": 10,
          "transparent": false,
          "year": 2005
         },
         {
          "color_name": "[No Color/Any Color]",
          "hex": "#05131D",
          "quantity": 1,
          "transparent": false,
          "year": 2005
         },
         {
          "color_name": "Black",
          "hex": "#05131D",
          "quantity": 266,
          "transparent": false,
          "year": 2007
         },
         {
          "color_name": "Blue",
          "hex": "#0055BF",
          "quantity": 10,
          "transparent": false,
          "year": 2007
         },
         {
          "color_name": "Bright Pink",
          "hex": "#E4ADC8",
          "quantity": 2,
          "transparent": false,
          "year": 2007
         },
         {
          "color_name": "Dark Bluish Gray",
          "hex": "#6C6E68",
          "quantity": 306,
          "transparent": false,
          "year": 2007
         },
         {
          "color_name": "Dark Orange",
          "hex": "#A95500",
          "quantity": 2,
          "transparent": false,
          "year": 2007
         },
         {
          "color_name": "Dark Pink",
          "hex": "#C870A0",
          "quantity": 7,
          "transparent": false,
          "year": 2007
         },
         {
          "color_name": "Dark Purple",
          "hex": "#3F3691",
          "quantity": 2,
          "transparent": false,
          "year": 2007
         },
         {
          "color_name": "Green",
          "hex": "#237841",
          "quantity": 22,
          "transparent": false,
          "year": 2007
         },
         {
          "color_name": "Light Bluish Gray",
          "hex": "#A0A5A9",
          "quantity": 534,
          "transparent": false,
          "year": 2007
         },
         {
          "color_name": "Light Flesh",
          "hex": "#F6D7B3",
          "quantity": 16,
          "transparent": false,
          "year": 2007
         },
         {
          "color_name": "Light Purple",
          "hex": "#CD6298",
          "quantity": 3,
          "transparent": false,
          "year": 2007
         },
         {
          "color_name": "Metallic Gold",
          "hex": "#DBAC34",
          "quantity": 2,
          "transparent": false,
          "year": 2007
         },
         {
          "color_name": "Pearl Gold",
          "hex": "#AA7F2E",
          "quantity": 10,
          "transparent": false,
          "year": 2007
         },
         {
          "color_name": "Pearl Light Gray",
          "hex": "#9CA3A8",
          "quantity": 4,
          "transparent": false,
          "year": 2007
         },
         {
          "color_name": "Red",
          "hex": "#C91A09",
          "quantity": 24,
          "transparent": true,
          "year": 2007
         },
         {
          "color_name": "Reddish Brown",
          "hex": "#582A12",
          "quantity": 180,
          "transparent": false,
          "year": 2007
         },
         {
          "color_name": "Sand Blue",
          "hex": "#6074A1",
          "quantity": 4,
          "transparent": false,
          "year": 2007
         },
         {
          "color_name": "Sand Green",
          "hex": "#A0BCAC",
          "quantity": 70,
          "transparent": false,
          "year": 2007
         },
         {
          "color_name": "Speckle Black-Silver",
          "hex": "#05131D",
          "quantity": 4,
          "transparent": false,
          "year": 2007
         },
         {
          "color_name": "Tan",
          "hex": "#E4CD9E",
          "quantity": 285,
          "transparent": false,
          "year": 2007
         },
         {
          "color_name": "Trans-Clear",
          "hex": "#FCFCFC",
          "quantity": 51,
          "transparent": true,
          "year": 2007
         },
         {
          "color_name": "Trans-Dark Blue",
          "hex": "#0020A0",
          "quantity": 10,
          "transparent": true,
          "year": 2007
         },
         {
          "color_name": "Trans-Dark Pink",
          "hex": "#DF6695",
          "quantity": 2,
          "transparent": true,
          "year": 2007
         },
         {
          "color_name": "Trans-Green",
          "hex": "#84B68D",
          "quantity": 2,
          "transparent": true,
          "year": 2007
         },
         {
          "color_name": "Trans-Light Blue",
          "hex": "#AEEFEC",
          "quantity": 4,
          "transparent": true,
          "year": 2007
         },
         {
          "color_name": "Trans-Neon Orange",
          "hex": "#FF800D",
          "quantity": 22,
          "transparent": true,
          "year": 2007
         },
         {
          "color_name": "Trans-Orange",
          "hex": "#F08F1C",
          "quantity": 16,
          "transparent": true,
          "year": 2007
         },
         {
          "color_name": "Trans-Red",
          "hex": "#C91A09",
          "quantity": 2,
          "transparent": true,
          "year": 2007
         },
         {
          "color_name": "Trans-Yellow",
          "hex": "#F5CD2F",
          "quantity": 2,
          "transparent": true,
          "year": 2007
         },
         {
          "color_name": "White",
          "hex": "#FFFFFF",
          "quantity": 26,
          "transparent": false,
          "year": 2007
         },
         {
          "color_name": "Black",
          "hex": "#05131D",
          "quantity": 479,
          "transparent": false,
          "year": 2010
         },
         {
          "color_name": "Blue",
          "hex": "#0055BF",
          "quantity": 18,
          "transparent": false,
          "year": 2010
         },
         {
          "color_name": "Bright Green",
          "hex": "#4B9F4A",
          "quantity": 3,
          "transparent": false,
          "year": 2010
         },
         {
          "color_name": "Bright Light Orange",
          "hex": "#F8BB3D",
          "quantity": 3,
          "transparent": false,
          "year": 2010
         },
         {
          "color_name": "Bright Light Yellow",
          "hex": "#FFF03A",
          "quantity": 1,
          "transparent": false,
          "year": 2010
         },
         {
          "color_name": "Bright Pink",
          "hex": "#E4ADC8",
          "quantity": 2,
          "transparent": false,
          "year": 2010
         },
         {
          "color_name": "Chrome Silver",
          "hex": "#E0E0E0",
          "quantity": 11,
          "transparent": false,
          "year": 2010
         },
         {
          "color_name": "Dark Blue",
          "hex": "#0A3463",
          "quantity": 2,
          "transparent": false,
          "year": 2010
         },
         {
          "color_name": "Dark Bluish Gray",
          "hex": "#6C6E68",
          "quantity": 334,
          "transparent": false,
          "year": 2010
         },
         {
          "color_name": "Dark Brown",
          "hex": "#352100",
          "quantity": 19,
          "transparent": false,
          "year": 2010
         },
         {
          "color_name": "Dark Green",
          "hex": "#184632",
          "quantity": 12,
          "transparent": false,
          "year": 2010
         },
         {
          "color_name": "Dark Orange",
          "hex": "#A95500",
          "quantity": 14,
          "transparent": false,
          "year": 2010
         },
         {
          "color_name": "Dark Pink",
          "hex": "#C870A0",
          "quantity": 1,
          "transparent": false,
          "year": 2010
         },
         {
          "color_name": "Dark Red",
          "hex": "#720E0F",
          "quantity": 107,
          "transparent": false,
          "year": 2010
         },
         {
          "color_name": "Dark Tan",
          "hex": "#958A73",
          "quantity": 81,
          "transparent": false,
          "year": 2010
         },
         {
          "color_name": "Flesh",
          "hex": "#D09168",
          "quantity": 1,
          "transparent": false,
          "year": 2010
         },
         {
          "color_name": "Green",
          "hex": "#237841",
          "quantity": 35,
          "transparent": false,
          "year": 2010
         },
         {
          "color_name": "Light Bluish Gray",
          "hex": "#A0A5A9",
          "quantity": 256,
          "transparent": false,
          "year": 2010
         },
         {
          "color_name": "Light Flesh",
          "hex": "#F6D7B3",
          "quantity": 30,
          "transparent": false,
          "year": 2010
         },
         {
          "color_name": "Lime",
          "hex": "#BBE90B",
          "quantity": 7,
          "transparent": false,
          "year": 2010
         },
         {
          "color_name": "Medium Blue",
          "hex": "#5A93DB",
          "quantity": 104,
          "transparent": false,
          "year": 2010
         },
         {
          "color_name": "Medium Dark Flesh",
          "hex": "#CC702A",
          "quantity": 92,
          "transparent": false,
          "year": 2010
         },
         {
          "color_name": "Metallic Gold",
          "hex": "#DBAC34",
          "quantity": 1,
          "transparent": false,
          "year": 2010
         },
         {
          "color_name": "Metallic Silver",
          "hex": "#A5A9B4",
          "quantity": 12,
          "transparent": false,
          "year": 2010
         },
         {
          "color_name": "Orange",
          "hex": "#FE8A18",
          "quantity": 18,
          "transparent": false,
          "year": 2010
         },
         {
          "color_name": "Pearl Dark Gray",
          "hex": "#575857",
          "quantity": 1,
          "transparent": false,
          "year": 2010
         },
         {
          "color_name": "Pearl Gold",
          "hex": "#AA7F2E",
          "quantity": 88,
          "transparent": false,
          "year": 2010
         },
         {
          "color_name": "Pearl Light Gray",
          "hex": "#9CA3A8",
          "quantity": 7,
          "transparent": false,
          "year": 2010
         },
         {
          "color_name": "Red",
          "hex": "#C91A09",
          "quantity": 217,
          "transparent": true,
          "year": 2010
         },
         {
          "color_name": "Reddish Brown",
          "hex": "#582A12",
          "quantity": 442,
          "transparent": false,
          "year": 2010
         },
         {
          "color_name": "Sand Blue",
          "hex": "#6074A1",
          "quantity": 2,
          "transparent": false,
          "year": 2010
         },
         {
          "color_name": "Sand Green",
          "hex": "#A0BCAC",
          "quantity": 116,
          "transparent": false,
          "year": 2010
         },
         {
          "color_name": "Speckle Black-Silver",
          "hex": "#05131D",
          "quantity": 1,
          "transparent": false,
          "year": 2010
         },
         {
          "color_name": "Tan",
          "hex": "#E4CD9E",
          "quantity": 516,
          "transparent": false,
          "year": 2010
         },
         {
          "color_name": "Trans-Clear",
          "hex": "#FCFCFC",
          "quantity": 36,
          "transparent": true,
          "year": 2010
         },
         {
          "color_name": "Trans-Dark Blue",
          "hex": "#0020A0",
          "quantity": 17,
          "transparent": true,
          "year": 2010
         },
         {
          "color_name": "Trans-Dark Pink",
          "hex": "#DF6695",
          "quantity": 1,
          "transparent": true,
          "year": 2010
         },
         {
          "color_name": "Trans-Green",
          "hex": "#84B68D",
          "quantity": 3,
          "transparent": true,
          "year": 2010
         },
         {
          "color_name": "Trans-Neon Green",
          "hex": "#F8F184",
          "quantity": 2,
          "transparent": true,
          "year": 2010
         },
         {
          "color_name": "Trans-Neon Orange",
          "hex": "#FF800D",
          "quantity": 34,
          "transparent": true,
          "year": 2010
         },
         {
          "color_name": "Trans-Orange",
          "hex": "#F08F1C",
          "quantity": 21,
          "transparent": true,
          "year": 2010
         },
         {
          "color_name": "Trans-Red",
          "hex": "#C91A09",
          "quantity": 16,
          "transparent": true,
          "year": 2010
         },
         {
          "color_name": "Trans-Yellow",
          "hex": "#F5CD2F",
          "quantity": 12,
          "transparent": true,
          "year": 2010
         },
         {
          "color_name": "White",
          "hex": "#FFFFFF",
          "quantity": 81,
          "transparent": false,
          "year": 2010
         },
         {
          "color_name": "Yellow",
          "hex": "#F2CD37",
          "quantity": 13,
          "transparent": false,
          "year": 2010
         },
         {
          "color_name": "[No Color/Any Color]",
          "hex": "#05131D",
          "quantity": 1,
          "transparent": false,
          "year": 2010
         },
         {
          "color_name": "Black",
          "hex": "#05131D",
          "quantity": 602,
          "transparent": false,
          "year": 2011
         },
         {
          "color_name": "Blue",
          "hex": "#0055BF",
          "quantity": 23,
          "transparent": false,
          "year": 2011
         },
         {
          "color_name": "Bright Pink",
          "hex": "#E4ADC8",
          "quantity": 2,
          "transparent": false,
          "year": 2011
         },
         {
          "color_name": "Chrome Gold",
          "hex": "#BBA53D",
          "quantity": 4,
          "transparent": false,
          "year": 2011
         },
         {
          "color_name": "Dark Blue",
          "hex": "#0A3463",
          "quantity": 53,
          "transparent": false,
          "year": 2011
         },
         {
          "color_name": "Dark Bluish Gray",
          "hex": "#6C6E68",
          "quantity": 308,
          "transparent": false,
          "year": 2011
         },
         {
          "color_name": "Dark Brown",
          "hex": "#352100",
          "quantity": 45,
          "transparent": false,
          "year": 2011
         },
         {
          "color_name": "Dark Green",
          "hex": "#184632",
          "quantity": 68,
          "transparent": false,
          "year": 2011
         },
         {
          "color_name": "Dark Orange",
          "hex": "#A95500",
          "quantity": 10,
          "transparent": false,
          "year": 2011
         },
         {
          "color_name": "Dark Purple",
          "hex": "#3F3691",
          "quantity": 123,
          "transparent": false,
          "year": 2011
         },
         {
          "color_name": "Dark Red",
          "hex": "#720E0F",
          "quantity": 58,
          "transparent": false,
          "year": 2011
         },
         {
          "color_name": "Dark Tan",
          "hex": "#958A73",
          "quantity": 59,
          "transparent": false,
          "year": 2011
         },
         {
          "color_name": "Flat Silver",
          "hex": "#898788",
          "quantity": 1,
          "transparent": false,
          "year": 2011
         },
         {
          "color_name": "Glow In Dark Trans",
          "hex": "#BDC6AD",
          "quantity": 25,
          "transparent": true,
          "year": 2011
         },
         {
          "color_name": "Green",
          "hex": "#237841",
          "quantity": 2,
          "transparent": false,
          "year": 2011
         },
         {
          "color_name": "Light Bluish Gray",
          "hex": "#A0A5A9",
          "quantity": 125,
          "transparent": false,
          "year": 2011
         },
         {
          "color_name": "Light Flesh",
          "hex": "#F6D7B3",
          "quantity": 25,
          "transparent": false,
          "year": 2011
         },
         {
          "color_name": "Lime",
          "hex": "#BBE90B",
          "quantity": 10,
          "transparent": false,
          "year": 2011
         },
         {
          "color_name": "Medium Blue",
          "hex": "#5A93DB",
          "quantity": 6,
          "transparent": false,
          "year": 2011
         },
         {
          "color_name": "Medium Dark Flesh",
          "hex": "#CC702A",
          "quantity": 3,
          "transparent": false,
          "year": 2011
         },
         {
          "color_name": "Metallic Silver",
          "hex": "#A5A9B4",
          "quantity": 14,
          "transparent": false,
          "year": 2011
         },
         {
          "color_name": "Pearl Gold",
          "hex": "#AA7F2E",
          "quantity": 133,
          "transparent": false,
          "year": 2011
         },
         {
          "color_name": "Red",
          "hex": "#C91A09",
          "quantity": 42,
          "transparent": true,
          "year": 2011
         },
         {
          "color_name": "Reddish Brown",
          "hex": "#582A12",
          "quantity": 295,
          "transparent": false,
          "year": 2011
         },
         {
          "color_name": "Sand Green",
          "hex": "#A0BCAC",
          "quantity": 93,
          "transparent": false,
          "year": 2011
         },
         {
          "color_name": "Tan",
          "hex": "#E4CD9E",
          "quantity": 337,
          "transparent": false,
          "year": 2011
         },
         {
          "color_name": "Trans-Black",
          "hex": "#635F52",
          "quantity": 4,
          "transparent": true,
          "year": 2011
         },
         {
          "color_name": "Trans-Clear",
          "hex": "#FCFCFC",
          "quantity": 106,
          "transparent": true,
          "year": 2011
         },
         {
          "color_name": "Trans-Dark Blue",
          "hex": "#0020A0",
          "quantity": 6,
          "transparent": true,
          "year": 2011
         },
         {
          "color_name": "Trans-Green",
          "hex": "#84B68D",
          "quantity": 3,
          "transparent": true,
          "year": 2011
         },
         {
          "color_name": "Trans-Light Blue",
          "hex": "#AEEFEC",
          "quantity": 5,
          "transparent": true,
          "year": 2011
         },
         {
          "color_name": "Trans-Neon Orange",
          "hex": "#FF800D",
          "quantity": 9,
          "transparent": true,
          "year": 2011
         },
         {
          "color_name": "Trans-Orange",
          "hex": "#F08F1C",
          "quantity": 1,
          "transparent": true,
          "year": 2011
         },
         {
          "color_name": "Trans-Red",
          "hex": "#C91A09",
          "quantity": 3,
          "transparent": true,
          "year": 2011
         },
         {
          "color_name": "Trans-Yellow",
          "hex": "#F5CD2F",
          "quantity": 18,
          "transparent": true,
          "year": 2011
         },
         {
          "color_name": "White",
          "hex": "#FFFFFF",
          "quantity": 392,
          "transparent": false,
          "year": 2011
         },
         {
          "color_name": "Yellow",
          "hex": "#F2CD37",
          "quantity": 8,
          "transparent": false,
          "year": 2011
         },
         {
          "color_name": "[No Color/Any Color]",
          "hex": "#05131D",
          "quantity": 2,
          "transparent": false,
          "year": 2011
         },
         {
          "color_name": "Black",
          "hex": "#05131D",
          "quantity": 987,
          "transparent": false,
          "year": 2018
         },
         {
          "color_name": "Blue",
          "hex": "#0055BF",
          "quantity": 71,
          "transparent": false,
          "year": 2018
         },
         {
          "color_name": "Bright Green",
          "hex": "#4B9F4A",
          "quantity": 23,
          "transparent": false,
          "year": 2018
         },
         {
          "color_name": "Bright Light Orange",
          "hex": "#F8BB3D",
          "quantity": 34,
          "transparent": false,
          "year": 2018
         },
         {
          "color_name": "Bright Light Yellow",
          "hex": "#FFF03A",
          "quantity": 1,
          "transparent": false,
          "year": 2018
         },
         {
          "color_name": "Bright Pink",
          "hex": "#E4ADC8",
          "quantity": 16,
          "transparent": false,
          "year": 2018
         },
         {
          "color_name": "Chrome Silver",
          "hex": "#E0E0E0",
          "quantity": 4,
          "transparent": false,
          "year": 2018
         },
         {
          "color_name": "Dark Azure",
          "hex": "#078BC9",
          "quantity": 7,
          "transparent": false,
          "year": 2018
         },
         {
          "color_name": "Dark Blue",
          "hex": "#0A3463",
          "quantity": 50,
          "transparent": false,
          "year": 2018
         },
         {
          "color_name": "Dark Bluish Gray",
          "hex": "#6C6E68",
          "quantity": 1366,
          "transparent": false,
          "year": 2018
         },
         {
          "color_name": "Dark Brown",
          "hex": "#352100",
          "quantity": 174,
          "transparent": false,
          "year": 2018
         },
         {
          "color_name": "Dark Green",
          "hex": "#184632",
          "quantity": 82,
          "transparent": false,
          "year": 2018
         },
         {
          "color_name": "Dark Orange",
          "hex": "#A95500",
          "quantity": 43,
          "transparent": false,
          "year": 2018
         },
         {
          "color_name": "Dark Pink",
          "hex": "#C870A0",
          "quantity": 9,
          "transparent": false,
          "year": 2018
         },
         {
          "color_name": "Dark Purple",
          "hex": "#3F3691",
          "quantity": 27,
          "transparent": false,
          "year": 2018
         },
         {
          "color_name": "Dark Red",
          "hex": "#720E0F",
          "quantity": 58,
          "transparent": false,
          "year": 2018
         },
         {
          "color_name": "Dark Tan",
          "hex": "#958A73",
          "quantity": 791,
          "transparent": false,
          "year": 2018
         },
         {
          "color_name": "Dark Turquoise",
          "hex": "#008F9B",
          "quantity": 3,
          "transparent": false,
          "year": 2018
         },
         {
          "color_name": "Flat Silver",
          "hex": "#898788",
          "quantity": 92,
          "transparent": false,
          "year": 2018
         },
         {
          "color_name": "Flesh",
          "hex": "#D09168",
          "quantity": 2,
          "transparent": false,
          "year": 2018
         },
         {
          "color_name": "Glitter Trans-Neon Green",
          "hex": "#C0F500",
          "quantity": 1,
          "transparent": true,
          "year": 2018
         },
         {
          "color_name": "Glitter Trans-Purple",
          "hex": "#A5A5CB",
          "quantity": 1,
          "transparent": true,
          "year": 2018
         },
         {
          "color_name": "Green",
          "hex": "#237841",
          "quantity": 141,
          "transparent": false,
          "year": 2018
         },
         {
          "color_name": "Lavender",
          "hex": "#E1D5ED",
          "quantity": 27,
          "transparent": false,
          "year": 2018
         },
         {
          "color_name": "Light Bluish Gray",
          "hex": "#A0A5A9",
          "quantity": 1137,
          "transparent": false,
          "year": 2018
         },
         {
          "color_name": "Light Flesh",
          "hex": "#F6D7B3",
          "quantity": 41,
          "transparent": false,
          "year": 2018
         },
         {
          "color_name": "Lime",
          "hex": "#BBE90B",
          "quantity": 40,
          "transparent": false,
          "year": 2018
         },
         {
          "color_name": "Magenta",
          "hex": "#923978",
          "quantity": 12,
          "transparent": false,
          "year": 2018
         },
         {
          "color_name": "Medium Azure",
          "hex": "#36AEBF",
          "quantity": 47,
          "transparent": false,
          "year": 2018
         },
         {
          "color_name": "Medium Blue",
          "hex": "#5A93DB",
          "quantity": 105,
          "transparent": false,
          "year": 2018
         },
         {
          "color_name": "Medium Dark Flesh",
          "hex": "#CC702A",
          "quantity": 123,
          "transparent": false,
          "year": 2018
         },
         {
          "color_name": "Medium Lavender",
          "hex": "#AC78BA",
          "quantity": 18,
          "transparent": false,
          "year": 2018
         },
         {
          "color_name": "Metallic Gold",
          "hex": "#DBAC34",
          "quantity": 2,
          "transparent": false,
          "year": 2018
         },
         {
          "color_name": "Olive Green",
          "hex": "#9B9A5A",
          "quantity": 156,
          "transparent": false,
          "year": 2018
         },
         {
          "color_name": "Orange",
          "hex": "#FE8A18",
          "quantity": 83,
          "transparent": false,
          "year": 2018
         },
         {
          "color_name": "Pearl Dark Gray",
          "hex": "#575857",
          "quantity": 28,
          "transparent": false,
          "year": 2018
         },
         {
          "color_name": "Pearl Gold",
          "hex": "#AA7F2E",
          "quantity": 184,
          "transparent": false,
          "year": 2018
         },
         {
          "color_name": "Red",
          "hex": "#C91A09",
          "quantity": 277,
          "transparent": true,
          "year": 2018
         },
         {
          "color_name": "Reddish Brown",
          "hex": "#582A12",
          "quantity": 975,
          "transparent": false,
          "year": 2018
         },
         {
          "color_name": "Sand Blue",
          "hex": "#6074A1",
          "quantity": 28,
          "transparent": false,
          "year": 2018
         },
         {
          "color_name": "Sand Green",
          "hex": "#A0BCAC",
          "quantity": 45,
          "transparent": false,
          "year": 2018
         },
         {
          "color_name": "Tan",
          "hex": "#E4CD9E",
          "quantity": 2474,
          "transparent": false,
          "year": 2018
         },
         {
          "color_name": "Trans-Black",
          "hex": "#635F52",
          "quantity": 53,
          "transparent": true,
          "year": 2018
         },
         {
          "color_name": "Trans-Bright Green",
          "hex": "#D9E4A7",
          "quantity": 6,
          "transparent": true,
          "year": 2018
         },
         {
          "color_name": "Trans-Clear",
          "hex": "#FCFCFC",
          "quantity": 240,
          "transparent": true,
          "year": 2018
         },
         {
          "color_name": "Trans-Dark Blue",
          "hex": "#0020A0",
          "quantity": 24,
          "transparent": true,
          "year": 2018
         },
         {
          "color_name": "Trans-Dark Pink",
          "hex": "#DF6695",
          "quantity": 8,
          "transparent": true,
          "year": 2018
         },
         {
          "color_name": "Trans-Green",
          "hex": "#84B68D",
          "quantity": 36,
          "transparent": true,
          "year": 2018
         },
         {
          "color_name": "Trans-Light Blue",
          "hex": "#AEEFEC",
          "quantity": 32,
          "transparent": true,
          "year": 2018
         },
         {
          "color_name": "Trans-Neon Green",
          "hex": "#F8F184",
          "quantity": 1,
          "transparent": true,
          "year": 2018
         },
         {
          "color_name": "Trans-Neon Orange",
          "hex": "#FF800D",
          "quantity": 1,
          "transparent": true,
          "year": 2018
         },
         {
          "color_name": "Trans-Orange",
          "hex": "#F08F1C",
          "quantity": 43,
          "transparent": true,
          "year": 2018
         },
         {
          "color_name": "Trans-Purple",
          "hex": "#A5A5CB",
          "quantity": 8,
          "transparent": true,
          "year": 2018
         },
         {
          "color_name": "Trans-Red",
          "hex": "#C91A09",
          "quantity": 55,
          "transparent": true,
          "year": 2018
         },
         {
          "color_name": "Trans-Yellow",
          "hex": "#F5CD2F",
          "quantity": 91,
          "transparent": true,
          "year": 2018
         },
         {
          "color_name": "White",
          "hex": "#FFFFFF",
          "quantity": 337,
          "transparent": false,
          "year": 2018
         },
         {
          "color_name": "Yellow",
          "hex": "#F2CD37",
          "quantity": 79,
          "transparent": false,
          "year": 2018
         },
         {
          "color_name": "[No Color/Any Color]",
          "hex": "#05131D",
          "quantity": 8,
          "transparent": false,
          "year": 2018
         }
        ]
       },
       "encoding": {
        "color": {
         "condition": {
          "field": "hex",
          "scale": null,
          "selection": "selector007",
          "type": "nominal"
         },
         "value": "lightgray"
        },
        "tooltip": [
         {
          "field": "color_name",
          "type": "nominal"
         },
         {
          "field": "quantity",
          "type": "quantitative"
         },
         {
          "field": "transparent",
          "type": "nominal"
         }
        ],
        "x": {
         "aggregate": "sum",
         "axis": {
          "format": "%",
          "title": "Percentage of total parts"
         },
         "field": "quantity",
         "stack": "normalize",
         "type": "quantitative"
        },
        "y": {
         "field": "year",
         "title": "Year",
         "type": "ordinal"
        }
       },
       "height": 500,
       "mark": "bar",
       "selection": {
        "selector007": {
         "encodings": [
          "color"
         ],
         "type": "multi"
        },
        "selector008": {
         "bind": "scales",
         "encodings": [
          "x",
          "y"
         ],
         "type": "interval"
        }
       },
       "width": 800
      },
      "image/png": "[encoded data removed]",
      "text/plain": [
       "<VegaLite 3 object>\n",
       "\n",
       "If you see this message, it means the renderer has not been properly enabled\n",
       "for the frontend that you are using. For more information, see\n",
       "https://altair-viz.github.io/user_guide/troubleshooting.html\n"
      ]
     },
     "execution_count": 35,
     "metadata": {},
     "output_type": "execute_result"
    }
   ],
   "source": [
    "click = alt.selection_multi(encodings=['color'])\n",
    "\n",
    "alt.Chart(colors_count_year).mark_bar().encode(\n",
    "    x=alt.X('sum(quantity)', stack=\"normalize\", axis=alt.Axis(format='%', title='Percentage of total parts')),\n",
    "    y=alt.Y(\"year:O\", title='Year'),\n",
    "    color=alt.condition(click, alt.Color(\"hex:N\", scale=None), alt.value('lightgray')),\n",
    "    tooltip=(['color_name', 'quantity', 'transparent:N'])\n",
    ").properties(\n",
    "    height=500,\n",
    "    width=800\n",
    ").add_selection(click).interactive()"
   ]
  },
  {
   "cell_type": "markdown",
   "metadata": {},
   "source": [
    "### Colour by theme"
   ]
  },
  {
   "cell_type": "code",
   "execution_count": 27,
   "metadata": {},
   "outputs": [
    {
     "data": {
      "application/vnd.vegalite.v3+json": {
       "$schema": "https://vega.github.io/schema/vega-lite/v3.2.1.json",
       "config": {
        "mark": {
         "tooltip": null
        },
        "view": {
         "height": 300,
         "width": 400
        }
       },
       "data": {
        "name": "data-ad38d3f9268f150aef307cf2b04696cb"
       },
       "datasets": {
        "data-ad38d3f9268f150aef307cf2b04696cb": [
         {
          "color_name": "Black",
          "hex": "#05131D",
          "quantity": 513,
          "theme_name": "Chamber of Secrets",
          "transparent": false
         },
         {
          "color_name": "Blue",
          "hex": "#0055BF",
          "quantity": 4,
          "theme_name": "Chamber of Secrets",
          "transparent": false
         },
         {
          "color_name": "Brown",
          "hex": "#583927",
          "quantity": 99,
          "theme_name": "Chamber of Secrets",
          "transparent": false
         },
         {
          "color_name": "Chrome Antique Brass",
          "hex": "#645A4C",
          "quantity": 3,
          "theme_name": "Chamber of Secrets",
          "transparent": false
         },
         {
          "color_name": "Chrome Gold",
          "hex": "#BBA53D",
          "quantity": 5,
          "theme_name": "Chamber of Secrets",
          "transparent": false
         },
         {
          "color_name": "Chrome Silver",
          "hex": "#E0E0E0",
          "quantity": 3,
          "theme_name": "Chamber of Secrets",
          "transparent": false
         },
         {
          "color_name": "Dark Blue",
          "hex": "#0A3463",
          "quantity": 12,
          "theme_name": "Chamber of Secrets",
          "transparent": false
         },
         {
          "color_name": "Dark Gray",
          "hex": "#6D6E5C",
          "quantity": 371,
          "theme_name": "Chamber of Secrets",
          "transparent": false
         },
         {
          "color_name": "Dark Orange",
          "hex": "#A95500",
          "quantity": 43,
          "theme_name": "Chamber of Secrets",
          "transparent": false
         },
         {
          "color_name": "Dark Red",
          "hex": "#720E0F",
          "quantity": 1,
          "theme_name": "Chamber of Secrets",
          "transparent": false
         },
         {
          "color_name": "Earth Orange",
          "hex": "#FA9C1C",
          "quantity": 6,
          "theme_name": "Chamber of Secrets",
          "transparent": false
         },
         {
          "color_name": "Glow In Dark Opaque",
          "hex": "#D4D5C9",
          "quantity": 3,
          "theme_name": "Chamber of Secrets",
          "transparent": false
         },
         {
          "color_name": "Green",
          "hex": "#237841",
          "quantity": 60,
          "theme_name": "Chamber of Secrets",
          "transparent": false
         },
         {
          "color_name": "Light Gray",
          "hex": "#9BA19D",
          "quantity": 496,
          "theme_name": "Chamber of Secrets",
          "transparent": false
         },
         {
          "color_name": "Medium Blue",
          "hex": "#5A93DB",
          "quantity": 53,
          "theme_name": "Chamber of Secrets",
          "transparent": false
         },
         {
          "color_name": "Purple",
          "hex": "#81007B",
          "quantity": 3,
          "theme_name": "Chamber of Secrets",
          "transparent": false
         },
         {
          "color_name": "Red",
          "hex": "#C91A09",
          "quantity": 23,
          "theme_name": "Chamber of Secrets",
          "transparent": true
         },
         {
          "color_name": "Sand Blue",
          "hex": "#6074A1",
          "quantity": 50,
          "theme_name": "Chamber of Secrets",
          "transparent": false
         },
         {
          "color_name": "Sand Green",
          "hex": "#A0BCAC",
          "quantity": 165,
          "theme_name": "Chamber of Secrets",
          "transparent": false
         },
         {
          "color_name": "Sand Red",
          "hex": "#D67572",
          "quantity": 3,
          "theme_name": "Chamber of Secrets",
          "transparent": false
         },
         {
          "color_name": "Tan",
          "hex": "#E4CD9E",
          "quantity": 210,
          "theme_name": "Chamber of Secrets",
          "transparent": false
         },
         {
          "color_name": "Trans-Clear",
          "hex": "#FCFCFC",
          "quantity": 12,
          "theme_name": "Chamber of Secrets",
          "transparent": true
         },
         {
          "color_name": "Trans-Dark Blue",
          "hex": "#0020A0",
          "quantity": 5,
          "theme_name": "Chamber of Secrets",
          "transparent": true
         },
         {
          "color_name": "Trans-Green",
          "hex": "#84B68D",
          "quantity": 14,
          "theme_name": "Chamber of Secrets",
          "transparent": true
         },
         {
          "color_name": "Trans-Light Blue",
          "hex": "#AEEFEC",
          "quantity": 3,
          "theme_name": "Chamber of Secrets",
          "transparent": true
         },
         {
          "color_name": "Trans-Neon Green",
          "hex": "#F8F184",
          "quantity": 6,
          "theme_name": "Chamber of Secrets",
          "transparent": true
         },
         {
          "color_name": "Trans-Neon Orange",
          "hex": "#FF800D",
          "quantity": 26,
          "theme_name": "Chamber of Secrets",
          "transparent": true
         },
         {
          "color_name": "Trans-Purple",
          "hex": "#A5A5CB",
          "quantity": 6,
          "theme_name": "Chamber of Secrets",
          "transparent": true
         },
         {
          "color_name": "Trans-Red",
          "hex": "#C91A09",
          "quantity": 20,
          "theme_name": "Chamber of Secrets",
          "transparent": true
         },
         {
          "color_name": "Trans-Yellow",
          "hex": "#F5CD2F",
          "quantity": 9,
          "theme_name": "Chamber of Secrets",
          "transparent": true
         },
         {
          "color_name": "White",
          "hex": "#FFFFFF",
          "quantity": 44,
          "theme_name": "Chamber of Secrets",
          "transparent": false
         },
         {
          "color_name": "Yellow",
          "hex": "#F2CD37",
          "quantity": 29,
          "theme_name": "Chamber of Secrets",
          "transparent": false
         },
         {
          "color_name": "[No Color/Any Color]",
          "hex": "#05131D",
          "quantity": 1,
          "theme_name": "Chamber of Secrets",
          "transparent": false
         },
         {
          "color_name": "Black",
          "hex": "#05131D",
          "quantity": 972,
          "theme_name": "Fantastic Beasts",
          "transparent": false
         },
         {
          "color_name": "Blue",
          "hex": "#0055BF",
          "quantity": 71,
          "theme_name": "Fantastic Beasts",
          "transparent": false
         },
         {
          "color_name": "Bright Green",
          "hex": "#4B9F4A",
          "quantity": 23,
          "theme_name": "Fantastic Beasts",
          "transparent": false
         },
         {
          "color_name": "Bright Light Orange",
          "hex": "#F8BB3D",
          "quantity": 34,
          "theme_name": "Fantastic Beasts",
          "transparent": false
         },
         {
          "color_name": "Bright Light Yellow",
          "hex": "#FFF03A",
          "quantity": 1,
          "theme_name": "Fantastic Beasts",
          "transparent": false
         },
         {
          "color_name": "Bright Pink",
          "hex": "#E4ADC8",
          "quantity": 16,
          "theme_name": "Fantastic Beasts",
          "transparent": false
         },
         {
          "color_name": "Chrome Silver",
          "hex": "#E0E0E0",
          "quantity": 4,
          "theme_name": "Fantastic Beasts",
          "transparent": false
         },
         {
          "color_name": "Dark Azure",
          "hex": "#078BC9",
          "quantity": 7,
          "theme_name": "Fantastic Beasts",
          "transparent": false
         },
         {
          "color_name": "Dark Blue",
          "hex": "#0A3463",
          "quantity": 50,
          "theme_name": "Fantastic Beasts",
          "transparent": false
         },
         {
          "color_name": "Dark Bluish Gray",
          "hex": "#6C6E68",
          "quantity": 1366,
          "theme_name": "Fantastic Beasts",
          "transparent": false
         },
         {
          "color_name": "Dark Brown",
          "hex": "#352100",
          "quantity": 174,
          "theme_name": "Fantastic Beasts",
          "transparent": false
         },
         {
          "color_name": "Dark Green",
          "hex": "#184632",
          "quantity": 82,
          "theme_name": "Fantastic Beasts",
          "transparent": false
         },
         {
          "color_name": "Dark Orange",
          "hex": "#A95500",
          "quantity": 43,
          "theme_name": "Fantastic Beasts",
          "transparent": false
         },
         {
          "color_name": "Dark Pink",
          "hex": "#C870A0",
          "quantity": 9,
          "theme_name": "Fantastic Beasts",
          "transparent": false
         },
         {
          "color_name": "Dark Purple",
          "hex": "#3F3691",
          "quantity": 27,
          "theme_name": "Fantastic Beasts",
          "transparent": false
         },
         {
          "color_name": "Dark Red",
          "hex": "#720E0F",
          "quantity": 58,
          "theme_name": "Fantastic Beasts",
          "transparent": false
         },
         {
          "color_name": "Dark Tan",
          "hex": "#958A73",
          "quantity": 791,
          "theme_name": "Fantastic Beasts",
          "transparent": false
         },
         {
          "color_name": "Dark Turquoise",
          "hex": "#008F9B",
          "quantity": 3,
          "theme_name": "Fantastic Beasts",
          "transparent": false
         },
         {
          "color_name": "Flat Silver",
          "hex": "#898788",
          "quantity": 92,
          "theme_name": "Fantastic Beasts",
          "transparent": false
         },
         {
          "color_name": "Flesh",
          "hex": "#D09168",
          "quantity": 2,
          "theme_name": "Fantastic Beasts",
          "transparent": false
         },
         {
          "color_name": "Glitter Trans-Neon Green",
          "hex": "#C0F500",
          "quantity": 1,
          "theme_name": "Fantastic Beasts",
          "transparent": true
         },
         {
          "color_name": "Glitter Trans-Purple",
          "hex": "#A5A5CB",
          "quantity": 1,
          "theme_name": "Fantastic Beasts",
          "transparent": true
         },
         {
          "color_name": "Green",
          "hex": "#237841",
          "quantity": 141,
          "theme_name": "Fantastic Beasts",
          "transparent": false
         },
         {
          "color_name": "Lavender",
          "hex": "#E1D5ED",
          "quantity": 27,
          "theme_name": "Fantastic Beasts",
          "transparent": false
         },
         {
          "color_name": "Light Bluish Gray",
          "hex": "#A0A5A9",
          "quantity": 1129,
          "theme_name": "Fantastic Beasts",
          "transparent": false
         },
         {
          "color_name": "Light Flesh",
          "hex": "#F6D7B3",
          "quantity": 41,
          "theme_name": "Fantastic Beasts",
          "transparent": false
         },
         {
          "color_name": "Lime",
          "hex": "#BBE90B",
          "quantity": 40,
          "theme_name": "Fantastic Beasts",
          "transparent": false
         },
         {
          "color_name": "Magenta",
          "hex": "#923978",
          "quantity": 12,
          "theme_name": "Fantastic Beasts",
          "transparent": false
         },
         {
          "color_name": "Medium Azure",
          "hex": "#36AEBF",
          "quantity": 47,
          "theme_name": "Fantastic Beasts",
          "transparent": false
         },
         {
          "color_name": "Medium Blue",
          "hex": "#5A93DB",
          "quantity": 91,
          "theme_name": "Fantastic Beasts",
          "transparent": false
         },
         {
          "color_name": "Medium Dark Flesh",
          "hex": "#CC702A",
          "quantity": 123,
          "theme_name": "Fantastic Beasts",
          "transparent": false
         },
         {
          "color_name": "Medium Lavender",
          "hex": "#AC78BA",
          "quantity": 18,
          "theme_name": "Fantastic Beasts",
          "transparent": false
         },
         {
          "color_name": "Metallic Gold",
          "hex": "#DBAC34",
          "quantity": 2,
          "theme_name": "Fantastic Beasts",
          "transparent": false
         },
         {
          "color_name": "Olive Green",
          "hex": "#9B9A5A",
          "quantity": 156,
          "theme_name": "Fantastic Beasts",
          "transparent": false
         },
         {
          "color_name": "Orange",
          "hex": "#FE8A18",
          "quantity": 83,
          "theme_name": "Fantastic Beasts",
          "transparent": false
         },
         {
          "color_name": "Pearl Dark Gray",
          "hex": "#575857",
          "quantity": 28,
          "theme_name": "Fantastic Beasts",
          "transparent": false
         },
         {
          "color_name": "Pearl Gold",
          "hex": "#AA7F2E",
          "quantity": 184,
          "theme_name": "Fantastic Beasts",
          "transparent": false
         },
         {
          "color_name": "Red",
          "hex": "#C91A09",
          "quantity": 277,
          "theme_name": "Fantastic Beasts",
          "transparent": true
         },
         {
          "color_name": "Reddish Brown",
          "hex": "#582A12",
          "quantity": 959,
          "theme_name": "Fantastic Beasts",
          "transparent": false
         },
         {
          "color_name": "Sand Blue",
          "hex": "#6074A1",
          "quantity": 28,
          "theme_name": "Fantastic Beasts",
          "transparent": false
         },
         {
          "color_name": "Sand Green",
          "hex": "#A0BCAC",
          "quantity": 45,
          "theme_name": "Fantastic Beasts",
          "transparent": false
         },
         {
          "color_name": "Tan",
          "hex": "#E4CD9E",
          "quantity": 2474,
          "theme_name": "Fantastic Beasts",
          "transparent": false
         },
         {
          "color_name": "Trans-Black",
          "hex": "#635F52",
          "quantity": 53,
          "theme_name": "Fantastic Beasts",
          "transparent": true
         },
         {
          "color_name": "Trans-Bright Green",
          "hex": "#D9E4A7",
          "quantity": 6,
          "theme_name": "Fantastic Beasts",
          "transparent": true
         },
         {
          "color_name": "Trans-Clear",
          "hex": "#FCFCFC",
          "quantity": 234,
          "theme_name": "Fantastic Beasts",
          "transparent": true
         },
         {
          "color_name": "Trans-Dark Blue",
          "hex": "#0020A0",
          "quantity": 24,
          "theme_name": "Fantastic Beasts",
          "transparent": true
         },
         {
          "color_name": "Trans-Dark Pink",
          "hex": "#DF6695",
          "quantity": 8,
          "theme_name": "Fantastic Beasts",
          "transparent": true
         },
         {
          "color_name": "Trans-Green",
          "hex": "#84B68D",
          "quantity": 36,
          "theme_name": "Fantastic Beasts",
          "transparent": true
         },
         {
          "color_name": "Trans-Light Blue",
          "hex": "#AEEFEC",
          "quantity": 32,
          "theme_name": "Fantastic Beasts",
          "transparent": true
         },
         {
          "color_name": "Trans-Neon Green",
          "hex": "#F8F184",
          "quantity": 1,
          "theme_name": "Fantastic Beasts",
          "transparent": true
         },
         {
          "color_name": "Trans-Neon Orange",
          "hex": "#FF800D",
          "quantity": 1,
          "theme_name": "Fantastic Beasts",
          "transparent": true
         },
         {
          "color_name": "Trans-Orange",
          "hex": "#F08F1C",
          "quantity": 43,
          "theme_name": "Fantastic Beasts",
          "transparent": true
         },
         {
          "color_name": "Trans-Purple",
          "hex": "#A5A5CB",
          "quantity": 8,
          "theme_name": "Fantastic Beasts",
          "transparent": true
         },
         {
          "color_name": "Trans-Red",
          "hex": "#C91A09",
          "quantity": 53,
          "theme_name": "Fantastic Beasts",
          "transparent": true
         },
         {
          "color_name": "Trans-Yellow",
          "hex": "#F5CD2F",
          "quantity": 91,
          "theme_name": "Fantastic Beasts",
          "transparent": true
         },
         {
          "color_name": "White",
          "hex": "#FFFFFF",
          "quantity": 336,
          "theme_name": "Fantastic Beasts",
          "transparent": false
         },
         {
          "color_name": "Yellow",
          "hex": "#F2CD37",
          "quantity": 79,
          "theme_name": "Fantastic Beasts",
          "transparent": false
         },
         {
          "color_name": "[No Color/Any Color]",
          "hex": "#05131D",
          "quantity": 8,
          "theme_name": "Fantastic Beasts",
          "transparent": false
         },
         {
          "color_name": "Black",
          "hex": "#05131D",
          "quantity": 438,
          "theme_name": "Goblet of Fire",
          "transparent": false
         },
         {
          "color_name": "Blue",
          "hex": "#0055BF",
          "quantity": 40,
          "theme_name": "Goblet of Fire",
          "transparent": false
         },
         {
          "color_name": "Bright Light Orange",
          "hex": "#F8BB3D",
          "quantity": 1,
          "theme_name": "Goblet of Fire",
          "transparent": false
         },
         {
          "color_name": "Chrome Antique Brass",
          "hex": "#645A4C",
          "quantity": 5,
          "theme_name": "Goblet of Fire",
          "transparent": false
         },
         {
          "color_name": "Chrome Gold",
          "hex": "#BBA53D",
          "quantity": 13,
          "theme_name": "Goblet of Fire",
          "transparent": false
         },
         {
          "color_name": "Chrome Silver",
          "hex": "#E0E0E0",
          "quantity": 4,
          "theme_name": "Goblet of Fire",
          "transparent": false
         },
         {
          "color_name": "Copper",
          "hex": "#AE7A59",
          "quantity": 6,
          "theme_name": "Goblet of Fire",
          "transparent": false
         },
         {
          "color_name": "Dark Blue",
          "hex": "#0A3463",
          "quantity": 16,
          "theme_name": "Goblet of Fire",
          "transparent": false
         },
         {
          "color_name": "Dark Bluish Gray",
          "hex": "#6C6E68",
          "quantity": 333,
          "theme_name": "Goblet of Fire",
          "transparent": false
         },
         {
          "color_name": "Dark Green",
          "hex": "#184632",
          "quantity": 10,
          "theme_name": "Goblet of Fire",
          "transparent": false
         },
         {
          "color_name": "Dark Orange",
          "hex": "#A95500",
          "quantity": 64,
          "theme_name": "Goblet of Fire",
          "transparent": false
         },
         {
          "color_name": "Dark Red",
          "hex": "#720E0F",
          "quantity": 173,
          "theme_name": "Goblet of Fire",
          "transparent": false
         },
         {
          "color_name": "Dark Tan",
          "hex": "#958A73",
          "quantity": 2,
          "theme_name": "Goblet of Fire",
          "transparent": false
         },
         {
          "color_name": "Glow In Dark Opaque",
          "hex": "#D4D5C9",
          "quantity": 1,
          "theme_name": "Goblet of Fire",
          "transparent": false
         },
         {
          "color_name": "Green",
          "hex": "#237841",
          "quantity": 21,
          "theme_name": "Goblet of Fire",
          "transparent": false
         },
         {
          "color_name": "Light Bluish Gray",
          "hex": "#A0A5A9",
          "quantity": 192,
          "theme_name": "Goblet of Fire",
          "transparent": false
         },
         {
          "color_name": "Light Flesh",
          "hex": "#F6D7B3",
          "quantity": 20,
          "theme_name": "Goblet of Fire",
          "transparent": false
         },
         {
          "color_name": "Medium Blue",
          "hex": "#5A93DB",
          "quantity": 185,
          "theme_name": "Goblet of Fire",
          "transparent": false
         },
         {
          "color_name": "Orange",
          "hex": "#FE8A18",
          "quantity": 2,
          "theme_name": "Goblet of Fire",
          "transparent": false
         },
         {
          "color_name": "Pearl Gold",
          "hex": "#AA7F2E",
          "quantity": 1,
          "theme_name": "Goblet of Fire",
          "transparent": false
         },
         {
          "color_name": "Pearl Light Gray",
          "hex": "#9CA3A8",
          "quantity": 2,
          "theme_name": "Goblet of Fire",
          "transparent": false
         },
         {
          "color_name": "Red",
          "hex": "#C91A09",
          "quantity": 16,
          "theme_name": "Goblet of Fire",
          "transparent": true
         },
         {
          "color_name": "Reddish Brown",
          "hex": "#582A12",
          "quantity": 104,
          "theme_name": "Goblet of Fire",
          "transparent": false
         },
         {
          "color_name": "Sand Blue",
          "hex": "#6074A1",
          "quantity": 5,
          "theme_name": "Goblet of Fire",
          "transparent": false
         },
         {
          "color_name": "Sand Green",
          "hex": "#A0BCAC",
          "quantity": 14,
          "theme_name": "Goblet of Fire",
          "transparent": false
         },
         {
          "color_name": "Tan",
          "hex": "#E4CD9E",
          "quantity": 341,
          "theme_name": "Goblet of Fire",
          "transparent": false
         },
         {
          "color_name": "Trans-Clear",
          "hex": "#FCFCFC",
          "quantity": 21,
          "theme_name": "Goblet of Fire",
          "transparent": true
         },
         {
          "color_name": "Trans-Dark Blue",
          "hex": "#0020A0",
          "quantity": 10,
          "theme_name": "Goblet of Fire",
          "transparent": true
         },
         {
          "color_name": "Trans-Green",
          "hex": "#84B68D",
          "quantity": 11,
          "theme_name": "Goblet of Fire",
          "transparent": true
         },
         {
          "color_name": "Trans-Light Blue",
          "hex": "#AEEFEC",
          "quantity": 3,
          "theme_name": "Goblet of Fire",
          "transparent": true
         },
         {
          "color_name": "Trans-Neon Orange",
          "hex": "#FF800D",
          "quantity": 18,
          "theme_name": "Goblet of Fire",
          "transparent": true
         },
         {
          "color_name": "Trans-Orange",
          "hex": "#F08F1C",
          "quantity": 4,
          "theme_name": "Goblet of Fire",
          "transparent": true
         },
         {
          "color_name": "Trans-Red",
          "hex": "#C91A09",
          "quantity": 3,
          "theme_name": "Goblet of Fire",
          "transparent": true
         },
         {
          "color_name": "Trans-Yellow",
          "hex": "#F5CD2F",
          "quantity": 3,
          "theme_name": "Goblet of Fire",
          "transparent": true
         },
         {
          "color_name": "White",
          "hex": "#FFFFFF",
          "quantity": 57,
          "theme_name": "Goblet of Fire",
          "transparent": false
         },
         {
          "color_name": "Yellow",
          "hex": "#F2CD37",
          "quantity": 10,
          "theme_name": "Goblet of Fire",
          "transparent": false
         },
         {
          "color_name": "[No Color/Any Color]",
          "hex": "#05131D",
          "quantity": 1,
          "theme_name": "Goblet of Fire",
          "transparent": false
         },
         {
          "color_name": "Black",
          "hex": "#05131D",
          "quantity": 1125,
          "theme_name": "Harry Potter",
          "transparent": false
         },
         {
          "color_name": "Blue",
          "hex": "#0055BF",
          "quantity": 48,
          "theme_name": "Harry Potter",
          "transparent": false
         },
         {
          "color_name": "Bright Green",
          "hex": "#4B9F4A",
          "quantity": 3,
          "theme_name": "Harry Potter",
          "transparent": false
         },
         {
          "color_name": "Bright Light Orange",
          "hex": "#F8BB3D",
          "quantity": 3,
          "theme_name": "Harry Potter",
          "transparent": false
         },
         {
          "color_name": "Bright Light Yellow",
          "hex": "#FFF03A",
          "quantity": 1,
          "theme_name": "Harry Potter",
          "transparent": false
         },
         {
          "color_name": "Bright Pink",
          "hex": "#E4ADC8",
          "quantity": 4,
          "theme_name": "Harry Potter",
          "transparent": false
         },
         {
          "color_name": "Brown",
          "hex": "#583927",
          "quantity": 4,
          "theme_name": "Harry Potter",
          "transparent": false
         },
         {
          "color_name": "Chrome Antique Brass",
          "hex": "#645A4C",
          "quantity": 2,
          "theme_name": "Harry Potter",
          "transparent": false
         },
         {
          "color_name": "Chrome Gold",
          "hex": "#BBA53D",
          "quantity": 4,
          "theme_name": "Harry Potter",
          "transparent": false
         },
         {
          "color_name": "Chrome Silver",
          "hex": "#E0E0E0",
          "quantity": 11,
          "theme_name": "Harry Potter",
          "transparent": false
         },
         {
          "color_name": "Dark Blue",
          "hex": "#0A3463",
          "quantity": 55,
          "theme_name": "Harry Potter",
          "transparent": false
         },
         {
          "color_name": "Dark Bluish Gray",
          "hex": "#6C6E68",
          "quantity": 642,
          "theme_name": "Harry Potter",
          "transparent": false
         },
         {
          "color_name": "Dark Brown",
          "hex": "#352100",
          "quantity": 64,
          "theme_name": "Harry Potter",
          "transparent": false
         },
         {
          "color_name": "Dark Gray",
          "hex": "#6D6E5C",
          "quantity": 3,
          "theme_name": "Harry Potter",
          "transparent": false
         },
         {
          "color_name": "Dark Green",
          "hex": "#184632",
          "quantity": 80,
          "theme_name": "Harry Potter",
          "transparent": false
         },
         {
          "color_name": "Dark Orange",
          "hex": "#A95500",
          "quantity": 24,
          "theme_name": "Harry Potter",
          "transparent": false
         },
         {
          "color_name": "Dark Pink",
          "hex": "#C870A0",
          "quantity": 1,
          "theme_name": "Harry Potter",
          "transparent": false
         },
         {
          "color_name": "Dark Purple",
          "hex": "#3F3691",
          "quantity": 123,
          "theme_name": "Harry Potter",
          "transparent": false
         },
         {
          "color_name": "Dark Red",
          "hex": "#720E0F",
          "quantity": 165,
          "theme_name": "Harry Potter",
          "transparent": false
         },
         {
          "color_name": "Dark Tan",
          "hex": "#958A73",
          "quantity": 140,
          "theme_name": "Harry Potter",
          "transparent": false
         },
         {
          "color_name": "Earth Orange",
          "hex": "#FA9C1C",
          "quantity": 3,
          "theme_name": "Harry Potter",
          "transparent": false
         },
         {
          "color_name": "Flat Silver",
          "hex": "#898788",
          "quantity": 1,
          "theme_name": "Harry Potter",
          "transparent": false
         },
         {
          "color_name": "Flesh",
          "hex": "#D09168",
          "quantity": 1,
          "theme_name": "Harry Potter",
          "transparent": false
         },
         {
          "color_name": "Glow In Dark Opaque",
          "hex": "#D4D5C9",
          "quantity": 1,
          "theme_name": "Harry Potter",
          "transparent": false
         },
         {
          "color_name": "Glow In Dark Trans",
          "hex": "#BDC6AD",
          "quantity": 25,
          "theme_name": "Harry Potter",
          "transparent": true
         },
         {
          "color_name": "Green",
          "hex": "#237841",
          "quantity": 44,
          "theme_name": "Harry Potter",
          "transparent": false
         },
         {
          "color_name": "Light Bluish Gray",
          "hex": "#A0A5A9",
          "quantity": 389,
          "theme_name": "Harry Potter",
          "transparent": false
         },
         {
          "color_name": "Light Flesh",
          "hex": "#F6D7B3",
          "quantity": 55,
          "theme_name": "Harry Potter",
          "transparent": false
         },
         {
          "color_name": "Light Gray",
          "hex": "#9BA19D",
          "quantity": 29,
          "theme_name": "Harry Potter",
          "transparent": false
         },
         {
          "color_name": "Lime",
          "hex": "#BBE90B",
          "quantity": 17,
          "theme_name": "Harry Potter",
          "transparent": false
         },
         {
          "color_name": "Medium Blue",
          "hex": "#5A93DB",
          "quantity": 124,
          "theme_name": "Harry Potter",
          "transparent": false
         },
         {
          "color_name": "Medium Dark Flesh",
          "hex": "#CC702A",
          "quantity": 95,
          "theme_name": "Harry Potter",
          "transparent": false
         },
         {
          "color_name": "Metallic Gold",
          "hex": "#DBAC34",
          "quantity": 1,
          "theme_name": "Harry Potter",
          "transparent": false
         },
         {
          "color_name": "Metallic Silver",
          "hex": "#A5A9B4",
          "quantity": 26,
          "theme_name": "Harry Potter",
          "transparent": false
         },
         {
          "color_name": "Orange",
          "hex": "#FE8A18",
          "quantity": 18,
          "theme_name": "Harry Potter",
          "transparent": false
         },
         {
          "color_name": "Pearl Dark Gray",
          "hex": "#575857",
          "quantity": 1,
          "theme_name": "Harry Potter",
          "transparent": false
         },
         {
          "color_name": "Pearl Gold",
          "hex": "#AA7F2E",
          "quantity": 221,
          "theme_name": "Harry Potter",
          "transparent": false
         },
         {
          "color_name": "Pearl Light Gray",
          "hex": "#9CA3A8",
          "quantity": 7,
          "theme_name": "Harry Potter",
          "transparent": false
         },
         {
          "color_name": "Purple",
          "hex": "#81007B",
          "quantity": 3,
          "theme_name": "Harry Potter",
          "transparent": false
         },
         {
          "color_name": "Red",
          "hex": "#C91A09",
          "quantity": 259,
          "theme_name": "Harry Potter",
          "transparent": true
         },
         {
          "color_name": "Reddish Brown",
          "hex": "#582A12",
          "quantity": 753,
          "theme_name": "Harry Potter",
          "transparent": false
         },
         {
          "color_name": "Sand Blue",
          "hex": "#6074A1",
          "quantity": 2,
          "theme_name": "Harry Potter",
          "transparent": false
         },
         {
          "color_name": "Sand Green",
          "hex": "#A0BCAC",
          "quantity": 209,
          "theme_name": "Harry Potter",
          "transparent": false
         },
         {
          "color_name": "Speckle Black-Silver",
          "hex": "#05131D",
          "quantity": 1,
          "theme_name": "Harry Potter",
          "transparent": false
         },
         {
          "color_name": "Tan",
          "hex": "#E4CD9E",
          "quantity": 869,
          "theme_name": "Harry Potter",
          "transparent": false
         },
         {
          "color_name": "Trans-Black",
          "hex": "#635F52",
          "quantity": 4,
          "theme_name": "Harry Potter",
          "transparent": true
         },
         {
          "color_name": "Trans-Clear",
          "hex": "#FCFCFC",
          "quantity": 148,
          "theme_name": "Harry Potter",
          "transparent": true
         },
         {
          "color_name": "Trans-Dark Blue",
          "hex": "#0020A0",
          "quantity": 23,
          "theme_name": "Harry Potter",
          "transparent": true
         },
         {
          "color_name": "Trans-Dark Pink",
          "hex": "#DF6695",
          "quantity": 1,
          "theme_name": "Harry Potter",
          "transparent": true
         },
         {
          "color_name": "Trans-Green",
          "hex": "#84B68D",
          "quantity": 6,
          "theme_name": "Harry Potter",
          "transparent": true
         },
         {
          "color_name": "Trans-Light Blue",
          "hex": "#AEEFEC",
          "quantity": 5,
          "theme_name": "Harry Potter",
          "transparent": true
         },
         {
          "color_name": "Trans-Neon Green",
          "hex": "#F8F184",
          "quantity": 2,
          "theme_name": "Harry Potter",
          "transparent": true
         },
         {
          "color_name": "Trans-Neon Orange",
          "hex": "#FF800D",
          "quantity": 43,
          "theme_name": "Harry Potter",
          "transparent": true
         },
         {
          "color_name": "Trans-Orange",
          "hex": "#F08F1C",
          "quantity": 22,
          "theme_name": "Harry Potter",
          "transparent": true
         },
         {
          "color_name": "Trans-Red",
          "hex": "#C91A09",
          "quantity": 21,
          "theme_name": "Harry Potter",
          "transparent": true
         },
         {
          "color_name": "Trans-Yellow",
          "hex": "#F5CD2F",
          "quantity": 30,
          "theme_name": "Harry Potter",
          "transparent": true
         },
         {
          "color_name": "White",
          "hex": "#FFFFFF",
          "quantity": 475,
          "theme_name": "Harry Potter",
          "transparent": false
         },
         {
          "color_name": "Yellow",
          "hex": "#F2CD37",
          "quantity": 36,
          "theme_name": "Harry Potter",
          "transparent": false
         },
         {
          "color_name": "[No Color/Any Color]",
          "hex": "#05131D",
          "quantity": 3,
          "theme_name": "Harry Potter",
          "transparent": false
         },
         {
          "color_name": "Black",
          "hex": "#05131D",
          "quantity": 266,
          "theme_name": "Order of the Phoenix",
          "transparent": false
         },
         {
          "color_name": "Blue",
          "hex": "#0055BF",
          "quantity": 10,
          "theme_name": "Order of the Phoenix",
          "transparent": false
         },
         {
          "color_name": "Bright Pink",
          "hex": "#E4ADC8",
          "quantity": 2,
          "theme_name": "Order of the Phoenix",
          "transparent": false
         },
         {
          "color_name": "Dark Bluish Gray",
          "hex": "#6C6E68",
          "quantity": 306,
          "theme_name": "Order of the Phoenix",
          "transparent": false
         },
         {
          "color_name": "Dark Orange",
          "hex": "#A95500",
          "quantity": 2,
          "theme_name": "Order of the Phoenix",
          "transparent": false
         },
         {
          "color_name": "Dark Pink",
          "hex": "#C870A0",
          "quantity": 7,
          "theme_name": "Order of the Phoenix",
          "transparent": false
         },
         {
          "color_name": "Dark Purple",
          "hex": "#3F3691",
          "quantity": 2,
          "theme_name": "Order of the Phoenix",
          "transparent": false
         },
         {
          "color_name": "Green",
          "hex": "#237841",
          "quantity": 22,
          "theme_name": "Order of the Phoenix",
          "transparent": false
         },
         {
          "color_name": "Light Bluish Gray",
          "hex": "#A0A5A9",
          "quantity": 534,
          "theme_name": "Order of the Phoenix",
          "transparent": false
         },
         {
          "color_name": "Light Flesh",
          "hex": "#F6D7B3",
          "quantity": 16,
          "theme_name": "Order of the Phoenix",
          "transparent": false
         },
         {
          "color_name": "Light Purple",
          "hex": "#CD6298",
          "quantity": 3,
          "theme_name": "Order of the Phoenix",
          "transparent": false
         },
         {
          "color_name": "Metallic Gold",
          "hex": "#DBAC34",
          "quantity": 2,
          "theme_name": "Order of the Phoenix",
          "transparent": false
         },
         {
          "color_name": "Pearl Gold",
          "hex": "#AA7F2E",
          "quantity": 10,
          "theme_name": "Order of the Phoenix",
          "transparent": false
         },
         {
          "color_name": "Pearl Light Gray",
          "hex": "#9CA3A8",
          "quantity": 4,
          "theme_name": "Order of the Phoenix",
          "transparent": false
         },
         {
          "color_name": "Red",
          "hex": "#C91A09",
          "quantity": 24,
          "theme_name": "Order of the Phoenix",
          "transparent": true
         },
         {
          "color_name": "Reddish Brown",
          "hex": "#582A12",
          "quantity": 180,
          "theme_name": "Order of the Phoenix",
          "transparent": false
         },
         {
          "color_name": "Sand Blue",
          "hex": "#6074A1",
          "quantity": 4,
          "theme_name": "Order of the Phoenix",
          "transparent": false
         },
         {
          "color_name": "Sand Green",
          "hex": "#A0BCAC",
          "quantity": 70,
          "theme_name": "Order of the Phoenix",
          "transparent": false
         },
         {
          "color_name": "Speckle Black-Silver",
          "hex": "#05131D",
          "quantity": 4,
          "theme_name": "Order of the Phoenix",
          "transparent": false
         },
         {
          "color_name": "Tan",
          "hex": "#E4CD9E",
          "quantity": 285,
          "theme_name": "Order of the Phoenix",
          "transparent": false
         },
         {
          "color_name": "Trans-Clear",
          "hex": "#FCFCFC",
          "quantity": 51,
          "theme_name": "Order of the Phoenix",
          "transparent": true
         },
         {
          "color_name": "Trans-Dark Blue",
          "hex": "#0020A0",
          "quantity": 10,
          "theme_name": "Order of the Phoenix",
          "transparent": true
         },
         {
          "color_name": "Trans-Dark Pink",
          "hex": "#DF6695",
          "quantity": 2,
          "theme_name": "Order of the Phoenix",
          "transparent": true
         },
         {
          "color_name": "Trans-Green",
          "hex": "#84B68D",
          "quantity": 2,
          "theme_name": "Order of the Phoenix",
          "transparent": true
         },
         {
          "color_name": "Trans-Light Blue",
          "hex": "#AEEFEC",
          "quantity": 4,
          "theme_name": "Order of the Phoenix",
          "transparent": true
         },
         {
          "color_name": "Trans-Neon Orange",
          "hex": "#FF800D",
          "quantity": 22,
          "theme_name": "Order of the Phoenix",
          "transparent": true
         },
         {
          "color_name": "Trans-Orange",
          "hex": "#F08F1C",
          "quantity": 16,
          "theme_name": "Order of the Phoenix",
          "transparent": true
         },
         {
          "color_name": "Trans-Red",
          "hex": "#C91A09",
          "quantity": 2,
          "theme_name": "Order of the Phoenix",
          "transparent": true
         },
         {
          "color_name": "Trans-Yellow",
          "hex": "#F5CD2F",
          "quantity": 2,
          "theme_name": "Order of the Phoenix",
          "transparent": true
         },
         {
          "color_name": "White",
          "hex": "#FFFFFF",
          "quantity": 26,
          "theme_name": "Order of the Phoenix",
          "transparent": false
         },
         {
          "color_name": "Black",
          "hex": "#05131D",
          "quantity": 572,
          "theme_name": "Philosopher's Stone",
          "transparent": false
         },
         {
          "color_name": "Blue",
          "hex": "#0055BF",
          "quantity": 8,
          "theme_name": "Philosopher's Stone",
          "transparent": false
         },
         {
          "color_name": "Brown",
          "hex": "#583927",
          "quantity": 163,
          "theme_name": "Philosopher's Stone",
          "transparent": false
         },
         {
          "color_name": "Chrome Antique Brass",
          "hex": "#645A4C",
          "quantity": 10,
          "theme_name": "Philosopher's Stone",
          "transparent": false
         },
         {
          "color_name": "Chrome Gold",
          "hex": "#BBA53D",
          "quantity": 17,
          "theme_name": "Philosopher's Stone",
          "transparent": false
         },
         {
          "color_name": "Chrome Silver",
          "hex": "#E0E0E0",
          "quantity": 3,
          "theme_name": "Philosopher's Stone",
          "transparent": false
         },
         {
          "color_name": "Dark Gray",
          "hex": "#6D6E5C",
          "quantity": 387,
          "theme_name": "Philosopher's Stone",
          "transparent": false
         },
         {
          "color_name": "Dark Orange",
          "hex": "#A95500",
          "quantity": 2,
          "theme_name": "Philosopher's Stone",
          "transparent": false
         },
         {
          "color_name": "Dark Pink",
          "hex": "#C870A0",
          "quantity": 32,
          "theme_name": "Philosopher's Stone",
          "transparent": false
         },
         {
          "color_name": "Dark Red",
          "hex": "#720E0F",
          "quantity": 1,
          "theme_name": "Philosopher's Stone",
          "transparent": false
         },
         {
          "color_name": "Dark Turquoise",
          "hex": "#008F9B",
          "quantity": 6,
          "theme_name": "Philosopher's Stone",
          "transparent": false
         },
         {
          "color_name": "Earth Orange",
          "hex": "#FA9C1C",
          "quantity": 7,
          "theme_name": "Philosopher's Stone",
          "transparent": false
         },
         {
          "color_name": "Glow In Dark Opaque",
          "hex": "#D4D5C9",
          "quantity": 2,
          "theme_name": "Philosopher's Stone",
          "transparent": false
         },
         {
          "color_name": "Green",
          "hex": "#237841",
          "quantity": 59,
          "theme_name": "Philosopher's Stone",
          "transparent": false
         },
         {
          "color_name": "Light Gray",
          "hex": "#9BA19D",
          "quantity": 545,
          "theme_name": "Philosopher's Stone",
          "transparent": false
         },
         {
          "color_name": "Light Green",
          "hex": "#C2DAB8",
          "quantity": 1,
          "theme_name": "Philosopher's Stone",
          "transparent": false
         },
         {
          "color_name": "Light Turquoise",
          "hex": "#55A5AF",
          "quantity": 2,
          "theme_name": "Philosopher's Stone",
          "transparent": false
         },
         {
          "color_name": "Light Violet",
          "hex": "#C9CAE2",
          "quantity": 5,
          "theme_name": "Philosopher's Stone",
          "transparent": false
         },
         {
          "color_name": "Medium Blue",
          "hex": "#5A93DB",
          "quantity": 2,
          "theme_name": "Philosopher's Stone",
          "transparent": false
         },
         {
          "color_name": "Medium Orange",
          "hex": "#FFA70B",
          "quantity": 14,
          "theme_name": "Philosopher's Stone",
          "transparent": false
         },
         {
          "color_name": "Orange",
          "hex": "#FE8A18",
          "quantity": 39,
          "theme_name": "Philosopher's Stone",
          "transparent": false
         },
         {
          "color_name": "Purple",
          "hex": "#81007B",
          "quantity": 15,
          "theme_name": "Philosopher's Stone",
          "transparent": false
         },
         {
          "color_name": "Red",
          "hex": "#C91A09",
          "quantity": 112,
          "theme_name": "Philosopher's Stone",
          "transparent": true
         },
         {
          "color_name": "Royal Blue",
          "hex": "#4C61DB",
          "quantity": 3,
          "theme_name": "Philosopher's Stone",
          "transparent": false
         },
         {
          "color_name": "Sand Green",
          "hex": "#A0BCAC",
          "quantity": 53,
          "theme_name": "Philosopher's Stone",
          "transparent": false
         },
         {
          "color_name": "Tan",
          "hex": "#E4CD9E",
          "quantity": 344,
          "theme_name": "Philosopher's Stone",
          "transparent": false
         },
         {
          "color_name": "Trans-Clear",
          "hex": "#FCFCFC",
          "quantity": 25,
          "theme_name": "Philosopher's Stone",
          "transparent": true
         },
         {
          "color_name": "Trans-Dark Blue",
          "hex": "#0020A0",
          "quantity": 11,
          "theme_name": "Philosopher's Stone",
          "transparent": true
         },
         {
          "color_name": "Trans-Dark Pink",
          "hex": "#DF6695",
          "quantity": 13,
          "theme_name": "Philosopher's Stone",
          "transparent": true
         },
         {
          "color_name": "Trans-Green",
          "hex": "#84B68D",
          "quantity": 6,
          "theme_name": "Philosopher's Stone",
          "transparent": true
         },
         {
          "color_name": "Trans-Light Blue",
          "hex": "#AEEFEC",
          "quantity": 7,
          "theme_name": "Philosopher's Stone",
          "transparent": true
         },
         {
          "color_name": "Trans-Neon Green",
          "hex": "#F8F184",
          "quantity": 13,
          "theme_name": "Philosopher's Stone",
          "transparent": true
         },
         {
          "color_name": "Trans-Neon Orange",
          "hex": "#FF800D",
          "quantity": 65,
          "theme_name": "Philosopher's Stone",
          "transparent": true
         },
         {
          "color_name": "Trans-Purple",
          "hex": "#A5A5CB",
          "quantity": 4,
          "theme_name": "Philosopher's Stone",
          "transparent": true
         },
         {
          "color_name": "Trans-Red",
          "hex": "#C91A09",
          "quantity": 8,
          "theme_name": "Philosopher's Stone",
          "transparent": true
         },
         {
          "color_name": "Trans-Yellow",
          "hex": "#F5CD2F",
          "quantity": 1,
          "theme_name": "Philosopher's Stone",
          "transparent": true
         },
         {
          "color_name": "Violet",
          "hex": "#4354A3",
          "quantity": 5,
          "theme_name": "Philosopher's Stone",
          "transparent": false
         },
         {
          "color_name": "White",
          "hex": "#FFFFFF",
          "quantity": 104,
          "theme_name": "Philosopher's Stone",
          "transparent": false
         },
         {
          "color_name": "Yellow",
          "hex": "#F2CD37",
          "quantity": 61,
          "theme_name": "Philosopher's Stone",
          "transparent": false
         },
         {
          "color_name": "[No Color/Any Color]",
          "hex": "#05131D",
          "quantity": 5,
          "theme_name": "Philosopher's Stone",
          "transparent": false
         },
         {
          "color_name": "Black",
          "hex": "#05131D",
          "quantity": 752,
          "theme_name": "Prisoner of Azkaban",
          "transparent": false
         },
         {
          "color_name": "Blue",
          "hex": "#0055BF",
          "quantity": 40,
          "theme_name": "Prisoner of Azkaban",
          "transparent": false
         },
         {
          "color_name": "Bright Green",
          "hex": "#4B9F4A",
          "quantity": 1,
          "theme_name": "Prisoner of Azkaban",
          "transparent": false
         },
         {
          "color_name": "Chrome Antique Brass",
          "hex": "#645A4C",
          "quantity": 4,
          "theme_name": "Prisoner of Azkaban",
          "transparent": false
         },
         {
          "color_name": "Chrome Gold",
          "hex": "#BBA53D",
          "quantity": 4,
          "theme_name": "Prisoner of Azkaban",
          "transparent": false
         },
         {
          "color_name": "Dark Blue",
          "hex": "#0A3463",
          "quantity": 3,
          "theme_name": "Prisoner of Azkaban",
          "transparent": false
         },
         {
          "color_name": "Dark Bluish Gray",
          "hex": "#6C6E68",
          "quantity": 591,
          "theme_name": "Prisoner of Azkaban",
          "transparent": false
         },
         {
          "color_name": "Dark Green",
          "hex": "#184632",
          "quantity": 8,
          "theme_name": "Prisoner of Azkaban",
          "transparent": false
         },
         {
          "color_name": "Dark Orange",
          "hex": "#A95500",
          "quantity": 42,
          "theme_name": "Prisoner of Azkaban",
          "transparent": false
         },
         {
          "color_name": "Dark Purple",
          "hex": "#3F3691",
          "quantity": 154,
          "theme_name": "Prisoner of Azkaban",
          "transparent": false
         },
         {
          "color_name": "Dark Red",
          "hex": "#720E0F",
          "quantity": 49,
          "theme_name": "Prisoner of Azkaban",
          "transparent": false
         },
         {
          "color_name": "Dark Tan",
          "hex": "#958A73",
          "quantity": 1,
          "theme_name": "Prisoner of Azkaban",
          "transparent": false
         },
         {
          "color_name": "Earth Orange",
          "hex": "#FA9C1C",
          "quantity": 5,
          "theme_name": "Prisoner of Azkaban",
          "transparent": false
         },
         {
          "color_name": "Glow In Dark Opaque",
          "hex": "#D4D5C9",
          "quantity": 2,
          "theme_name": "Prisoner of Azkaban",
          "transparent": false
         },
         {
          "color_name": "Green",
          "hex": "#237841",
          "quantity": 17,
          "theme_name": "Prisoner of Azkaban",
          "transparent": false
         },
         {
          "color_name": "Light Bluish Gray",
          "hex": "#A0A5A9",
          "quantity": 539,
          "theme_name": "Prisoner of Azkaban",
          "transparent": false
         },
         {
          "color_name": "Light Flesh",
          "hex": "#F6D7B3",
          "quantity": 26,
          "theme_name": "Prisoner of Azkaban",
          "transparent": false
         },
         {
          "color_name": "Light Purple",
          "hex": "#CD6298",
          "quantity": 3,
          "theme_name": "Prisoner of Azkaban",
          "transparent": false
         },
         {
          "color_name": "Medium Blue",
          "hex": "#5A93DB",
          "quantity": 2,
          "theme_name": "Prisoner of Azkaban",
          "transparent": false
         },
         {
          "color_name": "Orange",
          "hex": "#FE8A18",
          "quantity": 7,
          "theme_name": "Prisoner of Azkaban",
          "transparent": false
         },
         {
          "color_name": "Red",
          "hex": "#C91A09",
          "quantity": 247,
          "theme_name": "Prisoner of Azkaban",
          "transparent": true
         },
         {
          "color_name": "Reddish Brown",
          "hex": "#582A12",
          "quantity": 300,
          "theme_name": "Prisoner of Azkaban",
          "transparent": false
         },
         {
          "color_name": "Sand Blue",
          "hex": "#6074A1",
          "quantity": 2,
          "theme_name": "Prisoner of Azkaban",
          "transparent": false
         },
         {
          "color_name": "Sand Green",
          "hex": "#A0BCAC",
          "quantity": 150,
          "theme_name": "Prisoner of Azkaban",
          "transparent": false
         },
         {
          "color_name": "Tan",
          "hex": "#E4CD9E",
          "quantity": 347,
          "theme_name": "Prisoner of Azkaban",
          "transparent": false
         },
         {
          "color_name": "Trans-Black",
          "hex": "#635F52",
          "quantity": 1,
          "theme_name": "Prisoner of Azkaban",
          "transparent": true
         },
         {
          "color_name": "Trans-Clear",
          "hex": "#FCFCFC",
          "quantity": 70,
          "theme_name": "Prisoner of Azkaban",
          "transparent": true
         },
         {
          "color_name": "Trans-Dark Blue",
          "hex": "#0020A0",
          "quantity": 16,
          "theme_name": "Prisoner of Azkaban",
          "transparent": true
         },
         {
          "color_name": "Trans-Dark Pink",
          "hex": "#DF6695",
          "quantity": 2,
          "theme_name": "Prisoner of Azkaban",
          "transparent": true
         },
         {
          "color_name": "Trans-Green",
          "hex": "#84B68D",
          "quantity": 13,
          "theme_name": "Prisoner of Azkaban",
          "transparent": true
         },
         {
          "color_name": "Trans-Neon Green",
          "hex": "#F8F184",
          "quantity": 17,
          "theme_name": "Prisoner of Azkaban",
          "transparent": true
         },
         {
          "color_name": "Trans-Neon Orange",
          "hex": "#FF800D",
          "quantity": 49,
          "theme_name": "Prisoner of Azkaban",
          "transparent": true
         },
         {
          "color_name": "Trans-Purple",
          "hex": "#A5A5CB",
          "quantity": 5,
          "theme_name": "Prisoner of Azkaban",
          "transparent": true
         },
         {
          "color_name": "Trans-Red",
          "hex": "#C91A09",
          "quantity": 15,
          "theme_name": "Prisoner of Azkaban",
          "transparent": true
         },
         {
          "color_name": "Trans-Yellow",
          "hex": "#F5CD2F",
          "quantity": 11,
          "theme_name": "Prisoner of Azkaban",
          "transparent": true
         },
         {
          "color_name": "Violet",
          "hex": "#4354A3",
          "quantity": 1,
          "theme_name": "Prisoner of Azkaban",
          "transparent": false
         },
         {
          "color_name": "White",
          "hex": "#FFFFFF",
          "quantity": 127,
          "theme_name": "Prisoner of Azkaban",
          "transparent": false
         },
         {
          "color_name": "Yellow",
          "hex": "#F2CD37",
          "quantity": 28,
          "theme_name": "Prisoner of Azkaban",
          "transparent": false
         },
         {
          "color_name": "[No Color/Any Color]",
          "hex": "#05131D",
          "quantity": 2,
          "theme_name": "Prisoner of Azkaban",
          "transparent": false
         }
        ]
       },
       "encoding": {
        "color": {
         "condition": {
          "field": "hex",
          "scale": null,
          "selection": "selector003",
          "type": "nominal"
         },
         "value": "lightgray"
        },
        "tooltip": [
         {
          "field": "color_name",
          "type": "nominal"
         },
         {
          "field": "quantity",
          "type": "quantitative"
         },
         {
          "field": "transparent",
          "type": "nominal"
         }
        ],
        "x": {
         "aggregate": "sum",
         "field": "quantity",
         "stack": "normalize",
         "type": "quantitative"
        },
        "y": {
         "field": "theme_name",
         "sort": [
          "Philosopher's Stone",
          "Chamber of Secrets",
          "Prisoner of Azkaban",
          "Goblet of Fire",
          "Order of the Phoenix",
          "Harry Potter",
          "Fantastic Beasts"
         ],
         "type": "ordinal"
        }
       },
       "height": 500,
       "mark": "bar",
       "selection": {
        "selector003": {
         "encodings": [
          "color"
         ],
         "type": "multi"
        },
        "selector004": {
         "bind": "scales",
         "encodings": [
          "x",
          "y"
         ],
         "type": "interval"
        }
       },
       "width": 700
      },
      "image/png": "[encoded data removed]",
      "text/plain": [
       "<VegaLite 3 object>\n",
       "\n",
       "If you see this message, it means the renderer has not been properly enabled\n",
       "for the frontend that you are using. For more information, see\n",
       "https://altair-viz.github.io/user_guide/troubleshooting.html\n"
      ]
     },
     "execution_count": 27,
     "metadata": {},
     "output_type": "execute_result"
    }
   ],
   "source": [
    "click = alt.selection_multi(encodings=['color'])\n",
    "\n",
    "alt.Chart(colors_count_theme).mark_bar().encode(\n",
    "    x=alt.X('sum(quantity)', stack=\"normalize\"),\n",
    "    y=alt.Y(\"theme_name:O\", sort=theme_order),\n",
    "    color=alt.condition(click, alt.Color(\"hex:N\", scale=None), alt.value('lightgray')),\n",
    "    tooltip=(['color_name', 'quantity', 'transparent:N'])\n",
    ").properties(\n",
    "    height=500,\n",
    "    width=700\n",
    ").add_selection(click).interactive()"
   ]
  },
  {
   "cell_type": "markdown",
   "metadata": {},
   "source": [
    "### Colour by set"
   ]
  },
  {
   "cell_type": "code",
   "execution_count": 28,
   "metadata": {},
   "outputs": [
    {
     "data": {
      "application/vnd.vegalite.v3+json": {
       "$schema": "https://vega.github.io/schema/vega-lite/v3.2.1.json",
       "config": {
        "mark": {
         "tooltip": null
        },
        "view": {
         "height": 300,
         "width": 400
        }
       },
       "data": {
        "name": "data-d41dd1e51c0e7baa00a8dcdd9d35f730"
       },
       "datasets": {
        "data-d41dd1e51c0e7baa00a8dcdd9d35f730": [
         {
          "color_name": "Black",
          "hex": "#05131D",
          "name": "Quality Quidditch Supplies",
          "num_name": "4719-1: Quality Quidditch Supplies",
          "num_parts": 14,
          "quantity": 14,
          "theme_name": "Chamber of Secrets",
          "transparent": false
         },
         {
          "color_name": "Blue",
          "hex": "#0055BF",
          "name": "Quality Quidditch Supplies",
          "num_name": "4719-1: Quality Quidditch Supplies",
          "num_parts": 1,
          "quantity": 1,
          "theme_name": "Chamber of Secrets",
          "transparent": false
         },
         {
          "color_name": "Brown",
          "hex": "#583927",
          "name": "Quality Quidditch Supplies",
          "num_name": "4719-1: Quality Quidditch Supplies",
          "num_parts": 9,
          "quantity": 9,
          "theme_name": "Chamber of Secrets",
          "transparent": false
         },
         {
          "color_name": "Chrome Antique Brass",
          "hex": "#645A4C",
          "name": "Quality Quidditch Supplies",
          "num_name": "4719-1: Quality Quidditch Supplies",
          "num_parts": 1,
          "quantity": 1,
          "theme_name": "Chamber of Secrets",
          "transparent": false
         },
         {
          "color_name": "Dark Gray",
          "hex": "#6D6E5C",
          "name": "Quality Quidditch Supplies",
          "num_name": "4719-1: Quality Quidditch Supplies",
          "num_parts": 13,
          "quantity": 13,
          "theme_name": "Chamber of Secrets",
          "transparent": false
         },
         {
          "color_name": "Dark Orange",
          "hex": "#A95500",
          "name": "Quality Quidditch Supplies",
          "num_name": "4719-1: Quality Quidditch Supplies",
          "num_parts": 19,
          "quantity": 19,
          "theme_name": "Chamber of Secrets",
          "transparent": false
         },
         {
          "color_name": "Earth Orange",
          "hex": "#FA9C1C",
          "name": "Quality Quidditch Supplies",
          "num_name": "4719-1: Quality Quidditch Supplies",
          "num_parts": 1,
          "quantity": 1,
          "theme_name": "Chamber of Secrets",
          "transparent": false
         },
         {
          "color_name": "Green",
          "hex": "#237841",
          "name": "Quality Quidditch Supplies",
          "num_name": "4719-1: Quality Quidditch Supplies",
          "num_parts": 2,
          "quantity": 2,
          "theme_name": "Chamber of Secrets",
          "transparent": false
         },
         {
          "color_name": "Light Gray",
          "hex": "#9BA19D",
          "name": "Quality Quidditch Supplies",
          "num_name": "4719-1: Quality Quidditch Supplies",
          "num_parts": 29,
          "quantity": 29,
          "theme_name": "Chamber of Secrets",
          "transparent": false
         },
         {
          "color_name": "Red",
          "hex": "#C91A09",
          "name": "Quality Quidditch Supplies",
          "num_name": "4719-1: Quality Quidditch Supplies",
          "num_parts": 3,
          "quantity": 3,
          "theme_name": "Chamber of Secrets",
          "transparent": true
         },
         {
          "color_name": "Sand Green",
          "hex": "#A0BCAC",
          "name": "Quality Quidditch Supplies",
          "num_name": "4719-1: Quality Quidditch Supplies",
          "num_parts": 22,
          "quantity": 22,
          "theme_name": "Chamber of Secrets",
          "transparent": false
         },
         {
          "color_name": "Tan",
          "hex": "#E4CD9E",
          "name": "Quality Quidditch Supplies",
          "num_name": "4719-1: Quality Quidditch Supplies",
          "num_parts": 2,
          "quantity": 2,
          "theme_name": "Chamber of Secrets",
          "transparent": false
         },
         {
          "color_name": "Trans-Clear",
          "hex": "#FCFCFC",
          "name": "Quality Quidditch Supplies",
          "num_name": "4719-1: Quality Quidditch Supplies",
          "num_parts": 2,
          "quantity": 2,
          "theme_name": "Chamber of Secrets",
          "transparent": true
         },
         {
          "color_name": "Trans-Yellow",
          "hex": "#F5CD2F",
          "name": "Quality Quidditch Supplies",
          "num_name": "4719-1: Quality Quidditch Supplies",
          "num_parts": 2,
          "quantity": 2,
          "theme_name": "Chamber of Secrets",
          "transparent": true
         },
         {
          "color_name": "White",
          "hex": "#FFFFFF",
          "name": "Quality Quidditch Supplies",
          "num_name": "4719-1: Quality Quidditch Supplies",
          "num_parts": 2,
          "quantity": 2,
          "theme_name": "Chamber of Secrets",
          "transparent": false
         },
         {
          "color_name": "Yellow",
          "hex": "#F2CD37",
          "name": "Quality Quidditch Supplies",
          "num_name": "4719-1: Quality Quidditch Supplies",
          "num_parts": 1,
          "quantity": 1,
          "theme_name": "Chamber of Secrets",
          "transparent": false
         },
         {
          "color_name": "Black",
          "hex": "#05131D",
          "name": "Knockturn Alley",
          "num_name": "4720-1: Knockturn Alley",
          "num_parts": 80,
          "quantity": 80,
          "theme_name": "Chamber of Secrets",
          "transparent": false
         },
         {
          "color_name": "Blue",
          "hex": "#0055BF",
          "name": "Knockturn Alley",
          "num_name": "4720-1: Knockturn Alley",
          "num_parts": 1,
          "quantity": 1,
          "theme_name": "Chamber of Secrets",
          "transparent": false
         },
         {
          "color_name": "Dark Blue",
          "hex": "#0A3463",
          "name": "Knockturn Alley",
          "num_name": "4720-1: Knockturn Alley",
          "num_parts": 11,
          "quantity": 11,
          "theme_name": "Chamber of Secrets",
          "transparent": false
         },
         {
          "color_name": "Dark Gray",
          "hex": "#6D6E5C",
          "name": "Knockturn Alley",
          "num_name": "4720-1: Knockturn Alley",
          "num_parts": 36,
          "quantity": 36,
          "theme_name": "Chamber of Secrets",
          "transparent": false
         },
         {
          "color_name": "Light Gray",
          "hex": "#9BA19D",
          "name": "Knockturn Alley",
          "num_name": "4720-1: Knockturn Alley",
          "num_parts": 9,
          "quantity": 9,
          "theme_name": "Chamber of Secrets",
          "transparent": false
         },
         {
          "color_name": "Red",
          "hex": "#C91A09",
          "name": "Knockturn Alley",
          "num_name": "4720-1: Knockturn Alley",
          "num_parts": 2,
          "quantity": 2,
          "theme_name": "Chamber of Secrets",
          "transparent": true
         },
         {
          "color_name": "Sand Blue",
          "hex": "#6074A1",
          "name": "Knockturn Alley",
          "num_name": "4720-1: Knockturn Alley",
          "num_parts": 50,
          "quantity": 50,
          "theme_name": "Chamber of Secrets",
          "transparent": false
         },
         {
          "color_name": "Sand Green",
          "hex": "#A0BCAC",
          "name": "Knockturn Alley",
          "num_name": "4720-1: Knockturn Alley",
          "num_parts": 1,
          "quantity": 1,
          "theme_name": "Chamber of Secrets",
          "transparent": false
         },
         {
          "color_name": "Tan",
          "hex": "#E4CD9E",
          "name": "Knockturn Alley",
          "num_name": "4720-1: Knockturn Alley",
          "num_parts": 2,
          "quantity": 2,
          "theme_name": "Chamber of Secrets",
          "transparent": false
         },
         {
          "color_name": "Trans-Clear",
          "hex": "#FCFCFC",
          "name": "Knockturn Alley",
          "num_name": "4720-1: Knockturn Alley",
          "num_parts": 1,
          "quantity": 1,
          "theme_name": "Chamber of Secrets",
          "transparent": true
         },
         {
          "color_name": "Trans-Dark Blue",
          "hex": "#0020A0",
          "name": "Knockturn Alley",
          "num_name": "4720-1: Knockturn Alley",
          "num_parts": 1,
          "quantity": 1,
          "theme_name": "Chamber of Secrets",
          "transparent": true
         },
         {
          "color_name": "Trans-Green",
          "hex": "#84B68D",
          "name": "Knockturn Alley",
          "num_name": "4720-1: Knockturn Alley",
          "num_parts": 5,
          "quantity": 5,
          "theme_name": "Chamber of Secrets",
          "transparent": true
         },
         {
          "color_name": "Trans-Neon Green",
          "hex": "#F8F184",
          "name": "Knockturn Alley",
          "num_name": "4720-1: Knockturn Alley",
          "num_parts": 3,
          "quantity": 3,
          "theme_name": "Chamber of Secrets",
          "transparent": true
         },
         {
          "color_name": "Trans-Neon Orange",
          "hex": "#FF800D",
          "name": "Knockturn Alley",
          "num_name": "4720-1: Knockturn Alley",
          "num_parts": 2,
          "quantity": 2,
          "theme_name": "Chamber of Secrets",
          "transparent": true
         },
         {
          "color_name": "Trans-Purple",
          "hex": "#A5A5CB",
          "name": "Knockturn Alley",
          "num_name": "4720-1: Knockturn Alley",
          "num_parts": 1,
          "quantity": 1,
          "theme_name": "Chamber of Secrets",
          "transparent": true
         },
         {
          "color_name": "Trans-Red",
          "hex": "#C91A09",
          "name": "Knockturn Alley",
          "num_name": "4720-1: Knockturn Alley",
          "num_parts": 4,
          "quantity": 4,
          "theme_name": "Chamber of Secrets",
          "transparent": true
         },
         {
          "color_name": "White",
          "hex": "#FFFFFF",
          "name": "Knockturn Alley",
          "num_name": "4720-1: Knockturn Alley",
          "num_parts": 3,
          "quantity": 3,
          "theme_name": "Chamber of Secrets",
          "transparent": false
         },
         {
          "color_name": "Yellow",
          "hex": "#F2CD37",
          "name": "Knockturn Alley",
          "num_name": "4720-1: Knockturn Alley",
          "num_parts": 2,
          "quantity": 2,
          "theme_name": "Chamber of Secrets",
          "transparent": false
         },
         {
          "color_name": "Black",
          "hex": "#05131D",
          "name": "Quidditch Practice",
          "num_name": "4726-1: Quidditch Practice",
          "num_parts": 16,
          "quantity": 16,
          "theme_name": "Chamber of Secrets",
          "transparent": false
         },
         {
          "color_name": "Blue",
          "hex": "#0055BF",
          "name": "Quidditch Practice",
          "num_name": "4726-1: Quidditch Practice",
          "num_parts": 1,
          "quantity": 1,
          "theme_name": "Chamber of Secrets",
          "transparent": false
         },
         {
          "color_name": "Brown",
          "hex": "#583927",
          "name": "Quidditch Practice",
          "num_name": "4726-1: Quidditch Practice",
          "num_parts": 5,
          "quantity": 5,
          "theme_name": "Chamber of Secrets",
          "transparent": false
         },
         {
          "color_name": "Chrome Gold",
          "hex": "#BBA53D",
          "name": "Quidditch Practice",
          "num_name": "4726-1: Quidditch Practice",
          "num_parts": 1,
          "quantity": 1,
          "theme_name": "Chamber of Secrets",
          "transparent": false
         },
         {
          "color_name": "Dark Gray",
          "hex": "#6D6E5C",
          "name": "Quidditch Practice",
          "num_name": "4726-1: Quidditch Practice",
          "num_parts": 15,
          "quantity": 15,
          "theme_name": "Chamber of Secrets",
          "transparent": false
         },
         {
          "color_name": "Dark Red",
          "hex": "#720E0F",
          "name": "Quidditch Practice",
          "num_name": "4726-1: Quidditch Practice",
          "num_parts": 1,
          "quantity": 1,
          "theme_name": "Chamber of Secrets",
          "transparent": false
         },
         {
          "color_name": "Green",
          "hex": "#237841",
          "name": "Quidditch Practice",
          "num_name": "4726-1: Quidditch Practice",
          "num_parts": 26,
          "quantity": 26,
          "theme_name": "Chamber of Secrets",
          "transparent": false
         },
         {
          "color_name": "Light Gray",
          "hex": "#9BA19D",
          "name": "Quidditch Practice",
          "num_name": "4726-1: Quidditch Practice",
          "num_parts": 33,
          "quantity": 33,
          "theme_name": "Chamber of Secrets",
          "transparent": false
         },
         {
          "color_name": "Red",
          "hex": "#C91A09",
          "name": "Quidditch Practice",
          "num_name": "4726-1: Quidditch Practice",
          "num_parts": 13,
          "quantity": 13,
          "theme_name": "Chamber of Secrets",
          "transparent": true
         },
         {
          "color_name": "Tan",
          "hex": "#E4CD9E",
          "name": "Quidditch Practice",
          "num_name": "4726-1: Quidditch Practice",
          "num_parts": 13,
          "quantity": 13,
          "theme_name": "Chamber of Secrets",
          "transparent": false
         },
         {
          "color_name": "Trans-Dark Blue",
          "hex": "#0020A0",
          "name": "Quidditch Practice",
          "num_name": "4726-1: Quidditch Practice",
          "num_parts": 1,
          "quantity": 1,
          "theme_name": "Chamber of Secrets",
          "transparent": true
         },
         {
          "color_name": "White",
          "hex": "#FFFFFF",
          "name": "Quidditch Practice",
          "num_name": "4726-1: Quidditch Practice",
          "num_parts": 3,
          "quantity": 3,
          "theme_name": "Chamber of Secrets",
          "transparent": false
         },
         {
          "color_name": "Yellow",
          "hex": "#F2CD37",
          "name": "Quidditch Practice",
          "num_name": "4726-1: Quidditch Practice",
          "num_parts": 3,
          "quantity": 3,
          "theme_name": "Chamber of Secrets",
          "transparent": false
         },
         {
          "color_name": "[No Color/Any Color]",
          "hex": "#05131D",
          "name": "Quidditch Practice",
          "num_name": "4726-1: Quidditch Practice",
          "num_parts": 1,
          "quantity": 1,
          "theme_name": "Chamber of Secrets",
          "transparent": false
         },
         {
          "color_name": "Black",
          "hex": "#05131D",
          "name": "Aragog in the Dark Forest",
          "num_name": "4727-1: Aragog in the Dark Forest",
          "num_parts": 67,
          "quantity": 67,
          "theme_name": "Chamber of Secrets",
          "transparent": false
         },
         {
          "color_name": "Brown",
          "hex": "#583927",
          "name": "Aragog in the Dark Forest",
          "num_name": "4727-1: Aragog in the Dark Forest",
          "num_parts": 51,
          "quantity": 51,
          "theme_name": "Chamber of Secrets",
          "transparent": false
         },
         {
          "color_name": "Chrome Gold",
          "hex": "#BBA53D",
          "name": "Aragog in the Dark Forest",
          "num_name": "4727-1: Aragog in the Dark Forest",
          "num_parts": 4,
          "quantity": 4,
          "theme_name": "Chamber of Secrets",
          "transparent": false
         },
         {
          "color_name": "Dark Blue",
          "hex": "#0A3463",
          "name": "Aragog in the Dark Forest",
          "num_name": "4727-1: Aragog in the Dark Forest",
          "num_parts": 1,
          "quantity": 1,
          "theme_name": "Chamber of Secrets",
          "transparent": false
         },
         {
          "color_name": "Dark Gray",
          "hex": "#6D6E5C",
          "name": "Aragog in the Dark Forest",
          "num_name": "4727-1: Aragog in the Dark Forest",
          "num_parts": 23,
          "quantity": 23,
          "theme_name": "Chamber of Secrets",
          "transparent": false
         },
         {
          "color_name": "Earth Orange",
          "hex": "#FA9C1C",
          "name": "Aragog in the Dark Forest",
          "num_name": "4727-1: Aragog in the Dark Forest",
          "num_parts": 1,
          "quantity": 1,
          "theme_name": "Chamber of Secrets",
          "transparent": false
         },
         {
          "color_name": "Green",
          "hex": "#237841",
          "name": "Aragog in the Dark Forest",
          "num_name": "4727-1: Aragog in the Dark Forest",
          "num_parts": 16,
          "quantity": 16,
          "theme_name": "Chamber of Secrets",
          "transparent": false
         },
         {
          "color_name": "Light Gray",
          "hex": "#9BA19D",
          "name": "Aragog in the Dark Forest",
          "num_name": "4727-1: Aragog in the Dark Forest",
          "num_parts": 14,
          "quantity": 14,
          "theme_name": "Chamber of Secrets",
          "transparent": false
         },
         {
          "color_name": "Sand Green",
          "hex": "#A0BCAC",
          "name": "Aragog in the Dark Forest",
          "num_name": "4727-1: Aragog in the Dark Forest",
          "num_parts": 3,
          "quantity": 3,
          "theme_name": "Chamber of Secrets",
          "transparent": false
         },
         {
          "color_name": "Tan",
          "hex": "#E4CD9E",
          "name": "Aragog in the Dark Forest",
          "num_name": "4727-1: Aragog in the Dark Forest",
          "num_parts": 1,
          "quantity": 1,
          "theme_name": "Chamber of Secrets",
          "transparent": false
         },
         {
          "color_name": "Trans-Red",
          "hex": "#C91A09",
          "name": "Aragog in the Dark Forest",
          "num_name": "4727-1: Aragog in the Dark Forest",
          "num_parts": 3,
          "quantity": 3,
          "theme_name": "Chamber of Secrets",
          "transparent": true
         },
         {
          "color_name": "Yellow",
          "hex": "#F2CD37",
          "name": "Aragog in the Dark Forest",
          "num_name": "4727-1: Aragog in the Dark Forest",
          "num_parts": 2,
          "quantity": 2,
          "theme_name": "Chamber of Secrets",
          "transparent": false
         },
         {
          "color_name": "Black",
          "hex": "#05131D",
          "name": "Escape from Privet Drive",
          "num_name": "4728-1: Escape from Privet Drive",
          "num_parts": 42,
          "quantity": 42,
          "theme_name": "Chamber of Secrets",
          "transparent": false
         },
         {
          "color_name": "Blue",
          "hex": "#0055BF",
          "name": "Escape from Privet Drive",
          "num_name": "4728-1: Escape from Privet Drive",
          "num_parts": 1,
          "quantity": 1,
          "theme_name": "Chamber of Secrets",
          "transparent": false
         },
         {
          "color_name": "Brown",
          "hex": "#583927",
          "name": "Escape from Privet Drive",
          "num_name": "4728-1: Escape from Privet Drive",
          "num_parts": 12,
          "quantity": 12,
          "theme_name": "Chamber of Secrets",
          "transparent": false
         },
         {
          "color_name": "Chrome Silver",
          "hex": "#E0E0E0",
          "name": "Escape from Privet Drive",
          "num_name": "4728-1: Escape from Privet Drive",
          "num_parts": 2,
          "quantity": 2,
          "theme_name": "Chamber of Secrets",
          "transparent": false
         },
         {
          "color_name": "Dark Gray",
          "hex": "#6D6E5C",
          "name": "Escape from Privet Drive",
          "num_name": "4728-1: Escape from Privet Drive",
          "num_parts": 36,
          "quantity": 36,
          "theme_name": "Chamber of Secrets",
          "transparent": false
         },
         {
          "color_name": "Dark Orange",
          "hex": "#A95500",
          "name": "Escape from Privet Drive",
          "num_name": "4728-1: Escape from Privet Drive",
          "num_parts": 23,
          "quantity": 23,
          "theme_name": "Chamber of Secrets",
          "transparent": false
         },
         {
          "color_name": "Earth Orange",
          "hex": "#FA9C1C",
          "name": "Escape from Privet Drive",
          "num_name": "4728-1: Escape from Privet Drive",
          "num_parts": 2,
          "quantity": 2,
          "theme_name": "Chamber of Secrets",
          "transparent": false
         },
         {
          "color_name": "Green",
          "hex": "#237841",
          "name": "Escape from Privet Drive",
          "num_name": "4728-1: Escape from Privet Drive",
          "num_parts": 2,
          "quantity": 2,
          "theme_name": "Chamber of Secrets",
          "transparent": false
         },
         {
          "color_name": "Light Gray",
          "hex": "#9BA19D",
          "name": "Escape from Privet Drive",
          "num_name": "4728-1: Escape from Privet Drive",
          "num_parts": 52,
          "quantity": 52,
          "theme_name": "Chamber of Secrets",
          "transparent": false
         },
         {
          "color_name": "Medium Blue",
          "hex": "#5A93DB",
          "name": "Escape from Privet Drive",
          "num_name": "4728-1: Escape from Privet Drive",
          "num_parts": 53,
          "quantity": 53,
          "theme_name": "Chamber of Secrets",
          "transparent": false
         },
         {
          "color_name": "Red",
          "hex": "#C91A09",
          "name": "Escape from Privet Drive",
          "num_name": "4728-1: Escape from Privet Drive",
          "num_parts": 3,
          "quantity": 3,
          "theme_name": "Chamber of Secrets",
          "transparent": true
         },
         {
          "color_name": "Sand Green",
          "hex": "#A0BCAC",
          "name": "Escape from Privet Drive",
          "num_name": "4728-1: Escape from Privet Drive",
          "num_parts": 2,
          "quantity": 2,
          "theme_name": "Chamber of Secrets",
          "transparent": false
         },
         {
          "color_name": "Tan",
          "hex": "#E4CD9E",
          "name": "Escape from Privet Drive",
          "num_name": "4728-1: Escape from Privet Drive",
          "num_parts": 21,
          "quantity": 21,
          "theme_name": "Chamber of Secrets",
          "transparent": false
         },
         {
          "color_name": "Trans-Clear",
          "hex": "#FCFCFC",
          "name": "Escape from Privet Drive",
          "num_name": "4728-1: Escape from Privet Drive",
          "num_parts": 7,
          "quantity": 7,
          "theme_name": "Chamber of Secrets",
          "transparent": true
         },
         {
          "color_name": "Trans-Red",
          "hex": "#C91A09",
          "name": "Escape from Privet Drive",
          "num_name": "4728-1: Escape from Privet Drive",
          "num_parts": 5,
          "quantity": 5,
          "theme_name": "Chamber of Secrets",
          "transparent": true
         },
         {
          "color_name": "Trans-Yellow",
          "hex": "#F5CD2F",
          "name": "Escape from Privet Drive",
          "num_name": "4728-1: Escape from Privet Drive",
          "num_parts": 4,
          "quantity": 4,
          "theme_name": "Chamber of Secrets",
          "transparent": true
         },
         {
          "color_name": "White",
          "hex": "#FFFFFF",
          "name": "Escape from Privet Drive",
          "num_name": "4728-1: Escape from Privet Drive",
          "num_parts": 17,
          "quantity": 17,
          "theme_name": "Chamber of Secrets",
          "transparent": false
         },
         {
          "color_name": "Yellow",
          "hex": "#F2CD37",
          "name": "Escape from Privet Drive",
          "num_name": "4728-1: Escape from Privet Drive",
          "num_parts": 3,
          "quantity": 3,
          "theme_name": "Chamber of Secrets",
          "transparent": false
         },
         {
          "color_name": "Black",
          "hex": "#05131D",
          "name": "Dumbledore's Office",
          "num_name": "4729-1: Dumbledore's Office",
          "num_parts": 81,
          "quantity": 81,
          "theme_name": "Chamber of Secrets",
          "transparent": false
         },
         {
          "color_name": "Brown",
          "hex": "#583927",
          "name": "Dumbledore's Office",
          "num_name": "4729-1: Dumbledore's Office",
          "num_parts": 7,
          "quantity": 7,
          "theme_name": "Chamber of Secrets",
          "transparent": false
         },
         {
          "color_name": "Chrome Antique Brass",
          "hex": "#645A4C",
          "name": "Dumbledore's Office",
          "num_name": "4729-1: Dumbledore's Office",
          "num_parts": 2,
          "quantity": 2,
          "theme_name": "Chamber of Secrets",
          "transparent": false
         },
         {
          "color_name": "Dark Gray",
          "hex": "#6D6E5C",
          "name": "Dumbledore's Office",
          "num_name": "4729-1: Dumbledore's Office",
          "num_parts": 52,
          "quantity": 52,
          "theme_name": "Chamber of Secrets",
          "transparent": false
         },
         {
          "color_name": "Green",
          "hex": "#237841",
          "name": "Dumbledore's Office",
          "num_name": "4729-1: Dumbledore's Office",
          "num_parts": 4,
          "quantity": 4,
          "theme_name": "Chamber of Secrets",
          "transparent": false
         },
         {
          "color_name": "Light Gray",
          "hex": "#9BA19D",
          "name": "Dumbledore's Office",
          "num_name": "4729-1: Dumbledore's Office",
          "num_parts": 129,
          "quantity": 129,
          "theme_name": "Chamber of Secrets",
          "transparent": false
         },
         {
          "color_name": "Purple",
          "hex": "#81007B",
          "name": "Dumbledore's Office",
          "num_name": "4729-1: Dumbledore's Office",
          "num_parts": 3,
          "quantity": 3,
          "theme_name": "Chamber of Secrets",
          "transparent": false
         },
         {
          "color_name": "Red",
          "hex": "#C91A09",
          "name": "Dumbledore's Office",
          "num_name": "4729-1: Dumbledore's Office",
          "num_parts": 1,
          "quantity": 1,
          "theme_name": "Chamber of Secrets",
          "transparent": true
         },
         {
          "color_name": "Sand Green",
          "hex": "#A0BCAC",
          "name": "Dumbledore's Office",
          "num_name": "4729-1: Dumbledore's Office",
          "num_parts": 47,
          "quantity": 47,
          "theme_name": "Chamber of Secrets",
          "transparent": false
         },
         {
          "color_name": "Tan",
          "hex": "#E4CD9E",
          "name": "Dumbledore's Office",
          "num_name": "4729-1: Dumbledore's Office",
          "num_parts": 99,
          "quantity": 99,
          "theme_name": "Chamber of Secrets",
          "transparent": false
         },
         {
          "color_name": "Trans-Dark Blue",
          "hex": "#0020A0",
          "name": "Dumbledore's Office",
          "num_name": "4729-1: Dumbledore's Office",
          "num_parts": 2,
          "quantity": 2,
          "theme_name": "Chamber of Secrets",
          "transparent": true
         },
         {
          "color_name": "Trans-Green",
          "hex": "#84B68D",
          "name": "Dumbledore's Office",
          "num_name": "4729-1: Dumbledore's Office",
          "num_parts": 3,
          "quantity": 3,
          "theme_name": "Chamber of Secrets",
          "transparent": true
         },
         {
          "color_name": "Trans-Neon Green",
          "hex": "#F8F184",
          "name": "Dumbledore's Office",
          "num_name": "4729-1: Dumbledore's Office",
          "num_parts": 1,
          "quantity": 1,
          "theme_name": "Chamber of Secrets",
          "transparent": true
         },
         {
          "color_name": "Trans-Neon Orange",
          "hex": "#FF800D",
          "name": "Dumbledore's Office",
          "num_name": "4729-1: Dumbledore's Office",
          "num_parts": 10,
          "quantity": 10,
          "theme_name": "Chamber of Secrets",
          "transparent": true
         },
         {
          "color_name": "Trans-Purple",
          "hex": "#A5A5CB",
          "name": "Dumbledore's Office",
          "num_name": "4729-1: Dumbledore's Office",
          "num_parts": 5,
          "quantity": 5,
          "theme_name": "Chamber of Secrets",
          "transparent": true
         },
         {
          "color_name": "Trans-Red",
          "hex": "#C91A09",
          "name": "Dumbledore's Office",
          "num_name": "4729-1: Dumbledore's Office",
          "num_parts": 3,
          "quantity": 3,
          "theme_name": "Chamber of Secrets",
          "transparent": true
         },
         {
          "color_name": "White",
          "hex": "#FFFFFF",
          "name": "Dumbledore's Office",
          "num_name": "4729-1: Dumbledore's Office",
          "num_parts": 6,
          "quantity": 6,
          "theme_name": "Chamber of Secrets",
          "transparent": false
         },
         {
          "color_name": "Yellow",
          "hex": "#F2CD37",
          "name": "Dumbledore's Office",
          "num_name": "4729-1: Dumbledore's Office",
          "num_parts": 3,
          "quantity": 3,
          "theme_name": "Chamber of Secrets",
          "transparent": false
         },
         {
          "color_name": "Black",
          "hex": "#05131D",
          "name": "Chamber of Secrets",
          "num_name": "4730-1: Chamber of Secrets",
          "num_parts": 146,
          "quantity": 146,
          "theme_name": "Chamber of Secrets",
          "transparent": false
         },
         {
          "color_name": "Brown",
          "hex": "#583927",
          "name": "Chamber of Secrets",
          "num_name": "4730-1: Chamber of Secrets",
          "num_parts": 4,
          "quantity": 4,
          "theme_name": "Chamber of Secrets",
          "transparent": false
         },
         {
          "color_name": "Chrome Silver",
          "hex": "#E0E0E0",
          "name": "Chamber of Secrets",
          "num_name": "4730-1: Chamber of Secrets",
          "num_parts": 1,
          "quantity": 1,
          "theme_name": "Chamber of Secrets",
          "transparent": false
         },
         {
          "color_name": "Dark Gray",
          "hex": "#6D6E5C",
          "name": "Chamber of Secrets",
          "num_name": "4730-1: Chamber of Secrets",
          "num_parts": 151,
          "quantity": 151,
          "theme_name": "Chamber of Secrets",
          "transparent": false
         },
         {
          "color_name": "Dark Orange",
          "hex": "#A95500",
          "name": "Chamber of Secrets",
          "num_name": "4730-1: Chamber of Secrets",
          "num_parts": 1,
          "quantity": 1,
          "theme_name": "Chamber of Secrets",
          "transparent": false
         },
         {
          "color_name": "Earth Orange",
          "hex": "#FA9C1C",
          "name": "Chamber of Secrets",
          "num_name": "4730-1: Chamber of Secrets",
          "num_parts": 2,
          "quantity": 2,
          "theme_name": "Chamber of Secrets",
          "transparent": false
         },
         {
          "color_name": "Glow In Dark Opaque",
          "hex": "#D4D5C9",
          "name": "Chamber of Secrets",
          "num_name": "4730-1: Chamber of Secrets",
          "num_parts": 2,
          "quantity": 2,
          "theme_name": "Chamber of Secrets",
          "transparent": false
         },
         {
          "color_name": "Light Gray",
          "hex": "#9BA19D",
          "name": "Chamber of Secrets",
          "num_name": "4730-1: Chamber of Secrets",
          "num_parts": 159,
          "quantity": 159,
          "theme_name": "Chamber of Secrets",
          "transparent": false
         },
         {
          "color_name": "Red",
          "hex": "#C91A09",
          "name": "Chamber of Secrets",
          "num_name": "4730-1: Chamber of Secrets",
          "num_parts": 1,
          "quantity": 1,
          "theme_name": "Chamber of Secrets",
          "transparent": true
         },
         {
          "color_name": "Sand Green",
          "hex": "#A0BCAC",
          "name": "Chamber of Secrets",
          "num_name": "4730-1: Chamber of Secrets",
          "num_parts": 69,
          "quantity": 69,
          "theme_name": "Chamber of Secrets",
          "transparent": false
         },
         {
          "color_name": "Sand Red",
          "hex": "#D67572",
          "name": "Chamber of Secrets",
          "num_name": "4730-1: Chamber of Secrets",
          "num_parts": 3,
          "quantity": 3,
          "theme_name": "Chamber of Secrets",
          "transparent": false
         },
         {
          "color_name": "Tan",
          "hex": "#E4CD9E",
          "name": "Chamber of Secrets",
          "num_name": "4730-1: Chamber of Secrets",
          "num_parts": 25,
          "quantity": 25,
          "theme_name": "Chamber of Secrets",
          "transparent": false
         },
         {
          "color_name": "Trans-Clear",
          "hex": "#FCFCFC",
          "name": "Chamber of Secrets",
          "num_name": "4730-1: Chamber of Secrets",
          "num_parts": 1,
          "quantity": 1,
          "theme_name": "Chamber of Secrets",
          "transparent": true
         },
         {
          "color_name": "Trans-Green",
          "hex": "#84B68D",
          "name": "Chamber of Secrets",
          "num_name": "4730-1: Chamber of Secrets",
          "num_parts": 3,
          "quantity": 3,
          "theme_name": "Chamber of Secrets",
          "transparent": true
         },
         {
          "color_name": "Trans-Light Blue",
          "hex": "#AEEFEC",
          "name": "Chamber of Secrets",
          "num_name": "4730-1: Chamber of Secrets",
          "num_parts": 3,
          "quantity": 3,
          "theme_name": "Chamber of Secrets",
          "transparent": true
         },
         {
          "color_name": "Trans-Neon Green",
          "hex": "#F8F184",
          "name": "Chamber of Secrets",
          "num_name": "4730-1: Chamber of Secrets",
          "num_parts": 1,
          "quantity": 1,
          "theme_name": "Chamber of Secrets",
          "transparent": true
         },
         {
          "color_name": "Trans-Neon Orange",
          "hex": "#FF800D",
          "name": "Chamber of Secrets",
          "num_name": "4730-1: Chamber of Secrets",
          "num_parts": 8,
          "quantity": 8,
          "theme_name": "Chamber of Secrets",
          "transparent": true
         },
         {
          "color_name": "Trans-Red",
          "hex": "#C91A09",
          "name": "Chamber of Secrets",
          "num_name": "4730-1: Chamber of Secrets",
          "num_parts": 3,
          "quantity": 3,
          "theme_name": "Chamber of Secrets",
          "transparent": true
         },
         {
          "color_name": "Trans-Yellow",
          "hex": "#F5CD2F",
          "name": "Chamber of Secrets",
          "num_name": "4730-1: Chamber of Secrets",
          "num_parts": 3,
          "quantity": 3,
          "theme_name": "Chamber of Secrets",
          "transparent": true
         },
         {
          "color_name": "White",
          "hex": "#FFFFFF",
          "name": "Chamber of Secrets",
          "num_name": "4730-1: Chamber of Secrets",
          "num_parts": 9,
          "quantity": 9,
          "theme_name": "Chamber of Secrets",
          "transparent": false
         },
         {
          "color_name": "Yellow",
          "hex": "#F2CD37",
          "name": "Chamber of Secrets",
          "num_name": "4730-1: Chamber of Secrets",
          "num_parts": 6,
          "quantity": 6,
          "theme_name": "Chamber of Secrets",
          "transparent": false
         },
         {
          "color_name": "Black",
          "hex": "#05131D",
          "name": "Dobby's Release",
          "num_name": "4731-1: Dobby's Release",
          "num_parts": 11,
          "quantity": 11,
          "theme_name": "Chamber of Secrets",
          "transparent": false
         },
         {
          "color_name": "Brown",
          "hex": "#583927",
          "name": "Dobby's Release",
          "num_name": "4731-1: Dobby's Release",
          "num_parts": 3,
          "quantity": 3,
          "theme_name": "Chamber of Secrets",
          "transparent": false
         },
         {
          "color_name": "Dark Gray",
          "hex": "#6D6E5C",
          "name": "Dobby's Release",
          "num_name": "4731-1: Dobby's Release",
          "num_parts": 9,
          "quantity": 9,
          "theme_name": "Chamber of Secrets",
          "transparent": false
         },
         {
          "color_name": "Light Gray",
          "hex": "#9BA19D",
          "name": "Dobby's Release",
          "num_name": "4731-1: Dobby's Release",
          "num_parts": 17,
          "quantity": 17,
          "theme_name": "Chamber of Secrets",
          "transparent": false
         },
         {
          "color_name": "Sand Green",
          "hex": "#A0BCAC",
          "name": "Dobby's Release",
          "num_name": "4731-1: Dobby's Release",
          "num_parts": 11,
          "quantity": 11,
          "theme_name": "Chamber of Secrets",
          "transparent": false
         },
         {
          "color_name": "Tan",
          "hex": "#E4CD9E",
          "name": "Dobby's Release",
          "num_name": "4731-1: Dobby's Release",
          "num_parts": 15,
          "quantity": 15,
          "theme_name": "Chamber of Secrets",
          "transparent": false
         },
         {
          "color_name": "Trans-Neon Orange",
          "hex": "#FF800D",
          "name": "Dobby's Release",
          "num_name": "4731-1: Dobby's Release",
          "num_parts": 2,
          "quantity": 2,
          "theme_name": "Chamber of Secrets",
          "transparent": true
         },
         {
          "color_name": "White",
          "hex": "#FFFFFF",
          "name": "Dobby's Release",
          "num_name": "4731-1: Dobby's Release",
          "num_parts": 3,
          "quantity": 3,
          "theme_name": "Chamber of Secrets",
          "transparent": false
         },
         {
          "color_name": "Yellow",
          "hex": "#F2CD37",
          "name": "Dobby's Release",
          "num_name": "4731-1: Dobby's Release",
          "num_parts": 1,
          "quantity": 1,
          "theme_name": "Chamber of Secrets",
          "transparent": false
         },
         {
          "color_name": "Black",
          "hex": "#05131D",
          "name": "The Dueling Club",
          "num_name": "4733-1: The Dueling Club",
          "num_parts": 18,
          "quantity": 18,
          "theme_name": "Chamber of Secrets",
          "transparent": false
         },
         {
          "color_name": "Brown",
          "hex": "#583927",
          "name": "The Dueling Club",
          "num_name": "4733-1: The Dueling Club",
          "num_parts": 3,
          "quantity": 3,
          "theme_name": "Chamber of Secrets",
          "transparent": false
         },
         {
          "color_name": "Dark Gray",
          "hex": "#6D6E5C",
          "name": "The Dueling Club",
          "num_name": "4733-1: The Dueling Club",
          "num_parts": 29,
          "quantity": 29,
          "theme_name": "Chamber of Secrets",
          "transparent": false
         },
         {
          "color_name": "Glow In Dark Opaque",
          "hex": "#D4D5C9",
          "name": "The Dueling Club",
          "num_name": "4733-1: The Dueling Club",
          "num_parts": 1,
          "quantity": 1,
          "theme_name": "Chamber of Secrets",
          "transparent": false
         },
         {
          "color_name": "Green",
          "hex": "#237841",
          "name": "The Dueling Club",
          "num_name": "4733-1: The Dueling Club",
          "num_parts": 3,
          "quantity": 3,
          "theme_name": "Chamber of Secrets",
          "transparent": false
         },
         {
          "color_name": "Light Gray",
          "hex": "#9BA19D",
          "name": "The Dueling Club",
          "num_name": "4733-1: The Dueling Club",
          "num_parts": 32,
          "quantity": 32,
          "theme_name": "Chamber of Secrets",
          "transparent": false
         },
         {
          "color_name": "Sand Green",
          "hex": "#A0BCAC",
          "name": "The Dueling Club",
          "num_name": "4733-1: The Dueling Club",
          "num_parts": 10,
          "quantity": 10,
          "theme_name": "Chamber of Secrets",
          "transparent": false
         },
         {
          "color_name": "Tan",
          "hex": "#E4CD9E",
          "name": "The Dueling Club",
          "num_name": "4733-1: The Dueling Club",
          "num_parts": 31,
          "quantity": 31,
          "theme_name": "Chamber of Secrets",
          "transparent": false
         },
         {
          "color_name": "Trans-Neon Orange",
          "hex": "#FF800D",
          "name": "The Dueling Club",
          "num_name": "4733-1: The Dueling Club",
          "num_parts": 2,
          "quantity": 2,
          "theme_name": "Chamber of Secrets",
          "transparent": true
         },
         {
          "color_name": "Yellow",
          "hex": "#F2CD37",
          "name": "The Dueling Club",
          "num_name": "4733-1: The Dueling Club",
          "num_parts": 5,
          "quantity": 5,
          "theme_name": "Chamber of Secrets",
          "transparent": false
         },
         {
          "color_name": "Black",
          "hex": "#05131D",
          "name": "Slytherin",
          "num_name": "4735-1: Slytherin",
          "num_parts": 38,
          "quantity": 38,
          "theme_name": "Chamber of Secrets",
          "transparent": false
         },
         {
          "color_name": "Brown",
          "hex": "#583927",
          "name": "Slytherin",
          "num_name": "4735-1: Slytherin",
          "num_parts": 5,
          "quantity": 5,
          "theme_name": "Chamber of Secrets",
          "transparent": false
         },
         {
          "color_name": "Dark Gray",
          "hex": "#6D6E5C",
          "name": "Slytherin",
          "num_name": "4735-1: Slytherin",
          "num_parts": 7,
          "quantity": 7,
          "theme_name": "Chamber of Secrets",
          "transparent": false
         },
         {
          "color_name": "Green",
          "hex": "#237841",
          "name": "Slytherin",
          "num_name": "4735-1: Slytherin",
          "num_parts": 7,
          "quantity": 7,
          "theme_name": "Chamber of Secrets",
          "transparent": false
         },
         {
          "color_name": "Light Gray",
          "hex": "#9BA19D",
          "name": "Slytherin",
          "num_name": "4735-1: Slytherin",
          "num_parts": 22,
          "quantity": 22,
          "theme_name": "Chamber of Secrets",
          "transparent": false
         },
         {
          "color_name": "Tan",
          "hex": "#E4CD9E",
          "name": "Slytherin",
          "num_name": "4735-1: Slytherin",
          "num_parts": 1,
          "quantity": 1,
          "theme_name": "Chamber of Secrets",
          "transparent": false
         },
         {
          "color_name": "Trans-Clear",
          "hex": "#FCFCFC",
          "name": "Slytherin",
          "num_name": "4735-1: Slytherin",
          "num_parts": 1,
          "quantity": 1,
          "theme_name": "Chamber of Secrets",
          "transparent": true
         },
         {
          "color_name": "Trans-Dark Blue",
          "hex": "#0020A0",
          "name": "Slytherin",
          "num_name": "4735-1: Slytherin",
          "num_parts": 1,
          "quantity": 1,
          "theme_name": "Chamber of Secrets",
          "transparent": true
         },
         {
          "color_name": "Trans-Green",
          "hex": "#84B68D",
          "name": "Slytherin",
          "num_name": "4735-1: Slytherin",
          "num_parts": 3,
          "quantity": 3,
          "theme_name": "Chamber of Secrets",
          "transparent": true
         },
         {
          "color_name": "Trans-Neon Green",
          "hex": "#F8F184",
          "name": "Slytherin",
          "num_name": "4735-1: Slytherin",
          "num_parts": 1,
          "quantity": 1,
          "theme_name": "Chamber of Secrets",
          "transparent": true
         },
         {
          "color_name": "Trans-Neon Orange",
          "hex": "#FF800D",
          "name": "Slytherin",
          "num_name": "4735-1: Slytherin",
          "num_parts": 2,
          "quantity": 2,
          "theme_name": "Chamber of Secrets",
          "transparent": true
         },
         {
          "color_name": "Trans-Red",
          "hex": "#C91A09",
          "name": "Slytherin",
          "num_name": "4735-1: Slytherin",
          "num_parts": 2,
          "quantity": 2,
          "theme_name": "Chamber of Secrets",
          "transparent": true
         },
         {
          "color_name": "White",
          "hex": "#FFFFFF",
          "name": "Slytherin",
          "num_name": "4735-1: Slytherin",
          "num_parts": 1,
          "quantity": 1,
          "theme_name": "Chamber of Secrets",
          "transparent": false
         },
         {
          "color_name": "Yellow",
          "hex": "#F2CD37",
          "name": "Slytherin",
          "num_name": "4735-1: Slytherin",
          "num_parts": 3,
          "quantity": 3,
          "theme_name": "Chamber of Secrets",
          "transparent": false
         },
         {
          "color_name": "Black",
          "hex": "#05131D",
          "name": "Harry's Journey to Hogwarts",
          "num_name": "30407-1: Harry's Journey to Hogwarts",
          "num_parts": 5,
          "quantity": 5,
          "theme_name": "Fantastic Beasts",
          "transparent": false
         },
         {
          "color_name": "Dark Bluish Gray",
          "hex": "#6C6E68",
          "name": "Harry's Journey to Hogwarts",
          "num_name": "30407-1: Harry's Journey to Hogwarts",
          "num_parts": 4,
          "quantity": 4,
          "theme_name": "Fantastic Beasts",
          "transparent": false
         },
         {
          "color_name": "Dark Brown",
          "hex": "#352100",
          "name": "Harry's Journey to Hogwarts",
          "num_name": "30407-1: Harry's Journey to Hogwarts",
          "num_parts": 6,
          "quantity": 6,
          "theme_name": "Fantastic Beasts",
          "transparent": false
         },
         {
          "color_name": "Dark Red",
          "hex": "#720E0F",
          "name": "Harry's Journey to Hogwarts",
          "num_name": "30407-1: Harry's Journey to Hogwarts",
          "num_parts": 1,
          "quantity": 1,
          "theme_name": "Fantastic Beasts",
          "transparent": false
         },
         {
          "color_name": "Light Bluish Gray",
          "hex": "#A0A5A9",
          "name": "Harry's Journey to Hogwarts",
          "num_name": "30407-1: Harry's Journey to Hogwarts",
          "num_parts": 4,
          "quantity": 4,
          "theme_name": "Fantastic Beasts",
          "transparent": false
         },
         {
          "color_name": "Light Flesh",
          "hex": "#F6D7B3",
          "name": "Harry's Journey to Hogwarts",
          "num_name": "30407-1: Harry's Journey to Hogwarts",
          "num_parts": 1,
          "quantity": 1,
          "theme_name": "Fantastic Beasts",
          "transparent": false
         },
         {
          "color_name": "Pearl Dark Gray",
          "hex": "#575857",
          "name": "Harry's Journey to Hogwarts",
          "num_name": "30407-1: Harry's Journey to Hogwarts",
          "num_parts": 1,
          "quantity": 1,
          "theme_name": "Fantastic Beasts",
          "transparent": false
         },
         {
          "color_name": "Pearl Gold",
          "hex": "#AA7F2E",
          "name": "Harry's Journey to Hogwarts",
          "num_name": "30407-1: Harry's Journey to Hogwarts",
          "num_parts": 9,
          "quantity": 9,
          "theme_name": "Fantastic Beasts",
          "transparent": false
         },
         {
          "color_name": "Reddish Brown",
          "hex": "#582A12",
          "name": "Harry's Journey to Hogwarts",
          "num_name": "30407-1: Harry's Journey to Hogwarts",
          "num_parts": 11,
          "quantity": 11,
          "theme_name": "Fantastic Beasts",
          "transparent": false
         },
         {
          "color_name": "Tan",
          "hex": "#E4CD9E",
          "name": "Harry's Journey to Hogwarts",
          "num_name": "30407-1: Harry's Journey to Hogwarts",
          "num_parts": 1,
          "quantity": 1,
          "theme_name": "Fantastic Beasts",
          "transparent": false
         },
         {
          "color_name": "White",
          "hex": "#FFFFFF",
          "name": "Harry's Journey to Hogwarts",
          "num_name": "30407-1: Harry's Journey to Hogwarts",
          "num_parts": 1,
          "quantity": 1,
          "theme_name": "Fantastic Beasts",
          "transparent": false
         },
         {
          "color_name": "Black",
          "hex": "#05131D",
          "name": "Diagon Alley (micro)",
          "num_name": "40289-1: Diagon Alley (micro)",
          "num_parts": 12,
          "quantity": 12,
          "theme_name": "Fantastic Beasts",
          "transparent": false
         },
         {
          "color_name": "Bright Pink",
          "hex": "#E4ADC8",
          "name": "Diagon Alley (micro)",
          "num_name": "40289-1: Diagon Alley (micro)",
          "num_parts": 4,
          "quantity": 4,
          "theme_name": "Fantastic Beasts",
          "transparent": false
         },
         {
          "color_name": "Dark Bluish Gray",
          "hex": "#6C6E68",
          "name": "Diagon Alley (micro)",
          "num_name": "40289-1: Diagon Alley (micro)",
          "num_parts": 35,
          "quantity": 35,
          "theme_name": "Fantastic Beasts",
          "transparent": false
         },
         {
          "color_name": "Dark Brown",
          "hex": "#352100",
          "name": "Diagon Alley (micro)",
          "num_name": "40289-1: Diagon Alley (micro)",
          "num_parts": 2,
          "quantity": 2,
          "theme_name": "Fantastic Beasts",
          "transparent": false
         },
         {
          "color_name": "Dark Purple",
          "hex": "#3F3691",
          "name": "Diagon Alley (micro)",
          "num_name": "40289-1: Diagon Alley (micro)",
          "num_parts": 5,
          "quantity": 5,
          "theme_name": "Fantastic Beasts",
          "transparent": false
         },
         {
          "color_name": "Dark Tan",
          "hex": "#958A73",
          "name": "Diagon Alley (micro)",
          "num_name": "40289-1: Diagon Alley (micro)",
          "num_parts": 9,
          "quantity": 9,
          "theme_name": "Fantastic Beasts",
          "transparent": false
         },
         {
          "color_name": "Green",
          "hex": "#237841",
          "name": "Diagon Alley (micro)",
          "num_name": "40289-1: Diagon Alley (micro)",
          "num_parts": 13,
          "quantity": 13,
          "theme_name": "Fantastic Beasts",
          "transparent": false
         },
         {
          "color_name": "Lavender",
          "hex": "#E1D5ED",
          "name": "Diagon Alley (micro)",
          "num_name": "40289-1: Diagon Alley (micro)",
          "num_parts": 22,
          "quantity": 22,
          "theme_name": "Fantastic Beasts",
          "transparent": false
         },
         {
          "color_name": "Light Bluish Gray",
          "hex": "#A0A5A9",
          "name": "Diagon Alley (micro)",
          "num_name": "40289-1: Diagon Alley (micro)",
          "num_parts": 68,
          "quantity": 68,
          "theme_name": "Fantastic Beasts",
          "transparent": false
         },
         {
          "color_name": "Light Flesh",
          "hex": "#F6D7B3",
          "name": "Diagon Alley (micro)",
          "num_name": "40289-1: Diagon Alley (micro)",
          "num_parts": 2,
          "quantity": 2,
          "theme_name": "Fantastic Beasts",
          "transparent": false
         },
         {
          "color_name": "Lime",
          "hex": "#BBE90B",
          "name": "Diagon Alley (micro)",
          "num_name": "40289-1: Diagon Alley (micro)",
          "num_parts": 4,
          "quantity": 4,
          "theme_name": "Fantastic Beasts",
          "transparent": false
         },
         {
          "color_name": "Medium Azure",
          "hex": "#36AEBF",
          "name": "Diagon Alley (micro)",
          "num_name": "40289-1: Diagon Alley (micro)",
          "num_parts": 4,
          "quantity": 4,
          "theme_name": "Fantastic Beasts",
          "transparent": false
         },
         {
          "color_name": "Medium Lavender",
          "hex": "#AC78BA",
          "name": "Diagon Alley (micro)",
          "num_name": "40289-1: Diagon Alley (micro)",
          "num_parts": 17,
          "quantity": 17,
          "theme_name": "Fantastic Beasts",
          "transparent": false
         },
         {
          "color_name": "Orange",
          "hex": "#FE8A18",
          "name": "Diagon Alley (micro)",
          "num_name": "40289-1: Diagon Alley (micro)",
          "num_parts": 28,
          "quantity": 28,
          "theme_name": "Fantastic Beasts",
          "transparent": false
         },
         {
          "color_name": "Pearl Gold",
          "hex": "#AA7F2E",
          "name": "Diagon Alley (micro)",
          "num_name": "40289-1: Diagon Alley (micro)",
          "num_parts": 20,
          "quantity": 20,
          "theme_name": "Fantastic Beasts",
          "transparent": false
         },
         {
          "color_name": "Red",
          "hex": "#C91A09",
          "name": "Diagon Alley (micro)",
          "num_name": "40289-1: Diagon Alley (micro)",
          "num_parts": 9,
          "quantity": 9,
          "theme_name": "Fantastic Beasts",
          "transparent": true
         },
         {
          "color_name": "Reddish Brown",
          "hex": "#582A12",
          "name": "Diagon Alley (micro)",
          "num_name": "40289-1: Diagon Alley (micro)",
          "num_parts": 23,
          "quantity": 23,
          "theme_name": "Fantastic Beasts",
          "transparent": false
         },
         {
          "color_name": "Sand Green",
          "hex": "#A0BCAC",
          "name": "Diagon Alley (micro)",
          "num_name": "40289-1: Diagon Alley (micro)",
          "num_parts": 2,
          "quantity": 2,
          "theme_name": "Fantastic Beasts",
          "transparent": false
         },
         {
          "color_name": "Tan",
          "hex": "#E4CD9E",
          "name": "Diagon Alley (micro)",
          "num_name": "40289-1: Diagon Alley (micro)",
          "num_parts": 29,
          "quantity": 29,
          "theme_name": "Fantastic Beasts",
          "transparent": false
         },
         {
          "color_name": "Trans-Black",
          "hex": "#635F52",
          "name": "Diagon Alley (micro)",
          "num_name": "40289-1: Diagon Alley (micro)",
          "num_parts": 1,
          "quantity": 1,
          "theme_name": "Fantastic Beasts",
          "transparent": true
         },
         {
          "color_name": "Trans-Clear",
          "hex": "#FCFCFC",
          "name": "Diagon Alley (micro)",
          "num_name": "40289-1: Diagon Alley (micro)",
          "num_parts": 29,
          "quantity": 29,
          "theme_name": "Fantastic Beasts",
          "transparent": true
         },
         {
          "color_name": "Trans-Yellow",
          "hex": "#F5CD2F",
          "name": "Diagon Alley (micro)",
          "num_name": "40289-1: Diagon Alley (micro)",
          "num_parts": 4,
          "quantity": 4,
          "theme_name": "Fantastic Beasts",
          "transparent": true
         },
         {
          "color_name": "White",
          "hex": "#FFFFFF",
          "name": "Diagon Alley (micro)",
          "num_name": "40289-1: Diagon Alley (micro)",
          "num_parts": 63,
          "quantity": 63,
          "theme_name": "Fantastic Beasts",
          "transparent": false
         },
         {
          "color_name": "Black",
          "hex": "#05131D",
          "name": "Hogwarts Castle",
          "num_name": "71043-1: Hogwarts Castle",
          "num_parts": 259,
          "quantity": 259,
          "theme_name": "Fantastic Beasts",
          "transparent": false
         },
         {
          "color_name": "Blue",
          "hex": "#0055BF",
          "name": "Hogwarts Castle",
          "num_name": "71043-1: Hogwarts Castle",
          "num_parts": 29,
          "quantity": 29,
          "theme_name": "Fantastic Beasts",
          "transparent": false
         },
         {
          "color_name": "Bright Green",
          "hex": "#4B9F4A",
          "name": "Hogwarts Castle",
          "num_name": "71043-1: Hogwarts Castle",
          "num_parts": 4,
          "quantity": 4,
          "theme_name": "Fantastic Beasts",
          "transparent": false
         },
         {
          "color_name": "Bright Pink",
          "hex": "#E4ADC8",
          "name": "Hogwarts Castle",
          "num_name": "71043-1: Hogwarts Castle",
          "num_parts": 5,
          "quantity": 5,
          "theme_name": "Fantastic Beasts",
          "transparent": false
         },
         {
          "color_name": "Dark Blue",
          "hex": "#0A3463",
          "name": "Hogwarts Castle",
          "num_name": "71043-1: Hogwarts Castle",
          "num_parts": 44,
          "quantity": 44,
          "theme_name": "Fantastic Beasts",
          "transparent": false
         },
         {
          "color_name": "Dark Bluish Gray",
          "hex": "#6C6E68",
          "name": "Hogwarts Castle",
          "num_name": "71043-1: Hogwarts Castle",
          "num_parts": 900,
          "quantity": 900,
          "theme_name": "Fantastic Beasts",
          "transparent": false
         },
         {
          "color_name": "Dark Brown",
          "hex": "#352100",
          "name": "Hogwarts Castle",
          "num_name": "71043-1: Hogwarts Castle",
          "num_parts": 17,
          "quantity": 17,
          "theme_name": "Fantastic Beasts",
          "transparent": false
         },
         {
          "color_name": "Dark Green",
          "hex": "#184632",
          "name": "Hogwarts Castle",
          "num_name": "71043-1: Hogwarts Castle",
          "num_parts": 37,
          "quantity": 37,
          "theme_name": "Fantastic Beasts",
          "transparent": false
         },
         {
          "color_name": "Dark Orange",
          "hex": "#A95500",
          "name": "Hogwarts Castle",
          "num_name": "71043-1: Hogwarts Castle",
          "num_parts": 7,
          "quantity": 7,
          "theme_name": "Fantastic Beasts",
          "transparent": false
         },
         {
          "color_name": "Dark Pink",
          "hex": "#C870A0",
          "name": "Hogwarts Castle",
          "num_name": "71043-1: Hogwarts Castle",
          "num_parts": 7,
          "quantity": 7,
          "theme_name": "Fantastic Beasts",
          "transparent": false
         },
         {
          "color_name": "Dark Purple",
          "hex": "#3F3691",
          "name": "Hogwarts Castle",
          "num_name": "71043-1: Hogwarts Castle",
          "num_parts": 11,
          "quantity": 11,
          "theme_name": "Fantastic Beasts",
          "transparent": false
         },
         {
          "color_name": "Dark Red",
          "hex": "#720E0F",
          "name": "Hogwarts Castle",
          "num_name": "71043-1: Hogwarts Castle",
          "num_parts": 40,
          "quantity": 40,
          "theme_name": "Fantastic Beasts",
          "transparent": false
         },
         {
          "color_name": "Dark Tan",
          "hex": "#958A73",
          "name": "Hogwarts Castle",
          "num_name": "71043-1: Hogwarts Castle",
          "num_parts": 658,
          "quantity": 658,
          "theme_name": "Fantastic Beasts",
          "transparent": false
         },
         {
          "color_name": "Dark Turquoise",
          "hex": "#008F9B",
          "name": "Hogwarts Castle",
          "num_name": "71043-1: Hogwarts Castle",
          "num_parts": 3,
          "quantity": 3,
          "theme_name": "Fantastic Beasts",
          "transparent": false
         },
         {
          "color_name": "Flat Silver",
          "hex": "#898788",
          "name": "Hogwarts Castle",
          "num_name": "71043-1: Hogwarts Castle",
          "num_parts": 68,
          "quantity": 68,
          "theme_name": "Fantastic Beasts",
          "transparent": false
         },
         {
          "color_name": "Green",
          "hex": "#237841",
          "name": "Hogwarts Castle",
          "num_name": "71043-1: Hogwarts Castle",
          "num_parts": 61,
          "quantity": 61,
          "theme_name": "Fantastic Beasts",
          "transparent": false
         },
         {
          "color_name": "Lavender",
          "hex": "#E1D5ED",
          "name": "Hogwarts Castle",
          "num_name": "71043-1: Hogwarts Castle",
          "num_parts": 5,
          "quantity": 5,
          "theme_name": "Fantastic Beasts",
          "transparent": false
         },
         {
          "color_name": "Light Bluish Gray",
          "hex": "#A0A5A9",
          "name": "Hogwarts Castle",
          "num_name": "71043-1: Hogwarts Castle",
          "num_parts": 673,
          "quantity": 673,
          "theme_name": "Fantastic Beasts",
          "transparent": false
         },
         {
          "color_name": "Light Flesh",
          "hex": "#F6D7B3",
          "name": "Hogwarts Castle",
          "num_name": "71043-1: Hogwarts Castle",
          "num_parts": 4,
          "quantity": 4,
          "theme_name": "Fantastic Beasts",
          "transparent": false
         },
         {
          "color_name": "Lime",
          "hex": "#BBE90B",
          "name": "Hogwarts Castle",
          "num_name": "71043-1: Hogwarts Castle",
          "num_parts": 35,
          "quantity": 35,
          "theme_name": "Fantastic Beasts",
          "transparent": false
         },
         {
          "color_name": "Magenta",
          "hex": "#923978",
          "name": "Hogwarts Castle",
          "num_name": "71043-1: Hogwarts Castle",
          "num_parts": 10,
          "quantity": 10,
          "theme_name": "Fantastic Beasts",
          "transparent": false
         },
         {
          "color_name": "Medium Azure",
          "hex": "#36AEBF",
          "name": "Hogwarts Castle",
          "num_name": "71043-1: Hogwarts Castle",
          "num_parts": 16,
          "quantity": 16,
          "theme_name": "Fantastic Beasts",
          "transparent": false
         },
         {
          "color_name": "Medium Blue",
          "hex": "#5A93DB",
          "name": "Hogwarts Castle",
          "num_name": "71043-1: Hogwarts Castle",
          "num_parts": 36,
          "quantity": 36,
          "theme_name": "Fantastic Beasts",
          "transparent": false
         },
         {
          "color_name": "Medium Dark Flesh",
          "hex": "#CC702A",
          "name": "Hogwarts Castle",
          "num_name": "71043-1: Hogwarts Castle",
          "num_parts": 10,
          "quantity": 10,
          "theme_name": "Fantastic Beasts",
          "transparent": false
         },
         {
          "color_name": "Olive Green",
          "hex": "#9B9A5A",
          "name": "Hogwarts Castle",
          "num_name": "71043-1: Hogwarts Castle",
          "num_parts": 140,
          "quantity": 140,
          "theme_name": "Fantastic Beasts",
          "transparent": false
         },
         {
          "color_name": "Orange",
          "hex": "#FE8A18",
          "name": "Hogwarts Castle",
          "num_name": "71043-1: Hogwarts Castle",
          "num_parts": 50,
          "quantity": 50,
          "theme_name": "Fantastic Beasts",
          "transparent": false
         },
         {
          "color_name": "Pearl Dark Gray",
          "hex": "#575857",
          "name": "Hogwarts Castle",
          "num_name": "71043-1: Hogwarts Castle",
          "num_parts": 1,
          "quantity": 1,
          "theme_name": "Fantastic Beasts",
          "transparent": false
         },
         {
          "color_name": "Pearl Gold",
          "hex": "#AA7F2E",
          "name": "Hogwarts Castle",
          "num_name": "71043-1: Hogwarts Castle",
          "num_parts": 43,
          "quantity": 43,
          "theme_name": "Fantastic Beasts",
          "transparent": false
         },
         {
          "color_name": "Red",
          "hex": "#C91A09",
          "name": "Hogwarts Castle",
          "num_name": "71043-1: Hogwarts Castle",
          "num_parts": 19,
          "quantity": 19,
          "theme_name": "Fantastic Beasts",
          "transparent": true
         },
         {
          "color_name": "Reddish Brown",
          "hex": "#582A12",
          "name": "Hogwarts Castle",
          "num_name": "71043-1: Hogwarts Castle",
          "num_parts": 415,
          "quantity": 415,
          "theme_name": "Fantastic Beasts",
          "transparent": false
         },
         {
          "color_name": "Sand Blue",
          "hex": "#6074A1",
          "name": "Hogwarts Castle",
          "num_name": "71043-1: Hogwarts Castle",
          "num_parts": 4,
          "quantity": 4,
          "theme_name": "Fantastic Beasts",
          "transparent": false
         },
         {
          "color_name": "Sand Green",
          "hex": "#A0BCAC",
          "name": "Hogwarts Castle",
          "num_name": "71043-1: Hogwarts Castle",
          "num_parts": 34,
          "quantity": 34,
          "theme_name": "Fantastic Beasts",
          "transparent": false
         },
         {
          "color_name": "Tan",
          "hex": "#E4CD9E",
          "name": "Hogwarts Castle",
          "num_name": "71043-1: Hogwarts Castle",
          "num_parts": 1923,
          "quantity": 1923,
          "theme_name": "Fantastic Beasts",
          "transparent": false
         },
         {
          "color_name": "Trans-Black",
          "hex": "#635F52",
          "name": "Hogwarts Castle",
          "num_name": "71043-1: Hogwarts Castle",
          "num_parts": 47,
          "quantity": 47,
          "theme_name": "Fantastic Beasts",
          "transparent": true
         },
         {
          "color_name": "Trans-Clear",
          "hex": "#FCFCFC",
          "name": "Hogwarts Castle",
          "num_name": "71043-1: Hogwarts Castle",
          "num_parts": 167,
          "quantity": 167,
          "theme_name": "Fantastic Beasts",
          "transparent": true
         },
         {
          "color_name": "Trans-Dark Blue",
          "hex": "#0020A0",
          "name": "Hogwarts Castle",
          "num_name": "71043-1: Hogwarts Castle",
          "num_parts": 16,
          "quantity": 16,
          "theme_name": "Fantastic Beasts",
          "transparent": true
         },
         {
          "color_name": "Trans-Dark Pink",
          "hex": "#DF6695",
          "name": "Hogwarts Castle",
          "num_name": "71043-1: Hogwarts Castle",
          "num_parts": 8,
          "quantity": 8,
          "theme_name": "Fantastic Beasts",
          "transparent": true
         },
         {
          "color_name": "Trans-Green",
          "hex": "#84B68D",
          "name": "Hogwarts Castle",
          "num_name": "71043-1: Hogwarts Castle",
          "num_parts": 30,
          "quantity": 30,
          "theme_name": "Fantastic Beasts",
          "transparent": true
         },
         {
          "color_name": "Trans-Light Blue",
          "hex": "#AEEFEC",
          "name": "Hogwarts Castle",
          "num_name": "71043-1: Hogwarts Castle",
          "num_parts": 29,
          "quantity": 29,
          "theme_name": "Fantastic Beasts",
          "transparent": true
         },
         {
          "color_name": "Trans-Orange",
          "hex": "#F08F1C",
          "name": "Hogwarts Castle",
          "num_name": "71043-1: Hogwarts Castle",
          "num_parts": 17,
          "quantity": 17,
          "theme_name": "Fantastic Beasts",
          "transparent": true
         },
         {
          "color_name": "Trans-Purple",
          "hex": "#A5A5CB",
          "name": "Hogwarts Castle",
          "num_name": "71043-1: Hogwarts Castle",
          "num_parts": 5,
          "quantity": 5,
          "theme_name": "Fantastic Beasts",
          "transparent": true
         },
         {
          "color_name": "Trans-Red",
          "hex": "#C91A09",
          "name": "Hogwarts Castle",
          "num_name": "71043-1: Hogwarts Castle",
          "num_parts": 42,
          "quantity": 42,
          "theme_name": "Fantastic Beasts",
          "transparent": true
         },
         {
          "color_name": "Trans-Yellow",
          "hex": "#F5CD2F",
          "name": "Hogwarts Castle",
          "num_name": "71043-1: Hogwarts Castle",
          "num_parts": 62,
          "quantity": 62,
          "theme_name": "Fantastic Beasts",
          "transparent": true
         },
         {
          "color_name": "White",
          "hex": "#FFFFFF",
          "name": "Hogwarts Castle",
          "num_name": "71043-1: Hogwarts Castle",
          "num_parts": 161,
          "quantity": 161,
          "theme_name": "Fantastic Beasts",
          "transparent": false
         },
         {
          "color_name": "Yellow",
          "hex": "#F2CD37",
          "name": "Hogwarts Castle",
          "num_name": "71043-1: Hogwarts Castle",
          "num_parts": 15,
          "quantity": 15,
          "theme_name": "Fantastic Beasts",
          "transparent": false
         },
         {
          "color_name": "[No Color/Any Color]",
          "hex": "#05131D",
          "name": "Hogwarts Castle",
          "num_name": "71043-1: Hogwarts Castle",
          "num_parts": 4,
          "quantity": 4,
          "theme_name": "Fantastic Beasts",
          "transparent": false
         },
         {
          "color_name": "Black",
          "hex": "#05131D",
          "name": "Hogwarts Express (4th Edition)",
          "num_name": "71247-2: Hogwarts Express (4th Edition)",
          "num_parts": 22,
          "quantity": 22,
          "theme_name": "Fantastic Beasts",
          "transparent": false
         },
         {
          "color_name": "Dark Bluish Gray",
          "hex": "#6C6E68",
          "name": "Hogwarts Express (4th Edition)",
          "num_name": "71247-2: Hogwarts Express (4th Edition)",
          "num_parts": 1,
          "quantity": 1,
          "theme_name": "Fantastic Beasts",
          "transparent": false
         },
         {
          "color_name": "Light Bluish Gray",
          "hex": "#A0A5A9",
          "name": "Hogwarts Express (4th Edition)",
          "num_name": "71247-2: Hogwarts Express (4th Edition)",
          "num_parts": 1,
          "quantity": 1,
          "theme_name": "Fantastic Beasts",
          "transparent": false
         },
         {
          "color_name": "Pearl Gold",
          "hex": "#AA7F2E",
          "name": "Hogwarts Express (4th Edition)",
          "num_name": "71247-2: Hogwarts Express (4th Edition)",
          "num_parts": 1,
          "quantity": 1,
          "theme_name": "Fantastic Beasts",
          "transparent": false
         },
         {
          "color_name": "Red",
          "hex": "#C91A09",
          "name": "Hogwarts Express (4th Edition)",
          "num_name": "71247-2: Hogwarts Express (4th Edition)",
          "num_parts": 16,
          "quantity": 16,
          "theme_name": "Fantastic Beasts",
          "transparent": true
         },
         {
          "color_name": "Trans-Clear",
          "hex": "#FCFCFC",
          "name": "Hogwarts Express (4th Edition)",
          "num_name": "71247-2: Hogwarts Express (4th Edition)",
          "num_parts": 2,
          "quantity": 2,
          "theme_name": "Fantastic Beasts",
          "transparent": true
         },
         {
          "color_name": "Black",
          "hex": "#05131D",
          "name": "Aragog's Lair",
          "num_name": "75950-1: Aragog's Lair",
          "num_parts": 40,
          "quantity": 40,
          "theme_name": "Fantastic Beasts",
          "transparent": false
         },
         {
          "color_name": "Blue",
          "hex": "#0055BF",
          "name": "Aragog's Lair",
          "num_name": "75950-1: Aragog's Lair",
          "num_parts": 2,
          "quantity": 2,
          "theme_name": "Fantastic Beasts",
          "transparent": false
         },
         {
          "color_name": "Bright Green",
          "hex": "#4B9F4A",
          "name": "Aragog's Lair",
          "num_name": "75950-1: Aragog's Lair",
          "num_parts": 6,
          "quantity": 6,
          "theme_name": "Fantastic Beasts",
          "transparent": false
         },
         {
          "color_name": "Dark Blue",
          "hex": "#0A3463",
          "name": "Aragog's Lair",
          "num_name": "75950-1: Aragog's Lair",
          "num_parts": 2,
          "quantity": 2,
          "theme_name": "Fantastic Beasts",
          "transparent": false
         },
         {
          "color_name": "Dark Bluish Gray",
          "hex": "#6C6E68",
          "name": "Aragog's Lair",
          "num_name": "75950-1: Aragog's Lair",
          "num_parts": 12,
          "quantity": 12,
          "theme_name": "Fantastic Beasts",
          "transparent": false
         },
         {
          "color_name": "Dark Brown",
          "hex": "#352100",
          "name": "Aragog's Lair",
          "num_name": "75950-1: Aragog's Lair",
          "num_parts": 20,
          "quantity": 20,
          "theme_name": "Fantastic Beasts",
          "transparent": false
         },
         {
          "color_name": "Dark Green",
          "hex": "#184632",
          "name": "Aragog's Lair",
          "num_name": "75950-1: Aragog's Lair",
          "num_parts": 4,
          "quantity": 4,
          "theme_name": "Fantastic Beasts",
          "transparent": false
         },
         {
          "color_name": "Dark Orange",
          "hex": "#A95500",
          "name": "Aragog's Lair",
          "num_name": "75950-1: Aragog's Lair",
          "num_parts": 2,
          "quantity": 2,
          "theme_name": "Fantastic Beasts",
          "transparent": false
         },
         {
          "color_name": "Dark Tan",
          "hex": "#958A73",
          "name": "Aragog's Lair",
          "num_name": "75950-1: Aragog's Lair",
          "num_parts": 11,
          "quantity": 11,
          "theme_name": "Fantastic Beasts",
          "transparent": false
         },
         {
          "color_name": "Green",
          "hex": "#237841",
          "name": "Aragog's Lair",
          "num_name": "75950-1: Aragog's Lair",
          "num_parts": 3,
          "quantity": 3,
          "theme_name": "Fantastic Beasts",
          "transparent": false
         },
         {
          "color_name": "Light Bluish Gray",
          "hex": "#A0A5A9",
          "name": "Aragog's Lair",
          "num_name": "75950-1: Aragog's Lair",
          "num_parts": 4,
          "quantity": 4,
          "theme_name": "Fantastic Beasts",
          "transparent": false
         },
         {
          "color_name": "Light Flesh",
          "hex": "#F6D7B3",
          "name": "Aragog's Lair",
          "num_name": "75950-1: Aragog's Lair",
          "num_parts": 2,
          "quantity": 2,
          "theme_name": "Fantastic Beasts",
          "transparent": false
         },
         {
          "color_name": "Lime",
          "hex": "#BBE90B",
          "name": "Aragog's Lair",
          "num_name": "75950-1: Aragog's Lair",
          "num_parts": 1,
          "quantity": 1,
          "theme_name": "Fantastic Beasts",
          "transparent": false
         },
         {
          "color_name": "Medium Dark Flesh",
          "hex": "#CC702A",
          "name": "Aragog's Lair",
          "num_name": "75950-1: Aragog's Lair",
          "num_parts": 3,
          "quantity": 3,
          "theme_name": "Fantastic Beasts",
          "transparent": false
         },
         {
          "color_name": "Olive Green",
          "hex": "#9B9A5A",
          "name": "Aragog's Lair",
          "num_name": "75950-1: Aragog's Lair",
          "num_parts": 2,
          "quantity": 2,
          "theme_name": "Fantastic Beasts",
          "transparent": false
         },
         {
          "color_name": "Pearl Dark Gray",
          "hex": "#575857",
          "name": "Aragog's Lair",
          "num_name": "75950-1: Aragog's Lair",
          "num_parts": 1,
          "quantity": 1,
          "theme_name": "Fantastic Beasts",
          "transparent": false
         },
         {
          "color_name": "Red",
          "hex": "#C91A09",
          "name": "Aragog's Lair",
          "num_name": "75950-1: Aragog's Lair",
          "num_parts": 1,
          "quantity": 1,
          "theme_name": "Fantastic Beasts",
          "transparent": true
         },
         {
          "color_name": "Reddish Brown",
          "hex": "#582A12",
          "name": "Aragog's Lair",
          "num_name": "75950-1: Aragog's Lair",
          "num_parts": 40,
          "quantity": 40,
          "theme_name": "Fantastic Beasts",
          "transparent": false
         },
         {
          "color_name": "Trans-Clear",
          "hex": "#FCFCFC",
          "name": "Aragog's Lair",
          "num_name": "75950-1: Aragog's Lair",
          "num_parts": 1,
          "quantity": 1,
          "theme_name": "Fantastic Beasts",
          "transparent": true
         },
         {
          "color_name": "Trans-Orange",
          "hex": "#F08F1C",
          "name": "Aragog's Lair",
          "num_name": "75950-1: Aragog's Lair",
          "num_parts": 2,
          "quantity": 2,
          "theme_name": "Fantastic Beasts",
          "transparent": true
         },
         {
          "color_name": "Trans-Yellow",
          "hex": "#F5CD2F",
          "name": "Aragog's Lair",
          "num_name": "75950-1: Aragog's Lair",
          "num_parts": 1,
          "quantity": 1,
          "theme_name": "Fantastic Beasts",
          "transparent": true
         },
         {
          "color_name": "White",
          "hex": "#FFFFFF",
          "name": "Aragog's Lair",
          "num_name": "75950-1: Aragog's Lair",
          "num_parts": 9,
          "quantity": 9,
          "theme_name": "Fantastic Beasts",
          "transparent": false
         },
         {
          "color_name": "Yellow",
          "hex": "#F2CD37",
          "name": "Aragog's Lair",
          "num_name": "75950-1: Aragog's Lair",
          "num_parts": 1,
          "quantity": 1,
          "theme_name": "Fantastic Beasts",
          "transparent": false
         },
         {
          "color_name": "Black",
          "hex": "#05131D",
          "name": "Grindelwald's Escape",
          "num_name": "75951-1: Grindelwald's Escape",
          "num_parts": 68,
          "quantity": 68,
          "theme_name": "Fantastic Beasts",
          "transparent": false
         },
         {
          "color_name": "Dark Bluish Gray",
          "hex": "#6C6E68",
          "name": "Grindelwald's Escape",
          "num_name": "75951-1: Grindelwald's Escape",
          "num_parts": 6,
          "quantity": 6,
          "theme_name": "Fantastic Beasts",
          "transparent": false
         },
         {
          "color_name": "Dark Purple",
          "hex": "#3F3691",
          "name": "Grindelwald's Escape",
          "num_name": "75951-1: Grindelwald's Escape",
          "num_parts": 2,
          "quantity": 2,
          "theme_name": "Fantastic Beasts",
          "transparent": false
         },
         {
          "color_name": "Dark Tan",
          "hex": "#958A73",
          "name": "Grindelwald's Escape",
          "num_name": "75951-1: Grindelwald's Escape",
          "num_parts": 12,
          "quantity": 12,
          "theme_name": "Fantastic Beasts",
          "transparent": false
         },
         {
          "color_name": "Light Bluish Gray",
          "hex": "#A0A5A9",
          "name": "Grindelwald's Escape",
          "num_name": "75951-1: Grindelwald's Escape",
          "num_parts": 11,
          "quantity": 11,
          "theme_name": "Fantastic Beasts",
          "transparent": false
         },
         {
          "color_name": "Light Flesh",
          "hex": "#F6D7B3",
          "name": "Grindelwald's Escape",
          "num_name": "75951-1: Grindelwald's Escape",
          "num_parts": 1,
          "quantity": 1,
          "theme_name": "Fantastic Beasts",
          "transparent": false
         },
         {
          "color_name": "Medium Dark Flesh",
          "hex": "#CC702A",
          "name": "Grindelwald's Escape",
          "num_name": "75951-1: Grindelwald's Escape",
          "num_parts": 1,
          "quantity": 1,
          "theme_name": "Fantastic Beasts",
          "transparent": false
         },
         {
          "color_name": "Pearl Dark Gray",
          "hex": "#575857",
          "name": "Grindelwald's Escape",
          "num_name": "75951-1: Grindelwald's Escape",
          "num_parts": 4,
          "quantity": 4,
          "theme_name": "Fantastic Beasts",
          "transparent": false
         },
         {
          "color_name": "Pearl Gold",
          "hex": "#AA7F2E",
          "name": "Grindelwald's Escape",
          "num_name": "75951-1: Grindelwald's Escape",
          "num_parts": 7,
          "quantity": 7,
          "theme_name": "Fantastic Beasts",
          "transparent": false
         },
         {
          "color_name": "Red",
          "hex": "#C91A09",
          "name": "Grindelwald's Escape",
          "num_name": "75951-1: Grindelwald's Escape",
          "num_parts": 5,
          "quantity": 5,
          "theme_name": "Fantastic Beasts",
          "transparent": true
         },
         {
          "color_name": "Reddish Brown",
          "hex": "#582A12",
          "name": "Grindelwald's Escape",
          "num_name": "75951-1: Grindelwald's Escape",
          "num_parts": 8,
          "quantity": 8,
          "theme_name": "Fantastic Beasts",
          "transparent": false
         },
         {
          "color_name": "Sand Blue",
          "hex": "#6074A1",
          "name": "Grindelwald's Escape",
          "num_name": "75951-1: Grindelwald's Escape",
          "num_parts": 3,
          "quantity": 3,
          "theme_name": "Fantastic Beasts",
          "transparent": false
         },
         {
          "color_name": "Tan",
          "hex": "#E4CD9E",
          "name": "Grindelwald's Escape",
          "num_name": "75951-1: Grindelwald's Escape",
          "num_parts": 2,
          "quantity": 2,
          "theme_name": "Fantastic Beasts",
          "transparent": false
         },
         {
          "color_name": "Trans-Black",
          "hex": "#635F52",
          "name": "Grindelwald's Escape",
          "num_name": "75951-1: Grindelwald's Escape",
          "num_parts": 2,
          "quantity": 2,
          "theme_name": "Fantastic Beasts",
          "transparent": true
         },
         {
          "color_name": "Trans-Clear",
          "hex": "#FCFCFC",
          "name": "Grindelwald's Escape",
          "num_name": "75951-1: Grindelwald's Escape",
          "num_parts": 1,
          "quantity": 1,
          "theme_name": "Fantastic Beasts",
          "transparent": true
         },
         {
          "color_name": "Trans-Light Blue",
          "hex": "#AEEFEC",
          "name": "Grindelwald's Escape",
          "num_name": "75951-1: Grindelwald's Escape",
          "num_parts": 2,
          "quantity": 2,
          "theme_name": "Fantastic Beasts",
          "transparent": true
         },
         {
          "color_name": "Trans-Yellow",
          "hex": "#F5CD2F",
          "name": "Grindelwald's Escape",
          "num_name": "75951-1: Grindelwald's Escape",
          "num_parts": 4,
          "quantity": 4,
          "theme_name": "Fantastic Beasts",
          "transparent": true
         },
         {
          "color_name": "White",
          "hex": "#FFFFFF",
          "name": "Grindelwald's Escape",
          "num_name": "75951-1: Grindelwald's Escape",
          "num_parts": 1,
          "quantity": 1,
          "theme_name": "Fantastic Beasts",
          "transparent": false
         },
         {
          "color_name": "Black",
          "hex": "#05131D",
          "name": "Newt's Case of Magical Creatures",
          "num_name": "75952-1: Newt's Case of Magical Creatures",
          "num_parts": 70,
          "quantity": 70,
          "theme_name": "Fantastic Beasts",
          "transparent": false
         },
         {
          "color_name": "Blue",
          "hex": "#0055BF",
          "name": "Newt's Case of Magical Creatures",
          "num_name": "75952-1: Newt's Case of Magical Creatures",
          "num_parts": 4,
          "quantity": 4,
          "theme_name": "Fantastic Beasts",
          "transparent": false
         },
         {
          "color_name": "Bright Green",
          "hex": "#4B9F4A",
          "name": "Newt's Case of Magical Creatures",
          "num_name": "75952-1: Newt's Case of Magical Creatures",
          "num_parts": 6,
          "quantity": 6,
          "theme_name": "Fantastic Beasts",
          "transparent": false
         },
         {
          "color_name": "Bright Light Orange",
          "hex": "#F8BB3D",
          "name": "Newt's Case of Magical Creatures",
          "num_name": "75952-1: Newt's Case of Magical Creatures",
          "num_parts": 1,
          "quantity": 1,
          "theme_name": "Fantastic Beasts",
          "transparent": false
         },
         {
          "color_name": "Bright Pink",
          "hex": "#E4ADC8",
          "name": "Newt's Case of Magical Creatures",
          "num_name": "75952-1: Newt's Case of Magical Creatures",
          "num_parts": 2,
          "quantity": 2,
          "theme_name": "Fantastic Beasts",
          "transparent": false
         },
         {
          "color_name": "Dark Azure",
          "hex": "#078BC9",
          "name": "Newt's Case of Magical Creatures",
          "num_name": "75952-1: Newt's Case of Magical Creatures",
          "num_parts": 7,
          "quantity": 7,
          "theme_name": "Fantastic Beasts",
          "transparent": false
         },
         {
          "color_name": "Dark Bluish Gray",
          "hex": "#6C6E68",
          "name": "Newt's Case of Magical Creatures",
          "num_name": "75952-1: Newt's Case of Magical Creatures",
          "num_parts": 126,
          "quantity": 126,
          "theme_name": "Fantastic Beasts",
          "transparent": false
         },
         {
          "color_name": "Dark Brown",
          "hex": "#352100",
          "name": "Newt's Case of Magical Creatures",
          "num_name": "75952-1: Newt's Case of Magical Creatures",
          "num_parts": 48,
          "quantity": 48,
          "theme_name": "Fantastic Beasts",
          "transparent": false
         },
         {
          "color_name": "Dark Green",
          "hex": "#184632",
          "name": "Newt's Case of Magical Creatures",
          "num_name": "75952-1: Newt's Case of Magical Creatures",
          "num_parts": 15,
          "quantity": 15,
          "theme_name": "Fantastic Beasts",
          "transparent": false
         },
         {
          "color_name": "Dark Orange",
          "hex": "#A95500",
          "name": "Newt's Case of Magical Creatures",
          "num_name": "75952-1: Newt's Case of Magical Creatures",
          "num_parts": 18,
          "quantity": 18,
          "theme_name": "Fantastic Beasts",
          "transparent": false
         },
         {
          "color_name": "Dark Purple",
          "hex": "#3F3691",
          "name": "Newt's Case of Magical Creatures",
          "num_name": "75952-1: Newt's Case of Magical Creatures",
          "num_parts": 9,
          "quantity": 9,
          "theme_name": "Fantastic Beasts",
          "transparent": false
         },
         {
          "color_name": "Dark Tan",
          "hex": "#958A73",
          "name": "Newt's Case of Magical Creatures",
          "num_name": "75952-1: Newt's Case of Magical Creatures",
          "num_parts": 37,
          "quantity": 37,
          "theme_name": "Fantastic Beasts",
          "transparent": false
         },
         {
          "color_name": "Flat Silver",
          "hex": "#898788",
          "name": "Newt's Case of Magical Creatures",
          "num_name": "75952-1: Newt's Case of Magical Creatures",
          "num_parts": 1,
          "quantity": 1,
          "theme_name": "Fantastic Beasts",
          "transparent": false
         },
         {
          "color_name": "Flesh",
          "hex": "#D09168",
          "name": "Newt's Case of Magical Creatures",
          "num_name": "75952-1: Newt's Case of Magical Creatures",
          "num_parts": 2,
          "quantity": 2,
          "theme_name": "Fantastic Beasts",
          "transparent": false
         },
         {
          "color_name": "Glitter Trans-Neon Green",
          "hex": "#C0F500",
          "name": "Newt's Case of Magical Creatures",
          "num_name": "75952-1: Newt's Case of Magical Creatures",
          "num_parts": 1,
          "quantity": 1,
          "theme_name": "Fantastic Beasts",
          "transparent": true
         },
         {
          "color_name": "Glitter Trans-Purple",
          "hex": "#A5A5CB",
          "name": "Newt's Case of Magical Creatures",
          "num_name": "75952-1: Newt's Case of Magical Creatures",
          "num_parts": 1,
          "quantity": 1,
          "theme_name": "Fantastic Beasts",
          "transparent": true
         },
         {
          "color_name": "Green",
          "hex": "#237841",
          "name": "Newt's Case of Magical Creatures",
          "num_name": "75952-1: Newt's Case of Magical Creatures",
          "num_parts": 3,
          "quantity": 3,
          "theme_name": "Fantastic Beasts",
          "transparent": false
         },
         {
          "color_name": "Light Bluish Gray",
          "hex": "#A0A5A9",
          "name": "Newt's Case of Magical Creatures",
          "num_name": "75952-1: Newt's Case of Magical Creatures",
          "num_parts": 56,
          "quantity": 56,
          "theme_name": "Fantastic Beasts",
          "transparent": false
         },
         {
          "color_name": "Light Flesh",
          "hex": "#F6D7B3",
          "name": "Newt's Case of Magical Creatures",
          "num_name": "75952-1: Newt's Case of Magical Creatures",
          "num_parts": 4,
          "quantity": 4,
          "theme_name": "Fantastic Beasts",
          "transparent": false
         },
         {
          "color_name": "Magenta",
          "hex": "#923978",
          "name": "Newt's Case of Magical Creatures",
          "num_name": "75952-1: Newt's Case of Magical Creatures",
          "num_parts": 2,
          "quantity": 2,
          "theme_name": "Fantastic Beasts",
          "transparent": false
         },
         {
          "color_name": "Medium Azure",
          "hex": "#36AEBF",
          "name": "Newt's Case of Magical Creatures",
          "num_name": "75952-1: Newt's Case of Magical Creatures",
          "num_parts": 27,
          "quantity": 27,
          "theme_name": "Fantastic Beasts",
          "transparent": false
         },
         {
          "color_name": "Medium Dark Flesh",
          "hex": "#CC702A",
          "name": "Newt's Case of Magical Creatures",
          "num_name": "75952-1: Newt's Case of Magical Creatures",
          "num_parts": 6,
          "quantity": 6,
          "theme_name": "Fantastic Beasts",
          "transparent": false
         },
         {
          "color_name": "Pearl Gold",
          "hex": "#AA7F2E",
          "name": "Newt's Case of Magical Creatures",
          "num_name": "75952-1: Newt's Case of Magical Creatures",
          "num_parts": 46,
          "quantity": 46,
          "theme_name": "Fantastic Beasts",
          "transparent": false
         },
         {
          "color_name": "Red",
          "hex": "#C91A09",
          "name": "Newt's Case of Magical Creatures",
          "num_name": "75952-1: Newt's Case of Magical Creatures",
          "num_parts": 2,
          "quantity": 2,
          "theme_name": "Fantastic Beasts",
          "transparent": true
         },
         {
          "color_name": "Reddish Brown",
          "hex": "#582A12",
          "name": "Newt's Case of Magical Creatures",
          "num_name": "75952-1: Newt's Case of Magical Creatures",
          "num_parts": 147,
          "quantity": 147,
          "theme_name": "Fantastic Beasts",
          "transparent": false
         },
         {
          "color_name": "Tan",
          "hex": "#E4CD9E",
          "name": "Newt's Case of Magical Creatures",
          "num_name": "75952-1: Newt's Case of Magical Creatures",
          "num_parts": 39,
          "quantity": 39,
          "theme_name": "Fantastic Beasts",
          "transparent": false
         },
         {
          "color_name": "Trans-Bright Green",
          "hex": "#D9E4A7",
          "name": "Newt's Case of Magical Creatures",
          "num_name": "75952-1: Newt's Case of Magical Creatures",
          "num_parts": 1,
          "quantity": 1,
          "theme_name": "Fantastic Beasts",
          "transparent": true
         },
         {
          "color_name": "Trans-Orange",
          "hex": "#F08F1C",
          "name": "Newt's Case of Magical Creatures",
          "num_name": "75952-1: Newt's Case of Magical Creatures",
          "num_parts": 7,
          "quantity": 7,
          "theme_name": "Fantastic Beasts",
          "transparent": true
         },
         {
          "color_name": "Trans-Purple",
          "hex": "#A5A5CB",
          "name": "Newt's Case of Magical Creatures",
          "num_name": "75952-1: Newt's Case of Magical Creatures",
          "num_parts": 1,
          "quantity": 1,
          "theme_name": "Fantastic Beasts",
          "transparent": true
         },
         {
          "color_name": "White",
          "hex": "#FFFFFF",
          "name": "Newt's Case of Magical Creatures",
          "num_name": "75952-1: Newt's Case of Magical Creatures",
          "num_parts": 40,
          "quantity": 40,
          "theme_name": "Fantastic Beasts",
          "transparent": false
         },
         {
          "color_name": "Yellow",
          "hex": "#F2CD37",
          "name": "Newt's Case of Magical Creatures",
          "num_name": "75952-1: Newt's Case of Magical Creatures",
          "num_parts": 2,
          "quantity": 2,
          "theme_name": "Fantastic Beasts",
          "transparent": false
         },
         {
          "color_name": "[No Color/Any Color]",
          "hex": "#05131D",
          "name": "Newt's Case of Magical Creatures",
          "num_name": "75952-1: Newt's Case of Magical Creatures",
          "num_parts": 1,
          "quantity": 1,
          "theme_name": "Fantastic Beasts",
          "transparent": false
         },
         {
          "color_name": "Black",
          "hex": "#05131D",
          "name": "Hogwarts Whomping Willow",
          "num_name": "75953-1: Hogwarts Whomping Willow",
          "num_parts": 61,
          "quantity": 61,
          "theme_name": "Fantastic Beasts",
          "transparent": false
         },
         {
          "color_name": "Blue",
          "hex": "#0055BF",
          "name": "Hogwarts Whomping Willow",
          "num_name": "75953-1: Hogwarts Whomping Willow",
          "num_parts": 4,
          "quantity": 4,
          "theme_name": "Fantastic Beasts",
          "transparent": false
         },
         {
          "color_name": "Dark Bluish Gray",
          "hex": "#6C6E68",
          "name": "Hogwarts Whomping Willow",
          "num_name": "75953-1: Hogwarts Whomping Willow",
          "num_parts": 53,
          "quantity": 53,
          "theme_name": "Fantastic Beasts",
          "transparent": false
         },
         {
          "color_name": "Dark Brown",
          "hex": "#352100",
          "name": "Hogwarts Whomping Willow",
          "num_name": "75953-1: Hogwarts Whomping Willow",
          "num_parts": 47,
          "quantity": 47,
          "theme_name": "Fantastic Beasts",
          "transparent": false
         },
         {
          "color_name": "Dark Green",
          "hex": "#184632",
          "name": "Hogwarts Whomping Willow",
          "num_name": "75953-1: Hogwarts Whomping Willow",
          "num_parts": 16,
          "quantity": 16,
          "theme_name": "Fantastic Beasts",
          "transparent": false
         },
         {
          "color_name": "Dark Orange",
          "hex": "#A95500",
          "name": "Hogwarts Whomping Willow",
          "num_name": "75953-1: Hogwarts Whomping Willow",
          "num_parts": 1,
          "quantity": 1,
          "theme_name": "Fantastic Beasts",
          "transparent": false
         },
         {
          "color_name": "Dark Pink",
          "hex": "#C870A0",
          "name": "Hogwarts Whomping Willow",
          "num_name": "75953-1: Hogwarts Whomping Willow",
          "num_parts": 2,
          "quantity": 2,
          "theme_name": "Fantastic Beasts",
          "transparent": false
         },
         {
          "color_name": "Dark Red",
          "hex": "#720E0F",
          "name": "Hogwarts Whomping Willow",
          "num_name": "75953-1: Hogwarts Whomping Willow",
          "num_parts": 1,
          "quantity": 1,
          "theme_name": "Fantastic Beasts",
          "transparent": false
         },
         {
          "color_name": "Dark Tan",
          "hex": "#958A73",
          "name": "Hogwarts Whomping Willow",
          "num_name": "75953-1: Hogwarts Whomping Willow",
          "num_parts": 32,
          "quantity": 32,
          "theme_name": "Fantastic Beasts",
          "transparent": false
         },
         {
          "color_name": "Flat Silver",
          "hex": "#898788",
          "name": "Hogwarts Whomping Willow",
          "num_name": "75953-1: Hogwarts Whomping Willow",
          "num_parts": 12,
          "quantity": 12,
          "theme_name": "Fantastic Beasts",
          "transparent": false
         },
         {
          "color_name": "Green",
          "hex": "#237841",
          "name": "Hogwarts Whomping Willow",
          "num_name": "75953-1: Hogwarts Whomping Willow",
          "num_parts": 13,
          "quantity": 13,
          "theme_name": "Fantastic Beasts",
          "transparent": false
         },
         {
          "color_name": "Light Bluish Gray",
          "hex": "#A0A5A9",
          "name": "Hogwarts Whomping Willow",
          "num_name": "75953-1: Hogwarts Whomping Willow",
          "num_parts": 75,
          "quantity": 75,
          "theme_name": "Fantastic Beasts",
          "transparent": false
         },
         {
          "color_name": "Light Flesh",
          "hex": "#F6D7B3",
          "name": "Hogwarts Whomping Willow",
          "num_name": "75953-1: Hogwarts Whomping Willow",
          "num_parts": 7,
          "quantity": 7,
          "theme_name": "Fantastic Beasts",
          "transparent": false
         },
         {
          "color_name": "Medium Blue",
          "hex": "#5A93DB",
          "name": "Hogwarts Whomping Willow",
          "num_name": "75953-1: Hogwarts Whomping Willow",
          "num_parts": 55,
          "quantity": 55,
          "theme_name": "Fantastic Beasts",
          "transparent": false
         },
         {
          "color_name": "Medium Dark Flesh",
          "hex": "#CC702A",
          "name": "Hogwarts Whomping Willow",
          "num_name": "75953-1: Hogwarts Whomping Willow",
          "num_parts": 38,
          "quantity": 38,
          "theme_name": "Fantastic Beasts",
          "transparent": false
         },
         {
          "color_name": "Olive Green",
          "hex": "#9B9A5A",
          "name": "Hogwarts Whomping Willow",
          "num_name": "75953-1: Hogwarts Whomping Willow",
          "num_parts": 14,
          "quantity": 14,
          "theme_name": "Fantastic Beasts",
          "transparent": false
         },
         {
          "color_name": "Orange",
          "hex": "#FE8A18",
          "name": "Hogwarts Whomping Willow",
          "num_name": "75953-1: Hogwarts Whomping Willow",
          "num_parts": 1,
          "quantity": 1,
          "theme_name": "Fantastic Beasts",
          "transparent": false
         },
         {
          "color_name": "Pearl Dark Gray",
          "hex": "#575857",
          "name": "Hogwarts Whomping Willow",
          "num_name": "75953-1: Hogwarts Whomping Willow",
          "num_parts": 3,
          "quantity": 3,
          "theme_name": "Fantastic Beasts",
          "transparent": false
         },
         {
          "color_name": "Pearl Gold",
          "hex": "#AA7F2E",
          "name": "Hogwarts Whomping Willow",
          "num_name": "75953-1: Hogwarts Whomping Willow",
          "num_parts": 3,
          "quantity": 3,
          "theme_name": "Fantastic Beasts",
          "transparent": false
         },
         {
          "color_name": "Red",
          "hex": "#C91A09",
          "name": "Hogwarts Whomping Willow",
          "num_name": "75953-1: Hogwarts Whomping Willow",
          "num_parts": 7,
          "quantity": 7,
          "theme_name": "Fantastic Beasts",
          "transparent": true
         },
         {
          "color_name": "Reddish Brown",
          "hex": "#582A12",
          "name": "Hogwarts Whomping Willow",
          "num_name": "75953-1: Hogwarts Whomping Willow",
          "num_parts": 94,
          "quantity": 94,
          "theme_name": "Fantastic Beasts",
          "transparent": false
         },
         {
          "color_name": "Sand Green",
          "hex": "#A0BCAC",
          "name": "Hogwarts Whomping Willow",
          "num_name": "75953-1: Hogwarts Whomping Willow",
          "num_parts": 1,
          "quantity": 1,
          "theme_name": "Fantastic Beasts",
          "transparent": false
         },
         {
          "color_name": "Tan",
          "hex": "#E4CD9E",
          "name": "Hogwarts Whomping Willow",
          "num_name": "75953-1: Hogwarts Whomping Willow",
          "num_parts": 137,
          "quantity": 137,
          "theme_name": "Fantastic Beasts",
          "transparent": false
         },
         {
          "color_name": "Trans-Black",
          "hex": "#635F52",
          "name": "Hogwarts Whomping Willow",
          "num_name": "75953-1: Hogwarts Whomping Willow",
          "num_parts": 3,
          "quantity": 3,
          "theme_name": "Fantastic Beasts",
          "transparent": true
         },
         {
          "color_name": "Trans-Bright Green",
          "hex": "#D9E4A7",
          "name": "Hogwarts Whomping Willow",
          "num_name": "75953-1: Hogwarts Whomping Willow",
          "num_parts": 1,
          "quantity": 1,
          "theme_name": "Fantastic Beasts",
          "transparent": true
         },
         {
          "color_name": "Trans-Clear",
          "hex": "#FCFCFC",
          "name": "Hogwarts Whomping Willow",
          "num_name": "75953-1: Hogwarts Whomping Willow",
          "num_parts": 14,
          "quantity": 14,
          "theme_name": "Fantastic Beasts",
          "transparent": true
         },
         {
          "color_name": "Trans-Dark Blue",
          "hex": "#0020A0",
          "name": "Hogwarts Whomping Willow",
          "num_name": "75953-1: Hogwarts Whomping Willow",
          "num_parts": 6,
          "quantity": 6,
          "theme_name": "Fantastic Beasts",
          "transparent": true
         },
         {
          "color_name": "Trans-Green",
          "hex": "#84B68D",
          "name": "Hogwarts Whomping Willow",
          "num_name": "75953-1: Hogwarts Whomping Willow",
          "num_parts": 4,
          "quantity": 4,
          "theme_name": "Fantastic Beasts",
          "transparent": true
         },
         {
          "color_name": "Trans-Orange",
          "hex": "#F08F1C",
          "name": "Hogwarts Whomping Willow",
          "num_name": "75953-1: Hogwarts Whomping Willow",
          "num_parts": 5,
          "quantity": 5,
          "theme_name": "Fantastic Beasts",
          "transparent": true
         },
         {
          "color_name": "Trans-Red",
          "hex": "#C91A09",
          "name": "Hogwarts Whomping Willow",
          "num_name": "75953-1: Hogwarts Whomping Willow",
          "num_parts": 8,
          "quantity": 8,
          "theme_name": "Fantastic Beasts",
          "transparent": true
         },
         {
          "color_name": "Trans-Yellow",
          "hex": "#F5CD2F",
          "name": "Hogwarts Whomping Willow",
          "num_name": "75953-1: Hogwarts Whomping Willow",
          "num_parts": 12,
          "quantity": 12,
          "theme_name": "Fantastic Beasts",
          "transparent": true
         },
         {
          "color_name": "White",
          "hex": "#FFFFFF",
          "name": "Hogwarts Whomping Willow",
          "num_name": "75953-1: Hogwarts Whomping Willow",
          "num_parts": 26,
          "quantity": 26,
          "theme_name": "Fantastic Beasts",
          "transparent": false
         },
         {
          "color_name": "Black",
          "hex": "#05131D",
          "name": "Hogwarts Great Hall",
          "num_name": "75954-1: Hogwarts Great Hall",
          "num_parts": 126,
          "quantity": 126,
          "theme_name": "Fantastic Beasts",
          "transparent": false
         },
         {
          "color_name": "Blue",
          "hex": "#0055BF",
          "name": "Hogwarts Great Hall",
          "num_name": "75954-1: Hogwarts Great Hall",
          "num_parts": 1,
          "quantity": 1,
          "theme_name": "Fantastic Beasts",
          "transparent": false
         },
         {
          "color_name": "Bright Green",
          "hex": "#4B9F4A",
          "name": "Hogwarts Great Hall",
          "num_name": "75954-1: Hogwarts Great Hall",
          "num_parts": 5,
          "quantity": 5,
          "theme_name": "Fantastic Beasts",
          "transparent": false
         },
         {
          "color_name": "Bright Light Orange",
          "hex": "#F8BB3D",
          "name": "Hogwarts Great Hall",
          "num_name": "75954-1: Hogwarts Great Hall",
          "num_parts": 6,
          "quantity": 6,
          "theme_name": "Fantastic Beasts",
          "transparent": false
         },
         {
          "color_name": "Bright Light Yellow",
          "hex": "#FFF03A",
          "name": "Hogwarts Great Hall",
          "num_name": "75954-1: Hogwarts Great Hall",
          "num_parts": 1,
          "quantity": 1,
          "theme_name": "Fantastic Beasts",
          "transparent": false
         },
         {
          "color_name": "Bright Pink",
          "hex": "#E4ADC8",
          "name": "Hogwarts Great Hall",
          "num_name": "75954-1: Hogwarts Great Hall",
          "num_parts": 5,
          "quantity": 5,
          "theme_name": "Fantastic Beasts",
          "transparent": false
         },
         {
          "color_name": "Dark Blue",
          "hex": "#0A3463",
          "name": "Hogwarts Great Hall",
          "num_name": "75954-1: Hogwarts Great Hall",
          "num_parts": 2,
          "quantity": 2,
          "theme_name": "Fantastic Beasts",
          "transparent": false
         },
         {
          "color_name": "Dark Bluish Gray",
          "hex": "#6C6E68",
          "name": "Hogwarts Great Hall",
          "num_name": "75954-1: Hogwarts Great Hall",
          "num_parts": 117,
          "quantity": 117,
          "theme_name": "Fantastic Beasts",
          "transparent": false
         },
         {
          "color_name": "Dark Brown",
          "hex": "#352100",
          "name": "Hogwarts Great Hall",
          "num_name": "75954-1: Hogwarts Great Hall",
          "num_parts": 20,
          "quantity": 20,
          "theme_name": "Fantastic Beasts",
          "transparent": false
         },
         {
          "color_name": "Dark Green",
          "hex": "#184632",
          "name": "Hogwarts Great Hall",
          "num_name": "75954-1: Hogwarts Great Hall",
          "num_parts": 6,
          "quantity": 6,
          "theme_name": "Fantastic Beasts",
          "transparent": false
         },
         {
          "color_name": "Dark Orange",
          "hex": "#A95500",
          "name": "Hogwarts Great Hall",
          "num_name": "75954-1: Hogwarts Great Hall",
          "num_parts": 14,
          "quantity": 14,
          "theme_name": "Fantastic Beasts",
          "transparent": false
         },
         {
          "color_name": "Dark Red",
          "hex": "#720E0F",
          "name": "Hogwarts Great Hall",
          "num_name": "75954-1: Hogwarts Great Hall",
          "num_parts": 11,
          "quantity": 11,
          "theme_name": "Fantastic Beasts",
          "transparent": false
         },
         {
          "color_name": "Dark Tan",
          "hex": "#958A73",
          "name": "Hogwarts Great Hall",
          "num_name": "75954-1: Hogwarts Great Hall",
          "num_parts": 12,
          "quantity": 12,
          "theme_name": "Fantastic Beasts",
          "transparent": false
         },
         {
          "color_name": "Flat Silver",
          "hex": "#898788",
          "name": "Hogwarts Great Hall",
          "num_name": "75954-1: Hogwarts Great Hall",
          "num_parts": 2,
          "quantity": 2,
          "theme_name": "Fantastic Beasts",
          "transparent": false
         },
         {
          "color_name": "Light Bluish Gray",
          "hex": "#A0A5A9",
          "name": "Hogwarts Great Hall",
          "num_name": "75954-1: Hogwarts Great Hall",
          "num_parts": 58,
          "quantity": 58,
          "theme_name": "Fantastic Beasts",
          "transparent": false
         },
         {
          "color_name": "Light Flesh",
          "hex": "#F6D7B3",
          "name": "Hogwarts Great Hall",
          "num_name": "75954-1: Hogwarts Great Hall",
          "num_parts": 9,
          "quantity": 9,
          "theme_name": "Fantastic Beasts",
          "transparent": false
         },
         {
          "color_name": "Medium Dark Flesh",
          "hex": "#CC702A",
          "name": "Hogwarts Great Hall",
          "num_name": "75954-1: Hogwarts Great Hall",
          "num_parts": 56,
          "quantity": 56,
          "theme_name": "Fantastic Beasts",
          "transparent": false
         },
         {
          "color_name": "Medium Lavender",
          "hex": "#AC78BA",
          "name": "Hogwarts Great Hall",
          "num_name": "75954-1: Hogwarts Great Hall",
          "num_parts": 1,
          "quantity": 1,
          "theme_name": "Fantastic Beasts",
          "transparent": false
         },
         {
          "color_name": "Orange",
          "hex": "#FE8A18",
          "name": "Hogwarts Great Hall",
          "num_name": "75954-1: Hogwarts Great Hall",
          "num_parts": 3,
          "quantity": 3,
          "theme_name": "Fantastic Beasts",
          "transparent": false
         },
         {
          "color_name": "Pearl Dark Gray",
          "hex": "#575857",
          "name": "Hogwarts Great Hall",
          "num_name": "75954-1: Hogwarts Great Hall",
          "num_parts": 2,
          "quantity": 2,
          "theme_name": "Fantastic Beasts",
          "transparent": false
         },
         {
          "color_name": "Pearl Gold",
          "hex": "#AA7F2E",
          "name": "Hogwarts Great Hall",
          "num_name": "75954-1: Hogwarts Great Hall",
          "num_parts": 38,
          "quantity": 38,
          "theme_name": "Fantastic Beasts",
          "transparent": false
         },
         {
          "color_name": "Red",
          "hex": "#C91A09",
          "name": "Hogwarts Great Hall",
          "num_name": "75954-1: Hogwarts Great Hall",
          "num_parts": 8,
          "quantity": 8,
          "theme_name": "Fantastic Beasts",
          "transparent": true
         },
         {
          "color_name": "Reddish Brown",
          "hex": "#582A12",
          "name": "Hogwarts Great Hall",
          "num_name": "75954-1: Hogwarts Great Hall",
          "num_parts": 92,
          "quantity": 92,
          "theme_name": "Fantastic Beasts",
          "transparent": false
         },
         {
          "color_name": "Sand Green",
          "hex": "#A0BCAC",
          "name": "Hogwarts Great Hall",
          "num_name": "75954-1: Hogwarts Great Hall",
          "num_parts": 3,
          "quantity": 3,
          "theme_name": "Fantastic Beasts",
          "transparent": false
         },
         {
          "color_name": "Tan",
          "hex": "#E4CD9E",
          "name": "Hogwarts Great Hall",
          "num_name": "75954-1: Hogwarts Great Hall",
          "num_parts": 272,
          "quantity": 272,
          "theme_name": "Fantastic Beasts",
          "transparent": false
         },
         {
          "color_name": "Trans-Bright Green",
          "hex": "#D9E4A7",
          "name": "Hogwarts Great Hall",
          "num_name": "75954-1: Hogwarts Great Hall",
          "num_parts": 4,
          "quantity": 4,
          "theme_name": "Fantastic Beasts",
          "transparent": true
         },
         {
          "color_name": "Trans-Clear",
          "hex": "#FCFCFC",
          "name": "Hogwarts Great Hall",
          "num_name": "75954-1: Hogwarts Great Hall",
          "num_parts": 2,
          "quantity": 2,
          "theme_name": "Fantastic Beasts",
          "transparent": true
         },
         {
          "color_name": "Trans-Dark Blue",
          "hex": "#0020A0",
          "name": "Hogwarts Great Hall",
          "num_name": "75954-1: Hogwarts Great Hall",
          "num_parts": 2,
          "quantity": 2,
          "theme_name": "Fantastic Beasts",
          "transparent": true
         },
         {
          "color_name": "Trans-Green",
          "hex": "#84B68D",
          "name": "Hogwarts Great Hall",
          "num_name": "75954-1: Hogwarts Great Hall",
          "num_parts": 2,
          "quantity": 2,
          "theme_name": "Fantastic Beasts",
          "transparent": true
         },
         {
          "color_name": "Trans-Light Blue",
          "hex": "#AEEFEC",
          "name": "Hogwarts Great Hall",
          "num_name": "75954-1: Hogwarts Great Hall",
          "num_parts": 1,
          "quantity": 1,
          "theme_name": "Fantastic Beasts",
          "transparent": true
         },
         {
          "color_name": "Trans-Neon Green",
          "hex": "#F8F184",
          "name": "Hogwarts Great Hall",
          "num_name": "75954-1: Hogwarts Great Hall",
          "num_parts": 1,
          "quantity": 1,
          "theme_name": "Fantastic Beasts",
          "transparent": true
         },
         {
          "color_name": "Trans-Orange",
          "hex": "#F08F1C",
          "name": "Hogwarts Great Hall",
          "num_name": "75954-1: Hogwarts Great Hall",
          "num_parts": 9,
          "quantity": 9,
          "theme_name": "Fantastic Beasts",
          "transparent": true
         },
         {
          "color_name": "Trans-Purple",
          "hex": "#A5A5CB",
          "name": "Hogwarts Great Hall",
          "num_name": "75954-1: Hogwarts Great Hall",
          "num_parts": 2,
          "quantity": 2,
          "theme_name": "Fantastic Beasts",
          "transparent": true
         },
         {
          "color_name": "Trans-Red",
          "hex": "#C91A09",
          "name": "Hogwarts Great Hall",
          "num_name": "75954-1: Hogwarts Great Hall",
          "num_parts": 3,
          "quantity": 3,
          "theme_name": "Fantastic Beasts",
          "transparent": true
         },
         {
          "color_name": "Trans-Yellow",
          "hex": "#F5CD2F",
          "name": "Hogwarts Great Hall",
          "num_name": "75954-1: Hogwarts Great Hall",
          "num_parts": 6,
          "quantity": 6,
          "theme_name": "Fantastic Beasts",
          "transparent": true
         },
         {
          "color_name": "White",
          "hex": "#FFFFFF",
          "name": "Hogwarts Great Hall",
          "num_name": "75954-1: Hogwarts Great Hall",
          "num_parts": 16,
          "quantity": 16,
          "theme_name": "Fantastic Beasts",
          "transparent": false
         },
         {
          "color_name": "Yellow",
          "hex": "#F2CD37",
          "name": "Hogwarts Great Hall",
          "num_name": "75954-1: Hogwarts Great Hall",
          "num_parts": 1,
          "quantity": 1,
          "theme_name": "Fantastic Beasts",
          "transparent": false
         },
         {
          "color_name": "[No Color/Any Color]",
          "hex": "#05131D",
          "name": "Hogwarts Great Hall",
          "num_name": "75954-1: Hogwarts Great Hall",
          "num_parts": 2,
          "quantity": 2,
          "theme_name": "Fantastic Beasts",
          "transparent": false
         },
         {
          "color_name": "Black",
          "hex": "#05131D",
          "name": "Hogwarts Express (4th Edition)",
          "num_name": "75955-1: Hogwarts Express (4th Edition)",
          "num_parts": 237,
          "quantity": 237,
          "theme_name": "Fantastic Beasts",
          "transparent": false
         },
         {
          "color_name": "Bright Light Orange",
          "hex": "#F8BB3D",
          "name": "Hogwarts Express (4th Edition)",
          "num_name": "75955-1: Hogwarts Express (4th Edition)",
          "num_parts": 1,
          "quantity": 1,
          "theme_name": "Fantastic Beasts",
          "transparent": false
         },
         {
          "color_name": "Chrome Silver",
          "hex": "#E0E0E0",
          "name": "Hogwarts Express (4th Edition)",
          "num_name": "75955-1: Hogwarts Express (4th Edition)",
          "num_parts": 4,
          "quantity": 4,
          "theme_name": "Fantastic Beasts",
          "transparent": false
         },
         {
          "color_name": "Dark Blue",
          "hex": "#0A3463",
          "name": "Hogwarts Express (4th Edition)",
          "num_name": "75955-1: Hogwarts Express (4th Edition)",
          "num_parts": 2,
          "quantity": 2,
          "theme_name": "Fantastic Beasts",
          "transparent": false
         },
         {
          "color_name": "Dark Bluish Gray",
          "hex": "#6C6E68",
          "name": "Hogwarts Express (4th Edition)",
          "num_name": "75955-1: Hogwarts Express (4th Edition)",
          "num_parts": 95,
          "quantity": 95,
          "theme_name": "Fantastic Beasts",
          "transparent": false
         },
         {
          "color_name": "Dark Brown",
          "hex": "#352100",
          "name": "Hogwarts Express (4th Edition)",
          "num_name": "75955-1: Hogwarts Express (4th Edition)",
          "num_parts": 13,
          "quantity": 13,
          "theme_name": "Fantastic Beasts",
          "transparent": false
         },
         {
          "color_name": "Dark Orange",
          "hex": "#A95500",
          "name": "Hogwarts Express (4th Edition)",
          "num_name": "75955-1: Hogwarts Express (4th Edition)",
          "num_parts": 1,
          "quantity": 1,
          "theme_name": "Fantastic Beasts",
          "transparent": false
         },
         {
          "color_name": "Dark Red",
          "hex": "#720E0F",
          "name": "Hogwarts Express (4th Edition)",
          "num_name": "75955-1: Hogwarts Express (4th Edition)",
          "num_parts": 1,
          "quantity": 1,
          "theme_name": "Fantastic Beasts",
          "transparent": false
         },
         {
          "color_name": "Dark Tan",
          "hex": "#958A73",
          "name": "Hogwarts Express (4th Edition)",
          "num_name": "75955-1: Hogwarts Express (4th Edition)",
          "num_parts": 17,
          "quantity": 17,
          "theme_name": "Fantastic Beasts",
          "transparent": false
         },
         {
          "color_name": "Flat Silver",
          "hex": "#898788",
          "name": "Hogwarts Express (4th Edition)",
          "num_name": "75955-1: Hogwarts Express (4th Edition)",
          "num_parts": 3,
          "quantity": 3,
          "theme_name": "Fantastic Beasts",
          "transparent": false
         },
         {
          "color_name": "Light Bluish Gray",
          "hex": "#A0A5A9",
          "name": "Hogwarts Express (4th Edition)",
          "num_name": "75955-1: Hogwarts Express (4th Edition)",
          "num_parts": 79,
          "quantity": 79,
          "theme_name": "Fantastic Beasts",
          "transparent": false
         },
         {
          "color_name": "Light Flesh",
          "hex": "#F6D7B3",
          "name": "Hogwarts Express (4th Edition)",
          "num_name": "75955-1: Hogwarts Express (4th Edition)",
          "num_parts": 5,
          "quantity": 5,
          "theme_name": "Fantastic Beasts",
          "transparent": false
         },
         {
          "color_name": "Medium Dark Flesh",
          "hex": "#CC702A",
          "name": "Hogwarts Express (4th Edition)",
          "num_name": "75955-1: Hogwarts Express (4th Edition)",
          "num_parts": 9,
          "quantity": 9,
          "theme_name": "Fantastic Beasts",
          "transparent": false
         },
         {
          "color_name": "Metallic Gold",
          "hex": "#DBAC34",
          "name": "Hogwarts Express (4th Edition)",
          "num_name": "75955-1: Hogwarts Express (4th Edition)",
          "num_parts": 2,
          "quantity": 2,
          "theme_name": "Fantastic Beasts",
          "transparent": false
         },
         {
          "color_name": "Orange",
          "hex": "#FE8A18",
          "name": "Hogwarts Express (4th Edition)",
          "num_name": "75955-1: Hogwarts Express (4th Edition)",
          "num_parts": 1,
          "quantity": 1,
          "theme_name": "Fantastic Beasts",
          "transparent": false
         },
         {
          "color_name": "Pearl Dark Gray",
          "hex": "#575857",
          "name": "Hogwarts Express (4th Edition)",
          "num_name": "75955-1: Hogwarts Express (4th Edition)",
          "num_parts": 16,
          "quantity": 16,
          "theme_name": "Fantastic Beasts",
          "transparent": false
         },
         {
          "color_name": "Pearl Gold",
          "hex": "#AA7F2E",
          "name": "Hogwarts Express (4th Edition)",
          "num_name": "75955-1: Hogwarts Express (4th Edition)",
          "num_parts": 9,
          "quantity": 9,
          "theme_name": "Fantastic Beasts",
          "transparent": false
         },
         {
          "color_name": "Red",
          "hex": "#C91A09",
          "name": "Hogwarts Express (4th Edition)",
          "num_name": "75955-1: Hogwarts Express (4th Edition)",
          "num_parts": 160,
          "quantity": 160,
          "theme_name": "Fantastic Beasts",
          "transparent": true
         },
         {
          "color_name": "Reddish Brown",
          "hex": "#582A12",
          "name": "Hogwarts Express (4th Edition)",
          "num_name": "75955-1: Hogwarts Express (4th Edition)",
          "num_parts": 65,
          "quantity": 65,
          "theme_name": "Fantastic Beasts",
          "transparent": false
         },
         {
          "color_name": "Sand Blue",
          "hex": "#6074A1",
          "name": "Hogwarts Express (4th Edition)",
          "num_name": "75955-1: Hogwarts Express (4th Edition)",
          "num_parts": 21,
          "quantity": 21,
          "theme_name": "Fantastic Beasts",
          "transparent": false
         },
         {
          "color_name": "Sand Green",
          "hex": "#A0BCAC",
          "name": "Hogwarts Express (4th Edition)",
          "num_name": "75955-1: Hogwarts Express (4th Edition)",
          "num_parts": 5,
          "quantity": 5,
          "theme_name": "Fantastic Beasts",
          "transparent": false
         },
         {
          "color_name": "Tan",
          "hex": "#E4CD9E",
          "name": "Hogwarts Express (4th Edition)",
          "num_name": "75955-1: Hogwarts Express (4th Edition)",
          "num_parts": 51,
          "quantity": 51,
          "theme_name": "Fantastic Beasts",
          "transparent": false
         },
         {
          "color_name": "Trans-Clear",
          "hex": "#FCFCFC",
          "name": "Hogwarts Express (4th Edition)",
          "num_name": "75955-1: Hogwarts Express (4th Edition)",
          "num_parts": 15,
          "quantity": 15,
          "theme_name": "Fantastic Beasts",
          "transparent": true
         },
         {
          "color_name": "Trans-Orange",
          "hex": "#F08F1C",
          "name": "Hogwarts Express (4th Edition)",
          "num_name": "75955-1: Hogwarts Express (4th Edition)",
          "num_parts": 3,
          "quantity": 3,
          "theme_name": "Fantastic Beasts",
          "transparent": true
         },
         {
          "color_name": "Trans-Yellow",
          "hex": "#F5CD2F",
          "name": "Hogwarts Express (4th Edition)",
          "num_name": "75955-1: Hogwarts Express (4th Edition)",
          "num_parts": 2,
          "quantity": 2,
          "theme_name": "Fantastic Beasts",
          "transparent": true
         },
         {
          "color_name": "White",
          "hex": "#FFFFFF",
          "name": "Hogwarts Express (4th Edition)",
          "num_name": "75955-1: Hogwarts Express (4th Edition)",
          "num_parts": 9,
          "quantity": 9,
          "theme_name": "Fantastic Beasts",
          "transparent": false
         },
         {
          "color_name": "[No Color/Any Color]",
          "hex": "#05131D",
          "name": "Hogwarts Express (4th Edition)",
          "num_name": "75955-1: Hogwarts Express (4th Edition)",
          "num_parts": 1,
          "quantity": 1,
          "theme_name": "Fantastic Beasts",
          "transparent": false
         },
         {
          "color_name": "Black",
          "hex": "#05131D",
          "name": "Quidditch Match",
          "num_name": "75956-1: Quidditch Match",
          "num_parts": 69,
          "quantity": 69,
          "theme_name": "Fantastic Beasts",
          "transparent": false
         },
         {
          "color_name": "Blue",
          "hex": "#0055BF",
          "name": "Quidditch Match",
          "num_name": "75956-1: Quidditch Match",
          "num_parts": 31,
          "quantity": 31,
          "theme_name": "Fantastic Beasts",
          "transparent": false
         },
         {
          "color_name": "Bright Green",
          "hex": "#4B9F4A",
          "name": "Quidditch Match",
          "num_name": "75956-1: Quidditch Match",
          "num_parts": 2,
          "quantity": 2,
          "theme_name": "Fantastic Beasts",
          "transparent": false
         },
         {
          "color_name": "Dark Bluish Gray",
          "hex": "#6C6E68",
          "name": "Quidditch Match",
          "num_name": "75956-1: Quidditch Match",
          "num_parts": 17,
          "quantity": 17,
          "theme_name": "Fantastic Beasts",
          "transparent": false
         },
         {
          "color_name": "Dark Brown",
          "hex": "#352100",
          "name": "Quidditch Match",
          "num_name": "75956-1: Quidditch Match",
          "num_parts": 1,
          "quantity": 1,
          "theme_name": "Fantastic Beasts",
          "transparent": false
         },
         {
          "color_name": "Dark Green",
          "hex": "#184632",
          "name": "Quidditch Match",
          "num_name": "75956-1: Quidditch Match",
          "num_parts": 4,
          "quantity": 4,
          "theme_name": "Fantastic Beasts",
          "transparent": false
         },
         {
          "color_name": "Dark Red",
          "hex": "#720E0F",
          "name": "Quidditch Match",
          "num_name": "75956-1: Quidditch Match",
          "num_parts": 4,
          "quantity": 4,
          "theme_name": "Fantastic Beasts",
          "transparent": false
         },
         {
          "color_name": "Dark Tan",
          "hex": "#958A73",
          "name": "Quidditch Match",
          "num_name": "75956-1: Quidditch Match",
          "num_parts": 3,
          "quantity": 3,
          "theme_name": "Fantastic Beasts",
          "transparent": false
         },
         {
          "color_name": "Flat Silver",
          "hex": "#898788",
          "name": "Quidditch Match",
          "num_name": "75956-1: Quidditch Match",
          "num_parts": 6,
          "quantity": 6,
          "theme_name": "Fantastic Beasts",
          "transparent": false
         },
         {
          "color_name": "Green",
          "hex": "#237841",
          "name": "Quidditch Match",
          "num_name": "75956-1: Quidditch Match",
          "num_parts": 48,
          "quantity": 48,
          "theme_name": "Fantastic Beasts",
          "transparent": false
         },
         {
          "color_name": "Light Bluish Gray",
          "hex": "#A0A5A9",
          "name": "Quidditch Match",
          "num_name": "75956-1: Quidditch Match",
          "num_parts": 98,
          "quantity": 98,
          "theme_name": "Fantastic Beasts",
          "transparent": false
         },
         {
          "color_name": "Light Flesh",
          "hex": "#F6D7B3",
          "name": "Quidditch Match",
          "num_name": "75956-1: Quidditch Match",
          "num_parts": 6,
          "quantity": 6,
          "theme_name": "Fantastic Beasts",
          "transparent": false
         },
         {
          "color_name": "Pearl Gold",
          "hex": "#AA7F2E",
          "name": "Quidditch Match",
          "num_name": "75956-1: Quidditch Match",
          "num_parts": 8,
          "quantity": 8,
          "theme_name": "Fantastic Beasts",
          "transparent": false
         },
         {
          "color_name": "Red",
          "hex": "#C91A09",
          "name": "Quidditch Match",
          "num_name": "75956-1: Quidditch Match",
          "num_parts": 50,
          "quantity": 50,
          "theme_name": "Fantastic Beasts",
          "transparent": true
         },
         {
          "color_name": "Reddish Brown",
          "hex": "#582A12",
          "name": "Quidditch Match",
          "num_name": "75956-1: Quidditch Match",
          "num_parts": 64,
          "quantity": 64,
          "theme_name": "Fantastic Beasts",
          "transparent": false
         },
         {
          "color_name": "Tan",
          "hex": "#E4CD9E",
          "name": "Quidditch Match",
          "num_name": "75956-1: Quidditch Match",
          "num_parts": 20,
          "quantity": 20,
          "theme_name": "Fantastic Beasts",
          "transparent": false
         },
         {
          "color_name": "Trans-Clear",
          "hex": "#FCFCFC",
          "name": "Quidditch Match",
          "num_name": "75956-1: Quidditch Match",
          "num_parts": 3,
          "quantity": 3,
          "theme_name": "Fantastic Beasts",
          "transparent": true
         },
         {
          "color_name": "Trans-Neon Orange",
          "hex": "#FF800D",
          "name": "Quidditch Match",
          "num_name": "75956-1: Quidditch Match",
          "num_parts": 1,
          "quantity": 1,
          "theme_name": "Fantastic Beasts",
          "transparent": true
         },
         {
          "color_name": "White",
          "hex": "#FFFFFF",
          "name": "Quidditch Match",
          "num_name": "75956-1: Quidditch Match",
          "num_parts": 6,
          "quantity": 6,
          "theme_name": "Fantastic Beasts",
          "transparent": false
         },
         {
          "color_name": "Yellow",
          "hex": "#F2CD37",
          "name": "Quidditch Match",
          "num_name": "75956-1: Quidditch Match",
          "num_parts": 60,
          "quantity": 60,
          "theme_name": "Fantastic Beasts",
          "transparent": false
         },
         {
          "color_name": "Black",
          "hex": "#05131D",
          "name": "Golden Snitch",
          "num_name": "HP-SNITCH: Golden Snitch",
          "num_parts": 3,
          "quantity": 3,
          "theme_name": "Fantastic Beasts",
          "transparent": false
         },
         {
          "color_name": "Bright Light Orange",
          "hex": "#F8BB3D",
          "name": "Golden Snitch",
          "num_name": "HP-SNITCH: Golden Snitch",
          "num_parts": 26,
          "quantity": 26,
          "theme_name": "Fantastic Beasts",
          "transparent": false
         },
         {
          "color_name": "Light Bluish Gray",
          "hex": "#A0A5A9",
          "name": "Golden Snitch",
          "num_name": "HP-SNITCH: Golden Snitch",
          "num_parts": 2,
          "quantity": 2,
          "theme_name": "Fantastic Beasts",
          "transparent": false
         },
         {
          "color_name": "White",
          "hex": "#FFFFFF",
          "name": "Golden Snitch",
          "num_name": "HP-SNITCH: Golden Snitch",
          "num_parts": 4,
          "quantity": 4,
          "theme_name": "Fantastic Beasts",
          "transparent": false
         },
         {
          "color_name": "Black",
          "hex": "#05131D",
          "name": "Rescue from the Merpeople",
          "num_name": "4762-1: Rescue from the Merpeople",
          "num_parts": 8,
          "quantity": 8,
          "theme_name": "Goblet of Fire",
          "transparent": false
         },
         {
          "color_name": "Blue",
          "hex": "#0055BF",
          "name": "Rescue from the Merpeople",
          "num_name": "4762-1: Rescue from the Merpeople",
          "num_parts": 26,
          "quantity": 26,
          "theme_name": "Goblet of Fire",
          "transparent": false
         },
         {
          "color_name": "Bright Light Orange",
          "hex": "#F8BB3D",
          "name": "Rescue from the Merpeople",
          "num_name": "4762-1: Rescue from the Merpeople",
          "num_parts": 1,
          "quantity": 1,
          "theme_name": "Goblet of Fire",
          "transparent": false
         },
         {
          "color_name": "Chrome Silver",
          "hex": "#E0E0E0",
          "name": "Rescue from the Merpeople",
          "num_name": "4762-1: Rescue from the Merpeople",
          "num_parts": 2,
          "quantity": 2,
          "theme_name": "Goblet of Fire",
          "transparent": false
         },
         {
          "color_name": "Dark Blue",
          "hex": "#0A3463",
          "name": "Rescue from the Merpeople",
          "num_name": "4762-1: Rescue from the Merpeople",
          "num_parts": 16,
          "quantity": 16,
          "theme_name": "Goblet of Fire",
          "transparent": false
         },
         {
          "color_name": "Dark Bluish Gray",
          "hex": "#6C6E68",
          "name": "Rescue from the Merpeople",
          "num_name": "4762-1: Rescue from the Merpeople",
          "num_parts": 26,
          "quantity": 26,
          "theme_name": "Goblet of Fire",
          "transparent": false
         },
         {
          "color_name": "Dark Green",
          "hex": "#184632",
          "name": "Rescue from the Merpeople",
          "num_name": "4762-1: Rescue from the Merpeople",
          "num_parts": 10,
          "quantity": 10,
          "theme_name": "Goblet of Fire",
          "transparent": false
         },
         {
          "color_name": "Dark Orange",
          "hex": "#A95500",
          "name": "Rescue from the Merpeople",
          "num_name": "4762-1: Rescue from the Merpeople",
          "num_parts": 1,
          "quantity": 1,
          "theme_name": "Goblet of Fire",
          "transparent": false
         },
         {
          "color_name": "Dark Red",
          "hex": "#720E0F",
          "name": "Rescue from the Merpeople",
          "num_name": "4762-1: Rescue from the Merpeople",
          "num_parts": 1,
          "quantity": 1,
          "theme_name": "Goblet of Fire",
          "transparent": false
         },
         {
          "color_name": "Dark Tan",
          "hex": "#958A73",
          "name": "Rescue from the Merpeople",
          "num_name": "4762-1: Rescue from the Merpeople",
          "num_parts": 1,
          "quantity": 1,
          "theme_name": "Goblet of Fire",
          "transparent": false
         },
         {
          "color_name": "Green",
          "hex": "#237841",
          "name": "Rescue from the Merpeople",
          "num_name": "4762-1: Rescue from the Merpeople",
          "num_parts": 12,
          "quantity": 12,
          "theme_name": "Goblet of Fire",
          "transparent": false
         },
         {
          "color_name": "Light Bluish Gray",
          "hex": "#A0A5A9",
          "name": "Rescue from the Merpeople",
          "num_name": "4762-1: Rescue from the Merpeople",
          "num_parts": 8,
          "quantity": 8,
          "theme_name": "Goblet of Fire",
          "transparent": false
         },
         {
          "color_name": "Light Flesh",
          "hex": "#F6D7B3",
          "name": "Rescue from the Merpeople",
          "num_name": "4762-1: Rescue from the Merpeople",
          "num_parts": 6,
          "quantity": 6,
          "theme_name": "Goblet of Fire",
          "transparent": false
         },
         {
          "color_name": "Medium Blue",
          "hex": "#5A93DB",
          "name": "Rescue from the Merpeople",
          "num_name": "4762-1: Rescue from the Merpeople",
          "num_parts": 25,
          "quantity": 25,
          "theme_name": "Goblet of Fire",
          "transparent": false
         },
         {
          "color_name": "Orange",
          "hex": "#FE8A18",
          "name": "Rescue from the Merpeople",
          "num_name": "4762-1: Rescue from the Merpeople",
          "num_parts": 2,
          "quantity": 2,
          "theme_name": "Goblet of Fire",
          "transparent": false
         },
         {
          "color_name": "Red",
          "hex": "#C91A09",
          "name": "Rescue from the Merpeople",
          "num_name": "4762-1: Rescue from the Merpeople",
          "num_parts": 2,
          "quantity": 2,
          "theme_name": "Goblet of Fire",
          "transparent": true
         },
         {
          "color_name": "Reddish Brown",
          "hex": "#582A12",
          "name": "Rescue from the Merpeople",
          "num_name": "4762-1: Rescue from the Merpeople",
          "num_parts": 6,
          "quantity": 6,
          "theme_name": "Goblet of Fire",
          "transparent": false
         },
         {
          "color_name": "Sand Blue",
          "hex": "#6074A1",
          "name": "Rescue from the Merpeople",
          "num_name": "4762-1: Rescue from the Merpeople",
          "num_parts": 1,
          "quantity": 1,
          "theme_name": "Goblet of Fire",
          "transparent": false
         },
         {
          "color_name": "Trans-Dark Blue",
          "hex": "#0020A0",
          "name": "Rescue from the Merpeople",
          "num_name": "4762-1: Rescue from the Merpeople",
          "num_parts": 10,
          "quantity": 10,
          "theme_name": "Goblet of Fire",
          "transparent": true
         },
         {
          "color_name": "Trans-Green",
          "hex": "#84B68D",
          "name": "Rescue from the Merpeople",
          "num_name": "4762-1: Rescue from the Merpeople",
          "num_parts": 11,
          "quantity": 11,
          "theme_name": "Goblet of Fire",
          "transparent": true
         },
         {
          "color_name": "Trans-Light Blue",
          "hex": "#AEEFEC",
          "name": "Rescue from the Merpeople",
          "num_name": "4762-1: Rescue from the Merpeople",
          "num_parts": 1,
          "quantity": 1,
          "theme_name": "Goblet of Fire",
          "transparent": true
         },
         {
          "color_name": "Trans-Neon Orange",
          "hex": "#FF800D",
          "name": "Rescue from the Merpeople",
          "num_name": "4762-1: Rescue from the Merpeople",
          "num_parts": 3,
          "quantity": 3,
          "theme_name": "Goblet of Fire",
          "transparent": true
         },
         {
          "color_name": "Black",
          "hex": "#05131D",
          "name": "Graveyard Duel",
          "num_name": "4766-1: Graveyard Duel",
          "num_parts": 129,
          "quantity": 129,
          "theme_name": "Goblet of Fire",
          "transparent": false
         },
         {
          "color_name": "Chrome Silver",
          "hex": "#E0E0E0",
          "name": "Graveyard Duel",
          "num_name": "4766-1: Graveyard Duel",
          "num_parts": 2,
          "quantity": 2,
          "theme_name": "Goblet of Fire",
          "transparent": false
         },
         {
          "color_name": "Dark Bluish Gray",
          "hex": "#6C6E68",
          "name": "Graveyard Duel",
          "num_name": "4766-1: Graveyard Duel",
          "num_parts": 145,
          "quantity": 145,
          "theme_name": "Goblet of Fire",
          "transparent": false
         },
         {
          "color_name": "Dark Orange",
          "hex": "#A95500",
          "name": "Graveyard Duel",
          "num_name": "4766-1: Graveyard Duel",
          "num_parts": 1,
          "quantity": 1,
          "theme_name": "Goblet of Fire",
          "transparent": false
         },
         {
          "color_name": "Glow In Dark Opaque",
          "hex": "#D4D5C9",
          "name": "Graveyard Duel",
          "num_name": "4766-1: Graveyard Duel",
          "num_parts": 1,
          "quantity": 1,
          "theme_name": "Goblet of Fire",
          "transparent": false
         },
         {
          "color_name": "Green",
          "hex": "#237841",
          "name": "Graveyard Duel",
          "num_name": "4766-1: Graveyard Duel",
          "num_parts": 9,
          "quantity": 9,
          "theme_name": "Goblet of Fire",
          "transparent": false
         },
         {
          "color_name": "Light Bluish Gray",
          "hex": "#A0A5A9",
          "name": "Graveyard Duel",
          "num_name": "4766-1: Graveyard Duel",
          "num_parts": 58,
          "quantity": 58,
          "theme_name": "Goblet of Fire",
          "transparent": false
         },
         {
          "color_name": "Light Flesh",
          "hex": "#F6D7B3",
          "name": "Graveyard Duel",
          "num_name": "4766-1: Graveyard Duel",
          "num_parts": 3,
          "quantity": 3,
          "theme_name": "Goblet of Fire",
          "transparent": false
         },
         {
          "color_name": "Red",
          "hex": "#C91A09",
          "name": "Graveyard Duel",
          "num_name": "4766-1: Graveyard Duel",
          "num_parts": 7,
          "quantity": 7,
          "theme_name": "Goblet of Fire",
          "transparent": true
         },
         {
          "color_name": "Reddish Brown",
          "hex": "#582A12",
          "name": "Graveyard Duel",
          "num_name": "4766-1: Graveyard Duel",
          "num_parts": 66,
          "quantity": 66,
          "theme_name": "Goblet of Fire",
          "transparent": false
         },
         {
          "color_name": "Sand Green",
          "hex": "#A0BCAC",
          "name": "Graveyard Duel",
          "num_name": "4766-1: Graveyard Duel",
          "num_parts": 14,
          "quantity": 14,
          "theme_name": "Goblet of Fire",
          "transparent": false
         },
         {
          "color_name": "Tan",
          "hex": "#E4CD9E",
          "name": "Graveyard Duel",
          "num_name": "4766-1: Graveyard Duel",
          "num_parts": 77,
          "quantity": 77,
          "theme_name": "Goblet of Fire",
          "transparent": false
         },
         {
          "color_name": "Trans-Clear",
          "hex": "#FCFCFC",
          "name": "Graveyard Duel",
          "num_name": "4766-1: Graveyard Duel",
          "num_parts": 3,
          "quantity": 3,
          "theme_name": "Goblet of Fire",
          "transparent": true
         },
         {
          "color_name": "Trans-Neon Orange",
          "hex": "#FF800D",
          "name": "Graveyard Duel",
          "num_name": "4766-1: Graveyard Duel",
          "num_parts": 7,
          "quantity": 7,
          "theme_name": "Goblet of Fire",
          "transparent": true
         },
         {
          "color_name": "Trans-Red",
          "hex": "#C91A09",
          "name": "Graveyard Duel",
          "num_name": "4766-1: Graveyard Duel",
          "num_parts": 3,
          "quantity": 3,
          "theme_name": "Goblet of Fire",
          "transparent": true
         },
         {
          "color_name": "Trans-Yellow",
          "hex": "#F5CD2F",
          "name": "Graveyard Duel",
          "num_name": "4766-1: Graveyard Duel",
          "num_parts": 3,
          "quantity": 3,
          "theme_name": "Goblet of Fire",
          "transparent": true
         },
         {
          "color_name": "White",
          "hex": "#FFFFFF",
          "name": "Graveyard Duel",
          "num_name": "4766-1: Graveyard Duel",
          "num_parts": 39,
          "quantity": 39,
          "theme_name": "Goblet of Fire",
          "transparent": false
         },
         {
          "color_name": "[No Color/Any Color]",
          "hex": "#05131D",
          "name": "Graveyard Duel",
          "num_name": "4766-1: Graveyard Duel",
          "num_parts": 1,
          "quantity": 1,
          "theme_name": "Goblet of Fire",
          "transparent": false
         },
         {
          "color_name": "Black",
          "hex": "#05131D",
          "name": "Harry and the Hungarian Horntail",
          "num_name": "4767-1: Harry and the Hungarian Horntail",
          "num_parts": 45,
          "quantity": 45,
          "theme_name": "Goblet of Fire",
          "transparent": false
         },
         {
          "color_name": "Blue",
          "hex": "#0055BF",
          "name": "Harry and the Hungarian Horntail",
          "num_name": "4767-1: Harry and the Hungarian Horntail",
          "num_parts": 2,
          "quantity": 2,
          "theme_name": "Goblet of Fire",
          "transparent": false
         },
         {
          "color_name": "Dark Bluish Gray",
          "hex": "#6C6E68",
          "name": "Harry and the Hungarian Horntail",
          "num_name": "4767-1: Harry and the Hungarian Horntail",
          "num_parts": 34,
          "quantity": 34,
          "theme_name": "Goblet of Fire",
          "transparent": false
         },
         {
          "color_name": "Dark Orange",
          "hex": "#A95500",
          "name": "Harry and the Hungarian Horntail",
          "num_name": "4767-1: Harry and the Hungarian Horntail",
          "num_parts": 61,
          "quantity": 61,
          "theme_name": "Goblet of Fire",
          "transparent": false
         },
         {
          "color_name": "Dark Tan",
          "hex": "#958A73",
          "name": "Harry and the Hungarian Horntail",
          "num_name": "4767-1: Harry and the Hungarian Horntail",
          "num_parts": 1,
          "quantity": 1,
          "theme_name": "Goblet of Fire",
          "transparent": false
         },
         {
          "color_name": "Light Bluish Gray",
          "hex": "#A0A5A9",
          "name": "Harry and the Hungarian Horntail",
          "num_name": "4767-1: Harry and the Hungarian Horntail",
          "num_parts": 61,
          "quantity": 61,
          "theme_name": "Goblet of Fire",
          "transparent": false
         },
         {
          "color_name": "Light Flesh",
          "hex": "#F6D7B3",
          "name": "Harry and the Hungarian Horntail",
          "num_name": "4767-1: Harry and the Hungarian Horntail",
          "num_parts": 3,
          "quantity": 3,
          "theme_name": "Goblet of Fire",
          "transparent": false
         },
         {
          "color_name": "Pearl Gold",
          "hex": "#AA7F2E",
          "name": "Harry and the Hungarian Horntail",
          "num_name": "4767-1: Harry and the Hungarian Horntail",
          "num_parts": 1,
          "quantity": 1,
          "theme_name": "Goblet of Fire",
          "transparent": false
         },
         {
          "color_name": "Red",
          "hex": "#C91A09",
          "name": "Harry and the Hungarian Horntail",
          "num_name": "4767-1: Harry and the Hungarian Horntail",
          "num_parts": 4,
          "quantity": 4,
          "theme_name": "Goblet of Fire",
          "transparent": true
         },
         {
          "color_name": "Reddish Brown",
          "hex": "#582A12",
          "name": "Harry and the Hungarian Horntail",
          "num_name": "4767-1: Harry and the Hungarian Horntail",
          "num_parts": 11,
          "quantity": 11,
          "theme_name": "Goblet of Fire",
          "transparent": false
         },
         {
          "color_name": "Sand Blue",
          "hex": "#6074A1",
          "name": "Harry and the Hungarian Horntail",
          "num_name": "4767-1: Harry and the Hungarian Horntail",
          "num_parts": 2,
          "quantity": 2,
          "theme_name": "Goblet of Fire",
          "transparent": false
         },
         {
          "color_name": "Tan",
          "hex": "#E4CD9E",
          "name": "Harry and the Hungarian Horntail",
          "num_name": "4767-1: Harry and the Hungarian Horntail",
          "num_parts": 36,
          "quantity": 36,
          "theme_name": "Goblet of Fire",
          "transparent": false
         },
         {
          "color_name": "Trans-Neon Orange",
          "hex": "#FF800D",
          "name": "Harry and the Hungarian Horntail",
          "num_name": "4767-1: Harry and the Hungarian Horntail",
          "num_parts": 4,
          "quantity": 4,
          "theme_name": "Goblet of Fire",
          "transparent": true
         },
         {
          "color_name": "White",
          "hex": "#FFFFFF",
          "name": "Harry and the Hungarian Horntail",
          "num_name": "4767-1: Harry and the Hungarian Horntail",
          "num_parts": 2,
          "quantity": 2,
          "theme_name": "Goblet of Fire",
          "transparent": false
         },
         {
          "color_name": "Black",
          "hex": "#05131D",
          "name": "The Durmstrang Ship",
          "num_name": "4768-1: The Durmstrang Ship",
          "num_parts": 127,
          "quantity": 127,
          "theme_name": "Goblet of Fire",
          "transparent": false
         },
         {
          "color_name": "Blue",
          "hex": "#0055BF",
          "name": "The Durmstrang Ship",
          "num_name": "4768-1: The Durmstrang Ship",
          "num_parts": 6,
          "quantity": 6,
          "theme_name": "Goblet of Fire",
          "transparent": false
         },
         {
          "color_name": "Chrome Antique Brass",
          "hex": "#645A4C",
          "name": "The Durmstrang Ship",
          "num_name": "4768-1: The Durmstrang Ship",
          "num_parts": 5,
          "quantity": 5,
          "theme_name": "Goblet of Fire",
          "transparent": false
         },
         {
          "color_name": "Chrome Gold",
          "hex": "#BBA53D",
          "name": "The Durmstrang Ship",
          "num_name": "4768-1: The Durmstrang Ship",
          "num_parts": 4,
          "quantity": 4,
          "theme_name": "Goblet of Fire",
          "transparent": false
         },
         {
          "color_name": "Copper",
          "hex": "#AE7A59",
          "name": "The Durmstrang Ship",
          "num_name": "4768-1: The Durmstrang Ship",
          "num_parts": 3,
          "quantity": 3,
          "theme_name": "Goblet of Fire",
          "transparent": false
         },
         {
          "color_name": "Dark Bluish Gray",
          "hex": "#6C6E68",
          "name": "The Durmstrang Ship",
          "num_name": "4768-1: The Durmstrang Ship",
          "num_parts": 62,
          "quantity": 62,
          "theme_name": "Goblet of Fire",
          "transparent": false
         },
         {
          "color_name": "Dark Red",
          "hex": "#720E0F",
          "name": "The Durmstrang Ship",
          "num_name": "4768-1: The Durmstrang Ship",
          "num_parts": 86,
          "quantity": 86,
          "theme_name": "Goblet of Fire",
          "transparent": false
         },
         {
          "color_name": "Light Bluish Gray",
          "hex": "#A0A5A9",
          "name": "The Durmstrang Ship",
          "num_name": "4768-1: The Durmstrang Ship",
          "num_parts": 32,
          "quantity": 32,
          "theme_name": "Goblet of Fire",
          "transparent": false
         },
         {
          "color_name": "Light Flesh",
          "hex": "#F6D7B3",
          "name": "The Durmstrang Ship",
          "num_name": "4768-1: The Durmstrang Ship",
          "num_parts": 2,
          "quantity": 2,
          "theme_name": "Goblet of Fire",
          "transparent": false
         },
         {
          "color_name": "Medium Blue",
          "hex": "#5A93DB",
          "name": "The Durmstrang Ship",
          "num_name": "4768-1: The Durmstrang Ship",
          "num_parts": 80,
          "quantity": 80,
          "theme_name": "Goblet of Fire",
          "transparent": false
         },
         {
          "color_name": "Pearl Light Gray",
          "hex": "#9CA3A8",
          "name": "The Durmstrang Ship",
          "num_name": "4768-1: The Durmstrang Ship",
          "num_parts": 1,
          "quantity": 1,
          "theme_name": "Goblet of Fire",
          "transparent": false
         },
         {
          "color_name": "Red",
          "hex": "#C91A09",
          "name": "The Durmstrang Ship",
          "num_name": "4768-1: The Durmstrang Ship",
          "num_parts": 1,
          "quantity": 1,
          "theme_name": "Goblet of Fire",
          "transparent": true
         },
         {
          "color_name": "Reddish Brown",
          "hex": "#582A12",
          "name": "The Durmstrang Ship",
          "num_name": "4768-1: The Durmstrang Ship",
          "num_parts": 10,
          "quantity": 10,
          "theme_name": "Goblet of Fire",
          "transparent": false
         },
         {
          "color_name": "Tan",
          "hex": "#E4CD9E",
          "name": "The Durmstrang Ship",
          "num_name": "4768-1: The Durmstrang Ship",
          "num_parts": 114,
          "quantity": 114,
          "theme_name": "Goblet of Fire",
          "transparent": false
         },
         {
          "color_name": "Trans-Clear",
          "hex": "#FCFCFC",
          "name": "The Durmstrang Ship",
          "num_name": "4768-1: The Durmstrang Ship",
          "num_parts": 9,
          "quantity": 9,
          "theme_name": "Goblet of Fire",
          "transparent": true
         },
         {
          "color_name": "Trans-Light Blue",
          "hex": "#AEEFEC",
          "name": "The Durmstrang Ship",
          "num_name": "4768-1: The Durmstrang Ship",
          "num_parts": 1,
          "quantity": 1,
          "theme_name": "Goblet of Fire",
          "transparent": true
         },
         {
          "color_name": "Trans-Neon Orange",
          "hex": "#FF800D",
          "name": "The Durmstrang Ship",
          "num_name": "4768-1: The Durmstrang Ship",
          "num_parts": 2,
          "quantity": 2,
          "theme_name": "Goblet of Fire",
          "transparent": true
         },
         {
          "color_name": "Trans-Orange",
          "hex": "#F08F1C",
          "name": "The Durmstrang Ship",
          "num_name": "4768-1: The Durmstrang Ship",
          "num_parts": 2,
          "quantity": 2,
          "theme_name": "Goblet of Fire",
          "transparent": true
         },
         {
          "color_name": "White",
          "hex": "#FFFFFF",
          "name": "The Durmstrang Ship",
          "num_name": "4768-1: The Durmstrang Ship",
          "num_parts": 8,
          "quantity": 8,
          "theme_name": "Goblet of Fire",
          "transparent": false
         },
         {
          "color_name": "Yellow",
          "hex": "#F2CD37",
          "name": "The Durmstrang Ship",
          "num_name": "4768-1: The Durmstrang Ship",
          "num_parts": 5,
          "quantity": 5,
          "theme_name": "Goblet of Fire",
          "transparent": false
         },
         {
          "color_name": "Black",
          "hex": "#05131D",
          "name": "The Durmstrang Ship with Bonus Mini - Figures (Target exclusive)",
          "num_name": "4768-2: The Durmstrang Ship with Bonus Mini - Figures (Target exclusive)",
          "num_parts": 129,
          "quantity": 129,
          "theme_name": "Goblet of Fire",
          "transparent": false
         },
         {
          "color_name": "Blue",
          "hex": "#0055BF",
          "name": "The Durmstrang Ship with Bonus Mini - Figures (Target exclusive)",
          "num_name": "4768-2: The Durmstrang Ship with Bonus Mini - Figures (Target exclusive)",
          "num_parts": 6,
          "quantity": 6,
          "theme_name": "Goblet of Fire",
          "transparent": false
         },
         {
          "color_name": "Chrome Gold",
          "hex": "#BBA53D",
          "name": "The Durmstrang Ship with Bonus Mini - Figures (Target exclusive)",
          "num_name": "4768-2: The Durmstrang Ship with Bonus Mini - Figures (Target exclusive)",
          "num_parts": 9,
          "quantity": 9,
          "theme_name": "Goblet of Fire",
          "transparent": false
         },
         {
          "color_name": "Copper",
          "hex": "#AE7A59",
          "name": "The Durmstrang Ship with Bonus Mini - Figures (Target exclusive)",
          "num_name": "4768-2: The Durmstrang Ship with Bonus Mini - Figures (Target exclusive)",
          "num_parts": 3,
          "quantity": 3,
          "theme_name": "Goblet of Fire",
          "transparent": false
         },
         {
          "color_name": "Dark Bluish Gray",
          "hex": "#6C6E68",
          "name": "The Durmstrang Ship with Bonus Mini - Figures (Target exclusive)",
          "num_name": "4768-2: The Durmstrang Ship with Bonus Mini - Figures (Target exclusive)",
          "num_parts": 66,
          "quantity": 66,
          "theme_name": "Goblet of Fire",
          "transparent": false
         },
         {
          "color_name": "Dark Orange",
          "hex": "#A95500",
          "name": "The Durmstrang Ship with Bonus Mini - Figures (Target exclusive)",
          "num_name": "4768-2: The Durmstrang Ship with Bonus Mini - Figures (Target exclusive)",
          "num_parts": 1,
          "quantity": 1,
          "theme_name": "Goblet of Fire",
          "transparent": false
         },
         {
          "color_name": "Dark Red",
          "hex": "#720E0F",
          "name": "The Durmstrang Ship with Bonus Mini - Figures (Target exclusive)",
          "num_name": "4768-2: The Durmstrang Ship with Bonus Mini - Figures (Target exclusive)",
          "num_parts": 86,
          "quantity": 86,
          "theme_name": "Goblet of Fire",
          "transparent": false
         },
         {
          "color_name": "Light Bluish Gray",
          "hex": "#A0A5A9",
          "name": "The Durmstrang Ship with Bonus Mini - Figures (Target exclusive)",
          "num_name": "4768-2: The Durmstrang Ship with Bonus Mini - Figures (Target exclusive)",
          "num_parts": 33,
          "quantity": 33,
          "theme_name": "Goblet of Fire",
          "transparent": false
         },
         {
          "color_name": "Light Flesh",
          "hex": "#F6D7B3",
          "name": "The Durmstrang Ship with Bonus Mini - Figures (Target exclusive)",
          "num_name": "4768-2: The Durmstrang Ship with Bonus Mini - Figures (Target exclusive)",
          "num_parts": 6,
          "quantity": 6,
          "theme_name": "Goblet of Fire",
          "transparent": false
         },
         {
          "color_name": "Medium Blue",
          "hex": "#5A93DB",
          "name": "The Durmstrang Ship with Bonus Mini - Figures (Target exclusive)",
          "num_name": "4768-2: The Durmstrang Ship with Bonus Mini - Figures (Target exclusive)",
          "num_parts": 80,
          "quantity": 80,
          "theme_name": "Goblet of Fire",
          "transparent": false
         },
         {
          "color_name": "Pearl Light Gray",
          "hex": "#9CA3A8",
          "name": "The Durmstrang Ship with Bonus Mini - Figures (Target exclusive)",
          "num_name": "4768-2: The Durmstrang Ship with Bonus Mini - Figures (Target exclusive)",
          "num_parts": 1,
          "quantity": 1,
          "theme_name": "Goblet of Fire",
          "transparent": false
         },
         {
          "color_name": "Red",
          "hex": "#C91A09",
          "name": "The Durmstrang Ship with Bonus Mini - Figures (Target exclusive)",
          "num_name": "4768-2: The Durmstrang Ship with Bonus Mini - Figures (Target exclusive)",
          "num_parts": 2,
          "quantity": 2,
          "theme_name": "Goblet of Fire",
          "transparent": true
         },
         {
          "color_name": "Reddish Brown",
          "hex": "#582A12",
          "name": "The Durmstrang Ship with Bonus Mini - Figures (Target exclusive)",
          "num_name": "4768-2: The Durmstrang Ship with Bonus Mini - Figures (Target exclusive)",
          "num_parts": 11,
          "quantity": 11,
          "theme_name": "Goblet of Fire",
          "transparent": false
         },
         {
          "color_name": "Sand Blue",
          "hex": "#6074A1",
          "name": "The Durmstrang Ship with Bonus Mini - Figures (Target exclusive)",
          "num_name": "4768-2: The Durmstrang Ship with Bonus Mini - Figures (Target exclusive)",
          "num_parts": 2,
          "quantity": 2,
          "theme_name": "Goblet of Fire",
          "transparent": false
         },
         {
          "color_name": "Tan",
          "hex": "#E4CD9E",
          "name": "The Durmstrang Ship with Bonus Mini - Figures (Target exclusive)",
          "num_name": "4768-2: The Durmstrang Ship with Bonus Mini - Figures (Target exclusive)",
          "num_parts": 114,
          "quantity": 114,
          "theme_name": "Goblet of Fire",
          "transparent": false
         },
         {
          "color_name": "Trans-Clear",
          "hex": "#FCFCFC",
          "name": "The Durmstrang Ship with Bonus Mini - Figures (Target exclusive)",
          "num_name": "4768-2: The Durmstrang Ship with Bonus Mini - Figures (Target exclusive)",
          "num_parts": 9,
          "quantity": 9,
          "theme_name": "Goblet of Fire",
          "transparent": true
         },
         {
          "color_name": "Trans-Light Blue",
          "hex": "#AEEFEC",
          "name": "The Durmstrang Ship with Bonus Mini - Figures (Target exclusive)",
          "num_name": "4768-2: The Durmstrang Ship with Bonus Mini - Figures (Target exclusive)",
          "num_parts": 1,
          "quantity": 1,
          "theme_name": "Goblet of Fire",
          "transparent": true
         },
         {
          "color_name": "Trans-Neon Orange",
          "hex": "#FF800D",
          "name": "The Durmstrang Ship with Bonus Mini - Figures (Target exclusive)",
          "num_name": "4768-2: The Durmstrang Ship with Bonus Mini - Figures (Target exclusive)",
          "num_parts": 2,
          "quantity": 2,
          "theme_name": "Goblet of Fire",
          "transparent": true
         },
         {
          "color_name": "Trans-Orange",
          "hex": "#F08F1C",
          "name": "The Durmstrang Ship with Bonus Mini - Figures (Target exclusive)",
          "num_name": "4768-2: The Durmstrang Ship with Bonus Mini - Figures (Target exclusive)",
          "num_parts": 2,
          "quantity": 2,
          "theme_name": "Goblet of Fire",
          "transparent": true
         },
         {
          "color_name": "White",
          "hex": "#FFFFFF",
          "name": "The Durmstrang Ship with Bonus Mini - Figures (Target exclusive)",
          "num_name": "4768-2: The Durmstrang Ship with Bonus Mini - Figures (Target exclusive)",
          "num_parts": 8,
          "quantity": 8,
          "theme_name": "Goblet of Fire",
          "transparent": false
         },
         {
          "color_name": "Yellow",
          "hex": "#F2CD37",
          "name": "The Durmstrang Ship with Bonus Mini - Figures (Target exclusive)",
          "num_name": "4768-2: The Durmstrang Ship with Bonus Mini - Figures (Target exclusive)",
          "num_parts": 5,
          "quantity": 5,
          "theme_name": "Goblet of Fire",
          "transparent": false
         },
         {
          "color_name": "Black",
          "hex": "#05131D",
          "name": "Diagon Alley",
          "num_name": "10217-1: Diagon Alley",
          "num_parts": 447,
          "quantity": 447,
          "theme_name": "Harry Potter",
          "transparent": false
         },
         {
          "color_name": "Blue",
          "hex": "#0055BF",
          "name": "Diagon Alley",
          "num_name": "10217-1: Diagon Alley",
          "num_parts": 18,
          "quantity": 18,
          "theme_name": "Harry Potter",
          "transparent": false
         },
         {
          "color_name": "Bright Pink",
          "hex": "#E4ADC8",
          "name": "Diagon Alley",
          "num_name": "10217-1: Diagon Alley",
          "num_parts": 2,
          "quantity": 2,
          "theme_name": "Harry Potter",
          "transparent": false
         },
         {
          "color_name": "Chrome Gold",
          "hex": "#BBA53D",
          "name": "Diagon Alley",
          "num_name": "10217-1: Diagon Alley",
          "num_parts": 4,
          "quantity": 4,
          "theme_name": "Harry Potter",
          "transparent": false
         },
         {
          "color_name": "Dark Blue",
          "hex": "#0A3463",
          "name": "Diagon Alley",
          "num_name": "10217-1: Diagon Alley",
          "num_parts": 51,
          "quantity": 51,
          "theme_name": "Harry Potter",
          "transparent": false
         },
         {
          "color_name": "Dark Bluish Gray",
          "hex": "#6C6E68",
          "name": "Diagon Alley",
          "num_name": "10217-1: Diagon Alley",
          "num_parts": 186,
          "quantity": 186,
          "theme_name": "Harry Potter",
          "transparent": false
         },
         {
          "color_name": "Dark Brown",
          "hex": "#352100",
          "name": "Diagon Alley",
          "num_name": "10217-1: Diagon Alley",
          "num_parts": 27,
          "quantity": 27,
          "theme_name": "Harry Potter",
          "transparent": false
         },
         {
          "color_name": "Dark Green",
          "hex": "#184632",
          "name": "Diagon Alley",
          "num_name": "10217-1: Diagon Alley",
          "num_parts": 49,
          "quantity": 49,
          "theme_name": "Harry Potter",
          "transparent": false
         },
         {
          "color_name": "Dark Orange",
          "hex": "#A95500",
          "name": "Diagon Alley",
          "num_name": "10217-1: Diagon Alley",
          "num_parts": 9,
          "quantity": 9,
          "theme_name": "Harry Potter",
          "transparent": false
         },
         {
          "color_name": "Dark Purple",
          "hex": "#3F3691",
          "name": "Diagon Alley",
          "num_name": "10217-1: Diagon Alley",
          "num_parts": 13,
          "quantity": 13,
          "theme_name": "Harry Potter",
          "transparent": false
         },
         {
          "color_name": "Dark Red",
          "hex": "#720E0F",
          "name": "Diagon Alley",
          "num_name": "10217-1: Diagon Alley",
          "num_parts": 52,
          "quantity": 52,
          "theme_name": "Harry Potter",
          "transparent": false
         },
         {
          "color_name": "Dark Tan",
          "hex": "#958A73",
          "name": "Diagon Alley",
          "num_name": "10217-1: Diagon Alley",
          "num_parts": 17,
          "quantity": 17,
          "theme_name": "Harry Potter",
          "transparent": false
         },
         {
          "color_name": "Flat Silver",
          "hex": "#898788",
          "name": "Diagon Alley",
          "num_name": "10217-1: Diagon Alley",
          "num_parts": 1,
          "quantity": 1,
          "theme_name": "Harry Potter",
          "transparent": false
         },
         {
          "color_name": "Glow In Dark Trans",
          "hex": "#BDC6AD",
          "name": "Diagon Alley",
          "num_name": "10217-1: Diagon Alley",
          "num_parts": 25,
          "quantity": 25,
          "theme_name": "Harry Potter",
          "transparent": true
         },
         {
          "color_name": "Light Bluish Gray",
          "hex": "#A0A5A9",
          "name": "Diagon Alley",
          "num_name": "10217-1: Diagon Alley",
          "num_parts": 82,
          "quantity": 82,
          "theme_name": "Harry Potter",
          "transparent": false
         },
         {
          "color_name": "Light Flesh",
          "hex": "#F6D7B3",
          "name": "Diagon Alley",
          "num_name": "10217-1: Diagon Alley",
          "num_parts": 11,
          "quantity": 11,
          "theme_name": "Harry Potter",
          "transparent": false
         },
         {
          "color_name": "Medium Blue",
          "hex": "#5A93DB",
          "name": "Diagon Alley",
          "num_name": "10217-1: Diagon Alley",
          "num_parts": 6,
          "quantity": 6,
          "theme_name": "Harry Potter",
          "transparent": false
         },
         {
          "color_name": "Metallic Silver",
          "hex": "#A5A9B4",
          "name": "Diagon Alley",
          "num_name": "10217-1: Diagon Alley",
          "num_parts": 14,
          "quantity": 14,
          "theme_name": "Harry Potter",
          "transparent": false
         },
         {
          "color_name": "Pearl Gold",
          "hex": "#AA7F2E",
          "name": "Diagon Alley",
          "num_name": "10217-1: Diagon Alley",
          "num_parts": 109,
          "quantity": 109,
          "theme_name": "Harry Potter",
          "transparent": false
         },
         {
          "color_name": "Red",
          "hex": "#C91A09",
          "name": "Diagon Alley",
          "num_name": "10217-1: Diagon Alley",
          "num_parts": 1,
          "quantity": 1,
          "theme_name": "Harry Potter",
          "transparent": true
         },
         {
          "color_name": "Reddish Brown",
          "hex": "#582A12",
          "name": "Diagon Alley",
          "num_name": "10217-1: Diagon Alley",
          "num_parts": 228,
          "quantity": 228,
          "theme_name": "Harry Potter",
          "transparent": false
         },
         {
          "color_name": "Sand Green",
          "hex": "#A0BCAC",
          "name": "Diagon Alley",
          "num_name": "10217-1: Diagon Alley",
          "num_parts": 53,
          "quantity": 53,
          "theme_name": "Harry Potter",
          "transparent": false
         },
         {
          "color_name": "Tan",
          "hex": "#E4CD9E",
          "name": "Diagon Alley",
          "num_name": "10217-1: Diagon Alley",
          "num_parts": 199,
          "quantity": 199,
          "theme_name": "Harry Potter",
          "transparent": false
         },
         {
          "color_name": "Trans-Black",
          "hex": "#635F52",
          "name": "Diagon Alley",
          "num_name": "10217-1: Diagon Alley",
          "num_parts": 3,
          "quantity": 3,
          "theme_name": "Harry Potter",
          "transparent": true
         },
         {
          "color_name": "Trans-Clear",
          "hex": "#FCFCFC",
          "name": "Diagon Alley",
          "num_name": "10217-1: Diagon Alley",
          "num_parts": 75,
          "quantity": 75,
          "theme_name": "Harry Potter",
          "transparent": true
         },
         {
          "color_name": "Trans-Green",
          "hex": "#84B68D",
          "name": "Diagon Alley",
          "num_name": "10217-1: Diagon Alley",
          "num_parts": 2,
          "quantity": 2,
          "theme_name": "Harry Potter",
          "transparent": true
         },
         {
          "color_name": "Trans-Neon Orange",
          "hex": "#FF800D",
          "name": "Diagon Alley",
          "num_name": "10217-1: Diagon Alley",
          "num_parts": 6,
          "quantity": 6,
          "theme_name": "Harry Potter",
          "transparent": true
         },
         {
          "color_name": "Trans-Red",
          "hex": "#C91A09",
          "name": "Diagon Alley",
          "num_name": "10217-1: Diagon Alley",
          "num_parts": 1,
          "quantity": 1,
          "theme_name": "Harry Potter",
          "transparent": true
         },
         {
          "color_name": "Trans-Yellow",
          "hex": "#F5CD2F",
          "name": "Diagon Alley",
          "num_name": "10217-1: Diagon Alley",
          "num_parts": 13,
          "quantity": 13,
          "theme_name": "Harry Potter",
          "transparent": true
         },
         {
          "color_name": "White",
          "hex": "#FFFFFF",
          "name": "Diagon Alley",
          "num_name": "10217-1: Diagon Alley",
          "num_parts": 368,
          "quantity": 368,
          "theme_name": "Harry Potter",
          "transparent": false
         },
         {
          "color_name": "Black",
          "hex": "#05131D",
          "name": "Trolley",
          "num_name": "30110-1: Trolley",
          "num_parts": 4,
          "quantity": 4,
          "theme_name": "Harry Potter",
          "transparent": false
         },
         {
          "color_name": "Dark Blue",
          "hex": "#0A3463",
          "name": "Trolley",
          "num_name": "30110-1: Trolley",
          "num_parts": 1,
          "quantity": 1,
          "theme_name": "Harry Potter",
          "transparent": false
         },
         {
          "color_name": "Dark Bluish Gray",
          "hex": "#6C6E68",
          "name": "Trolley",
          "num_name": "30110-1: Trolley",
          "num_parts": 3,
          "quantity": 3,
          "theme_name": "Harry Potter",
          "transparent": false
         },
         {
          "color_name": "Light Bluish Gray",
          "hex": "#A0A5A9",
          "name": "Trolley",
          "num_name": "30110-1: Trolley",
          "num_parts": 2,
          "quantity": 2,
          "theme_name": "Harry Potter",
          "transparent": false
         },
         {
          "color_name": "Light Flesh",
          "hex": "#F6D7B3",
          "name": "Trolley",
          "num_name": "30110-1: Trolley",
          "num_parts": 1,
          "quantity": 1,
          "theme_name": "Harry Potter",
          "transparent": false
         },
         {
          "color_name": "Pearl Gold",
          "hex": "#AA7F2E",
          "name": "Trolley",
          "num_name": "30110-1: Trolley",
          "num_parts": 7,
          "quantity": 7,
          "theme_name": "Harry Potter",
          "transparent": false
         },
         {
          "color_name": "Red",
          "hex": "#C91A09",
          "name": "Trolley",
          "num_name": "30110-1: Trolley",
          "num_parts": 1,
          "quantity": 1,
          "theme_name": "Harry Potter",
          "transparent": true
         },
         {
          "color_name": "Reddish Brown",
          "hex": "#582A12",
          "name": "Trolley",
          "num_name": "30110-1: Trolley",
          "num_parts": 3,
          "quantity": 3,
          "theme_name": "Harry Potter",
          "transparent": false
         },
         {
          "color_name": "White",
          "hex": "#FFFFFF",
          "name": "Trolley",
          "num_name": "30110-1: Trolley",
          "num_parts": 1,
          "quantity": 1,
          "theme_name": "Harry Potter",
          "transparent": false
         },
         {
          "color_name": "Black",
          "hex": "#05131D",
          "name": "The Lab",
          "num_name": "30111-1: The Lab",
          "num_parts": 3,
          "quantity": 3,
          "theme_name": "Harry Potter",
          "transparent": false
         },
         {
          "color_name": "Dark Bluish Gray",
          "hex": "#6C6E68",
          "name": "The Lab",
          "num_name": "30111-1: The Lab",
          "num_parts": 1,
          "quantity": 1,
          "theme_name": "Harry Potter",
          "transparent": false
         },
         {
          "color_name": "Light Flesh",
          "hex": "#F6D7B3",
          "name": "The Lab",
          "num_name": "30111-1: The Lab",
          "num_parts": 1,
          "quantity": 1,
          "theme_name": "Harry Potter",
          "transparent": false
         },
         {
          "color_name": "Pearl Gold",
          "hex": "#AA7F2E",
          "name": "The Lab",
          "num_name": "30111-1: The Lab",
          "num_parts": 10,
          "quantity": 10,
          "theme_name": "Harry Potter",
          "transparent": false
         },
         {
          "color_name": "Reddish Brown",
          "hex": "#582A12",
          "name": "The Lab",
          "num_name": "30111-1: The Lab",
          "num_parts": 6,
          "quantity": 6,
          "theme_name": "Harry Potter",
          "transparent": false
         },
         {
          "color_name": "Tan",
          "hex": "#E4CD9E",
          "name": "The Lab",
          "num_name": "30111-1: The Lab",
          "num_parts": 7,
          "quantity": 7,
          "theme_name": "Harry Potter",
          "transparent": false
         },
         {
          "color_name": "Trans-Dark Blue",
          "hex": "#0020A0",
          "name": "The Lab",
          "num_name": "30111-1: The Lab",
          "num_parts": 1,
          "quantity": 1,
          "theme_name": "Harry Potter",
          "transparent": true
         },
         {
          "color_name": "Trans-Green",
          "hex": "#84B68D",
          "name": "The Lab",
          "num_name": "30111-1: The Lab",
          "num_parts": 1,
          "quantity": 1,
          "theme_name": "Harry Potter",
          "transparent": true
         },
         {
          "color_name": "Trans-Orange",
          "hex": "#F08F1C",
          "name": "The Lab",
          "num_name": "30111-1: The Lab",
          "num_parts": 1,
          "quantity": 1,
          "theme_name": "Harry Potter",
          "transparent": true
         },
         {
          "color_name": "Trans-Red",
          "hex": "#C91A09",
          "name": "The Lab",
          "num_name": "30111-1: The Lab",
          "num_parts": 1,
          "quantity": 1,
          "theme_name": "Harry Potter",
          "transparent": true
         },
         {
          "color_name": "Trans-Yellow",
          "hex": "#F5CD2F",
          "name": "The Lab",
          "num_name": "30111-1: The Lab",
          "num_parts": 1,
          "quantity": 1,
          "theme_name": "Harry Potter",
          "transparent": true
         },
         {
          "color_name": "White",
          "hex": "#FFFFFF",
          "name": "The Lab",
          "num_name": "30111-1: The Lab",
          "num_parts": 3,
          "quantity": 3,
          "theme_name": "Harry Potter",
          "transparent": false
         },
         {
          "color_name": "Black",
          "hex": "#05131D",
          "name": "Mini Hogwarts Express",
          "num_name": "40028-1: Mini Hogwarts Express",
          "num_parts": 26,
          "quantity": 26,
          "theme_name": "Harry Potter",
          "transparent": false
         },
         {
          "color_name": "Light Bluish Gray",
          "hex": "#A0A5A9",
          "name": "Mini Hogwarts Express",
          "num_name": "40028-1: Mini Hogwarts Express",
          "num_parts": 3,
          "quantity": 3,
          "theme_name": "Harry Potter",
          "transparent": false
         },
         {
          "color_name": "Red",
          "hex": "#C91A09",
          "name": "Mini Hogwarts Express",
          "num_name": "40028-1: Mini Hogwarts Express",
          "num_parts": 34,
          "quantity": 34,
          "theme_name": "Harry Potter",
          "transparent": true
         },
         {
          "color_name": "White",
          "hex": "#FFFFFF",
          "name": "Mini Hogwarts Express",
          "num_name": "40028-1: Mini Hogwarts Express",
          "num_parts": 2,
          "quantity": 2,
          "theme_name": "Harry Potter",
          "transparent": false
         },
         {
          "color_name": "Yellow",
          "hex": "#F2CD37",
          "name": "Mini Hogwarts Express",
          "num_name": "40028-1: Mini Hogwarts Express",
          "num_parts": 3,
          "quantity": 3,
          "theme_name": "Harry Potter",
          "transparent": false
         },
         {
          "color_name": "Black",
          "hex": "#05131D",
          "name": "Freeing Dobby",
          "num_name": "4736-1: Freeing Dobby",
          "num_parts": 9,
          "quantity": 9,
          "theme_name": "Harry Potter",
          "transparent": false
         },
         {
          "color_name": "Dark Bluish Gray",
          "hex": "#6C6E68",
          "name": "Freeing Dobby",
          "num_name": "4736-1: Freeing Dobby",
          "num_parts": 21,
          "quantity": 21,
          "theme_name": "Harry Potter",
          "transparent": false
         },
         {
          "color_name": "Light Bluish Gray",
          "hex": "#A0A5A9",
          "name": "Freeing Dobby",
          "num_name": "4736-1: Freeing Dobby",
          "num_parts": 13,
          "quantity": 13,
          "theme_name": "Harry Potter",
          "transparent": false
         },
         {
          "color_name": "Light Flesh",
          "hex": "#F6D7B3",
          "name": "Freeing Dobby",
          "num_name": "4736-1: Freeing Dobby",
          "num_parts": 3,
          "quantity": 3,
          "theme_name": "Harry Potter",
          "transparent": false
         },
         {
          "color_name": "Pearl Gold",
          "hex": "#AA7F2E",
          "name": "Freeing Dobby",
          "num_name": "4736-1: Freeing Dobby",
          "num_parts": 2,
          "quantity": 2,
          "theme_name": "Harry Potter",
          "transparent": false
         },
         {
          "color_name": "Red",
          "hex": "#C91A09",
          "name": "Freeing Dobby",
          "num_name": "4736-1: Freeing Dobby",
          "num_parts": 1,
          "quantity": 1,
          "theme_name": "Harry Potter",
          "transparent": true
         },
         {
          "color_name": "Reddish Brown",
          "hex": "#582A12",
          "name": "Freeing Dobby",
          "num_name": "4736-1: Freeing Dobby",
          "num_parts": 5,
          "quantity": 5,
          "theme_name": "Harry Potter",
          "transparent": false
         },
         {
          "color_name": "Sand Green",
          "hex": "#A0BCAC",
          "name": "Freeing Dobby",
          "num_name": "4736-1: Freeing Dobby",
          "num_parts": 5,
          "quantity": 5,
          "theme_name": "Harry Potter",
          "transparent": false
         },
         {
          "color_name": "Tan",
          "hex": "#E4CD9E",
          "name": "Freeing Dobby",
          "num_name": "4736-1: Freeing Dobby",
          "num_parts": 13,
          "quantity": 13,
          "theme_name": "Harry Potter",
          "transparent": false
         },
         {
          "color_name": "Trans-Neon Orange",
          "hex": "#FF800D",
          "name": "Freeing Dobby",
          "num_name": "4736-1: Freeing Dobby",
          "num_parts": 3,
          "quantity": 3,
          "theme_name": "Harry Potter",
          "transparent": true
         },
         {
          "color_name": "Black",
          "hex": "#05131D",
          "name": "Quidditch Match",
          "num_name": "4737-1: Quidditch Match",
          "num_parts": 10,
          "quantity": 10,
          "theme_name": "Harry Potter",
          "transparent": false
         },
         {
          "color_name": "Blue",
          "hex": "#0055BF",
          "name": "Quidditch Match",
          "num_name": "4737-1: Quidditch Match",
          "num_parts": 13,
          "quantity": 13,
          "theme_name": "Harry Potter",
          "transparent": false
         },
         {
          "color_name": "Dark Bluish Gray",
          "hex": "#6C6E68",
          "name": "Quidditch Match",
          "num_name": "4737-1: Quidditch Match",
          "num_parts": 10,
          "quantity": 10,
          "theme_name": "Harry Potter",
          "transparent": false
         },
         {
          "color_name": "Dark Brown",
          "hex": "#352100",
          "name": "Quidditch Match",
          "num_name": "4737-1: Quidditch Match",
          "num_parts": 5,
          "quantity": 5,
          "theme_name": "Harry Potter",
          "transparent": false
         },
         {
          "color_name": "Dark Green",
          "hex": "#184632",
          "name": "Quidditch Match",
          "num_name": "4737-1: Quidditch Match",
          "num_parts": 4,
          "quantity": 4,
          "theme_name": "Harry Potter",
          "transparent": false
         },
         {
          "color_name": "Dark Red",
          "hex": "#720E0F",
          "name": "Quidditch Match",
          "num_name": "4737-1: Quidditch Match",
          "num_parts": 11,
          "quantity": 11,
          "theme_name": "Harry Potter",
          "transparent": false
         },
         {
          "color_name": "Green",
          "hex": "#237841",
          "name": "Quidditch Match",
          "num_name": "4737-1: Quidditch Match",
          "num_parts": 13,
          "quantity": 13,
          "theme_name": "Harry Potter",
          "transparent": false
         },
         {
          "color_name": "Light Bluish Gray",
          "hex": "#A0A5A9",
          "name": "Quidditch Match",
          "num_name": "4737-1: Quidditch Match",
          "num_parts": 19,
          "quantity": 19,
          "theme_name": "Harry Potter",
          "transparent": false
         },
         {
          "color_name": "Light Flesh",
          "hex": "#F6D7B3",
          "name": "Quidditch Match",
          "num_name": "4737-1: Quidditch Match",
          "num_parts": 5,
          "quantity": 5,
          "theme_name": "Harry Potter",
          "transparent": false
         },
         {
          "color_name": "Metallic Silver",
          "hex": "#A5A9B4",
          "name": "Quidditch Match",
          "num_name": "4737-1: Quidditch Match",
          "num_parts": 1,
          "quantity": 1,
          "theme_name": "Harry Potter",
          "transparent": false
         },
         {
          "color_name": "Pearl Gold",
          "hex": "#AA7F2E",
          "name": "Quidditch Match",
          "num_name": "4737-1: Quidditch Match",
          "num_parts": 13,
          "quantity": 13,
          "theme_name": "Harry Potter",
          "transparent": false
         },
         {
          "color_name": "Red",
          "hex": "#C91A09",
          "name": "Quidditch Match",
          "num_name": "4737-1: Quidditch Match",
          "num_parts": 8,
          "quantity": 8,
          "theme_name": "Harry Potter",
          "transparent": true
         },
         {
          "color_name": "Reddish Brown",
          "hex": "#582A12",
          "name": "Quidditch Match",
          "num_name": "4737-1: Quidditch Match",
          "num_parts": 28,
          "quantity": 28,
          "theme_name": "Harry Potter",
          "transparent": false
         },
         {
          "color_name": "Tan",
          "hex": "#E4CD9E",
          "name": "Quidditch Match",
          "num_name": "4737-1: Quidditch Match",
          "num_parts": 12,
          "quantity": 12,
          "theme_name": "Harry Potter",
          "transparent": false
         },
         {
          "color_name": "White",
          "hex": "#FFFFFF",
          "name": "Quidditch Match",
          "num_name": "4737-1: Quidditch Match",
          "num_parts": 4,
          "quantity": 4,
          "theme_name": "Harry Potter",
          "transparent": false
         },
         {
          "color_name": "Black",
          "hex": "#05131D",
          "name": "Hagrid's Hut (3rd edition)",
          "num_name": "4738-1: Hagrid's Hut (3rd edition)",
          "num_parts": 68,
          "quantity": 68,
          "theme_name": "Harry Potter",
          "transparent": false
         },
         {
          "color_name": "Bright Green",
          "hex": "#4B9F4A",
          "name": "Hagrid's Hut (3rd edition)",
          "num_name": "4738-1: Hagrid's Hut (3rd edition)",
          "num_parts": 3,
          "quantity": 3,
          "theme_name": "Harry Potter",
          "transparent": false
         },
         {
          "color_name": "Bright Light Orange",
          "hex": "#F8BB3D",
          "name": "Hagrid's Hut (3rd edition)",
          "num_name": "4738-1: Hagrid's Hut (3rd edition)",
          "num_parts": 1,
          "quantity": 1,
          "theme_name": "Harry Potter",
          "transparent": false
         },
         {
          "color_name": "Bright Pink",
          "hex": "#E4ADC8",
          "name": "Hagrid's Hut (3rd edition)",
          "num_name": "4738-1: Hagrid's Hut (3rd edition)",
          "num_parts": 2,
          "quantity": 2,
          "theme_name": "Harry Potter",
          "transparent": false
         },
         {
          "color_name": "Dark Bluish Gray",
          "hex": "#6C6E68",
          "name": "Hagrid's Hut (3rd edition)",
          "num_name": "4738-1: Hagrid's Hut (3rd edition)",
          "num_parts": 70,
          "quantity": 70,
          "theme_name": "Harry Potter",
          "transparent": false
         },
         {
          "color_name": "Dark Brown",
          "hex": "#352100",
          "name": "Hagrid's Hut (3rd edition)",
          "num_name": "4738-1: Hagrid's Hut (3rd edition)",
          "num_parts": 1,
          "quantity": 1,
          "theme_name": "Harry Potter",
          "transparent": false
         },
         {
          "color_name": "Dark Green",
          "hex": "#184632",
          "name": "Hagrid's Hut (3rd edition)",
          "num_name": "4738-1: Hagrid's Hut (3rd edition)",
          "num_parts": 1,
          "quantity": 1,
          "theme_name": "Harry Potter",
          "transparent": false
         },
         {
          "color_name": "Dark Orange",
          "hex": "#A95500",
          "name": "Hagrid's Hut (3rd edition)",
          "num_name": "4738-1: Hagrid's Hut (3rd edition)",
          "num_parts": 4,
          "quantity": 4,
          "theme_name": "Harry Potter",
          "transparent": false
         },
         {
          "color_name": "Dark Tan",
          "hex": "#958A73",
          "name": "Hagrid's Hut (3rd edition)",
          "num_name": "4738-1: Hagrid's Hut (3rd edition)",
          "num_parts": 2,
          "quantity": 2,
          "theme_name": "Harry Potter",
          "transparent": false
         },
         {
          "color_name": "Green",
          "hex": "#237841",
          "name": "Hagrid's Hut (3rd edition)",
          "num_name": "4738-1: Hagrid's Hut (3rd edition)",
          "num_parts": 1,
          "quantity": 1,
          "theme_name": "Harry Potter",
          "transparent": false
         },
         {
          "color_name": "Light Bluish Gray",
          "hex": "#A0A5A9",
          "name": "Hagrid's Hut (3rd edition)",
          "num_name": "4738-1: Hagrid's Hut (3rd edition)",
          "num_parts": 89,
          "quantity": 89,
          "theme_name": "Harry Potter",
          "transparent": false
         },
         {
          "color_name": "Light Flesh",
          "hex": "#F6D7B3",
          "name": "Hagrid's Hut (3rd edition)",
          "num_name": "4738-1: Hagrid's Hut (3rd edition)",
          "num_parts": 4,
          "quantity": 4,
          "theme_name": "Harry Potter",
          "transparent": false
         },
         {
          "color_name": "Medium Dark Flesh",
          "hex": "#CC702A",
          "name": "Hagrid's Hut (3rd edition)",
          "num_name": "4738-1: Hagrid's Hut (3rd edition)",
          "num_parts": 5,
          "quantity": 5,
          "theme_name": "Harry Potter",
          "transparent": false
         },
         {
          "color_name": "Orange",
          "hex": "#FE8A18",
          "name": "Hagrid's Hut (3rd edition)",
          "num_name": "4738-1: Hagrid's Hut (3rd edition)",
          "num_parts": 10,
          "quantity": 10,
          "theme_name": "Harry Potter",
          "transparent": false
         },
         {
          "color_name": "Pearl Gold",
          "hex": "#AA7F2E",
          "name": "Hagrid's Hut (3rd edition)",
          "num_name": "4738-1: Hagrid's Hut (3rd edition)",
          "num_parts": 5,
          "quantity": 5,
          "theme_name": "Harry Potter",
          "transparent": false
         },
         {
          "color_name": "Pearl Light Gray",
          "hex": "#9CA3A8",
          "name": "Hagrid's Hut (3rd edition)",
          "num_name": "4738-1: Hagrid's Hut (3rd edition)",
          "num_parts": 4,
          "quantity": 4,
          "theme_name": "Harry Potter",
          "transparent": false
         },
         {
          "color_name": "Red",
          "hex": "#C91A09",
          "name": "Hagrid's Hut (3rd edition)",
          "num_name": "4738-1: Hagrid's Hut (3rd edition)",
          "num_parts": 11,
          "quantity": 11,
          "theme_name": "Harry Potter",
          "transparent": true
         },
         {
          "color_name": "Reddish Brown",
          "hex": "#582A12",
          "name": "Hagrid's Hut (3rd edition)",
          "num_name": "4738-1: Hagrid's Hut (3rd edition)",
          "num_parts": 108,
          "quantity": 108,
          "theme_name": "Harry Potter",
          "transparent": false
         },
         {
          "color_name": "Sand Green",
          "hex": "#A0BCAC",
          "name": "Hagrid's Hut (3rd edition)",
          "num_name": "4738-1: Hagrid's Hut (3rd edition)",
          "num_parts": 30,
          "quantity": 30,
          "theme_name": "Harry Potter",
          "transparent": false
         },
         {
          "color_name": "Speckle Black-Silver",
          "hex": "#05131D",
          "name": "Hagrid's Hut (3rd edition)",
          "num_name": "4738-1: Hagrid's Hut (3rd edition)",
          "num_parts": 1,
          "quantity": 1,
          "theme_name": "Harry Potter",
          "transparent": false
         },
         {
          "color_name": "Tan",
          "hex": "#E4CD9E",
          "name": "Hagrid's Hut (3rd edition)",
          "num_name": "4738-1: Hagrid's Hut (3rd edition)",
          "num_parts": 17,
          "quantity": 17,
          "theme_name": "Harry Potter",
          "transparent": false
         },
         {
          "color_name": "Trans-Clear",
          "hex": "#FCFCFC",
          "name": "Hagrid's Hut (3rd edition)",
          "num_name": "4738-1: Hagrid's Hut (3rd edition)",
          "num_parts": 2,
          "quantity": 2,
          "theme_name": "Harry Potter",
          "transparent": true
         },
         {
          "color_name": "Trans-Dark Blue",
          "hex": "#0020A0",
          "name": "Hagrid's Hut (3rd edition)",
          "num_name": "4738-1: Hagrid's Hut (3rd edition)",
          "num_parts": 1,
          "quantity": 1,
          "theme_name": "Harry Potter",
          "transparent": true
         },
         {
          "color_name": "Trans-Green",
          "hex": "#84B68D",
          "name": "Hagrid's Hut (3rd edition)",
          "num_name": "4738-1: Hagrid's Hut (3rd edition)",
          "num_parts": 1,
          "quantity": 1,
          "theme_name": "Harry Potter",
          "transparent": true
         },
         {
          "color_name": "Trans-Neon Orange",
          "hex": "#FF800D",
          "name": "Hagrid's Hut (3rd edition)",
          "num_name": "4738-1: Hagrid's Hut (3rd edition)",
          "num_parts": 3,
          "quantity": 3,
          "theme_name": "Harry Potter",
          "transparent": true
         },
         {
          "color_name": "Trans-Orange",
          "hex": "#F08F1C",
          "name": "Hagrid's Hut (3rd edition)",
          "num_name": "4738-1: Hagrid's Hut (3rd edition)",
          "num_parts": 2,
          "quantity": 2,
          "theme_name": "Harry Potter",
          "transparent": true
         },
         {
          "color_name": "Trans-Red",
          "hex": "#C91A09",
          "name": "Hagrid's Hut (3rd edition)",
          "num_name": "4738-1: Hagrid's Hut (3rd edition)",
          "num_parts": 4,
          "quantity": 4,
          "theme_name": "Harry Potter",
          "transparent": true
         },
         {
          "color_name": "Trans-Yellow",
          "hex": "#F5CD2F",
          "name": "Hagrid's Hut (3rd edition)",
          "num_name": "4738-1: Hagrid's Hut (3rd edition)",
          "num_parts": 1,
          "quantity": 1,
          "theme_name": "Harry Potter",
          "transparent": true
         },
         {
          "color_name": "White",
          "hex": "#FFFFFF",
          "name": "Hagrid's Hut (3rd edition)",
          "num_name": "4738-1: Hagrid's Hut (3rd edition)",
          "num_parts": 5,
          "quantity": 5,
          "theme_name": "Harry Potter",
          "transparent": false
         },
         {
          "color_name": "Black",
          "hex": "#05131D",
          "name": "The Burrow",
          "num_name": "4840-1: The Burrow",
          "num_parts": 28,
          "quantity": 28,
          "theme_name": "Harry Potter",
          "transparent": false
         },
         {
          "color_name": "Blue",
          "hex": "#0055BF",
          "name": "The Burrow",
          "num_name": "4840-1: The Burrow",
          "num_parts": 2,
          "quantity": 2,
          "theme_name": "Harry Potter",
          "transparent": false
         },
         {
          "color_name": "Bright Light Orange",
          "hex": "#F8BB3D",
          "name": "The Burrow",
          "num_name": "4840-1: The Burrow",
          "num_parts": 1,
          "quantity": 1,
          "theme_name": "Harry Potter",
          "transparent": false
         },
         {
          "color_name": "Dark Blue",
          "hex": "#0A3463",
          "name": "The Burrow",
          "num_name": "4840-1: The Burrow",
          "num_parts": 1,
          "quantity": 1,
          "theme_name": "Harry Potter",
          "transparent": false
         },
         {
          "color_name": "Dark Bluish Gray",
          "hex": "#6C6E68",
          "name": "The Burrow",
          "num_name": "4840-1: The Burrow",
          "num_parts": 47,
          "quantity": 47,
          "theme_name": "Harry Potter",
          "transparent": false
         },
         {
          "color_name": "Dark Brown",
          "hex": "#352100",
          "name": "The Burrow",
          "num_name": "4840-1: The Burrow",
          "num_parts": 12,
          "quantity": 12,
          "theme_name": "Harry Potter",
          "transparent": false
         },
         {
          "color_name": "Dark Green",
          "hex": "#184632",
          "name": "The Burrow",
          "num_name": "4840-1: The Burrow",
          "num_parts": 1,
          "quantity": 1,
          "theme_name": "Harry Potter",
          "transparent": false
         },
         {
          "color_name": "Dark Orange",
          "hex": "#A95500",
          "name": "The Burrow",
          "num_name": "4840-1: The Burrow",
          "num_parts": 4,
          "quantity": 4,
          "theme_name": "Harry Potter",
          "transparent": false
         },
         {
          "color_name": "Dark Red",
          "hex": "#720E0F",
          "name": "The Burrow",
          "num_name": "4840-1: The Burrow",
          "num_parts": 96,
          "quantity": 96,
          "theme_name": "Harry Potter",
          "transparent": false
         },
         {
          "color_name": "Dark Tan",
          "hex": "#958A73",
          "name": "The Burrow",
          "num_name": "4840-1: The Burrow",
          "num_parts": 17,
          "quantity": 17,
          "theme_name": "Harry Potter",
          "transparent": false
         },
         {
          "color_name": "Flesh",
          "hex": "#D09168",
          "name": "The Burrow",
          "num_name": "4840-1: The Burrow",
          "num_parts": 1,
          "quantity": 1,
          "theme_name": "Harry Potter",
          "transparent": false
         },
         {
          "color_name": "Green",
          "hex": "#237841",
          "name": "The Burrow",
          "num_name": "4840-1: The Burrow",
          "num_parts": 11,
          "quantity": 11,
          "theme_name": "Harry Potter",
          "transparent": false
         },
         {
          "color_name": "Light Bluish Gray",
          "hex": "#A0A5A9",
          "name": "The Burrow",
          "num_name": "4840-1: The Burrow",
          "num_parts": 27,
          "quantity": 27,
          "theme_name": "Harry Potter",
          "transparent": false
         },
         {
          "color_name": "Light Flesh",
          "hex": "#F6D7B3",
          "name": "The Burrow",
          "num_name": "4840-1: The Burrow",
          "num_parts": 6,
          "quantity": 6,
          "theme_name": "Harry Potter",
          "transparent": false
         },
         {
          "color_name": "Medium Blue",
          "hex": "#5A93DB",
          "name": "The Burrow",
          "num_name": "4840-1: The Burrow",
          "num_parts": 31,
          "quantity": 31,
          "theme_name": "Harry Potter",
          "transparent": false
         },
         {
          "color_name": "Medium Dark Flesh",
          "hex": "#CC702A",
          "name": "The Burrow",
          "num_name": "4840-1: The Burrow",
          "num_parts": 86,
          "quantity": 86,
          "theme_name": "Harry Potter",
          "transparent": false
         },
         {
          "color_name": "Orange",
          "hex": "#FE8A18",
          "name": "The Burrow",
          "num_name": "4840-1: The Burrow",
          "num_parts": 8,
          "quantity": 8,
          "theme_name": "Harry Potter",
          "transparent": false
         },
         {
          "color_name": "Pearl Gold",
          "hex": "#AA7F2E",
          "name": "The Burrow",
          "num_name": "4840-1: The Burrow",
          "num_parts": 35,
          "quantity": 35,
          "theme_name": "Harry Potter",
          "transparent": false
         },
         {
          "color_name": "Pearl Light Gray",
          "hex": "#9CA3A8",
          "name": "The Burrow",
          "num_name": "4840-1: The Burrow",
          "num_parts": 2,
          "quantity": 2,
          "theme_name": "Harry Potter",
          "transparent": false
         },
         {
          "color_name": "Red",
          "hex": "#C91A09",
          "name": "The Burrow",
          "num_name": "4840-1: The Burrow",
          "num_parts": 11,
          "quantity": 11,
          "theme_name": "Harry Potter",
          "transparent": true
         },
         {
          "color_name": "Reddish Brown",
          "hex": "#582A12",
          "name": "The Burrow",
          "num_name": "4840-1: The Burrow",
          "num_parts": 65,
          "quantity": 65,
          "theme_name": "Harry Potter",
          "transparent": false
         },
         {
          "color_name": "Sand Green",
          "hex": "#A0BCAC",
          "name": "The Burrow",
          "num_name": "4840-1: The Burrow",
          "num_parts": 1,
          "quantity": 1,
          "theme_name": "Harry Potter",
          "transparent": false
         },
         {
          "color_name": "Tan",
          "hex": "#E4CD9E",
          "name": "The Burrow",
          "num_name": "4840-1: The Burrow",
          "num_parts": 32,
          "quantity": 32,
          "theme_name": "Harry Potter",
          "transparent": false
         },
         {
          "color_name": "Trans-Clear",
          "hex": "#FCFCFC",
          "name": "The Burrow",
          "num_name": "4840-1: The Burrow",
          "num_parts": 2,
          "quantity": 2,
          "theme_name": "Harry Potter",
          "transparent": true
         },
         {
          "color_name": "Trans-Neon Orange",
          "hex": "#FF800D",
          "name": "The Burrow",
          "num_name": "4840-1: The Burrow",
          "num_parts": 7,
          "quantity": 7,
          "theme_name": "Harry Potter",
          "transparent": true
         },
         {
          "color_name": "Trans-Red",
          "hex": "#C91A09",
          "name": "The Burrow",
          "num_name": "4840-1: The Burrow",
          "num_parts": 4,
          "quantity": 4,
          "theme_name": "Harry Potter",
          "transparent": true
         },
         {
          "color_name": "Trans-Yellow",
          "hex": "#F5CD2F",
          "name": "The Burrow",
          "num_name": "4840-1: The Burrow",
          "num_parts": 10,
          "quantity": 10,
          "theme_name": "Harry Potter",
          "transparent": true
         },
         {
          "color_name": "White",
          "hex": "#FFFFFF",
          "name": "The Burrow",
          "num_name": "4840-1: The Burrow",
          "num_parts": 39,
          "quantity": 39,
          "theme_name": "Harry Potter",
          "transparent": false
         },
         {
          "color_name": "Black",
          "hex": "#05131D",
          "name": "Hogwarts Express (3rd edition)",
          "num_name": "4841-1: Hogwarts Express (3rd edition)",
          "num_parts": 250,
          "quantity": 250,
          "theme_name": "Harry Potter",
          "transparent": false
         },
         {
          "color_name": "Blue",
          "hex": "#0055BF",
          "name": "Hogwarts Express (3rd edition)",
          "num_name": "4841-1: Hogwarts Express (3rd edition)",
          "num_parts": 3,
          "quantity": 3,
          "theme_name": "Harry Potter",
          "transparent": false
         },
         {
          "color_name": "Bright Light Yellow",
          "hex": "#FFF03A",
          "name": "Hogwarts Express (3rd edition)",
          "num_name": "4841-1: Hogwarts Express (3rd edition)",
          "num_parts": 1,
          "quantity": 1,
          "theme_name": "Harry Potter",
          "transparent": false
         },
         {
          "color_name": "Chrome Silver",
          "hex": "#E0E0E0",
          "name": "Hogwarts Express (3rd edition)",
          "num_name": "4841-1: Hogwarts Express (3rd edition)",
          "num_parts": 10,
          "quantity": 10,
          "theme_name": "Harry Potter",
          "transparent": false
         },
         {
          "color_name": "Dark Blue",
          "hex": "#0A3463",
          "name": "Hogwarts Express (3rd edition)",
          "num_name": "4841-1: Hogwarts Express (3rd edition)",
          "num_parts": 1,
          "quantity": 1,
          "theme_name": "Harry Potter",
          "transparent": false
         },
         {
          "color_name": "Dark Bluish Gray",
          "hex": "#6C6E68",
          "name": "Hogwarts Express (3rd edition)",
          "num_name": "4841-1: Hogwarts Express (3rd edition)",
          "num_parts": 19,
          "quantity": 19,
          "theme_name": "Harry Potter",
          "transparent": false
         },
         {
          "color_name": "Dark Orange",
          "hex": "#A95500",
          "name": "Hogwarts Express (3rd edition)",
          "num_name": "4841-1: Hogwarts Express (3rd edition)",
          "num_parts": 2,
          "quantity": 2,
          "theme_name": "Harry Potter",
          "transparent": false
         },
         {
          "color_name": "Dark Pink",
          "hex": "#C870A0",
          "name": "Hogwarts Express (3rd edition)",
          "num_name": "4841-1: Hogwarts Express (3rd edition)",
          "num_parts": 1,
          "quantity": 1,
          "theme_name": "Harry Potter",
          "transparent": false
         },
         {
          "color_name": "Light Bluish Gray",
          "hex": "#A0A5A9",
          "name": "Hogwarts Express (3rd edition)",
          "num_name": "4841-1: Hogwarts Express (3rd edition)",
          "num_parts": 43,
          "quantity": 43,
          "theme_name": "Harry Potter",
          "transparent": false
         },
         {
          "color_name": "Light Flesh",
          "hex": "#F6D7B3",
          "name": "Hogwarts Express (3rd edition)",
          "num_name": "4841-1: Hogwarts Express (3rd edition)",
          "num_parts": 5,
          "quantity": 5,
          "theme_name": "Harry Potter",
          "transparent": false
         },
         {
          "color_name": "Medium Blue",
          "hex": "#5A93DB",
          "name": "Hogwarts Express (3rd edition)",
          "num_name": "4841-1: Hogwarts Express (3rd edition)",
          "num_parts": 73,
          "quantity": 73,
          "theme_name": "Harry Potter",
          "transparent": false
         },
         {
          "color_name": "Pearl Gold",
          "hex": "#AA7F2E",
          "name": "Hogwarts Express (3rd edition)",
          "num_name": "4841-1: Hogwarts Express (3rd edition)",
          "num_parts": 7,
          "quantity": 7,
          "theme_name": "Harry Potter",
          "transparent": false
         },
         {
          "color_name": "Red",
          "hex": "#C91A09",
          "name": "Hogwarts Express (3rd edition)",
          "num_name": "4841-1: Hogwarts Express (3rd edition)",
          "num_parts": 173,
          "quantity": 173,
          "theme_name": "Harry Potter",
          "transparent": true
         },
         {
          "color_name": "Reddish Brown",
          "hex": "#582A12",
          "name": "Hogwarts Express (3rd edition)",
          "num_name": "4841-1: Hogwarts Express (3rd edition)",
          "num_parts": 24,
          "quantity": 24,
          "theme_name": "Harry Potter",
          "transparent": false
         },
         {
          "color_name": "Tan",
          "hex": "#E4CD9E",
          "name": "Hogwarts Express (3rd edition)",
          "num_name": "4841-1: Hogwarts Express (3rd edition)",
          "num_parts": 4,
          "quantity": 4,
          "theme_name": "Harry Potter",
          "transparent": false
         },
         {
          "color_name": "Trans-Clear",
          "hex": "#FCFCFC",
          "name": "Hogwarts Express (3rd edition)",
          "num_name": "4841-1: Hogwarts Express (3rd edition)",
          "num_parts": 19,
          "quantity": 19,
          "theme_name": "Harry Potter",
          "transparent": true
         },
         {
          "color_name": "Trans-Dark Pink",
          "hex": "#DF6695",
          "name": "Hogwarts Express (3rd edition)",
          "num_name": "4841-1: Hogwarts Express (3rd edition)",
          "num_parts": 1,
          "quantity": 1,
          "theme_name": "Harry Potter",
          "transparent": true
         },
         {
          "color_name": "Trans-Neon Green",
          "hex": "#F8F184",
          "name": "Hogwarts Express (3rd edition)",
          "num_name": "4841-1: Hogwarts Express (3rd edition)",
          "num_parts": 1,
          "quantity": 1,
          "theme_name": "Harry Potter",
          "transparent": true
         },
         {
          "color_name": "Trans-Orange",
          "hex": "#F08F1C",
          "name": "Hogwarts Express (3rd edition)",
          "num_name": "4841-1: Hogwarts Express (3rd edition)",
          "num_parts": 3,
          "quantity": 3,
          "theme_name": "Harry Potter",
          "transparent": true
         },
         {
          "color_name": "Trans-Red",
          "hex": "#C91A09",
          "name": "Hogwarts Express (3rd edition)",
          "num_name": "4841-1: Hogwarts Express (3rd edition)",
          "num_parts": 5,
          "quantity": 5,
          "theme_name": "Harry Potter",
          "transparent": true
         },
         {
          "color_name": "White",
          "hex": "#FFFFFF",
          "name": "Hogwarts Express (3rd edition)",
          "num_name": "4841-1: Hogwarts Express (3rd edition)",
          "num_parts": 15,
          "quantity": 15,
          "theme_name": "Harry Potter",
          "transparent": false
         },
         {
          "color_name": "Yellow",
          "hex": "#F2CD37",
          "name": "Hogwarts Express (3rd edition)",
          "num_name": "4841-1: Hogwarts Express (3rd edition)",
          "num_parts": 12,
          "quantity": 12,
          "theme_name": "Harry Potter",
          "transparent": false
         },
         {
          "color_name": "Black",
          "hex": "#05131D",
          "name": "Hogwarts Castle [Fourth Edition]",
          "num_name": "4842-1: Hogwarts Castle [Fourth Edition]",
          "num_parts": 114,
          "quantity": 114,
          "theme_name": "Harry Potter",
          "transparent": false
         },
         {
          "color_name": "Bright Light Orange",
          "hex": "#F8BB3D",
          "name": "Hogwarts Castle [Fourth Edition]",
          "num_name": "4842-1: Hogwarts Castle [Fourth Edition]",
          "num_parts": 1,
          "quantity": 1,
          "theme_name": "Harry Potter",
          "transparent": false
         },
         {
          "color_name": "Chrome Silver",
          "hex": "#E0E0E0",
          "name": "Hogwarts Castle [Fourth Edition]",
          "num_name": "4842-1: Hogwarts Castle [Fourth Edition]",
          "num_parts": 1,
          "quantity": 1,
          "theme_name": "Harry Potter",
          "transparent": false
         },
         {
          "color_name": "Dark Bluish Gray",
          "hex": "#6C6E68",
          "name": "Hogwarts Castle [Fourth Edition]",
          "num_name": "4842-1: Hogwarts Castle [Fourth Edition]",
          "num_parts": 167,
          "quantity": 167,
          "theme_name": "Harry Potter",
          "transparent": false
         },
         {
          "color_name": "Dark Brown",
          "hex": "#352100",
          "name": "Hogwarts Castle [Fourth Edition]",
          "num_name": "4842-1: Hogwarts Castle [Fourth Edition]",
          "num_parts": 1,
          "quantity": 1,
          "theme_name": "Harry Potter",
          "transparent": false
         },
         {
          "color_name": "Dark Green",
          "hex": "#184632",
          "name": "Hogwarts Castle [Fourth Edition]",
          "num_name": "4842-1: Hogwarts Castle [Fourth Edition]",
          "num_parts": 6,
          "quantity": 6,
          "theme_name": "Harry Potter",
          "transparent": false
         },
         {
          "color_name": "Dark Orange",
          "hex": "#A95500",
          "name": "Hogwarts Castle [Fourth Edition]",
          "num_name": "4842-1: Hogwarts Castle [Fourth Edition]",
          "num_parts": 4,
          "quantity": 4,
          "theme_name": "Harry Potter",
          "transparent": false
         },
         {
          "color_name": "Dark Tan",
          "hex": "#958A73",
          "name": "Hogwarts Castle [Fourth Edition]",
          "num_name": "4842-1: Hogwarts Castle [Fourth Edition]",
          "num_parts": 62,
          "quantity": 62,
          "theme_name": "Harry Potter",
          "transparent": false
         },
         {
          "color_name": "Green",
          "hex": "#237841",
          "name": "Hogwarts Castle [Fourth Edition]",
          "num_name": "4842-1: Hogwarts Castle [Fourth Edition]",
          "num_parts": 10,
          "quantity": 10,
          "theme_name": "Harry Potter",
          "transparent": false
         },
         {
          "color_name": "Light Bluish Gray",
          "hex": "#A0A5A9",
          "name": "Hogwarts Castle [Fourth Edition]",
          "num_name": "4842-1: Hogwarts Castle [Fourth Edition]",
          "num_parts": 65,
          "quantity": 65,
          "theme_name": "Harry Potter",
          "transparent": false
         },
         {
          "color_name": "Light Flesh",
          "hex": "#F6D7B3",
          "name": "Hogwarts Castle [Fourth Edition]",
          "num_name": "4842-1: Hogwarts Castle [Fourth Edition]",
          "num_parts": 7,
          "quantity": 7,
          "theme_name": "Harry Potter",
          "transparent": false
         },
         {
          "color_name": "Lime",
          "hex": "#BBE90B",
          "name": "Hogwarts Castle [Fourth Edition]",
          "num_name": "4842-1: Hogwarts Castle [Fourth Edition]",
          "num_parts": 7,
          "quantity": 7,
          "theme_name": "Harry Potter",
          "transparent": false
         },
         {
          "color_name": "Medium Dark Flesh",
          "hex": "#CC702A",
          "name": "Hogwarts Castle [Fourth Edition]",
          "num_name": "4842-1: Hogwarts Castle [Fourth Edition]",
          "num_parts": 1,
          "quantity": 1,
          "theme_name": "Harry Potter",
          "transparent": false
         },
         {
          "color_name": "Metallic Gold",
          "hex": "#DBAC34",
          "name": "Hogwarts Castle [Fourth Edition]",
          "num_name": "4842-1: Hogwarts Castle [Fourth Edition]",
          "num_parts": 1,
          "quantity": 1,
          "theme_name": "Harry Potter",
          "transparent": false
         },
         {
          "color_name": "Metallic Silver",
          "hex": "#A5A9B4",
          "name": "Hogwarts Castle [Fourth Edition]",
          "num_name": "4842-1: Hogwarts Castle [Fourth Edition]",
          "num_parts": 11,
          "quantity": 11,
          "theme_name": "Harry Potter",
          "transparent": false
         },
         {
          "color_name": "Pearl Dark Gray",
          "hex": "#575857",
          "name": "Hogwarts Castle [Fourth Edition]",
          "num_name": "4842-1: Hogwarts Castle [Fourth Edition]",
          "num_parts": 1,
          "quantity": 1,
          "theme_name": "Harry Potter",
          "transparent": false
         },
         {
          "color_name": "Pearl Gold",
          "hex": "#AA7F2E",
          "name": "Hogwarts Castle [Fourth Edition]",
          "num_name": "4842-1: Hogwarts Castle [Fourth Edition]",
          "num_parts": 26,
          "quantity": 26,
          "theme_name": "Harry Potter",
          "transparent": false
         },
         {
          "color_name": "Pearl Light Gray",
          "hex": "#9CA3A8",
          "name": "Hogwarts Castle [Fourth Edition]",
          "num_name": "4842-1: Hogwarts Castle [Fourth Edition]",
          "num_parts": 1,
          "quantity": 1,
          "theme_name": "Harry Potter",
          "transparent": false
         },
         {
          "color_name": "Red",
          "hex": "#C91A09",
          "name": "Hogwarts Castle [Fourth Edition]",
          "num_name": "4842-1: Hogwarts Castle [Fourth Edition]",
          "num_parts": 13,
          "quantity": 13,
          "theme_name": "Harry Potter",
          "transparent": true
         },
         {
          "color_name": "Reddish Brown",
          "hex": "#582A12",
          "name": "Hogwarts Castle [Fourth Edition]",
          "num_name": "4842-1: Hogwarts Castle [Fourth Edition]",
          "num_parts": 212,
          "quantity": 212,
          "theme_name": "Harry Potter",
          "transparent": false
         },
         {
          "color_name": "Sand Blue",
          "hex": "#6074A1",
          "name": "Hogwarts Castle [Fourth Edition]",
          "num_name": "4842-1: Hogwarts Castle [Fourth Edition]",
          "num_parts": 2,
          "quantity": 2,
          "theme_name": "Harry Potter",
          "transparent": false
         },
         {
          "color_name": "Sand Green",
          "hex": "#A0BCAC",
          "name": "Hogwarts Castle [Fourth Edition]",
          "num_name": "4842-1: Hogwarts Castle [Fourth Edition]",
          "num_parts": 80,
          "quantity": 80,
          "theme_name": "Harry Potter",
          "transparent": false
         },
         {
          "color_name": "Tan",
          "hex": "#E4CD9E",
          "name": "Hogwarts Castle [Fourth Edition]",
          "num_name": "4842-1: Hogwarts Castle [Fourth Edition]",
          "num_parts": 438,
          "quantity": 438,
          "theme_name": "Harry Potter",
          "transparent": false
         },
         {
          "color_name": "Trans-Clear",
          "hex": "#FCFCFC",
          "name": "Hogwarts Castle [Fourth Edition]",
          "num_name": "4842-1: Hogwarts Castle [Fourth Edition]",
          "num_parts": 13,
          "quantity": 13,
          "theme_name": "Harry Potter",
          "transparent": true
         },
         {
          "color_name": "Trans-Dark Blue",
          "hex": "#0020A0",
          "name": "Hogwarts Castle [Fourth Edition]",
          "num_name": "4842-1: Hogwarts Castle [Fourth Edition]",
          "num_parts": 16,
          "quantity": 16,
          "theme_name": "Harry Potter",
          "transparent": true
         },
         {
          "color_name": "Trans-Green",
          "hex": "#84B68D",
          "name": "Hogwarts Castle [Fourth Edition]",
          "num_name": "4842-1: Hogwarts Castle [Fourth Edition]",
          "num_parts": 2,
          "quantity": 2,
          "theme_name": "Harry Potter",
          "transparent": true
         },
         {
          "color_name": "Trans-Neon Green",
          "hex": "#F8F184",
          "name": "Hogwarts Castle [Fourth Edition]",
          "num_name": "4842-1: Hogwarts Castle [Fourth Edition]",
          "num_parts": 1,
          "quantity": 1,
          "theme_name": "Harry Potter",
          "transparent": true
         },
         {
          "color_name": "Trans-Neon Orange",
          "hex": "#FF800D",
          "name": "Hogwarts Castle [Fourth Edition]",
          "num_name": "4842-1: Hogwarts Castle [Fourth Edition]",
          "num_parts": 21,
          "quantity": 21,
          "theme_name": "Harry Potter",
          "transparent": true
         },
         {
          "color_name": "Trans-Orange",
          "hex": "#F08F1C",
          "name": "Hogwarts Castle [Fourth Edition]",
          "num_name": "4842-1: Hogwarts Castle [Fourth Edition]",
          "num_parts": 16,
          "quantity": 16,
          "theme_name": "Harry Potter",
          "transparent": true
         },
         {
          "color_name": "Trans-Red",
          "hex": "#C91A09",
          "name": "Hogwarts Castle [Fourth Edition]",
          "num_name": "4842-1: Hogwarts Castle [Fourth Edition]",
          "num_parts": 3,
          "quantity": 3,
          "theme_name": "Harry Potter",
          "transparent": true
         },
         {
          "color_name": "Trans-Yellow",
          "hex": "#F5CD2F",
          "name": "Hogwarts Castle [Fourth Edition]",
          "num_name": "4842-1: Hogwarts Castle [Fourth Edition]",
          "num_parts": 1,
          "quantity": 1,
          "theme_name": "Harry Potter",
          "transparent": true
         },
         {
          "color_name": "White",
          "hex": "#FFFFFF",
          "name": "Hogwarts Castle [Fourth Edition]",
          "num_name": "4842-1: Hogwarts Castle [Fourth Edition]",
          "num_parts": 18,
          "quantity": 18,
          "theme_name": "Harry Potter",
          "transparent": false
         },
         {
          "color_name": "Yellow",
          "hex": "#F2CD37",
          "name": "Hogwarts Castle [Fourth Edition]",
          "num_name": "4842-1: Hogwarts Castle [Fourth Edition]",
          "num_parts": 1,
          "quantity": 1,
          "theme_name": "Harry Potter",
          "transparent": false
         },
         {
          "color_name": "[No Color/Any Color]",
          "hex": "#05131D",
          "name": "Hogwarts Castle [Fourth Edition]",
          "num_name": "4842-1: Hogwarts Castle [Fourth Edition]",
          "num_parts": 1,
          "quantity": 1,
          "theme_name": "Harry Potter",
          "transparent": false
         },
         {
          "color_name": "Black",
          "hex": "#05131D",
          "name": "The Forbidden Forest",
          "num_name": "4865-1: The Forbidden Forest",
          "num_parts": 19,
          "quantity": 19,
          "theme_name": "Harry Potter",
          "transparent": false
         },
         {
          "color_name": "Dark Bluish Gray",
          "hex": "#6C6E68",
          "name": "The Forbidden Forest",
          "num_name": "4865-1: The Forbidden Forest",
          "num_parts": 1,
          "quantity": 1,
          "theme_name": "Harry Potter",
          "transparent": false
         },
         {
          "color_name": "Dark Brown",
          "hex": "#352100",
          "name": "The Forbidden Forest",
          "num_name": "4865-1: The Forbidden Forest",
          "num_parts": 17,
          "quantity": 17,
          "theme_name": "Harry Potter",
          "transparent": false
         },
         {
          "color_name": "Dark Green",
          "hex": "#184632",
          "name": "The Forbidden Forest",
          "num_name": "4865-1: The Forbidden Forest",
          "num_parts": 3,
          "quantity": 3,
          "theme_name": "Harry Potter",
          "transparent": false
         },
         {
          "color_name": "Dark Tan",
          "hex": "#958A73",
          "name": "The Forbidden Forest",
          "num_name": "4865-1: The Forbidden Forest",
          "num_parts": 2,
          "quantity": 2,
          "theme_name": "Harry Potter",
          "transparent": false
         },
         {
          "color_name": "Green",
          "hex": "#237841",
          "name": "The Forbidden Forest",
          "num_name": "4865-1: The Forbidden Forest",
          "num_parts": 1,
          "quantity": 1,
          "theme_name": "Harry Potter",
          "transparent": false
         },
         {
          "color_name": "Light Bluish Gray",
          "hex": "#A0A5A9",
          "name": "The Forbidden Forest",
          "num_name": "4865-1: The Forbidden Forest",
          "num_parts": 2,
          "quantity": 2,
          "theme_name": "Harry Potter",
          "transparent": false
         },
         {
          "color_name": "Light Flesh",
          "hex": "#F6D7B3",
          "name": "The Forbidden Forest",
          "num_name": "4865-1: The Forbidden Forest",
          "num_parts": 3,
          "quantity": 3,
          "theme_name": "Harry Potter",
          "transparent": false
         },
         {
          "color_name": "Red",
          "hex": "#C91A09",
          "name": "The Forbidden Forest",
          "num_name": "4865-1: The Forbidden Forest",
          "num_parts": 1,
          "quantity": 1,
          "theme_name": "Harry Potter",
          "transparent": true
         },
         {
          "color_name": "Reddish Brown",
          "hex": "#582A12",
          "name": "The Forbidden Forest",
          "num_name": "4865-1: The Forbidden Forest",
          "num_parts": 2,
          "quantity": 2,
          "theme_name": "Harry Potter",
          "transparent": false
         },
         {
          "color_name": "Tan",
          "hex": "#E4CD9E",
          "name": "The Forbidden Forest",
          "num_name": "4865-1: The Forbidden Forest",
          "num_parts": 3,
          "quantity": 3,
          "theme_name": "Harry Potter",
          "transparent": false
         },
         {
          "color_name": "Trans-Dark Blue",
          "hex": "#0020A0",
          "name": "The Forbidden Forest",
          "num_name": "4865-1: The Forbidden Forest",
          "num_parts": 4,
          "quantity": 4,
          "theme_name": "Harry Potter",
          "transparent": true
         },
         {
          "color_name": "Trans-Light Blue",
          "hex": "#AEEFEC",
          "name": "The Forbidden Forest",
          "num_name": "4865-1: The Forbidden Forest",
          "num_parts": 4,
          "quantity": 4,
          "theme_name": "Harry Potter",
          "transparent": true
         },
         {
          "color_name": "White",
          "hex": "#FFFFFF",
          "name": "The Forbidden Forest",
          "num_name": "4865-1: The Forbidden Forest",
          "num_parts": 3,
          "quantity": 3,
          "theme_name": "Harry Potter",
          "transparent": false
         },
         {
          "color_name": "Black",
          "hex": "#05131D",
          "name": "The Knight Bus",
          "num_name": "4866-1: The Knight Bus",
          "num_parts": 80,
          "quantity": 80,
          "theme_name": "Harry Potter",
          "transparent": false
         },
         {
          "color_name": "Blue",
          "hex": "#0055BF",
          "name": "The Knight Bus",
          "num_name": "4866-1: The Knight Bus",
          "num_parts": 4,
          "quantity": 4,
          "theme_name": "Harry Potter",
          "transparent": false
         },
         {
          "color_name": "Dark Blue",
          "hex": "#0A3463",
          "name": "The Knight Bus",
          "num_name": "4866-1: The Knight Bus",
          "num_parts": 1,
          "quantity": 1,
          "theme_name": "Harry Potter",
          "transparent": false
         },
         {
          "color_name": "Dark Bluish Gray",
          "hex": "#6C6E68",
          "name": "The Knight Bus",
          "num_name": "4866-1: The Knight Bus",
          "num_parts": 7,
          "quantity": 7,
          "theme_name": "Harry Potter",
          "transparent": false
         },
         {
          "color_name": "Dark Purple",
          "hex": "#3F3691",
          "name": "The Knight Bus",
          "num_name": "4866-1: The Knight Bus",
          "num_parts": 110,
          "quantity": 110,
          "theme_name": "Harry Potter",
          "transparent": false
         },
         {
          "color_name": "Dark Tan",
          "hex": "#958A73",
          "name": "The Knight Bus",
          "num_name": "4866-1: The Knight Bus",
          "num_parts": 1,
          "quantity": 1,
          "theme_name": "Harry Potter",
          "transparent": false
         },
         {
          "color_name": "Light Bluish Gray",
          "hex": "#A0A5A9",
          "name": "The Knight Bus",
          "num_name": "4866-1: The Knight Bus",
          "num_parts": 22,
          "quantity": 22,
          "theme_name": "Harry Potter",
          "transparent": false
         },
         {
          "color_name": "Light Flesh",
          "hex": "#F6D7B3",
          "name": "The Knight Bus",
          "num_name": "4866-1: The Knight Bus",
          "num_parts": 3,
          "quantity": 3,
          "theme_name": "Harry Potter",
          "transparent": false
         },
         {
          "color_name": "Reddish Brown",
          "hex": "#582A12",
          "name": "The Knight Bus",
          "num_name": "4866-1: The Knight Bus",
          "num_parts": 9,
          "quantity": 9,
          "theme_name": "Harry Potter",
          "transparent": false
         },
         {
          "color_name": "Sand Green",
          "hex": "#A0BCAC",
          "name": "The Knight Bus",
          "num_name": "4866-1: The Knight Bus",
          "num_parts": 1,
          "quantity": 1,
          "theme_name": "Harry Potter",
          "transparent": false
         },
         {
          "color_name": "Tan",
          "hex": "#E4CD9E",
          "name": "The Knight Bus",
          "num_name": "4866-1: The Knight Bus",
          "num_parts": 6,
          "quantity": 6,
          "theme_name": "Harry Potter",
          "transparent": false
         },
         {
          "color_name": "Trans-Clear",
          "hex": "#FCFCFC",
          "name": "The Knight Bus",
          "num_name": "4866-1: The Knight Bus",
          "num_parts": 29,
          "quantity": 29,
          "theme_name": "Harry Potter",
          "transparent": true
         },
         {
          "color_name": "Trans-Red",
          "hex": "#C91A09",
          "name": "The Knight Bus",
          "num_name": "4866-1: The Knight Bus",
          "num_parts": 1,
          "quantity": 1,
          "theme_name": "Harry Potter",
          "transparent": true
         },
         {
          "color_name": "Trans-Yellow",
          "hex": "#F5CD2F",
          "name": "The Knight Bus",
          "num_name": "4866-1: The Knight Bus",
          "num_parts": 4,
          "quantity": 4,
          "theme_name": "Harry Potter",
          "transparent": true
         },
         {
          "color_name": "White",
          "hex": "#FFFFFF",
          "name": "The Knight Bus",
          "num_name": "4866-1: The Knight Bus",
          "num_parts": 3,
          "quantity": 3,
          "theme_name": "Harry Potter",
          "transparent": false
         },
         {
          "color_name": "[No Color/Any Color]",
          "hex": "#05131D",
          "name": "The Knight Bus",
          "num_name": "4866-1: The Knight Bus",
          "num_parts": 1,
          "quantity": 1,
          "theme_name": "Harry Potter",
          "transparent": false
         },
         {
          "color_name": "Black",
          "hex": "#05131D",
          "name": "Hogwarts",
          "num_name": "4867-1: Hogwarts",
          "num_parts": 23,
          "quantity": 23,
          "theme_name": "Harry Potter",
          "transparent": false
         },
         {
          "color_name": "Blue",
          "hex": "#0055BF",
          "name": "Hogwarts",
          "num_name": "4867-1: Hogwarts",
          "num_parts": 1,
          "quantity": 1,
          "theme_name": "Harry Potter",
          "transparent": false
         },
         {
          "color_name": "Dark Bluish Gray",
          "hex": "#6C6E68",
          "name": "Hogwarts",
          "num_name": "4867-1: Hogwarts",
          "num_parts": 110,
          "quantity": 110,
          "theme_name": "Harry Potter",
          "transparent": false
         },
         {
          "color_name": "Dark Brown",
          "hex": "#352100",
          "name": "Hogwarts",
          "num_name": "4867-1: Hogwarts",
          "num_parts": 1,
          "quantity": 1,
          "theme_name": "Harry Potter",
          "transparent": false
         },
         {
          "color_name": "Dark Green",
          "hex": "#184632",
          "name": "Hogwarts",
          "num_name": "4867-1: Hogwarts",
          "num_parts": 16,
          "quantity": 16,
          "theme_name": "Harry Potter",
          "transparent": false
         },
         {
          "color_name": "Dark Orange",
          "hex": "#A95500",
          "name": "Hogwarts",
          "num_name": "4867-1: Hogwarts",
          "num_parts": 1,
          "quantity": 1,
          "theme_name": "Harry Potter",
          "transparent": false
         },
         {
          "color_name": "Dark Red",
          "hex": "#720E0F",
          "name": "Hogwarts",
          "num_name": "4867-1: Hogwarts",
          "num_parts": 6,
          "quantity": 6,
          "theme_name": "Harry Potter",
          "transparent": false
         },
         {
          "color_name": "Dark Tan",
          "hex": "#958A73",
          "name": "Hogwarts",
          "num_name": "4867-1: Hogwarts",
          "num_parts": 39,
          "quantity": 39,
          "theme_name": "Harry Potter",
          "transparent": false
         },
         {
          "color_name": "Green",
          "hex": "#237841",
          "name": "Hogwarts",
          "num_name": "4867-1: Hogwarts",
          "num_parts": 1,
          "quantity": 1,
          "theme_name": "Harry Potter",
          "transparent": false
         },
         {
          "color_name": "Light Bluish Gray",
          "hex": "#A0A5A9",
          "name": "Hogwarts",
          "num_name": "4867-1: Hogwarts",
          "num_parts": 14,
          "quantity": 14,
          "theme_name": "Harry Potter",
          "transparent": false
         },
         {
          "color_name": "Light Flesh",
          "hex": "#F6D7B3",
          "name": "Hogwarts",
          "num_name": "4867-1: Hogwarts",
          "num_parts": 6,
          "quantity": 6,
          "theme_name": "Harry Potter",
          "transparent": false
         },
         {
          "color_name": "Lime",
          "hex": "#BBE90B",
          "name": "Hogwarts",
          "num_name": "4867-1: Hogwarts",
          "num_parts": 10,
          "quantity": 10,
          "theme_name": "Harry Potter",
          "transparent": false
         },
         {
          "color_name": "Medium Dark Flesh",
          "hex": "#CC702A",
          "name": "Hogwarts",
          "num_name": "4867-1: Hogwarts",
          "num_parts": 3,
          "quantity": 3,
          "theme_name": "Harry Potter",
          "transparent": false
         },
         {
          "color_name": "Pearl Gold",
          "hex": "#AA7F2E",
          "name": "Hogwarts",
          "num_name": "4867-1: Hogwarts",
          "num_parts": 7,
          "quantity": 7,
          "theme_name": "Harry Potter",
          "transparent": false
         },
         {
          "color_name": "Red",
          "hex": "#C91A09",
          "name": "Hogwarts",
          "num_name": "4867-1: Hogwarts",
          "num_parts": 5,
          "quantity": 5,
          "theme_name": "Harry Potter",
          "transparent": true
         },
         {
          "color_name": "Reddish Brown",
          "hex": "#582A12",
          "name": "Hogwarts",
          "num_name": "4867-1: Hogwarts",
          "num_parts": 47,
          "quantity": 47,
          "theme_name": "Harry Potter",
          "transparent": false
         },
         {
          "color_name": "Sand Green",
          "hex": "#A0BCAC",
          "name": "Hogwarts",
          "num_name": "4867-1: Hogwarts",
          "num_parts": 39,
          "quantity": 39,
          "theme_name": "Harry Potter",
          "transparent": false
         },
         {
          "color_name": "Tan",
          "hex": "#E4CD9E",
          "name": "Hogwarts",
          "num_name": "4867-1: Hogwarts",
          "num_parts": 122,
          "quantity": 122,
          "theme_name": "Harry Potter",
          "transparent": false
         },
         {
          "color_name": "Trans-Black",
          "hex": "#635F52",
          "name": "Hogwarts",
          "num_name": "4867-1: Hogwarts",
          "num_parts": 1,
          "quantity": 1,
          "theme_name": "Harry Potter",
          "transparent": true
         },
         {
          "color_name": "Trans-Clear",
          "hex": "#FCFCFC",
          "name": "Hogwarts",
          "num_name": "4867-1: Hogwarts",
          "num_parts": 2,
          "quantity": 2,
          "theme_name": "Harry Potter",
          "transparent": true
         },
         {
          "color_name": "Trans-Dark Blue",
          "hex": "#0020A0",
          "name": "Hogwarts",
          "num_name": "4867-1: Hogwarts",
          "num_parts": 1,
          "quantity": 1,
          "theme_name": "Harry Potter",
          "transparent": true
         },
         {
          "color_name": "Trans-Light Blue",
          "hex": "#AEEFEC",
          "name": "Hogwarts",
          "num_name": "4867-1: Hogwarts",
          "num_parts": 1,
          "quantity": 1,
          "theme_name": "Harry Potter",
          "transparent": true
         },
         {
          "color_name": "Trans-Neon Orange",
          "hex": "#FF800D",
          "name": "Hogwarts",
          "num_name": "4867-1: Hogwarts",
          "num_parts": 3,
          "quantity": 3,
          "theme_name": "Harry Potter",
          "transparent": true
         },
         {
          "color_name": "White",
          "hex": "#FFFFFF",
          "name": "Hogwarts",
          "num_name": "4867-1: Hogwarts",
          "num_parts": 12,
          "quantity": 12,
          "theme_name": "Harry Potter",
          "transparent": false
         },
         {
          "color_name": "Yellow",
          "hex": "#F2CD37",
          "name": "Hogwarts",
          "num_name": "4867-1: Hogwarts",
          "num_parts": 5,
          "quantity": 5,
          "theme_name": "Harry Potter",
          "transparent": false
         },
         {
          "color_name": "[No Color/Any Color]",
          "hex": "#05131D",
          "name": "Hogwarts",
          "num_name": "4867-1: Hogwarts",
          "num_parts": 1,
          "quantity": 1,
          "theme_name": "Harry Potter",
          "transparent": false
         },
         {
          "color_name": "Black",
          "hex": "#05131D",
          "name": "Harry Potter Gallery 1 - Potter L. Malfoy Lockhart Madame Hooch",
          "num_name": "HPG01-1: Harry Potter Gallery 1 - Potter L. Malfoy Lockhart Madame Hooch",
          "num_parts": 5,
          "quantity": 5,
          "theme_name": "Harry Potter",
          "transparent": false
         },
         {
          "color_name": "Dark Gray",
          "hex": "#6D6E5C",
          "name": "Harry Potter Gallery 1 - Potter L. Malfoy Lockhart Madame Hooch",
          "num_name": "HPG01-1: Harry Potter Gallery 1 - Potter L. Malfoy Lockhart Madame Hooch",
          "num_parts": 2,
          "quantity": 2,
          "theme_name": "Harry Potter",
          "transparent": false
         },
         {
          "color_name": "Green",
          "hex": "#237841",
          "name": "Harry Potter Gallery 1 - Potter L. Malfoy Lockhart Madame Hooch",
          "num_name": "HPG01-1: Harry Potter Gallery 1 - Potter L. Malfoy Lockhart Madame Hooch",
          "num_parts": 3,
          "quantity": 3,
          "theme_name": "Harry Potter",
          "transparent": false
         },
         {
          "color_name": "Light Gray",
          "hex": "#9BA19D",
          "name": "Harry Potter Gallery 1 - Potter L. Malfoy Lockhart Madame Hooch",
          "num_name": "HPG01-1: Harry Potter Gallery 1 - Potter L. Malfoy Lockhart Madame Hooch",
          "num_parts": 3,
          "quantity": 3,
          "theme_name": "Harry Potter",
          "transparent": false
         },
         {
          "color_name": "Tan",
          "hex": "#E4CD9E",
          "name": "Harry Potter Gallery 1 - Potter L. Malfoy Lockhart Madame Hooch",
          "num_name": "HPG01-1: Harry Potter Gallery 1 - Potter L. Malfoy Lockhart Madame Hooch",
          "num_parts": 2,
          "quantity": 2,
          "theme_name": "Harry Potter",
          "transparent": false
         },
         {
          "color_name": "White",
          "hex": "#FFFFFF",
          "name": "Harry Potter Gallery 1 - Potter L. Malfoy Lockhart Madame Hooch",
          "num_name": "HPG01-1: Harry Potter Gallery 1 - Potter L. Malfoy Lockhart Madame Hooch",
          "num_parts": 1,
          "quantity": 1,
          "theme_name": "Harry Potter",
          "transparent": false
         },
         {
          "color_name": "Yellow",
          "hex": "#F2CD37",
          "name": "Harry Potter Gallery 1 - Potter L. Malfoy Lockhart Madame Hooch",
          "num_name": "HPG01-1: Harry Potter Gallery 1 - Potter L. Malfoy Lockhart Madame Hooch",
          "num_parts": 4,
          "quantity": 4,
          "theme_name": "Harry Potter",
          "transparent": false
         },
         {
          "color_name": "Black",
          "hex": "#05131D",
          "name": "Harry Potter Gallery 2 - Hagrid V. Dursley Crabbe Ron Weasley",
          "num_name": "HPG02-1: Harry Potter Gallery 2 - Hagrid V. Dursley Crabbe Ron Weasley",
          "num_parts": 4,
          "quantity": 4,
          "theme_name": "Harry Potter",
          "transparent": false
         },
         {
          "color_name": "Brown",
          "hex": "#583927",
          "name": "Harry Potter Gallery 2 - Hagrid V. Dursley Crabbe Ron Weasley",
          "num_name": "HPG02-1: Harry Potter Gallery 2 - Hagrid V. Dursley Crabbe Ron Weasley",
          "num_parts": 3,
          "quantity": 3,
          "theme_name": "Harry Potter",
          "transparent": false
         },
         {
          "color_name": "Earth Orange",
          "hex": "#FA9C1C",
          "name": "Harry Potter Gallery 2 - Hagrid V. Dursley Crabbe Ron Weasley",
          "num_name": "HPG02-1: Harry Potter Gallery 2 - Hagrid V. Dursley Crabbe Ron Weasley",
          "num_parts": 2,
          "quantity": 2,
          "theme_name": "Harry Potter",
          "transparent": false
         },
         {
          "color_name": "Light Gray",
          "hex": "#9BA19D",
          "name": "Harry Potter Gallery 2 - Hagrid V. Dursley Crabbe Ron Weasley",
          "num_name": "HPG02-1: Harry Potter Gallery 2 - Hagrid V. Dursley Crabbe Ron Weasley",
          "num_parts": 4,
          "quantity": 4,
          "theme_name": "Harry Potter",
          "transparent": false
         },
         {
          "color_name": "Yellow",
          "hex": "#F2CD37",
          "name": "Harry Potter Gallery 2 - Hagrid V. Dursley Crabbe Ron Weasley",
          "num_name": "HPG02-1: Harry Potter Gallery 2 - Hagrid V. Dursley Crabbe Ron Weasley",
          "num_parts": 4,
          "quantity": 4,
          "theme_name": "Harry Potter",
          "transparent": false
         },
         {
          "color_name": "Black",
          "hex": "#05131D",
          "name": "Harry Potter Gallery 3 - Dumbledore Ginny Weasley D. Malfoy Snape",
          "num_name": "HPG03-1: Harry Potter Gallery 3 - Dumbledore Ginny Weasley D. Malfoy Snape",
          "num_parts": 6,
          "quantity": 6,
          "theme_name": "Harry Potter",
          "transparent": false
         },
         {
          "color_name": "Chrome Antique Brass",
          "hex": "#645A4C",
          "name": "Harry Potter Gallery 3 - Dumbledore Ginny Weasley D. Malfoy Snape",
          "num_name": "HPG03-1: Harry Potter Gallery 3 - Dumbledore Ginny Weasley D. Malfoy Snape",
          "num_parts": 2,
          "quantity": 2,
          "theme_name": "Harry Potter",
          "transparent": false
         },
         {
          "color_name": "Earth Orange",
          "hex": "#FA9C1C",
          "name": "Harry Potter Gallery 3 - Dumbledore Ginny Weasley D. Malfoy Snape",
          "num_name": "HPG03-1: Harry Potter Gallery 3 - Dumbledore Ginny Weasley D. Malfoy Snape",
          "num_parts": 1,
          "quantity": 1,
          "theme_name": "Harry Potter",
          "transparent": false
         },
         {
          "color_name": "Glow In Dark Opaque",
          "hex": "#D4D5C9",
          "name": "Harry Potter Gallery 3 - Dumbledore Ginny Weasley D. Malfoy Snape",
          "num_name": "HPG03-1: Harry Potter Gallery 3 - Dumbledore Ginny Weasley D. Malfoy Snape",
          "num_parts": 1,
          "quantity": 1,
          "theme_name": "Harry Potter",
          "transparent": false
         },
         {
          "color_name": "Light Gray",
          "hex": "#9BA19D",
          "name": "Harry Potter Gallery 3 - Dumbledore Ginny Weasley D. Malfoy Snape",
          "num_name": "HPG03-1: Harry Potter Gallery 3 - Dumbledore Ginny Weasley D. Malfoy Snape",
          "num_parts": 6,
          "quantity": 6,
          "theme_name": "Harry Potter",
          "transparent": false
         },
         {
          "color_name": "Purple",
          "hex": "#81007B",
          "name": "Harry Potter Gallery 3 - Dumbledore Ginny Weasley D. Malfoy Snape",
          "num_name": "HPG03-1: Harry Potter Gallery 3 - Dumbledore Ginny Weasley D. Malfoy Snape",
          "num_parts": 3,
          "quantity": 3,
          "theme_name": "Harry Potter",
          "transparent": false
         },
         {
          "color_name": "Tan",
          "hex": "#E4CD9E",
          "name": "Harry Potter Gallery 3 - Dumbledore Ginny Weasley D. Malfoy Snape",
          "num_name": "HPG03-1: Harry Potter Gallery 3 - Dumbledore Ginny Weasley D. Malfoy Snape",
          "num_parts": 1,
          "quantity": 1,
          "theme_name": "Harry Potter",
          "transparent": false
         },
         {
          "color_name": "Yellow",
          "hex": "#F2CD37",
          "name": "Harry Potter Gallery 3 - Dumbledore Ginny Weasley D. Malfoy Snape",
          "num_name": "HPG03-1: Harry Potter Gallery 3 - Dumbledore Ginny Weasley D. Malfoy Snape",
          "num_parts": 3,
          "quantity": 3,
          "theme_name": "Harry Potter",
          "transparent": false
         },
         {
          "color_name": "Black",
          "hex": "#05131D",
          "name": "Harry Potter Gallery 4 - Tom Riddle McGonagall Dobby Goyle Hermione",
          "num_name": "HPG04-1: Harry Potter Gallery 4 - Tom Riddle McGonagall Dobby Goyle Hermione",
          "num_parts": 5,
          "quantity": 5,
          "theme_name": "Harry Potter",
          "transparent": false
         },
         {
          "color_name": "Brown",
          "hex": "#583927",
          "name": "Harry Potter Gallery 4 - Tom Riddle McGonagall Dobby Goyle Hermione",
          "num_name": "HPG04-1: Harry Potter Gallery 4 - Tom Riddle McGonagall Dobby Goyle Hermione",
          "num_parts": 1,
          "quantity": 1,
          "theme_name": "Harry Potter",
          "transparent": false
         },
         {
          "color_name": "Green",
          "hex": "#237841",
          "name": "Harry Potter Gallery 4 - Tom Riddle McGonagall Dobby Goyle Hermione",
          "num_name": "HPG04-1: Harry Potter Gallery 4 - Tom Riddle McGonagall Dobby Goyle Hermione",
          "num_parts": 4,
          "quantity": 4,
          "theme_name": "Harry Potter",
          "transparent": false
         },
         {
          "color_name": "Light Gray",
          "hex": "#9BA19D",
          "name": "Harry Potter Gallery 4 - Tom Riddle McGonagall Dobby Goyle Hermione",
          "num_name": "HPG04-1: Harry Potter Gallery 4 - Tom Riddle McGonagall Dobby Goyle Hermione",
          "num_parts": 6,
          "quantity": 6,
          "theme_name": "Harry Potter",
          "transparent": false
         },
         {
          "color_name": "Tan",
          "hex": "#E4CD9E",
          "name": "Harry Potter Gallery 4 - Tom Riddle McGonagall Dobby Goyle Hermione",
          "num_name": "HPG04-1: Harry Potter Gallery 4 - Tom Riddle McGonagall Dobby Goyle Hermione",
          "num_parts": 3,
          "quantity": 3,
          "theme_name": "Harry Potter",
          "transparent": false
         },
         {
          "color_name": "Yellow",
          "hex": "#F2CD37",
          "name": "Harry Potter Gallery 4 - Tom Riddle McGonagall Dobby Goyle Hermione",
          "num_name": "HPG04-1: Harry Potter Gallery 4 - Tom Riddle McGonagall Dobby Goyle Hermione",
          "num_parts": 4,
          "quantity": 4,
          "theme_name": "Harry Potter",
          "transparent": false
         },
         {
          "color_name": "Black",
          "hex": "#05131D",
          "name": "Harry Potter Wand",
          "num_name": "HPWAND-1: Harry Potter Wand",
          "num_parts": 10,
          "quantity": 10,
          "theme_name": "Harry Potter",
          "transparent": false
         },
         {
          "color_name": "Reddish Brown",
          "hex": "#582A12",
          "name": "Harry Potter Wand",
          "num_name": "HPWAND-1: Harry Potter Wand",
          "num_parts": 16,
          "quantity": 16,
          "theme_name": "Harry Potter",
          "transparent": false
         },
         {
          "color_name": "Black",
          "hex": "#05131D",
          "name": "Harry Potter Quidditch Tower (TRU Event Exclusive)",
          "num_name": "TRU01-1: Harry Potter Quidditch Tower (TRU Event Exclusive)",
          "num_parts": 9,
          "quantity": 9,
          "theme_name": "Harry Potter",
          "transparent": false
         },
         {
          "color_name": "Blue",
          "hex": "#0055BF",
          "name": "Harry Potter Quidditch Tower (TRU Event Exclusive)",
          "num_name": "TRU01-1: Harry Potter Quidditch Tower (TRU Event Exclusive)",
          "num_parts": 7,
          "quantity": 7,
          "theme_name": "Harry Potter",
          "transparent": false
         },
         {
          "color_name": "Dark Gray",
          "hex": "#6D6E5C",
          "name": "Harry Potter Quidditch Tower (TRU Event Exclusive)",
          "num_name": "TRU01-1: Harry Potter Quidditch Tower (TRU Event Exclusive)",
          "num_parts": 1,
          "quantity": 1,
          "theme_name": "Harry Potter",
          "transparent": false
         },
         {
          "color_name": "Light Gray",
          "hex": "#9BA19D",
          "name": "Harry Potter Quidditch Tower (TRU Event Exclusive)",
          "num_name": "TRU01-1: Harry Potter Quidditch Tower (TRU Event Exclusive)",
          "num_parts": 10,
          "quantity": 10,
          "theme_name": "Harry Potter",
          "transparent": false
         },
         {
          "color_name": "Tan",
          "hex": "#E4CD9E",
          "name": "Harry Potter Quidditch Tower (TRU Event Exclusive)",
          "num_name": "TRU01-1: Harry Potter Quidditch Tower (TRU Event Exclusive)",
          "num_parts": 10,
          "quantity": 10,
          "theme_name": "Harry Potter",
          "transparent": false
         },
         {
          "color_name": "Black",
          "hex": "#05131D",
          "name": "Weasley Family Car",
          "num_name": "TRUWEASLEYCAR-1: Weasley Family Car",
          "num_parts": 5,
          "quantity": 5,
          "theme_name": "Harry Potter",
          "transparent": false
         },
         {
          "color_name": "Light Bluish Gray",
          "hex": "#A0A5A9",
          "name": "Weasley Family Car",
          "num_name": "TRUWEASLEYCAR-1: Weasley Family Car",
          "num_parts": 8,
          "quantity": 8,
          "theme_name": "Harry Potter",
          "transparent": false
         },
         {
          "color_name": "Medium Blue",
          "hex": "#5A93DB",
          "name": "Weasley Family Car",
          "num_name": "TRUWEASLEYCAR-1: Weasley Family Car",
          "num_parts": 14,
          "quantity": 14,
          "theme_name": "Harry Potter",
          "transparent": false
         },
         {
          "color_name": "Trans-Clear",
          "hex": "#FCFCFC",
          "name": "Weasley Family Car",
          "num_name": "TRUWEASLEYCAR-1: Weasley Family Car",
          "num_parts": 6,
          "quantity": 6,
          "theme_name": "Harry Potter",
          "transparent": true
         },
         {
          "color_name": "Trans-Red",
          "hex": "#C91A09",
          "name": "Weasley Family Car",
          "num_name": "TRUWEASLEYCAR-1: Weasley Family Car",
          "num_parts": 2,
          "quantity": 2,
          "theme_name": "Harry Potter",
          "transparent": true
         },
         {
          "color_name": "White",
          "hex": "#FFFFFF",
          "name": "Weasley Family Car",
          "num_name": "TRUWEASLEYCAR-1: Weasley Family Car",
          "num_parts": 1,
          "quantity": 1,
          "theme_name": "Harry Potter",
          "transparent": false
         },
         {
          "color_name": "Black",
          "hex": "#05131D",
          "name": "Hogwarts (Third Edition)",
          "num_name": "5378-1: Hogwarts (Third Edition)",
          "num_parts": 266,
          "quantity": 266,
          "theme_name": "Order of the Phoenix",
          "transparent": false
         },
         {
          "color_name": "Blue",
          "hex": "#0055BF",
          "name": "Hogwarts (Third Edition)",
          "num_name": "5378-1: Hogwarts (Third Edition)",
          "num_parts": 10,
          "quantity": 10,
          "theme_name": "Order of the Phoenix",
          "transparent": false
         },
         {
          "color_name": "Bright Pink",
          "hex": "#E4ADC8",
          "name": "Hogwarts (Third Edition)",
          "num_name": "5378-1: Hogwarts (Third Edition)",
          "num_parts": 2,
          "quantity": 2,
          "theme_name": "Order of the Phoenix",
          "transparent": false
         },
         {
          "color_name": "Dark Bluish Gray",
          "hex": "#6C6E68",
          "name": "Hogwarts (Third Edition)",
          "num_name": "5378-1: Hogwarts (Third Edition)",
          "num_parts": 306,
          "quantity": 306,
          "theme_name": "Order of the Phoenix",
          "transparent": false
         },
         {
          "color_name": "Dark Orange",
          "hex": "#A95500",
          "name": "Hogwarts (Third Edition)",
          "num_name": "5378-1: Hogwarts (Third Edition)",
          "num_parts": 2,
          "quantity": 2,
          "theme_name": "Order of the Phoenix",
          "transparent": false
         },
         {
          "color_name": "Dark Pink",
          "hex": "#C870A0",
          "name": "Hogwarts (Third Edition)",
          "num_name": "5378-1: Hogwarts (Third Edition)",
          "num_parts": 7,
          "quantity": 7,
          "theme_name": "Order of the Phoenix",
          "transparent": false
         },
         {
          "color_name": "Dark Purple",
          "hex": "#3F3691",
          "name": "Hogwarts (Third Edition)",
          "num_name": "5378-1: Hogwarts (Third Edition)",
          "num_parts": 2,
          "quantity": 2,
          "theme_name": "Order of the Phoenix",
          "transparent": false
         },
         {
          "color_name": "Green",
          "hex": "#237841",
          "name": "Hogwarts (Third Edition)",
          "num_name": "5378-1: Hogwarts (Third Edition)",
          "num_parts": 22,
          "quantity": 22,
          "theme_name": "Order of the Phoenix",
          "transparent": false
         },
         {
          "color_name": "Light Bluish Gray",
          "hex": "#A0A5A9",
          "name": "Hogwarts (Third Edition)",
          "num_name": "5378-1: Hogwarts (Third Edition)",
          "num_parts": 534,
          "quantity": 534,
          "theme_name": "Order of the Phoenix",
          "transparent": false
         },
         {
          "color_name": "Light Flesh",
          "hex": "#F6D7B3",
          "name": "Hogwarts (Third Edition)",
          "num_name": "5378-1: Hogwarts (Third Edition)",
          "num_parts": 16,
          "quantity": 16,
          "theme_name": "Order of the Phoenix",
          "transparent": false
         },
         {
          "color_name": "Light Purple",
          "hex": "#CD6298",
          "name": "Hogwarts (Third Edition)",
          "num_name": "5378-1: Hogwarts (Third Edition)",
          "num_parts": 3,
          "quantity": 3,
          "theme_name": "Order of the Phoenix",
          "transparent": false
         },
         {
          "color_name": "Metallic Gold",
          "hex": "#DBAC34",
          "name": "Hogwarts (Third Edition)",
          "num_name": "5378-1: Hogwarts (Third Edition)",
          "num_parts": 2,
          "quantity": 2,
          "theme_name": "Order of the Phoenix",
          "transparent": false
         },
         {
          "color_name": "Pearl Gold",
          "hex": "#AA7F2E",
          "name": "Hogwarts (Third Edition)",
          "num_name": "5378-1: Hogwarts (Third Edition)",
          "num_parts": 10,
          "quantity": 10,
          "theme_name": "Order of the Phoenix",
          "transparent": false
         },
         {
          "color_name": "Pearl Light Gray",
          "hex": "#9CA3A8",
          "name": "Hogwarts (Third Edition)",
          "num_name": "5378-1: Hogwarts (Third Edition)",
          "num_parts": 4,
          "quantity": 4,
          "theme_name": "Order of the Phoenix",
          "transparent": false
         },
         {
          "color_name": "Red",
          "hex": "#C91A09",
          "name": "Hogwarts (Third Edition)",
          "num_name": "5378-1: Hogwarts (Third Edition)",
          "num_parts": 24,
          "quantity": 24,
          "theme_name": "Order of the Phoenix",
          "transparent": true
         },
         {
          "color_name": "Reddish Brown",
          "hex": "#582A12",
          "name": "Hogwarts (Third Edition)",
          "num_name": "5378-1: Hogwarts (Third Edition)",
          "num_parts": 180,
          "quantity": 180,
          "theme_name": "Order of the Phoenix",
          "transparent": false
         },
         {
          "color_name": "Sand Blue",
          "hex": "#6074A1",
          "name": "Hogwarts (Third Edition)",
          "num_name": "5378-1: Hogwarts (Third Edition)",
          "num_parts": 4,
          "quantity": 4,
          "theme_name": "Order of the Phoenix",
          "transparent": false
         },
         {
          "color_name": "Sand Green",
          "hex": "#A0BCAC",
          "name": "Hogwarts (Third Edition)",
          "num_name": "5378-1: Hogwarts (Third Edition)",
          "num_parts": 70,
          "quantity": 70,
          "theme_name": "Order of the Phoenix",
          "transparent": false
         },
         {
          "color_name": "Speckle Black-Silver",
          "hex": "#05131D",
          "name": "Hogwarts (Third Edition)",
          "num_name": "5378-1: Hogwarts (Third Edition)",
          "num_parts": 4,
          "quantity": 4,
          "theme_name": "Order of the Phoenix",
          "transparent": false
         },
         {
          "color_name": "Tan",
          "hex": "#E4CD9E",
          "name": "Hogwarts (Third Edition)",
          "num_name": "5378-1: Hogwarts (Third Edition)",
          "num_parts": 285,
          "quantity": 285,
          "theme_name": "Order of the Phoenix",
          "transparent": false
         },
         {
          "color_name": "Trans-Clear",
          "hex": "#FCFCFC",
          "name": "Hogwarts (Third Edition)",
          "num_name": "5378-1: Hogwarts (Third Edition)",
          "num_parts": 51,
          "quantity": 51,
          "theme_name": "Order of the Phoenix",
          "transparent": true
         },
         {
          "color_name": "Trans-Dark Blue",
          "hex": "#0020A0",
          "name": "Hogwarts (Third Edition)",
          "num_name": "5378-1: Hogwarts (Third Edition)",
          "num_parts": 10,
          "quantity": 10,
          "theme_name": "Order of the Phoenix",
          "transparent": true
         },
         {
          "color_name": "Trans-Dark Pink",
          "hex": "#DF6695",
          "name": "Hogwarts (Third Edition)",
          "num_name": "5378-1: Hogwarts (Third Edition)",
          "num_parts": 2,
          "quantity": 2,
          "theme_name": "Order of the Phoenix",
          "transparent": true
         },
         {
          "color_name": "Trans-Green",
          "hex": "#84B68D",
          "name": "Hogwarts (Third Edition)",
          "num_name": "5378-1: Hogwarts (Third Edition)",
          "num_parts": 2,
          "quantity": 2,
          "theme_name": "Order of the Phoenix",
          "transparent": true
         },
         {
          "color_name": "Trans-Light Blue",
          "hex": "#AEEFEC",
          "name": "Hogwarts (Third Edition)",
          "num_name": "5378-1: Hogwarts (Third Edition)",
          "num_parts": 4,
          "quantity": 4,
          "theme_name": "Order of the Phoenix",
          "transparent": true
         },
         {
          "color_name": "Trans-Neon Orange",
          "hex": "#FF800D",
          "name": "Hogwarts (Third Edition)",
          "num_name": "5378-1: Hogwarts (Third Edition)",
          "num_parts": 22,
          "quantity": 22,
          "theme_name": "Order of the Phoenix",
          "transparent": true
         },
         {
          "color_name": "Trans-Orange",
          "hex": "#F08F1C",
          "name": "Hogwarts (Third Edition)",
          "num_name": "5378-1: Hogwarts (Third Edition)",
          "num_parts": 16,
          "quantity": 16,
          "theme_name": "Order of the Phoenix",
          "transparent": true
         },
         {
          "color_name": "Trans-Red",
          "hex": "#C91A09",
          "name": "Hogwarts (Third Edition)",
          "num_name": "5378-1: Hogwarts (Third Edition)",
          "num_parts": 2,
          "quantity": 2,
          "theme_name": "Order of the Phoenix",
          "transparent": true
         },
         {
          "color_name": "Trans-Yellow",
          "hex": "#F5CD2F",
          "name": "Hogwarts (Third Edition)",
          "num_name": "5378-1: Hogwarts (Third Edition)",
          "num_parts": 2,
          "quantity": 2,
          "theme_name": "Order of the Phoenix",
          "transparent": true
         },
         {
          "color_name": "White",
          "hex": "#FFFFFF",
          "name": "Hogwarts (Third Edition)",
          "num_name": "5378-1: Hogwarts (Third Edition)",
          "num_parts": 26,
          "quantity": 26,
          "theme_name": "Order of the Phoenix",
          "transparent": false
         },
         {
          "color_name": "Black",
          "hex": "#05131D",
          "name": "Sorting Hat",
          "num_name": "4701-1: Sorting Hat",
          "num_parts": 13,
          "quantity": 13,
          "theme_name": "Philosopher's Stone",
          "transparent": false
         },
         {
          "color_name": "Brown",
          "hex": "#583927",
          "name": "Sorting Hat",
          "num_name": "4701-1: Sorting Hat",
          "num_parts": 8,
          "quantity": 8,
          "theme_name": "Philosopher's Stone",
          "transparent": false
         },
         {
          "color_name": "Dark Gray",
          "hex": "#6D6E5C",
          "name": "Sorting Hat",
          "num_name": "4701-1: Sorting Hat",
          "num_parts": 4,
          "quantity": 4,
          "theme_name": "Philosopher's Stone",
          "transparent": false
         },
         {
          "color_name": "Light Gray",
          "hex": "#9BA19D",
          "name": "Sorting Hat",
          "num_name": "4701-1: Sorting Hat",
          "num_parts": 12,
          "quantity": 12,
          "theme_name": "Philosopher's Stone",
          "transparent": false
         },
         {
          "color_name": "Red",
          "hex": "#C91A09",
          "name": "Sorting Hat",
          "num_name": "4701-1: Sorting Hat",
          "num_parts": 1,
          "quantity": 1,
          "theme_name": "Philosopher's Stone",
          "transparent": true
         },
         {
          "color_name": "Tan",
          "hex": "#E4CD9E",
          "name": "Sorting Hat",
          "num_name": "4701-1: Sorting Hat",
          "num_parts": 3,
          "quantity": 3,
          "theme_name": "Philosopher's Stone",
          "transparent": false
         },
         {
          "color_name": "Trans-Neon Orange",
          "hex": "#FF800D",
          "name": "Sorting Hat",
          "num_name": "4701-1: Sorting Hat",
          "num_parts": 2,
          "quantity": 2,
          "theme_name": "Philosopher's Stone",
          "transparent": true
         },
         {
          "color_name": "White",
          "hex": "#FFFFFF",
          "name": "Sorting Hat",
          "num_name": "4701-1: Sorting Hat",
          "num_parts": 3,
          "quantity": 3,
          "theme_name": "Philosopher's Stone",
          "transparent": false
         },
         {
          "color_name": "Yellow",
          "hex": "#F2CD37",
          "name": "Sorting Hat",
          "num_name": "4701-1: Sorting Hat",
          "num_parts": 4,
          "quantity": 4,
          "theme_name": "Philosopher's Stone",
          "transparent": false
         },
         {
          "color_name": "Black",
          "hex": "#05131D",
          "name": "The Final Challenge",
          "num_name": "4702-1: The Final Challenge",
          "num_parts": 14,
          "quantity": 14,
          "theme_name": "Philosopher's Stone",
          "transparent": false
         },
         {
          "color_name": "Brown",
          "hex": "#583927",
          "name": "The Final Challenge",
          "num_name": "4702-1: The Final Challenge",
          "num_parts": 2,
          "quantity": 2,
          "theme_name": "Philosopher's Stone",
          "transparent": false
         },
         {
          "color_name": "Dark Gray",
          "hex": "#6D6E5C",
          "name": "The Final Challenge",
          "num_name": "4702-1: The Final Challenge",
          "num_parts": 19,
          "quantity": 19,
          "theme_name": "Philosopher's Stone",
          "transparent": false
         },
         {
          "color_name": "Light Gray",
          "hex": "#9BA19D",
          "name": "The Final Challenge",
          "num_name": "4702-1: The Final Challenge",
          "num_parts": 5,
          "quantity": 5,
          "theme_name": "Philosopher's Stone",
          "transparent": false
         },
         {
          "color_name": "Purple",
          "hex": "#81007B",
          "name": "The Final Challenge",
          "num_name": "4702-1: The Final Challenge",
          "num_parts": 2,
          "quantity": 2,
          "theme_name": "Philosopher's Stone",
          "transparent": false
         },
         {
          "color_name": "Sand Green",
          "hex": "#A0BCAC",
          "name": "The Final Challenge",
          "num_name": "4702-1: The Final Challenge",
          "num_parts": 1,
          "quantity": 1,
          "theme_name": "Philosopher's Stone",
          "transparent": false
         },
         {
          "color_name": "Tan",
          "hex": "#E4CD9E",
          "name": "The Final Challenge",
          "num_name": "4702-1: The Final Challenge",
          "num_parts": 12,
          "quantity": 12,
          "theme_name": "Philosopher's Stone",
          "transparent": false
         },
         {
          "color_name": "Trans-Neon Orange",
          "hex": "#FF800D",
          "name": "The Final Challenge",
          "num_name": "4702-1: The Final Challenge",
          "num_parts": 4,
          "quantity": 4,
          "theme_name": "Philosopher's Stone",
          "transparent": true
         },
         {
          "color_name": "Trans-Red",
          "hex": "#C91A09",
          "name": "The Final Challenge",
          "num_name": "4702-1: The Final Challenge",
          "num_parts": 2,
          "quantity": 2,
          "theme_name": "Philosopher's Stone",
          "transparent": true
         },
         {
          "color_name": "Yellow",
          "hex": "#F2CD37",
          "name": "The Final Challenge",
          "num_name": "4702-1: The Final Challenge",
          "num_parts": 2,
          "quantity": 2,
          "theme_name": "Philosopher's Stone",
          "transparent": false
         },
         {
          "color_name": "[No Color/Any Color]",
          "hex": "#05131D",
          "name": "The Final Challenge",
          "num_name": "4702-1: The Final Challenge",
          "num_parts": 1,
          "quantity": 1,
          "theme_name": "Philosopher's Stone",
          "transparent": false
         },
         {
          "color_name": "Black",
          "hex": "#05131D",
          "name": "The Chamber of the Winged Keys",
          "num_name": "4704-1: The Chamber of the Winged Keys",
          "num_parts": 46,
          "quantity": 46,
          "theme_name": "Philosopher's Stone",
          "transparent": false
         },
         {
          "color_name": "Blue",
          "hex": "#0055BF",
          "name": "The Chamber of the Winged Keys",
          "num_name": "4704-1: The Chamber of the Winged Keys",
          "num_parts": 2,
          "quantity": 2,
          "theme_name": "Philosopher's Stone",
          "transparent": false
         },
         {
          "color_name": "Brown",
          "hex": "#583927",
          "name": "The Chamber of the Winged Keys",
          "num_name": "4704-1: The Chamber of the Winged Keys",
          "num_parts": 3,
          "quantity": 3,
          "theme_name": "Philosopher's Stone",
          "transparent": false
         },
         {
          "color_name": "Chrome Silver",
          "hex": "#E0E0E0",
          "name": "The Chamber of the Winged Keys",
          "num_name": "4704-1: The Chamber of the Winged Keys",
          "num_parts": 3,
          "quantity": 3,
          "theme_name": "Philosopher's Stone",
          "transparent": false
         },
         {
          "color_name": "Dark Gray",
          "hex": "#6D6E5C",
          "name": "The Chamber of the Winged Keys",
          "num_name": "4704-1: The Chamber of the Winged Keys",
          "num_parts": 29,
          "quantity": 29,
          "theme_name": "Philosopher's Stone",
          "transparent": false
         },
         {
          "color_name": "Earth Orange",
          "hex": "#FA9C1C",
          "name": "The Chamber of the Winged Keys",
          "num_name": "4704-1: The Chamber of the Winged Keys",
          "num_parts": 1,
          "quantity": 1,
          "theme_name": "Philosopher's Stone",
          "transparent": false
         },
         {
          "color_name": "Light Gray",
          "hex": "#9BA19D",
          "name": "The Chamber of the Winged Keys",
          "num_name": "4704-1: The Chamber of the Winged Keys",
          "num_parts": 30,
          "quantity": 30,
          "theme_name": "Philosopher's Stone",
          "transparent": false
         },
         {
          "color_name": "Sand Green",
          "hex": "#A0BCAC",
          "name": "The Chamber of the Winged Keys",
          "num_name": "4704-1: The Chamber of the Winged Keys",
          "num_parts": 1,
          "quantity": 1,
          "theme_name": "Philosopher's Stone",
          "transparent": false
         },
         {
          "color_name": "Tan",
          "hex": "#E4CD9E",
          "name": "The Chamber of the Winged Keys",
          "num_name": "4704-1: The Chamber of the Winged Keys",
          "num_parts": 45,
          "quantity": 45,
          "theme_name": "Philosopher's Stone",
          "transparent": false
         },
         {
          "color_name": "Trans-Neon Green",
          "hex": "#F8F184",
          "name": "The Chamber of the Winged Keys",
          "num_name": "4704-1: The Chamber of the Winged Keys",
          "num_parts": 1,
          "quantity": 1,
          "theme_name": "Philosopher's Stone",
          "transparent": true
         },
         {
          "color_name": "Trans-Neon Orange",
          "hex": "#FF800D",
          "name": "The Chamber of the Winged Keys",
          "num_name": "4704-1: The Chamber of the Winged Keys",
          "num_parts": 5,
          "quantity": 5,
          "theme_name": "Philosopher's Stone",
          "transparent": true
         },
         {
          "color_name": "White",
          "hex": "#FFFFFF",
          "name": "The Chamber of the Winged Keys",
          "num_name": "4704-1: The Chamber of the Winged Keys",
          "num_parts": 14,
          "quantity": 14,
          "theme_name": "Philosopher's Stone",
          "transparent": false
         },
         {
          "color_name": "Yellow",
          "hex": "#F2CD37",
          "name": "The Chamber of the Winged Keys",
          "num_name": "4704-1: The Chamber of the Winged Keys",
          "num_parts": 2,
          "quantity": 2,
          "theme_name": "Philosopher's Stone",
          "transparent": false
         },
         {
          "color_name": "Black",
          "hex": "#05131D",
          "name": "Snape's Class",
          "num_name": "4705-1: Snape's Class",
          "num_parts": 53,
          "quantity": 53,
          "theme_name": "Philosopher's Stone",
          "transparent": false
         },
         {
          "color_name": "Brown",
          "hex": "#583927",
          "name": "Snape's Class",
          "num_name": "4705-1: Snape's Class",
          "num_parts": 2,
          "quantity": 2,
          "theme_name": "Philosopher's Stone",
          "transparent": false
         },
         {
          "color_name": "Dark Gray",
          "hex": "#6D6E5C",
          "name": "Snape's Class",
          "num_name": "4705-1: Snape's Class",
          "num_parts": 20,
          "quantity": 20,
          "theme_name": "Philosopher's Stone",
          "transparent": false
         },
         {
          "color_name": "Earth Orange",
          "hex": "#FA9C1C",
          "name": "Snape's Class",
          "num_name": "4705-1: Snape's Class",
          "num_parts": 1,
          "quantity": 1,
          "theme_name": "Philosopher's Stone",
          "transparent": false
         },
         {
          "color_name": "Glow In Dark Opaque",
          "hex": "#D4D5C9",
          "name": "Snape's Class",
          "num_name": "4705-1: Snape's Class",
          "num_parts": 1,
          "quantity": 1,
          "theme_name": "Philosopher's Stone",
          "transparent": false
         },
         {
          "color_name": "Green",
          "hex": "#237841",
          "name": "Snape's Class",
          "num_name": "4705-1: Snape's Class",
          "num_parts": 1,
          "quantity": 1,
          "theme_name": "Philosopher's Stone",
          "transparent": false
         },
         {
          "color_name": "Light Gray",
          "hex": "#9BA19D",
          "name": "Snape's Class",
          "num_name": "4705-1: Snape's Class",
          "num_parts": 62,
          "quantity": 62,
          "theme_name": "Philosopher's Stone",
          "transparent": false
         },
         {
          "color_name": "Red",
          "hex": "#C91A09",
          "name": "Snape's Class",
          "num_name": "4705-1: Snape's Class",
          "num_parts": 1,
          "quantity": 1,
          "theme_name": "Philosopher's Stone",
          "transparent": true
         },
         {
          "color_name": "Sand Green",
          "hex": "#A0BCAC",
          "name": "Snape's Class",
          "num_name": "4705-1: Snape's Class",
          "num_parts": 1,
          "quantity": 1,
          "theme_name": "Philosopher's Stone",
          "transparent": false
         },
         {
          "color_name": "Tan",
          "hex": "#E4CD9E",
          "name": "Snape's Class",
          "num_name": "4705-1: Snape's Class",
          "num_parts": 4,
          "quantity": 4,
          "theme_name": "Philosopher's Stone",
          "transparent": false
         },
         {
          "color_name": "Trans-Dark Blue",
          "hex": "#0020A0",
          "name": "Snape's Class",
          "num_name": "4705-1: Snape's Class",
          "num_parts": 1,
          "quantity": 1,
          "theme_name": "Philosopher's Stone",
          "transparent": true
         },
         {
          "color_name": "Trans-Green",
          "hex": "#84B68D",
          "name": "Snape's Class",
          "num_name": "4705-1: Snape's Class",
          "num_parts": 2,
          "quantity": 2,
          "theme_name": "Philosopher's Stone",
          "transparent": true
         },
         {
          "color_name": "Trans-Neon Green",
          "hex": "#F8F184",
          "name": "Snape's Class",
          "num_name": "4705-1: Snape's Class",
          "num_parts": 1,
          "quantity": 1,
          "theme_name": "Philosopher's Stone",
          "transparent": true
         },
         {
          "color_name": "Trans-Neon Orange",
          "hex": "#FF800D",
          "name": "Snape's Class",
          "num_name": "4705-1: Snape's Class",
          "num_parts": 10,
          "quantity": 10,
          "theme_name": "Philosopher's Stone",
          "transparent": true
         },
         {
          "color_name": "Trans-Purple",
          "hex": "#A5A5CB",
          "name": "Snape's Class",
          "num_name": "4705-1: Snape's Class",
          "num_parts": 1,
          "quantity": 1,
          "theme_name": "Philosopher's Stone",
          "transparent": true
         },
         {
          "color_name": "Trans-Red",
          "hex": "#C91A09",
          "name": "Snape's Class",
          "num_name": "4705-1: Snape's Class",
          "num_parts": 2,
          "quantity": 2,
          "theme_name": "Philosopher's Stone",
          "transparent": true
         },
         {
          "color_name": "Trans-Yellow",
          "hex": "#F5CD2F",
          "name": "Snape's Class",
          "num_name": "4705-1: Snape's Class",
          "num_parts": 1,
          "quantity": 1,
          "theme_name": "Philosopher's Stone",
          "transparent": true
         },
         {
          "color_name": "White",
          "hex": "#FFFFFF",
          "name": "Snape's Class",
          "num_name": "4705-1: Snape's Class",
          "num_parts": 1,
          "quantity": 1,
          "theme_name": "Philosopher's Stone",
          "transparent": false
         },
         {
          "color_name": "Yellow",
          "hex": "#F2CD37",
          "name": "Snape's Class",
          "num_name": "4705-1: Snape's Class",
          "num_parts": 4,
          "quantity": 4,
          "theme_name": "Philosopher's Stone",
          "transparent": false
         },
         {
          "color_name": "Black",
          "hex": "#05131D",
          "name": "Forbidden Corridor",
          "num_name": "4706-1: Forbidden Corridor",
          "num_parts": 72,
          "quantity": 72,
          "theme_name": "Philosopher's Stone",
          "transparent": false
         },
         {
          "color_name": "Brown",
          "hex": "#583927",
          "name": "Forbidden Corridor",
          "num_name": "4706-1: Forbidden Corridor",
          "num_parts": 6,
          "quantity": 6,
          "theme_name": "Philosopher's Stone",
          "transparent": false
         },
         {
          "color_name": "Dark Gray",
          "hex": "#6D6E5C",
          "name": "Forbidden Corridor",
          "num_name": "4706-1: Forbidden Corridor",
          "num_parts": 55,
          "quantity": 55,
          "theme_name": "Philosopher's Stone",
          "transparent": false
         },
         {
          "color_name": "Dark Orange",
          "hex": "#A95500",
          "name": "Forbidden Corridor",
          "num_name": "4706-1: Forbidden Corridor",
          "num_parts": 2,
          "quantity": 2,
          "theme_name": "Philosopher's Stone",
          "transparent": false
         },
         {
          "color_name": "Earth Orange",
          "hex": "#FA9C1C",
          "name": "Forbidden Corridor",
          "num_name": "4706-1: Forbidden Corridor",
          "num_parts": 1,
          "quantity": 1,
          "theme_name": "Philosopher's Stone",
          "transparent": false
         },
         {
          "color_name": "Green",
          "hex": "#237841",
          "name": "Forbidden Corridor",
          "num_name": "4706-1: Forbidden Corridor",
          "num_parts": 18,
          "quantity": 18,
          "theme_name": "Philosopher's Stone",
          "transparent": false
         },
         {
          "color_name": "Light Gray",
          "hex": "#9BA19D",
          "name": "Forbidden Corridor",
          "num_name": "4706-1: Forbidden Corridor",
          "num_parts": 55,
          "quantity": 55,
          "theme_name": "Philosopher's Stone",
          "transparent": false
         },
         {
          "color_name": "Red",
          "hex": "#C91A09",
          "name": "Forbidden Corridor",
          "num_name": "4706-1: Forbidden Corridor",
          "num_parts": 1,
          "quantity": 1,
          "theme_name": "Philosopher's Stone",
          "transparent": true
         },
         {
          "color_name": "Sand Green",
          "hex": "#A0BCAC",
          "name": "Forbidden Corridor",
          "num_name": "4706-1: Forbidden Corridor",
          "num_parts": 1,
          "quantity": 1,
          "theme_name": "Philosopher's Stone",
          "transparent": false
         },
         {
          "color_name": "Tan",
          "hex": "#E4CD9E",
          "name": "Forbidden Corridor",
          "num_name": "4706-1: Forbidden Corridor",
          "num_parts": 20,
          "quantity": 20,
          "theme_name": "Philosopher's Stone",
          "transparent": false
         },
         {
          "color_name": "Trans-Light Blue",
          "hex": "#AEEFEC",
          "name": "Forbidden Corridor",
          "num_name": "4706-1: Forbidden Corridor",
          "num_parts": 1,
          "quantity": 1,
          "theme_name": "Philosopher's Stone",
          "transparent": true
         },
         {
          "color_name": "Trans-Neon Orange",
          "hex": "#FF800D",
          "name": "Forbidden Corridor",
          "num_name": "4706-1: Forbidden Corridor",
          "num_parts": 4,
          "quantity": 4,
          "theme_name": "Philosopher's Stone",
          "transparent": true
         },
         {
          "color_name": "Violet",
          "hex": "#4354A3",
          "name": "Forbidden Corridor",
          "num_name": "4706-1: Forbidden Corridor",
          "num_parts": 1,
          "quantity": 1,
          "theme_name": "Philosopher's Stone",
          "transparent": false
         },
         {
          "color_name": "Yellow",
          "hex": "#F2CD37",
          "name": "Forbidden Corridor",
          "num_name": "4706-1: Forbidden Corridor",
          "num_parts": 3,
          "quantity": 3,
          "theme_name": "Philosopher's Stone",
          "transparent": false
         },
         {
          "color_name": "Black",
          "hex": "#05131D",
          "name": "Hagrid's Hut",
          "num_name": "4707-1: Hagrid's Hut",
          "num_parts": 59,
          "quantity": 59,
          "theme_name": "Philosopher's Stone",
          "transparent": false
         },
         {
          "color_name": "Brown",
          "hex": "#583927",
          "name": "Hagrid's Hut",
          "num_name": "4707-1: Hagrid's Hut",
          "num_parts": 34,
          "quantity": 34,
          "theme_name": "Philosopher's Stone",
          "transparent": false
         },
         {
          "color_name": "Chrome Antique Brass",
          "hex": "#645A4C",
          "name": "Hagrid's Hut",
          "num_name": "4707-1: Hagrid's Hut",
          "num_parts": 2,
          "quantity": 2,
          "theme_name": "Philosopher's Stone",
          "transparent": false
         },
         {
          "color_name": "Dark Gray",
          "hex": "#6D6E5C",
          "name": "Hagrid's Hut",
          "num_name": "4707-1: Hagrid's Hut",
          "num_parts": 44,
          "quantity": 44,
          "theme_name": "Philosopher's Stone",
          "transparent": false
         },
         {
          "color_name": "Green",
          "hex": "#237841",
          "name": "Hagrid's Hut",
          "num_name": "4707-1: Hagrid's Hut",
          "num_parts": 34,
          "quantity": 34,
          "theme_name": "Philosopher's Stone",
          "transparent": false
         },
         {
          "color_name": "Light Gray",
          "hex": "#9BA19D",
          "name": "Hagrid's Hut",
          "num_name": "4707-1: Hagrid's Hut",
          "num_parts": 81,
          "quantity": 81,
          "theme_name": "Philosopher's Stone",
          "transparent": false
         },
         {
          "color_name": "Purple",
          "hex": "#81007B",
          "name": "Hagrid's Hut",
          "num_name": "4707-1: Hagrid's Hut",
          "num_parts": 3,
          "quantity": 3,
          "theme_name": "Philosopher's Stone",
          "transparent": false
         },
         {
          "color_name": "Red",
          "hex": "#C91A09",
          "name": "Hagrid's Hut",
          "num_name": "4707-1: Hagrid's Hut",
          "num_parts": 3,
          "quantity": 3,
          "theme_name": "Philosopher's Stone",
          "transparent": true
         },
         {
          "color_name": "Sand Green",
          "hex": "#A0BCAC",
          "name": "Hagrid's Hut",
          "num_name": "4707-1: Hagrid's Hut",
          "num_parts": 1,
          "quantity": 1,
          "theme_name": "Philosopher's Stone",
          "transparent": false
         },
         {
          "color_name": "Tan",
          "hex": "#E4CD9E",
          "name": "Hagrid's Hut",
          "num_name": "4707-1: Hagrid's Hut",
          "num_parts": 30,
          "quantity": 30,
          "theme_name": "Philosopher's Stone",
          "transparent": false
         },
         {
          "color_name": "Trans-Green",
          "hex": "#84B68D",
          "name": "Hagrid's Hut",
          "num_name": "4707-1: Hagrid's Hut",
          "num_parts": 1,
          "quantity": 1,
          "theme_name": "Philosopher's Stone",
          "transparent": true
         },
         {
          "color_name": "Trans-Neon Green",
          "hex": "#F8F184",
          "name": "Hagrid's Hut",
          "num_name": "4707-1: Hagrid's Hut",
          "num_parts": 2,
          "quantity": 2,
          "theme_name": "Philosopher's Stone",
          "transparent": true
         },
         {
          "color_name": "Trans-Neon Orange",
          "hex": "#FF800D",
          "name": "Hagrid's Hut",
          "num_name": "4707-1: Hagrid's Hut",
          "num_parts": 4,
          "quantity": 4,
          "theme_name": "Philosopher's Stone",
          "transparent": true
         },
         {
          "color_name": "White",
          "hex": "#FFFFFF",
          "name": "Hagrid's Hut",
          "num_name": "4707-1: Hagrid's Hut",
          "num_parts": 2,
          "quantity": 2,
          "theme_name": "Philosopher's Stone",
          "transparent": false
         },
         {
          "color_name": "Yellow",
          "hex": "#F2CD37",
          "name": "Hagrid's Hut",
          "num_name": "4707-1: Hagrid's Hut",
          "num_parts": 3,
          "quantity": 3,
          "theme_name": "Philosopher's Stone",
          "transparent": false
         },
         {
          "color_name": "[No Color/Any Color]",
          "hex": "#05131D",
          "name": "Hagrid's Hut",
          "num_name": "4707-1: Hagrid's Hut",
          "num_parts": 1,
          "quantity": 1,
          "theme_name": "Philosopher's Stone",
          "transparent": false
         },
         {
          "color_name": "Black",
          "hex": "#05131D",
          "name": "Hogwarts Express (1st Edition)",
          "num_name": "4708-1: Hogwarts Express (1st Edition)",
          "num_parts": 142,
          "quantity": 142,
          "theme_name": "Philosopher's Stone",
          "transparent": false
         },
         {
          "color_name": "Blue",
          "hex": "#0055BF",
          "name": "Hogwarts Express (1st Edition)",
          "num_name": "4708-1: Hogwarts Express (1st Edition)",
          "num_parts": 3,
          "quantity": 3,
          "theme_name": "Philosopher's Stone",
          "transparent": false
         },
         {
          "color_name": "Brown",
          "hex": "#583927",
          "name": "Hogwarts Express (1st Edition)",
          "num_name": "4708-1: Hogwarts Express (1st Edition)",
          "num_parts": 19,
          "quantity": 19,
          "theme_name": "Philosopher's Stone",
          "transparent": false
         },
         {
          "color_name": "Chrome Antique Brass",
          "hex": "#645A4C",
          "name": "Hogwarts Express (1st Edition)",
          "num_name": "4708-1: Hogwarts Express (1st Edition)",
          "num_parts": 2,
          "quantity": 2,
          "theme_name": "Philosopher's Stone",
          "transparent": false
         },
         {
          "color_name": "Dark Gray",
          "hex": "#6D6E5C",
          "name": "Hogwarts Express (1st Edition)",
          "num_name": "4708-1: Hogwarts Express (1st Edition)",
          "num_parts": 75,
          "quantity": 75,
          "theme_name": "Philosopher's Stone",
          "transparent": false
         },
         {
          "color_name": "Earth Orange",
          "hex": "#FA9C1C",
          "name": "Hogwarts Express (1st Edition)",
          "num_name": "4708-1: Hogwarts Express (1st Edition)",
          "num_parts": 1,
          "quantity": 1,
          "theme_name": "Philosopher's Stone",
          "transparent": false
         },
         {
          "color_name": "Green",
          "hex": "#237841",
          "name": "Hogwarts Express (1st Edition)",
          "num_name": "4708-1: Hogwarts Express (1st Edition)",
          "num_parts": 2,
          "quantity": 2,
          "theme_name": "Philosopher's Stone",
          "transparent": false
         },
         {
          "color_name": "Light Gray",
          "hex": "#9BA19D",
          "name": "Hogwarts Express (1st Edition)",
          "num_name": "4708-1: Hogwarts Express (1st Edition)",
          "num_parts": 26,
          "quantity": 26,
          "theme_name": "Philosopher's Stone",
          "transparent": false
         },
         {
          "color_name": "Red",
          "hex": "#C91A09",
          "name": "Hogwarts Express (1st Edition)",
          "num_name": "4708-1: Hogwarts Express (1st Edition)",
          "num_parts": 96,
          "quantity": 96,
          "theme_name": "Philosopher's Stone",
          "transparent": true
         },
         {
          "color_name": "Tan",
          "hex": "#E4CD9E",
          "name": "Hogwarts Express (1st Edition)",
          "num_name": "4708-1: Hogwarts Express (1st Edition)",
          "num_parts": 28,
          "quantity": 28,
          "theme_name": "Philosopher's Stone",
          "transparent": false
         },
         {
          "color_name": "Trans-Clear",
          "hex": "#FCFCFC",
          "name": "Hogwarts Express (1st Edition)",
          "num_name": "4708-1: Hogwarts Express (1st Edition)",
          "num_parts": 7,
          "quantity": 7,
          "theme_name": "Philosopher's Stone",
          "transparent": true
         },
         {
          "color_name": "White",
          "hex": "#FFFFFF",
          "name": "Hogwarts Express (1st Edition)",
          "num_name": "4708-1: Hogwarts Express (1st Edition)",
          "num_parts": 6,
          "quantity": 6,
          "theme_name": "Philosopher's Stone",
          "transparent": false
         },
         {
          "color_name": "Yellow",
          "hex": "#F2CD37",
          "name": "Hogwarts Express (1st Edition)",
          "num_name": "4708-1: Hogwarts Express (1st Edition)",
          "num_parts": 11,
          "quantity": 11,
          "theme_name": "Philosopher's Stone",
          "transparent": false
         },
         {
          "color_name": "Black",
          "hex": "#05131D",
          "name": "Hogwarts Castle",
          "num_name": "4709-1: Hogwarts Castle",
          "num_parts": 96,
          "quantity": 96,
          "theme_name": "Philosopher's Stone",
          "transparent": false
         },
         {
          "color_name": "Brown",
          "hex": "#583927",
          "name": "Hogwarts Castle",
          "num_name": "4709-1: Hogwarts Castle",
          "num_parts": 55,
          "quantity": 55,
          "theme_name": "Philosopher's Stone",
          "transparent": false
         },
         {
          "color_name": "Chrome Antique Brass",
          "hex": "#645A4C",
          "name": "Hogwarts Castle",
          "num_name": "4709-1: Hogwarts Castle",
          "num_parts": 2,
          "quantity": 2,
          "theme_name": "Philosopher's Stone",
          "transparent": false
         },
         {
          "color_name": "Dark Gray",
          "hex": "#6D6E5C",
          "name": "Hogwarts Castle",
          "num_name": "4709-1: Hogwarts Castle",
          "num_parts": 108,
          "quantity": 108,
          "theme_name": "Philosopher's Stone",
          "transparent": false
         },
         {
          "color_name": "Earth Orange",
          "hex": "#FA9C1C",
          "name": "Hogwarts Castle",
          "num_name": "4709-1: Hogwarts Castle",
          "num_parts": 1,
          "quantity": 1,
          "theme_name": "Philosopher's Stone",
          "transparent": false
         },
         {
          "color_name": "Glow In Dark Opaque",
          "hex": "#D4D5C9",
          "name": "Hogwarts Castle",
          "num_name": "4709-1: Hogwarts Castle",
          "num_parts": 1,
          "quantity": 1,
          "theme_name": "Philosopher's Stone",
          "transparent": false
         },
         {
          "color_name": "Green",
          "hex": "#237841",
          "name": "Hogwarts Castle",
          "num_name": "4709-1: Hogwarts Castle",
          "num_parts": 1,
          "quantity": 1,
          "theme_name": "Philosopher's Stone",
          "transparent": false
         },
         {
          "color_name": "Light Gray",
          "hex": "#9BA19D",
          "name": "Hogwarts Castle",
          "num_name": "4709-1: Hogwarts Castle",
          "num_parts": 191,
          "quantity": 191,
          "theme_name": "Philosopher's Stone",
          "transparent": false
         },
         {
          "color_name": "Medium Blue",
          "hex": "#5A93DB",
          "name": "Hogwarts Castle",
          "num_name": "4709-1: Hogwarts Castle",
          "num_parts": 1,
          "quantity": 1,
          "theme_name": "Philosopher's Stone",
          "transparent": false
         },
         {
          "color_name": "Purple",
          "hex": "#81007B",
          "name": "Hogwarts Castle",
          "num_name": "4709-1: Hogwarts Castle",
          "num_parts": 6,
          "quantity": 6,
          "theme_name": "Philosopher's Stone",
          "transparent": false
         },
         {
          "color_name": "Red",
          "hex": "#C91A09",
          "name": "Hogwarts Castle",
          "num_name": "4709-1: Hogwarts Castle",
          "num_parts": 3,
          "quantity": 3,
          "theme_name": "Philosopher's Stone",
          "transparent": true
         },
         {
          "color_name": "Sand Green",
          "hex": "#A0BCAC",
          "name": "Hogwarts Castle",
          "num_name": "4709-1: Hogwarts Castle",
          "num_parts": 17,
          "quantity": 17,
          "theme_name": "Philosopher's Stone",
          "transparent": false
         },
         {
          "color_name": "Tan",
          "hex": "#E4CD9E",
          "name": "Hogwarts Castle",
          "num_name": "4709-1: Hogwarts Castle",
          "num_parts": 155,
          "quantity": 155,
          "theme_name": "Philosopher's Stone",
          "transparent": false
         },
         {
          "color_name": "Trans-Clear",
          "hex": "#FCFCFC",
          "name": "Hogwarts Castle",
          "num_name": "4709-1: Hogwarts Castle",
          "num_parts": 8,
          "quantity": 8,
          "theme_name": "Philosopher's Stone",
          "transparent": true
         },
         {
          "color_name": "Trans-Dark Blue",
          "hex": "#0020A0",
          "name": "Hogwarts Castle",
          "num_name": "4709-1: Hogwarts Castle",
          "num_parts": 4,
          "quantity": 4,
          "theme_name": "Philosopher's Stone",
          "transparent": true
         },
         {
          "color_name": "Trans-Dark Pink",
          "hex": "#DF6695",
          "name": "Hogwarts Castle",
          "num_name": "4709-1: Hogwarts Castle",
          "num_parts": 1,
          "quantity": 1,
          "theme_name": "Philosopher's Stone",
          "transparent": true
         },
         {
          "color_name": "Trans-Green",
          "hex": "#84B68D",
          "name": "Hogwarts Castle",
          "num_name": "4709-1: Hogwarts Castle",
          "num_parts": 1,
          "quantity": 1,
          "theme_name": "Philosopher's Stone",
          "transparent": true
         },
         {
          "color_name": "Trans-Light Blue",
          "hex": "#AEEFEC",
          "name": "Hogwarts Castle",
          "num_name": "4709-1: Hogwarts Castle",
          "num_parts": 1,
          "quantity": 1,
          "theme_name": "Philosopher's Stone",
          "transparent": true
         },
         {
          "color_name": "Trans-Neon Green",
          "hex": "#F8F184",
          "name": "Hogwarts Castle",
          "num_name": "4709-1: Hogwarts Castle",
          "num_parts": 2,
          "quantity": 2,
          "theme_name": "Philosopher's Stone",
          "transparent": true
         },
         {
          "color_name": "Trans-Neon Orange",
          "hex": "#FF800D",
          "name": "Hogwarts Castle",
          "num_name": "4709-1: Hogwarts Castle",
          "num_parts": 19,
          "quantity": 19,
          "theme_name": "Philosopher's Stone",
          "transparent": true
         },
         {
          "color_name": "Trans-Purple",
          "hex": "#A5A5CB",
          "name": "Hogwarts Castle",
          "num_name": "4709-1: Hogwarts Castle",
          "num_parts": 1,
          "quantity": 1,
          "theme_name": "Philosopher's Stone",
          "transparent": true
         },
         {
          "color_name": "Trans-Red",
          "hex": "#C91A09",
          "name": "Hogwarts Castle",
          "num_name": "4709-1: Hogwarts Castle",
          "num_parts": 1,
          "quantity": 1,
          "theme_name": "Philosopher's Stone",
          "transparent": true
         },
         {
          "color_name": "Violet",
          "hex": "#4354A3",
          "name": "Hogwarts Castle",
          "num_name": "4709-1: Hogwarts Castle",
          "num_parts": 1,
          "quantity": 1,
          "theme_name": "Philosopher's Stone",
          "transparent": false
         },
         {
          "color_name": "White",
          "hex": "#FFFFFF",
          "name": "Hogwarts Castle",
          "num_name": "4709-1: Hogwarts Castle",
          "num_parts": 6,
          "quantity": 6,
          "theme_name": "Philosopher's Stone",
          "transparent": false
         },
         {
          "color_name": "Yellow",
          "hex": "#F2CD37",
          "name": "Hogwarts Castle",
          "num_name": "4709-1: Hogwarts Castle",
          "num_parts": 21,
          "quantity": 21,
          "theme_name": "Philosopher's Stone",
          "transparent": false
         },
         {
          "color_name": "[No Color/Any Color]",
          "hex": "#05131D",
          "name": "Hogwarts Castle",
          "num_name": "4709-1: Hogwarts Castle",
          "num_parts": 2,
          "quantity": 2,
          "theme_name": "Philosopher's Stone",
          "transparent": false
         },
         {
          "color_name": "Black",
          "hex": "#05131D",
          "name": "Flying Lesson",
          "num_name": "4711-1: Flying Lesson",
          "num_parts": 4,
          "quantity": 4,
          "theme_name": "Philosopher's Stone",
          "transparent": false
         },
         {
          "color_name": "Brown",
          "hex": "#583927",
          "name": "Flying Lesson",
          "num_name": "4711-1: Flying Lesson",
          "num_parts": 5,
          "quantity": 5,
          "theme_name": "Philosopher's Stone",
          "transparent": false
         },
         {
          "color_name": "Light Gray",
          "hex": "#9BA19D",
          "name": "Flying Lesson",
          "num_name": "4711-1: Flying Lesson",
          "num_parts": 7,
          "quantity": 7,
          "theme_name": "Philosopher's Stone",
          "transparent": false
         },
         {
          "color_name": "Tan",
          "hex": "#E4CD9E",
          "name": "Flying Lesson",
          "num_name": "4711-1: Flying Lesson",
          "num_parts": 5,
          "quantity": 5,
          "theme_name": "Philosopher's Stone",
          "transparent": false
         },
         {
          "color_name": "Trans-Clear",
          "hex": "#FCFCFC",
          "name": "Flying Lesson",
          "num_name": "4711-1: Flying Lesson",
          "num_parts": 1,
          "quantity": 1,
          "theme_name": "Philosopher's Stone",
          "transparent": true
         },
         {
          "color_name": "Yellow",
          "hex": "#F2CD37",
          "name": "Flying Lesson",
          "num_name": "4711-1: Flying Lesson",
          "num_parts": 2,
          "quantity": 2,
          "theme_name": "Philosopher's Stone",
          "transparent": false
         },
         {
          "color_name": "Black",
          "hex": "#05131D",
          "name": "Troll on the Loose",
          "num_name": "4712-1: Troll on the Loose",
          "num_parts": 20,
          "quantity": 20,
          "theme_name": "Philosopher's Stone",
          "transparent": false
         },
         {
          "color_name": "Brown",
          "hex": "#583927",
          "name": "Troll on the Loose",
          "num_name": "4712-1: Troll on the Loose",
          "num_parts": 6,
          "quantity": 6,
          "theme_name": "Philosopher's Stone",
          "transparent": false
         },
         {
          "color_name": "Dark Gray",
          "hex": "#6D6E5C",
          "name": "Troll on the Loose",
          "num_name": "4712-1: Troll on the Loose",
          "num_parts": 4,
          "quantity": 4,
          "theme_name": "Philosopher's Stone",
          "transparent": false
         },
         {
          "color_name": "Light Gray",
          "hex": "#9BA19D",
          "name": "Troll on the Loose",
          "num_name": "4712-1: Troll on the Loose",
          "num_parts": 27,
          "quantity": 27,
          "theme_name": "Philosopher's Stone",
          "transparent": false
         },
         {
          "color_name": "Orange",
          "hex": "#FE8A18",
          "name": "Troll on the Loose",
          "num_name": "4712-1: Troll on the Loose",
          "num_parts": 1,
          "quantity": 1,
          "theme_name": "Philosopher's Stone",
          "transparent": false
         },
         {
          "color_name": "Sand Green",
          "hex": "#A0BCAC",
          "name": "Troll on the Loose",
          "num_name": "4712-1: Troll on the Loose",
          "num_parts": 5,
          "quantity": 5,
          "theme_name": "Philosopher's Stone",
          "transparent": false
         },
         {
          "color_name": "Trans-Neon Orange",
          "hex": "#FF800D",
          "name": "Troll on the Loose",
          "num_name": "4712-1: Troll on the Loose",
          "num_parts": 3,
          "quantity": 3,
          "theme_name": "Philosopher's Stone",
          "transparent": true
         },
         {
          "color_name": "White",
          "hex": "#FFFFFF",
          "name": "Troll on the Loose",
          "num_name": "4712-1: Troll on the Loose",
          "num_parts": 5,
          "quantity": 5,
          "theme_name": "Philosopher's Stone",
          "transparent": false
         },
         {
          "color_name": "Yellow",
          "hex": "#F2CD37",
          "name": "Troll on the Loose",
          "num_name": "4712-1: Troll on the Loose",
          "num_parts": 1,
          "quantity": 1,
          "theme_name": "Philosopher's Stone",
          "transparent": false
         },
         {
          "color_name": "[No Color/Any Color]",
          "hex": "#05131D",
          "name": "Troll on the Loose",
          "num_name": "4712-1: Troll on the Loose",
          "num_parts": 1,
          "quantity": 1,
          "theme_name": "Philosopher's Stone",
          "transparent": false
         },
         {
          "color_name": "Black",
          "hex": "#05131D",
          "name": "Gringott's Bank",
          "num_name": "4714-1: Gringott's Bank",
          "num_parts": 47,
          "quantity": 47,
          "theme_name": "Philosopher's Stone",
          "transparent": false
         },
         {
          "color_name": "Blue",
          "hex": "#0055BF",
          "name": "Gringott's Bank",
          "num_name": "4714-1: Gringott's Bank",
          "num_parts": 1,
          "quantity": 1,
          "theme_name": "Philosopher's Stone",
          "transparent": false
         },
         {
          "color_name": "Brown",
          "hex": "#583927",
          "name": "Gringott's Bank",
          "num_name": "4714-1: Gringott's Bank",
          "num_parts": 19,
          "quantity": 19,
          "theme_name": "Philosopher's Stone",
          "transparent": false
         },
         {
          "color_name": "Chrome Antique Brass",
          "hex": "#645A4C",
          "name": "Gringott's Bank",
          "num_name": "4714-1: Gringott's Bank",
          "num_parts": 2,
          "quantity": 2,
          "theme_name": "Philosopher's Stone",
          "transparent": false
         },
         {
          "color_name": "Chrome Gold",
          "hex": "#BBA53D",
          "name": "Gringott's Bank",
          "num_name": "4714-1: Gringott's Bank",
          "num_parts": 12,
          "quantity": 12,
          "theme_name": "Philosopher's Stone",
          "transparent": false
         },
         {
          "color_name": "Dark Gray",
          "hex": "#6D6E5C",
          "name": "Gringott's Bank",
          "num_name": "4714-1: Gringott's Bank",
          "num_parts": 26,
          "quantity": 26,
          "theme_name": "Philosopher's Stone",
          "transparent": false
         },
         {
          "color_name": "Light Gray",
          "hex": "#9BA19D",
          "name": "Gringott's Bank",
          "num_name": "4714-1: Gringott's Bank",
          "num_parts": 44,
          "quantity": 44,
          "theme_name": "Philosopher's Stone",
          "transparent": false
         },
         {
          "color_name": "Red",
          "hex": "#C91A09",
          "name": "Gringott's Bank",
          "num_name": "4714-1: Gringott's Bank",
          "num_parts": 1,
          "quantity": 1,
          "theme_name": "Philosopher's Stone",
          "transparent": true
         },
         {
          "color_name": "Sand Green",
          "hex": "#A0BCAC",
          "name": "Gringott's Bank",
          "num_name": "4714-1: Gringott's Bank",
          "num_parts": 25,
          "quantity": 25,
          "theme_name": "Philosopher's Stone",
          "transparent": false
         },
         {
          "color_name": "Tan",
          "hex": "#E4CD9E",
          "name": "Gringott's Bank",
          "num_name": "4714-1: Gringott's Bank",
          "num_parts": 42,
          "quantity": 42,
          "theme_name": "Philosopher's Stone",
          "transparent": false
         },
         {
          "color_name": "Trans-Clear",
          "hex": "#FCFCFC",
          "name": "Gringott's Bank",
          "num_name": "4714-1: Gringott's Bank",
          "num_parts": 6,
          "quantity": 6,
          "theme_name": "Philosopher's Stone",
          "transparent": true
         },
         {
          "color_name": "Trans-Dark Blue",
          "hex": "#0020A0",
          "name": "Gringott's Bank",
          "num_name": "4714-1: Gringott's Bank",
          "num_parts": 1,
          "quantity": 1,
          "theme_name": "Philosopher's Stone",
          "transparent": true
         },
         {
          "color_name": "Trans-Neon Orange",
          "hex": "#FF800D",
          "name": "Gringott's Bank",
          "num_name": "4714-1: Gringott's Bank",
          "num_parts": 2,
          "quantity": 2,
          "theme_name": "Philosopher's Stone",
          "transparent": true
         },
         {
          "color_name": "White",
          "hex": "#FFFFFF",
          "name": "Gringott's Bank",
          "num_name": "4714-1: Gringott's Bank",
          "num_parts": 35,
          "quantity": 35,
          "theme_name": "Philosopher's Stone",
          "transparent": false
         },
         {
          "color_name": "Yellow",
          "hex": "#F2CD37",
          "name": "Gringott's Bank",
          "num_name": "4714-1: Gringott's Bank",
          "num_parts": 2,
          "quantity": 2,
          "theme_name": "Philosopher's Stone",
          "transparent": false
         },
         {
          "color_name": "Black",
          "hex": "#05131D",
          "name": "Hogwarts Classroom",
          "num_name": "4721-1: Hogwarts Classroom",
          "num_parts": 4,
          "quantity": 4,
          "theme_name": "Philosopher's Stone",
          "transparent": false
         },
         {
          "color_name": "Brown",
          "hex": "#583927",
          "name": "Hogwarts Classroom",
          "num_name": "4721-1: Hogwarts Classroom",
          "num_parts": 1,
          "quantity": 1,
          "theme_name": "Philosopher's Stone",
          "transparent": false
         },
         {
          "color_name": "Chrome Antique Brass",
          "hex": "#645A4C",
          "name": "Hogwarts Classroom",
          "num_name": "4721-1: Hogwarts Classroom",
          "num_parts": 2,
          "quantity": 2,
          "theme_name": "Philosopher's Stone",
          "transparent": false
         },
         {
          "color_name": "Chrome Gold",
          "hex": "#BBA53D",
          "name": "Hogwarts Classroom",
          "num_name": "4721-1: Hogwarts Classroom",
          "num_parts": 1,
          "quantity": 1,
          "theme_name": "Philosopher's Stone",
          "transparent": false
         },
         {
          "color_name": "Dark Gray",
          "hex": "#6D6E5C",
          "name": "Hogwarts Classroom",
          "num_name": "4721-1: Hogwarts Classroom",
          "num_parts": 1,
          "quantity": 1,
          "theme_name": "Philosopher's Stone",
          "transparent": false
         },
         {
          "color_name": "Dark Pink",
          "hex": "#C870A0",
          "name": "Hogwarts Classroom",
          "num_name": "4721-1: Hogwarts Classroom",
          "num_parts": 7,
          "quantity": 7,
          "theme_name": "Philosopher's Stone",
          "transparent": false
         },
         {
          "color_name": "Green",
          "hex": "#237841",
          "name": "Hogwarts Classroom",
          "num_name": "4721-1: Hogwarts Classroom",
          "num_parts": 2,
          "quantity": 2,
          "theme_name": "Philosopher's Stone",
          "transparent": false
         },
         {
          "color_name": "Light Gray",
          "hex": "#9BA19D",
          "name": "Hogwarts Classroom",
          "num_name": "4721-1: Hogwarts Classroom",
          "num_parts": 2,
          "quantity": 2,
          "theme_name": "Philosopher's Stone",
          "transparent": false
         },
         {
          "color_name": "Light Violet",
          "hex": "#C9CAE2",
          "name": "Hogwarts Classroom",
          "num_name": "4721-1: Hogwarts Classroom",
          "num_parts": 3,
          "quantity": 3,
          "theme_name": "Philosopher's Stone",
          "transparent": false
         },
         {
          "color_name": "Medium Orange",
          "hex": "#FFA70B",
          "name": "Hogwarts Classroom",
          "num_name": "4721-1: Hogwarts Classroom",
          "num_parts": 3,
          "quantity": 3,
          "theme_name": "Philosopher's Stone",
          "transparent": false
         },
         {
          "color_name": "Orange",
          "hex": "#FE8A18",
          "name": "Hogwarts Classroom",
          "num_name": "4721-1: Hogwarts Classroom",
          "num_parts": 12,
          "quantity": 12,
          "theme_name": "Philosopher's Stone",
          "transparent": false
         },
         {
          "color_name": "Royal Blue",
          "hex": "#4C61DB",
          "name": "Hogwarts Classroom",
          "num_name": "4721-1: Hogwarts Classroom",
          "num_parts": 1,
          "quantity": 1,
          "theme_name": "Philosopher's Stone",
          "transparent": false
         },
         {
          "color_name": "Trans-Clear",
          "hex": "#FCFCFC",
          "name": "Hogwarts Classroom",
          "num_name": "4721-1: Hogwarts Classroom",
          "num_parts": 1,
          "quantity": 1,
          "theme_name": "Philosopher's Stone",
          "transparent": true
         },
         {
          "color_name": "Trans-Dark Blue",
          "hex": "#0020A0",
          "name": "Hogwarts Classroom",
          "num_name": "4721-1: Hogwarts Classroom",
          "num_parts": 2,
          "quantity": 2,
          "theme_name": "Philosopher's Stone",
          "transparent": true
         },
         {
          "color_name": "Trans-Dark Pink",
          "hex": "#DF6695",
          "name": "Hogwarts Classroom",
          "num_name": "4721-1: Hogwarts Classroom",
          "num_parts": 5,
          "quantity": 5,
          "theme_name": "Philosopher's Stone",
          "transparent": true
         },
         {
          "color_name": "Trans-Neon Green",
          "hex": "#F8F184",
          "name": "Hogwarts Classroom",
          "num_name": "4721-1: Hogwarts Classroom",
          "num_parts": 2,
          "quantity": 2,
          "theme_name": "Philosopher's Stone",
          "transparent": true
         },
         {
          "color_name": "Trans-Neon Orange",
          "hex": "#FF800D",
          "name": "Hogwarts Classroom",
          "num_name": "4721-1: Hogwarts Classroom",
          "num_parts": 8,
          "quantity": 8,
          "theme_name": "Philosopher's Stone",
          "transparent": true
         },
         {
          "color_name": "Trans-Purple",
          "hex": "#A5A5CB",
          "name": "Hogwarts Classroom",
          "num_name": "4721-1: Hogwarts Classroom",
          "num_parts": 2,
          "quantity": 2,
          "theme_name": "Philosopher's Stone",
          "transparent": true
         },
         {
          "color_name": "Violet",
          "hex": "#4354A3",
          "name": "Hogwarts Classroom",
          "num_name": "4721-1: Hogwarts Classroom",
          "num_parts": 3,
          "quantity": 3,
          "theme_name": "Philosopher's Stone",
          "transparent": false
         },
         {
          "color_name": "White",
          "hex": "#FFFFFF",
          "name": "Hogwarts Classroom",
          "num_name": "4721-1: Hogwarts Classroom",
          "num_parts": 13,
          "quantity": 13,
          "theme_name": "Philosopher's Stone",
          "transparent": false
         },
         {
          "color_name": "Yellow",
          "hex": "#F2CD37",
          "name": "Hogwarts Classroom",
          "num_name": "4721-1: Hogwarts Classroom",
          "num_parts": 3,
          "quantity": 3,
          "theme_name": "Philosopher's Stone",
          "transparent": false
         },
         {
          "color_name": "Black",
          "hex": "#05131D",
          "name": "Gryffindor",
          "num_name": "4722-1: Gryffindor",
          "num_parts": 1,
          "quantity": 1,
          "theme_name": "Philosopher's Stone",
          "transparent": false
         },
         {
          "color_name": "Blue",
          "hex": "#0055BF",
          "name": "Gryffindor",
          "num_name": "4722-1: Gryffindor",
          "num_parts": 1,
          "quantity": 1,
          "theme_name": "Philosopher's Stone",
          "transparent": false
         },
         {
          "color_name": "Brown",
          "hex": "#583927",
          "name": "Gryffindor",
          "num_name": "4722-1: Gryffindor",
          "num_parts": 2,
          "quantity": 2,
          "theme_name": "Philosopher's Stone",
          "transparent": false
         },
         {
          "color_name": "Dark Gray",
          "hex": "#6D6E5C",
          "name": "Gryffindor",
          "num_name": "4722-1: Gryffindor",
          "num_parts": 1,
          "quantity": 1,
          "theme_name": "Philosopher's Stone",
          "transparent": false
         },
         {
          "color_name": "Dark Pink",
          "hex": "#C870A0",
          "name": "Gryffindor",
          "num_name": "4722-1: Gryffindor",
          "num_parts": 12,
          "quantity": 12,
          "theme_name": "Philosopher's Stone",
          "transparent": false
         },
         {
          "color_name": "Dark Red",
          "hex": "#720E0F",
          "name": "Gryffindor",
          "num_name": "4722-1: Gryffindor",
          "num_parts": 1,
          "quantity": 1,
          "theme_name": "Philosopher's Stone",
          "transparent": false
         },
         {
          "color_name": "Dark Turquoise",
          "hex": "#008F9B",
          "name": "Gryffindor",
          "num_name": "4722-1: Gryffindor",
          "num_parts": 4,
          "quantity": 4,
          "theme_name": "Philosopher's Stone",
          "transparent": false
         },
         {
          "color_name": "Earth Orange",
          "hex": "#FA9C1C",
          "name": "Gryffindor",
          "num_name": "4722-1: Gryffindor",
          "num_parts": 1,
          "quantity": 1,
          "theme_name": "Philosopher's Stone",
          "transparent": false
         },
         {
          "color_name": "Light Gray",
          "hex": "#9BA19D",
          "name": "Gryffindor",
          "num_name": "4722-1: Gryffindor",
          "num_parts": 2,
          "quantity": 2,
          "theme_name": "Philosopher's Stone",
          "transparent": false
         },
         {
          "color_name": "Light Turquoise",
          "hex": "#55A5AF",
          "name": "Gryffindor",
          "num_name": "4722-1: Gryffindor",
          "num_parts": 1,
          "quantity": 1,
          "theme_name": "Philosopher's Stone",
          "transparent": false
         },
         {
          "color_name": "Light Violet",
          "hex": "#C9CAE2",
          "name": "Gryffindor",
          "num_name": "4722-1: Gryffindor",
          "num_parts": 2,
          "quantity": 2,
          "theme_name": "Philosopher's Stone",
          "transparent": false
         },
         {
          "color_name": "Medium Orange",
          "hex": "#FFA70B",
          "name": "Gryffindor",
          "num_name": "4722-1: Gryffindor",
          "num_parts": 8,
          "quantity": 8,
          "theme_name": "Philosopher's Stone",
          "transparent": false
         },
         {
          "color_name": "Orange",
          "hex": "#FE8A18",
          "name": "Gryffindor",
          "num_name": "4722-1: Gryffindor",
          "num_parts": 18,
          "quantity": 18,
          "theme_name": "Philosopher's Stone",
          "transparent": false
         },
         {
          "color_name": "Purple",
          "hex": "#81007B",
          "name": "Gryffindor",
          "num_name": "4722-1: Gryffindor",
          "num_parts": 2,
          "quantity": 2,
          "theme_name": "Philosopher's Stone",
          "transparent": false
         },
         {
          "color_name": "Red",
          "hex": "#C91A09",
          "name": "Gryffindor",
          "num_name": "4722-1: Gryffindor",
          "num_parts": 4,
          "quantity": 4,
          "theme_name": "Philosopher's Stone",
          "transparent": true
         },
         {
          "color_name": "Royal Blue",
          "hex": "#4C61DB",
          "name": "Gryffindor",
          "num_name": "4722-1: Gryffindor",
          "num_parts": 1,
          "quantity": 1,
          "theme_name": "Philosopher's Stone",
          "transparent": false
         },
         {
          "color_name": "Trans-Dark Blue",
          "hex": "#0020A0",
          "name": "Gryffindor",
          "num_name": "4722-1: Gryffindor",
          "num_parts": 1,
          "quantity": 1,
          "theme_name": "Philosopher's Stone",
          "transparent": true
         },
         {
          "color_name": "Trans-Dark Pink",
          "hex": "#DF6695",
          "name": "Gryffindor",
          "num_name": "4722-1: Gryffindor",
          "num_parts": 2,
          "quantity": 2,
          "theme_name": "Philosopher's Stone",
          "transparent": true
         },
         {
          "color_name": "Trans-Light Blue",
          "hex": "#AEEFEC",
          "name": "Gryffindor",
          "num_name": "4722-1: Gryffindor",
          "num_parts": 1,
          "quantity": 1,
          "theme_name": "Philosopher's Stone",
          "transparent": true
         },
         {
          "color_name": "Trans-Neon Orange",
          "hex": "#FF800D",
          "name": "Gryffindor",
          "num_name": "4722-1: Gryffindor",
          "num_parts": 2,
          "quantity": 2,
          "theme_name": "Philosopher's Stone",
          "transparent": true
         },
         {
          "color_name": "White",
          "hex": "#FFFFFF",
          "name": "Gryffindor",
          "num_name": "4722-1: Gryffindor",
          "num_parts": 2,
          "quantity": 2,
          "theme_name": "Philosopher's Stone",
          "transparent": false
         },
         {
          "color_name": "Yellow",
          "hex": "#F2CD37",
          "name": "Gryffindor",
          "num_name": "4722-1: Gryffindor",
          "num_parts": 2,
          "quantity": 2,
          "theme_name": "Philosopher's Stone",
          "transparent": false
         },
         {
          "color_name": "Black",
          "hex": "#05131D",
          "name": "Diagon Alley Shops",
          "num_name": "4723-1: Diagon Alley Shops",
          "num_parts": 1,
          "quantity": 1,
          "theme_name": "Philosopher's Stone",
          "transparent": false
         },
         {
          "color_name": "Blue",
          "hex": "#0055BF",
          "name": "Diagon Alley Shops",
          "num_name": "4723-1: Diagon Alley Shops",
          "num_parts": 1,
          "quantity": 1,
          "theme_name": "Philosopher's Stone",
          "transparent": false
         },
         {
          "color_name": "Brown",
          "hex": "#583927",
          "name": "Diagon Alley Shops",
          "num_name": "4723-1: Diagon Alley Shops",
          "num_parts": 1,
          "quantity": 1,
          "theme_name": "Philosopher's Stone",
          "transparent": false
         },
         {
          "color_name": "Chrome Gold",
          "hex": "#BBA53D",
          "name": "Diagon Alley Shops",
          "num_name": "4723-1: Diagon Alley Shops",
          "num_parts": 4,
          "quantity": 4,
          "theme_name": "Philosopher's Stone",
          "transparent": false
         },
         {
          "color_name": "Dark Gray",
          "hex": "#6D6E5C",
          "name": "Diagon Alley Shops",
          "num_name": "4723-1: Diagon Alley Shops",
          "num_parts": 1,
          "quantity": 1,
          "theme_name": "Philosopher's Stone",
          "transparent": false
         },
         {
          "color_name": "Dark Pink",
          "hex": "#C870A0",
          "name": "Diagon Alley Shops",
          "num_name": "4723-1: Diagon Alley Shops",
          "num_parts": 13,
          "quantity": 13,
          "theme_name": "Philosopher's Stone",
          "transparent": false
         },
         {
          "color_name": "Dark Turquoise",
          "hex": "#008F9B",
          "name": "Diagon Alley Shops",
          "num_name": "4723-1: Diagon Alley Shops",
          "num_parts": 2,
          "quantity": 2,
          "theme_name": "Philosopher's Stone",
          "transparent": false
         },
         {
          "color_name": "Earth Orange",
          "hex": "#FA9C1C",
          "name": "Diagon Alley Shops",
          "num_name": "4723-1: Diagon Alley Shops",
          "num_parts": 1,
          "quantity": 1,
          "theme_name": "Philosopher's Stone",
          "transparent": false
         },
         {
          "color_name": "Green",
          "hex": "#237841",
          "name": "Diagon Alley Shops",
          "num_name": "4723-1: Diagon Alley Shops",
          "num_parts": 1,
          "quantity": 1,
          "theme_name": "Philosopher's Stone",
          "transparent": false
         },
         {
          "color_name": "Light Gray",
          "hex": "#9BA19D",
          "name": "Diagon Alley Shops",
          "num_name": "4723-1: Diagon Alley Shops",
          "num_parts": 1,
          "quantity": 1,
          "theme_name": "Philosopher's Stone",
          "transparent": false
         },
         {
          "color_name": "Light Green",
          "hex": "#C2DAB8",
          "name": "Diagon Alley Shops",
          "num_name": "4723-1: Diagon Alley Shops",
          "num_parts": 1,
          "quantity": 1,
          "theme_name": "Philosopher's Stone",
          "transparent": false
         },
         {
          "color_name": "Light Turquoise",
          "hex": "#55A5AF",
          "name": "Diagon Alley Shops",
          "num_name": "4723-1: Diagon Alley Shops",
          "num_parts": 1,
          "quantity": 1,
          "theme_name": "Philosopher's Stone",
          "transparent": false
         },
         {
          "color_name": "Medium Blue",
          "hex": "#5A93DB",
          "name": "Diagon Alley Shops",
          "num_name": "4723-1: Diagon Alley Shops",
          "num_parts": 1,
          "quantity": 1,
          "theme_name": "Philosopher's Stone",
          "transparent": false
         },
         {
          "color_name": "Medium Orange",
          "hex": "#FFA70B",
          "name": "Diagon Alley Shops",
          "num_name": "4723-1: Diagon Alley Shops",
          "num_parts": 3,
          "quantity": 3,
          "theme_name": "Philosopher's Stone",
          "transparent": false
         },
         {
          "color_name": "Orange",
          "hex": "#FE8A18",
          "name": "Diagon Alley Shops",
          "num_name": "4723-1: Diagon Alley Shops",
          "num_parts": 8,
          "quantity": 8,
          "theme_name": "Philosopher's Stone",
          "transparent": false
         },
         {
          "color_name": "Purple",
          "hex": "#81007B",
          "name": "Diagon Alley Shops",
          "num_name": "4723-1: Diagon Alley Shops",
          "num_parts": 2,
          "quantity": 2,
          "theme_name": "Philosopher's Stone",
          "transparent": false
         },
         {
          "color_name": "Red",
          "hex": "#C91A09",
          "name": "Diagon Alley Shops",
          "num_name": "4723-1: Diagon Alley Shops",
          "num_parts": 2,
          "quantity": 2,
          "theme_name": "Philosopher's Stone",
          "transparent": true
         },
         {
          "color_name": "Royal Blue",
          "hex": "#4C61DB",
          "name": "Diagon Alley Shops",
          "num_name": "4723-1: Diagon Alley Shops",
          "num_parts": 1,
          "quantity": 1,
          "theme_name": "Philosopher's Stone",
          "transparent": false
         },
         {
          "color_name": "Sand Green",
          "hex": "#A0BCAC",
          "name": "Diagon Alley Shops",
          "num_name": "4723-1: Diagon Alley Shops",
          "num_parts": 1,
          "quantity": 1,
          "theme_name": "Philosopher's Stone",
          "transparent": false
         },
         {
          "color_name": "Trans-Clear",
          "hex": "#FCFCFC",
          "name": "Diagon Alley Shops",
          "num_name": "4723-1: Diagon Alley Shops",
          "num_parts": 2,
          "quantity": 2,
          "theme_name": "Philosopher's Stone",
          "transparent": true
         },
         {
          "color_name": "Trans-Dark Blue",
          "hex": "#0020A0",
          "name": "Diagon Alley Shops",
          "num_name": "4723-1: Diagon Alley Shops",
          "num_parts": 2,
          "quantity": 2,
          "theme_name": "Philosopher's Stone",
          "transparent": true
         },
         {
          "color_name": "Trans-Dark Pink",
          "hex": "#DF6695",
          "name": "Diagon Alley Shops",
          "num_name": "4723-1: Diagon Alley Shops",
          "num_parts": 5,
          "quantity": 5,
          "theme_name": "Philosopher's Stone",
          "transparent": true
         },
         {
          "color_name": "Trans-Green",
          "hex": "#84B68D",
          "name": "Diagon Alley Shops",
          "num_name": "4723-1: Diagon Alley Shops",
          "num_parts": 2,
          "quantity": 2,
          "theme_name": "Philosopher's Stone",
          "transparent": true
         },
         {
          "color_name": "Trans-Light Blue",
          "hex": "#AEEFEC",
          "name": "Diagon Alley Shops",
          "num_name": "4723-1: Diagon Alley Shops",
          "num_parts": 4,
          "quantity": 4,
          "theme_name": "Philosopher's Stone",
          "transparent": true
         },
         {
          "color_name": "Trans-Neon Green",
          "hex": "#F8F184",
          "name": "Diagon Alley Shops",
          "num_name": "4723-1: Diagon Alley Shops",
          "num_parts": 5,
          "quantity": 5,
          "theme_name": "Philosopher's Stone",
          "transparent": true
         },
         {
          "color_name": "Trans-Neon Orange",
          "hex": "#FF800D",
          "name": "Diagon Alley Shops",
          "num_name": "4723-1: Diagon Alley Shops",
          "num_parts": 2,
          "quantity": 2,
          "theme_name": "Philosopher's Stone",
          "transparent": true
         },
         {
          "color_name": "Trans-Red",
          "hex": "#C91A09",
          "name": "Diagon Alley Shops",
          "num_name": "4723-1: Diagon Alley Shops",
          "num_parts": 3,
          "quantity": 3,
          "theme_name": "Philosopher's Stone",
          "transparent": true
         },
         {
          "color_name": "White",
          "hex": "#FFFFFF",
          "name": "Diagon Alley Shops",
          "num_name": "4723-1: Diagon Alley Shops",
          "num_parts": 17,
          "quantity": 17,
          "theme_name": "Philosopher's Stone",
          "transparent": false
         },
         {
          "color_name": "Yellow",
          "hex": "#F2CD37",
          "name": "Diagon Alley Shops",
          "num_name": "4723-1: Diagon Alley Shops",
          "num_parts": 1,
          "quantity": 1,
          "theme_name": "Philosopher's Stone",
          "transparent": false
         },
         {
          "color_name": "Black",
          "hex": "#05131D",
          "name": "Motorized Hogwarts Express",
          "num_name": "10132-1: Motorized Hogwarts Express",
          "num_parts": 201,
          "quantity": 201,
          "theme_name": "Prisoner of Azkaban",
          "transparent": false
         },
         {
          "color_name": "Blue",
          "hex": "#0055BF",
          "name": "Motorized Hogwarts Express",
          "num_name": "10132-1: Motorized Hogwarts Express",
          "num_parts": 4,
          "quantity": 4,
          "theme_name": "Prisoner of Azkaban",
          "transparent": false
         },
         {
          "color_name": "Chrome Gold",
          "hex": "#BBA53D",
          "name": "Motorized Hogwarts Express",
          "num_name": "10132-1: Motorized Hogwarts Express",
          "num_parts": 4,
          "quantity": 4,
          "theme_name": "Prisoner of Azkaban",
          "transparent": false
         },
         {
          "color_name": "Dark Blue",
          "hex": "#0A3463",
          "name": "Motorized Hogwarts Express",
          "num_name": "10132-1: Motorized Hogwarts Express",
          "num_parts": 1,
          "quantity": 1,
          "theme_name": "Prisoner of Azkaban",
          "transparent": false
         },
         {
          "color_name": "Dark Bluish Gray",
          "hex": "#6C6E68",
          "name": "Motorized Hogwarts Express",
          "num_name": "10132-1: Motorized Hogwarts Express",
          "num_parts": 136,
          "quantity": 136,
          "theme_name": "Prisoner of Azkaban",
          "transparent": false
         },
         {
          "color_name": "Dark Green",
          "hex": "#184632",
          "name": "Motorized Hogwarts Express",
          "num_name": "10132-1: Motorized Hogwarts Express",
          "num_parts": 2,
          "quantity": 2,
          "theme_name": "Prisoner of Azkaban",
          "transparent": false
         },
         {
          "color_name": "Dark Orange",
          "hex": "#A95500",
          "name": "Motorized Hogwarts Express",
          "num_name": "10132-1: Motorized Hogwarts Express",
          "num_parts": 2,
          "quantity": 2,
          "theme_name": "Prisoner of Azkaban",
          "transparent": false
         },
         {
          "color_name": "Dark Red",
          "hex": "#720E0F",
          "name": "Motorized Hogwarts Express",
          "num_name": "10132-1: Motorized Hogwarts Express",
          "num_parts": 44,
          "quantity": 44,
          "theme_name": "Prisoner of Azkaban",
          "transparent": false
         },
         {
          "color_name": "Earth Orange",
          "hex": "#FA9C1C",
          "name": "Motorized Hogwarts Express",
          "num_name": "10132-1: Motorized Hogwarts Express",
          "num_parts": 1,
          "quantity": 1,
          "theme_name": "Prisoner of Azkaban",
          "transparent": false
         },
         {
          "color_name": "Green",
          "hex": "#237841",
          "name": "Motorized Hogwarts Express",
          "num_name": "10132-1: Motorized Hogwarts Express",
          "num_parts": 1,
          "quantity": 1,
          "theme_name": "Prisoner of Azkaban",
          "transparent": false
         },
         {
          "color_name": "Light Bluish Gray",
          "hex": "#A0A5A9",
          "name": "Motorized Hogwarts Express",
          "num_name": "10132-1: Motorized Hogwarts Express",
          "num_parts": 86,
          "quantity": 86,
          "theme_name": "Prisoner of Azkaban",
          "transparent": false
         },
         {
          "color_name": "Light Flesh",
          "hex": "#F6D7B3",
          "name": "Motorized Hogwarts Express",
          "num_name": "10132-1: Motorized Hogwarts Express",
          "num_parts": 3,
          "quantity": 3,
          "theme_name": "Prisoner of Azkaban",
          "transparent": false
         },
         {
          "color_name": "Medium Blue",
          "hex": "#5A93DB",
          "name": "Motorized Hogwarts Express",
          "num_name": "10132-1: Motorized Hogwarts Express",
          "num_parts": 1,
          "quantity": 1,
          "theme_name": "Prisoner of Azkaban",
          "transparent": false
         },
         {
          "color_name": "Orange",
          "hex": "#FE8A18",
          "name": "Motorized Hogwarts Express",
          "num_name": "10132-1: Motorized Hogwarts Express",
          "num_parts": 1,
          "quantity": 1,
          "theme_name": "Prisoner of Azkaban",
          "transparent": false
         },
         {
          "color_name": "Red",
          "hex": "#C91A09",
          "name": "Motorized Hogwarts Express",
          "num_name": "10132-1: Motorized Hogwarts Express",
          "num_parts": 124,
          "quantity": 124,
          "theme_name": "Prisoner of Azkaban",
          "transparent": true
         },
         {
          "color_name": "Reddish Brown",
          "hex": "#582A12",
          "name": "Motorized Hogwarts Express",
          "num_name": "10132-1: Motorized Hogwarts Express",
          "num_parts": 19,
          "quantity": 19,
          "theme_name": "Prisoner of Azkaban",
          "transparent": false
         },
         {
          "color_name": "Sand Green",
          "hex": "#A0BCAC",
          "name": "Motorized Hogwarts Express",
          "num_name": "10132-1: Motorized Hogwarts Express",
          "num_parts": 26,
          "quantity": 26,
          "theme_name": "Prisoner of Azkaban",
          "transparent": false
         },
         {
          "color_name": "Tan",
          "hex": "#E4CD9E",
          "name": "Motorized Hogwarts Express",
          "num_name": "10132-1: Motorized Hogwarts Express",
          "num_parts": 17,
          "quantity": 17,
          "theme_name": "Prisoner of Azkaban",
          "transparent": false
         },
         {
          "color_name": "Trans-Clear",
          "hex": "#FCFCFC",
          "name": "Motorized Hogwarts Express",
          "num_name": "10132-1: Motorized Hogwarts Express",
          "num_parts": 13,
          "quantity": 13,
          "theme_name": "Prisoner of Azkaban",
          "transparent": true
         },
         {
          "color_name": "Trans-Neon Orange",
          "hex": "#FF800D",
          "name": "Motorized Hogwarts Express",
          "num_name": "10132-1: Motorized Hogwarts Express",
          "num_parts": 5,
          "quantity": 5,
          "theme_name": "Prisoner of Azkaban",
          "transparent": true
         },
         {
          "color_name": "Trans-Purple",
          "hex": "#A5A5CB",
          "name": "Motorized Hogwarts Express",
          "num_name": "10132-1: Motorized Hogwarts Express",
          "num_parts": 1,
          "quantity": 1,
          "theme_name": "Prisoner of Azkaban",
          "transparent": true
         },
         {
          "color_name": "Trans-Yellow",
          "hex": "#F5CD2F",
          "name": "Motorized Hogwarts Express",
          "num_name": "10132-1: Motorized Hogwarts Express",
          "num_parts": 1,
          "quantity": 1,
          "theme_name": "Prisoner of Azkaban",
          "transparent": true
         },
         {
          "color_name": "White",
          "hex": "#FFFFFF",
          "name": "Motorized Hogwarts Express",
          "num_name": "10132-1: Motorized Hogwarts Express",
          "num_parts": 20,
          "quantity": 20,
          "theme_name": "Prisoner of Azkaban",
          "transparent": false
         },
         {
          "color_name": "Yellow",
          "hex": "#F2CD37",
          "name": "Motorized Hogwarts Express",
          "num_name": "10132-1: Motorized Hogwarts Express",
          "num_parts": 9,
          "quantity": 9,
          "theme_name": "Prisoner of Azkaban",
          "transparent": false
         },
         {
          "color_name": "Black",
          "hex": "#05131D",
          "name": "Knight Bus - Mini",
          "num_name": "4695-1: Knight Bus - Mini",
          "num_parts": 9,
          "quantity": 9,
          "theme_name": "Prisoner of Azkaban",
          "transparent": false
         },
         {
          "color_name": "Dark Purple",
          "hex": "#3F3691",
          "name": "Knight Bus - Mini",
          "num_name": "4695-1: Knight Bus - Mini",
          "num_parts": 34,
          "quantity": 34,
          "theme_name": "Prisoner of Azkaban",
          "transparent": false
         },
         {
          "color_name": "Light Bluish Gray",
          "hex": "#A0A5A9",
          "name": "Knight Bus - Mini",
          "num_name": "4695-1: Knight Bus - Mini",
          "num_parts": 2,
          "quantity": 2,
          "theme_name": "Prisoner of Azkaban",
          "transparent": false
         },
         {
          "color_name": "Trans-Clear",
          "hex": "#FCFCFC",
          "name": "Knight Bus - Mini",
          "num_name": "4695-1: Knight Bus - Mini",
          "num_parts": 14,
          "quantity": 14,
          "theme_name": "Prisoner of Azkaban",
          "transparent": true
         },
         {
          "color_name": "Black",
          "hex": "#05131D",
          "name": "Draco's Encounter with Buckbeak",
          "num_name": "4750-1: Draco's Encounter with Buckbeak",
          "num_parts": 2,
          "quantity": 2,
          "theme_name": "Prisoner of Azkaban",
          "transparent": false
         },
         {
          "color_name": "Bright Green",
          "hex": "#4B9F4A",
          "name": "Draco's Encounter with Buckbeak",
          "num_name": "4750-1: Draco's Encounter with Buckbeak",
          "num_parts": 1,
          "quantity": 1,
          "theme_name": "Prisoner of Azkaban",
          "transparent": false
         },
         {
          "color_name": "Dark Bluish Gray",
          "hex": "#6C6E68",
          "name": "Draco's Encounter with Buckbeak",
          "num_name": "4750-1: Draco's Encounter with Buckbeak",
          "num_parts": 10,
          "quantity": 10,
          "theme_name": "Prisoner of Azkaban",
          "transparent": false
         },
         {
          "color_name": "Green",
          "hex": "#237841",
          "name": "Draco's Encounter with Buckbeak",
          "num_name": "4750-1: Draco's Encounter with Buckbeak",
          "num_parts": 4,
          "quantity": 4,
          "theme_name": "Prisoner of Azkaban",
          "transparent": false
         },
         {
          "color_name": "Light Bluish Gray",
          "hex": "#A0A5A9",
          "name": "Draco's Encounter with Buckbeak",
          "num_name": "4750-1: Draco's Encounter with Buckbeak",
          "num_parts": 8,
          "quantity": 8,
          "theme_name": "Prisoner of Azkaban",
          "transparent": false
         },
         {
          "color_name": "Light Flesh",
          "hex": "#F6D7B3",
          "name": "Draco's Encounter with Buckbeak",
          "num_name": "4750-1: Draco's Encounter with Buckbeak",
          "num_parts": 1,
          "quantity": 1,
          "theme_name": "Prisoner of Azkaban",
          "transparent": false
         },
         {
          "color_name": "Orange",
          "hex": "#FE8A18",
          "name": "Draco's Encounter with Buckbeak",
          "num_name": "4750-1: Draco's Encounter with Buckbeak",
          "num_parts": 1,
          "quantity": 1,
          "theme_name": "Prisoner of Azkaban",
          "transparent": false
         },
         {
          "color_name": "Reddish Brown",
          "hex": "#582A12",
          "name": "Draco's Encounter with Buckbeak",
          "num_name": "4750-1: Draco's Encounter with Buckbeak",
          "num_parts": 6,
          "quantity": 6,
          "theme_name": "Prisoner of Azkaban",
          "transparent": false
         },
         {
          "color_name": "Sand Green",
          "hex": "#A0BCAC",
          "name": "Draco's Encounter with Buckbeak",
          "num_name": "4750-1: Draco's Encounter with Buckbeak",
          "num_parts": 2,
          "quantity": 2,
          "theme_name": "Prisoner of Azkaban",
          "transparent": false
         },
         {
          "color_name": "Tan",
          "hex": "#E4CD9E",
          "name": "Draco's Encounter with Buckbeak",
          "num_name": "4750-1: Draco's Encounter with Buckbeak",
          "num_parts": 4,
          "quantity": 4,
          "theme_name": "Prisoner of Azkaban",
          "transparent": false
         },
         {
          "color_name": "Black",
          "hex": "#05131D",
          "name": "Harry and the Marauder's Map",
          "num_name": "4751-1: Harry and the Marauder's Map",
          "num_parts": 18,
          "quantity": 18,
          "theme_name": "Prisoner of Azkaban",
          "transparent": false
         },
         {
          "color_name": "Dark Blue",
          "hex": "#0A3463",
          "name": "Harry and the Marauder's Map",
          "num_name": "4751-1: Harry and the Marauder's Map",
          "num_parts": 1,
          "quantity": 1,
          "theme_name": "Prisoner of Azkaban",
          "transparent": false
         },
         {
          "color_name": "Dark Bluish Gray",
          "hex": "#6C6E68",
          "name": "Harry and the Marauder's Map",
          "num_name": "4751-1: Harry and the Marauder's Map",
          "num_parts": 22,
          "quantity": 22,
          "theme_name": "Prisoner of Azkaban",
          "transparent": false
         },
         {
          "color_name": "Glow In Dark Opaque",
          "hex": "#D4D5C9",
          "name": "Harry and the Marauder's Map",
          "num_name": "4751-1: Harry and the Marauder's Map",
          "num_parts": 1,
          "quantity": 1,
          "theme_name": "Prisoner of Azkaban",
          "transparent": false
         },
         {
          "color_name": "Green",
          "hex": "#237841",
          "name": "Harry and the Marauder's Map",
          "num_name": "4751-1: Harry and the Marauder's Map",
          "num_parts": 1,
          "quantity": 1,
          "theme_name": "Prisoner of Azkaban",
          "transparent": false
         },
         {
          "color_name": "Light Bluish Gray",
          "hex": "#A0A5A9",
          "name": "Harry and the Marauder's Map",
          "num_name": "4751-1: Harry and the Marauder's Map",
          "num_parts": 25,
          "quantity": 25,
          "theme_name": "Prisoner of Azkaban",
          "transparent": false
         },
         {
          "color_name": "Light Flesh",
          "hex": "#F6D7B3",
          "name": "Harry and the Marauder's Map",
          "num_name": "4751-1: Harry and the Marauder's Map",
          "num_parts": 1,
          "quantity": 1,
          "theme_name": "Prisoner of Azkaban",
          "transparent": false
         },
         {
          "color_name": "Orange",
          "hex": "#FE8A18",
          "name": "Harry and the Marauder's Map",
          "num_name": "4751-1: Harry and the Marauder's Map",
          "num_parts": 1,
          "quantity": 1,
          "theme_name": "Prisoner of Azkaban",
          "transparent": false
         },
         {
          "color_name": "Reddish Brown",
          "hex": "#582A12",
          "name": "Harry and the Marauder's Map",
          "num_name": "4751-1: Harry and the Marauder's Map",
          "num_parts": 14,
          "quantity": 14,
          "theme_name": "Prisoner of Azkaban",
          "transparent": false
         },
         {
          "color_name": "Sand Green",
          "hex": "#A0BCAC",
          "name": "Harry and the Marauder's Map",
          "num_name": "4751-1: Harry and the Marauder's Map",
          "num_parts": 4,
          "quantity": 4,
          "theme_name": "Prisoner of Azkaban",
          "transparent": false
         },
         {
          "color_name": "Tan",
          "hex": "#E4CD9E",
          "name": "Harry and the Marauder's Map",
          "num_name": "4751-1: Harry and the Marauder's Map",
          "num_parts": 19,
          "quantity": 19,
          "theme_name": "Prisoner of Azkaban",
          "transparent": false
         },
         {
          "color_name": "Trans-Neon Green",
          "hex": "#F8F184",
          "name": "Harry and the Marauder's Map",
          "num_name": "4751-1: Harry and the Marauder's Map",
          "num_parts": 1,
          "quantity": 1,
          "theme_name": "Prisoner of Azkaban",
          "transparent": true
         },
         {
          "color_name": "Trans-Neon Orange",
          "hex": "#FF800D",
          "name": "Harry and the Marauder's Map",
          "num_name": "4751-1: Harry and the Marauder's Map",
          "num_parts": 2,
          "quantity": 2,
          "theme_name": "Prisoner of Azkaban",
          "transparent": true
         },
         {
          "color_name": "Violet",
          "hex": "#4354A3",
          "name": "Harry and the Marauder's Map",
          "num_name": "4751-1: Harry and the Marauder's Map",
          "num_parts": 1,
          "quantity": 1,
          "theme_name": "Prisoner of Azkaban",
          "transparent": false
         },
         {
          "color_name": "Black",
          "hex": "#05131D",
          "name": "Professor Lupin's Classroom",
          "num_name": "4752-1: Professor Lupin's Classroom",
          "num_parts": 24,
          "quantity": 24,
          "theme_name": "Prisoner of Azkaban",
          "transparent": false
         },
         {
          "color_name": "Blue",
          "hex": "#0055BF",
          "name": "Professor Lupin's Classroom",
          "num_name": "4752-1: Professor Lupin's Classroom",
          "num_parts": 2,
          "quantity": 2,
          "theme_name": "Prisoner of Azkaban",
          "transparent": false
         },
         {
          "color_name": "Dark Bluish Gray",
          "hex": "#6C6E68",
          "name": "Professor Lupin's Classroom",
          "num_name": "4752-1: Professor Lupin's Classroom",
          "num_parts": 34,
          "quantity": 34,
          "theme_name": "Prisoner of Azkaban",
          "transparent": false
         },
         {
          "color_name": "Dark Green",
          "hex": "#184632",
          "name": "Professor Lupin's Classroom",
          "num_name": "4752-1: Professor Lupin's Classroom",
          "num_parts": 2,
          "quantity": 2,
          "theme_name": "Prisoner of Azkaban",
          "transparent": false
         },
         {
          "color_name": "Dark Orange",
          "hex": "#A95500",
          "name": "Professor Lupin's Classroom",
          "num_name": "4752-1: Professor Lupin's Classroom",
          "num_parts": 2,
          "quantity": 2,
          "theme_name": "Prisoner of Azkaban",
          "transparent": false
         },
         {
          "color_name": "Glow In Dark Opaque",
          "hex": "#D4D5C9",
          "name": "Professor Lupin's Classroom",
          "num_name": "4752-1: Professor Lupin's Classroom",
          "num_parts": 1,
          "quantity": 1,
          "theme_name": "Prisoner of Azkaban",
          "transparent": false
         },
         {
          "color_name": "Light Bluish Gray",
          "hex": "#A0A5A9",
          "name": "Professor Lupin's Classroom",
          "num_name": "4752-1: Professor Lupin's Classroom",
          "num_parts": 15,
          "quantity": 15,
          "theme_name": "Prisoner of Azkaban",
          "transparent": false
         },
         {
          "color_name": "Light Flesh",
          "hex": "#F6D7B3",
          "name": "Professor Lupin's Classroom",
          "num_name": "4752-1: Professor Lupin's Classroom",
          "num_parts": 2,
          "quantity": 2,
          "theme_name": "Prisoner of Azkaban",
          "transparent": false
         },
         {
          "color_name": "Orange",
          "hex": "#FE8A18",
          "name": "Professor Lupin's Classroom",
          "num_name": "4752-1: Professor Lupin's Classroom",
          "num_parts": 1,
          "quantity": 1,
          "theme_name": "Prisoner of Azkaban",
          "transparent": false
         },
         {
          "color_name": "Red",
          "hex": "#C91A09",
          "name": "Professor Lupin's Classroom",
          "num_name": "4752-1: Professor Lupin's Classroom",
          "num_parts": 1,
          "quantity": 1,
          "theme_name": "Prisoner of Azkaban",
          "transparent": true
         },
         {
          "color_name": "Reddish Brown",
          "hex": "#582A12",
          "name": "Professor Lupin's Classroom",
          "num_name": "4752-1: Professor Lupin's Classroom",
          "num_parts": 10,
          "quantity": 10,
          "theme_name": "Prisoner of Azkaban",
          "transparent": false
         },
         {
          "color_name": "Sand Green",
          "hex": "#A0BCAC",
          "name": "Professor Lupin's Classroom",
          "num_name": "4752-1: Professor Lupin's Classroom",
          "num_parts": 22,
          "quantity": 22,
          "theme_name": "Prisoner of Azkaban",
          "transparent": false
         },
         {
          "color_name": "Tan",
          "hex": "#E4CD9E",
          "name": "Professor Lupin's Classroom",
          "num_name": "4752-1: Professor Lupin's Classroom",
          "num_parts": 18,
          "quantity": 18,
          "theme_name": "Prisoner of Azkaban",
          "transparent": false
         },
         {
          "color_name": "Trans-Clear",
          "hex": "#FCFCFC",
          "name": "Professor Lupin's Classroom",
          "num_name": "4752-1: Professor Lupin's Classroom",
          "num_parts": 3,
          "quantity": 3,
          "theme_name": "Prisoner of Azkaban",
          "transparent": true
         },
         {
          "color_name": "Trans-Dark Blue",
          "hex": "#0020A0",
          "name": "Professor Lupin's Classroom",
          "num_name": "4752-1: Professor Lupin's Classroom",
          "num_parts": 2,
          "quantity": 2,
          "theme_name": "Prisoner of Azkaban",
          "transparent": true
         },
         {
          "color_name": "Trans-Green",
          "hex": "#84B68D",
          "name": "Professor Lupin's Classroom",
          "num_name": "4752-1: Professor Lupin's Classroom",
          "num_parts": 2,
          "quantity": 2,
          "theme_name": "Prisoner of Azkaban",
          "transparent": true
         },
         {
          "color_name": "Trans-Neon Green",
          "hex": "#F8F184",
          "name": "Professor Lupin's Classroom",
          "num_name": "4752-1: Professor Lupin's Classroom",
          "num_parts": 3,
          "quantity": 3,
          "theme_name": "Prisoner of Azkaban",
          "transparent": true
         },
         {
          "color_name": "Trans-Neon Orange",
          "hex": "#FF800D",
          "name": "Professor Lupin's Classroom",
          "num_name": "4752-1: Professor Lupin's Classroom",
          "num_parts": 3,
          "quantity": 3,
          "theme_name": "Prisoner of Azkaban",
          "transparent": true
         },
         {
          "color_name": "Trans-Purple",
          "hex": "#A5A5CB",
          "name": "Professor Lupin's Classroom",
          "num_name": "4752-1: Professor Lupin's Classroom",
          "num_parts": 1,
          "quantity": 1,
          "theme_name": "Prisoner of Azkaban",
          "transparent": true
         },
         {
          "color_name": "Trans-Red",
          "hex": "#C91A09",
          "name": "Professor Lupin's Classroom",
          "num_name": "4752-1: Professor Lupin's Classroom",
          "num_parts": 2,
          "quantity": 2,
          "theme_name": "Prisoner of Azkaban",
          "transparent": true
         },
         {
          "color_name": "Trans-Yellow",
          "hex": "#F5CD2F",
          "name": "Professor Lupin's Classroom",
          "num_name": "4752-1: Professor Lupin's Classroom",
          "num_parts": 2,
          "quantity": 2,
          "theme_name": "Prisoner of Azkaban",
          "transparent": true
         },
         {
          "color_name": "White",
          "hex": "#FFFFFF",
          "name": "Professor Lupin's Classroom",
          "num_name": "4752-1: Professor Lupin's Classroom",
          "num_parts": 11,
          "quantity": 11,
          "theme_name": "Prisoner of Azkaban",
          "transparent": false
         },
         {
          "color_name": "Yellow",
          "hex": "#F2CD37",
          "name": "Professor Lupin's Classroom",
          "num_name": "4752-1: Professor Lupin's Classroom",
          "num_parts": 2,
          "quantity": 2,
          "theme_name": "Prisoner of Azkaban",
          "transparent": false
         },
         {
          "color_name": "[No Color/Any Color]",
          "hex": "#05131D",
          "name": "Professor Lupin's Classroom",
          "num_name": "4752-1: Professor Lupin's Classroom",
          "num_parts": 1,
          "quantity": 1,
          "theme_name": "Prisoner of Azkaban",
          "transparent": false
         },
         {
          "color_name": "Black",
          "hex": "#05131D",
          "name": "Sirius Black's Escape",
          "num_name": "4753-1: Sirius Black's Escape",
          "num_parts": 21,
          "quantity": 21,
          "theme_name": "Prisoner of Azkaban",
          "transparent": false
         },
         {
          "color_name": "Dark Bluish Gray",
          "hex": "#6C6E68",
          "name": "Sirius Black's Escape",
          "num_name": "4753-1: Sirius Black's Escape",
          "num_parts": 74,
          "quantity": 74,
          "theme_name": "Prisoner of Azkaban",
          "transparent": false
         },
         {
          "color_name": "Dark Orange",
          "hex": "#A95500",
          "name": "Sirius Black's Escape",
          "num_name": "4753-1: Sirius Black's Escape",
          "num_parts": 10,
          "quantity": 10,
          "theme_name": "Prisoner of Azkaban",
          "transparent": false
         },
         {
          "color_name": "Light Bluish Gray",
          "hex": "#A0A5A9",
          "name": "Sirius Black's Escape",
          "num_name": "4753-1: Sirius Black's Escape",
          "num_parts": 34,
          "quantity": 34,
          "theme_name": "Prisoner of Azkaban",
          "transparent": false
         },
         {
          "color_name": "Light Flesh",
          "hex": "#F6D7B3",
          "name": "Sirius Black's Escape",
          "num_name": "4753-1: Sirius Black's Escape",
          "num_parts": 2,
          "quantity": 2,
          "theme_name": "Prisoner of Azkaban",
          "transparent": false
         },
         {
          "color_name": "Reddish Brown",
          "hex": "#582A12",
          "name": "Sirius Black's Escape",
          "num_name": "4753-1: Sirius Black's Escape",
          "num_parts": 6,
          "quantity": 6,
          "theme_name": "Prisoner of Azkaban",
          "transparent": false
         },
         {
          "color_name": "Sand Green",
          "hex": "#A0BCAC",
          "name": "Sirius Black's Escape",
          "num_name": "4753-1: Sirius Black's Escape",
          "num_parts": 12,
          "quantity": 12,
          "theme_name": "Prisoner of Azkaban",
          "transparent": false
         },
         {
          "color_name": "Tan",
          "hex": "#E4CD9E",
          "name": "Sirius Black's Escape",
          "num_name": "4753-1: Sirius Black's Escape",
          "num_parts": 28,
          "quantity": 28,
          "theme_name": "Prisoner of Azkaban",
          "transparent": false
         },
         {
          "color_name": "Trans-Dark Blue",
          "hex": "#0020A0",
          "name": "Sirius Black's Escape",
          "num_name": "4753-1: Sirius Black's Escape",
          "num_parts": 1,
          "quantity": 1,
          "theme_name": "Prisoner of Azkaban",
          "transparent": true
         },
         {
          "color_name": "Trans-Neon Green",
          "hex": "#F8F184",
          "name": "Sirius Black's Escape",
          "num_name": "4753-1: Sirius Black's Escape",
          "num_parts": 1,
          "quantity": 1,
          "theme_name": "Prisoner of Azkaban",
          "transparent": true
         },
         {
          "color_name": "Trans-Neon Orange",
          "hex": "#FF800D",
          "name": "Sirius Black's Escape",
          "num_name": "4753-1: Sirius Black's Escape",
          "num_parts": 3,
          "quantity": 3,
          "theme_name": "Prisoner of Azkaban",
          "transparent": true
         },
         {
          "color_name": "White",
          "hex": "#FFFFFF",
          "name": "Sirius Black's Escape",
          "num_name": "4753-1: Sirius Black's Escape",
          "num_parts": 1,
          "quantity": 1,
          "theme_name": "Prisoner of Azkaban",
          "transparent": false
         },
         {
          "color_name": "Black",
          "hex": "#05131D",
          "name": "Hagrid's Hut (2nd edition)",
          "num_name": "4754-1: Hagrid's Hut (2nd edition)",
          "num_parts": 42,
          "quantity": 42,
          "theme_name": "Prisoner of Azkaban",
          "transparent": false
         },
         {
          "color_name": "Blue",
          "hex": "#0055BF",
          "name": "Hagrid's Hut (2nd edition)",
          "num_name": "4754-1: Hagrid's Hut (2nd edition)",
          "num_parts": 2,
          "quantity": 2,
          "theme_name": "Prisoner of Azkaban",
          "transparent": false
         },
         {
          "color_name": "Chrome Antique Brass",
          "hex": "#645A4C",
          "name": "Hagrid's Hut (2nd edition)",
          "num_name": "4754-1: Hagrid's Hut (2nd edition)",
          "num_parts": 2,
          "quantity": 2,
          "theme_name": "Prisoner of Azkaban",
          "transparent": false
         },
         {
          "color_name": "Dark Bluish Gray",
          "hex": "#6C6E68",
          "name": "Hagrid's Hut (2nd edition)",
          "num_name": "4754-1: Hagrid's Hut (2nd edition)",
          "num_parts": 47,
          "quantity": 47,
          "theme_name": "Prisoner of Azkaban",
          "transparent": false
         },
         {
          "color_name": "Green",
          "hex": "#237841",
          "name": "Hagrid's Hut (2nd edition)",
          "num_name": "4754-1: Hagrid's Hut (2nd edition)",
          "num_parts": 2,
          "quantity": 2,
          "theme_name": "Prisoner of Azkaban",
          "transparent": false
         },
         {
          "color_name": "Light Bluish Gray",
          "hex": "#A0A5A9",
          "name": "Hagrid's Hut (2nd edition)",
          "num_name": "4754-1: Hagrid's Hut (2nd edition)",
          "num_parts": 98,
          "quantity": 98,
          "theme_name": "Prisoner of Azkaban",
          "transparent": false
         },
         {
          "color_name": "Light Flesh",
          "hex": "#F6D7B3",
          "name": "Hagrid's Hut (2nd edition)",
          "num_name": "4754-1: Hagrid's Hut (2nd edition)",
          "num_parts": 2,
          "quantity": 2,
          "theme_name": "Prisoner of Azkaban",
          "transparent": false
         },
         {
          "color_name": "Orange",
          "hex": "#FE8A18",
          "name": "Hagrid's Hut (2nd edition)",
          "num_name": "4754-1: Hagrid's Hut (2nd edition)",
          "num_parts": 3,
          "quantity": 3,
          "theme_name": "Prisoner of Azkaban",
          "transparent": false
         },
         {
          "color_name": "Red",
          "hex": "#C91A09",
          "name": "Hagrid's Hut (2nd edition)",
          "num_name": "4754-1: Hagrid's Hut (2nd edition)",
          "num_parts": 2,
          "quantity": 2,
          "theme_name": "Prisoner of Azkaban",
          "transparent": true
         },
         {
          "color_name": "Reddish Brown",
          "hex": "#582A12",
          "name": "Hagrid's Hut (2nd edition)",
          "num_name": "4754-1: Hagrid's Hut (2nd edition)",
          "num_parts": 44,
          "quantity": 44,
          "theme_name": "Prisoner of Azkaban",
          "transparent": false
         },
         {
          "color_name": "Sand Green",
          "hex": "#A0BCAC",
          "name": "Hagrid's Hut (2nd edition)",
          "num_name": "4754-1: Hagrid's Hut (2nd edition)",
          "num_parts": 37,
          "quantity": 37,
          "theme_name": "Prisoner of Azkaban",
          "transparent": false
         },
         {
          "color_name": "Tan",
          "hex": "#E4CD9E",
          "name": "Hagrid's Hut (2nd edition)",
          "num_name": "4754-1: Hagrid's Hut (2nd edition)",
          "num_parts": 11,
          "quantity": 11,
          "theme_name": "Prisoner of Azkaban",
          "transparent": false
         },
         {
          "color_name": "Trans-Black",
          "hex": "#635F52",
          "name": "Hagrid's Hut (2nd edition)",
          "num_name": "4754-1: Hagrid's Hut (2nd edition)",
          "num_parts": 1,
          "quantity": 1,
          "theme_name": "Prisoner of Azkaban",
          "transparent": true
         },
         {
          "color_name": "Trans-Green",
          "hex": "#84B68D",
          "name": "Hagrid's Hut (2nd edition)",
          "num_name": "4754-1: Hagrid's Hut (2nd edition)",
          "num_parts": 1,
          "quantity": 1,
          "theme_name": "Prisoner of Azkaban",
          "transparent": true
         },
         {
          "color_name": "Trans-Neon Green",
          "hex": "#F8F184",
          "name": "Hagrid's Hut (2nd edition)",
          "num_name": "4754-1: Hagrid's Hut (2nd edition)",
          "num_parts": 2,
          "quantity": 2,
          "theme_name": "Prisoner of Azkaban",
          "transparent": true
         },
         {
          "color_name": "Trans-Neon Orange",
          "hex": "#FF800D",
          "name": "Hagrid's Hut (2nd edition)",
          "num_name": "4754-1: Hagrid's Hut (2nd edition)",
          "num_parts": 3,
          "quantity": 3,
          "theme_name": "Prisoner of Azkaban",
          "transparent": true
         },
         {
          "color_name": "Trans-Yellow",
          "hex": "#F5CD2F",
          "name": "Hagrid's Hut (2nd edition)",
          "num_name": "4754-1: Hagrid's Hut (2nd edition)",
          "num_parts": 3,
          "quantity": 3,
          "theme_name": "Prisoner of Azkaban",
          "transparent": true
         },
         {
          "color_name": "White",
          "hex": "#FFFFFF",
          "name": "Hagrid's Hut (2nd edition)",
          "num_name": "4754-1: Hagrid's Hut (2nd edition)",
          "num_parts": 1,
          "quantity": 1,
          "theme_name": "Prisoner of Azkaban",
          "transparent": false
         },
         {
          "color_name": "Yellow",
          "hex": "#F2CD37",
          "name": "Hagrid's Hut (2nd edition)",
          "num_name": "4754-1: Hagrid's Hut (2nd edition)",
          "num_parts": 4,
          "quantity": 4,
          "theme_name": "Prisoner of Azkaban",
          "transparent": false
         },
         {
          "color_name": "Black",
          "hex": "#05131D",
          "name": "Knight Bus",
          "num_name": "4755-1: Knight Bus",
          "num_parts": 67,
          "quantity": 67,
          "theme_name": "Prisoner of Azkaban",
          "transparent": false
         },
         {
          "color_name": "Blue",
          "hex": "#0055BF",
          "name": "Knight Bus",
          "num_name": "4755-1: Knight Bus",
          "num_parts": 1,
          "quantity": 1,
          "theme_name": "Prisoner of Azkaban",
          "transparent": false
         },
         {
          "color_name": "Dark Bluish Gray",
          "hex": "#6C6E68",
          "name": "Knight Bus",
          "num_name": "4755-1: Knight Bus",
          "num_parts": 4,
          "quantity": 4,
          "theme_name": "Prisoner of Azkaban",
          "transparent": false
         },
         {
          "color_name": "Dark Purple",
          "hex": "#3F3691",
          "name": "Knight Bus",
          "num_name": "4755-1: Knight Bus",
          "num_parts": 120,
          "quantity": 120,
          "theme_name": "Prisoner of Azkaban",
          "transparent": false
         },
         {
          "color_name": "Green",
          "hex": "#237841",
          "name": "Knight Bus",
          "num_name": "4755-1: Knight Bus",
          "num_parts": 1,
          "quantity": 1,
          "theme_name": "Prisoner of Azkaban",
          "transparent": false
         },
         {
          "color_name": "Light Bluish Gray",
          "hex": "#A0A5A9",
          "name": "Knight Bus",
          "num_name": "4755-1: Knight Bus",
          "num_parts": 5,
          "quantity": 5,
          "theme_name": "Prisoner of Azkaban",
          "transparent": false
         },
         {
          "color_name": "Light Flesh",
          "hex": "#F6D7B3",
          "name": "Knight Bus",
          "num_name": "4755-1: Knight Bus",
          "num_parts": 2,
          "quantity": 2,
          "theme_name": "Prisoner of Azkaban",
          "transparent": false
         },
         {
          "color_name": "Red",
          "hex": "#C91A09",
          "name": "Knight Bus",
          "num_name": "4755-1: Knight Bus",
          "num_parts": 4,
          "quantity": 4,
          "theme_name": "Prisoner of Azkaban",
          "transparent": true
         },
         {
          "color_name": "Reddish Brown",
          "hex": "#582A12",
          "name": "Knight Bus",
          "num_name": "4755-1: Knight Bus",
          "num_parts": 2,
          "quantity": 2,
          "theme_name": "Prisoner of Azkaban",
          "transparent": false
         },
         {
          "color_name": "Tan",
          "hex": "#E4CD9E",
          "name": "Knight Bus",
          "num_name": "4755-1: Knight Bus",
          "num_parts": 3,
          "quantity": 3,
          "theme_name": "Prisoner of Azkaban",
          "transparent": false
         },
         {
          "color_name": "Trans-Clear",
          "hex": "#FCFCFC",
          "name": "Knight Bus",
          "num_name": "4755-1: Knight Bus",
          "num_parts": 24,
          "quantity": 24,
          "theme_name": "Prisoner of Azkaban",
          "transparent": true
         },
         {
          "color_name": "Trans-Neon Green",
          "hex": "#F8F184",
          "name": "Knight Bus",
          "num_name": "4755-1: Knight Bus",
          "num_parts": 1,
          "quantity": 1,
          "theme_name": "Prisoner of Azkaban",
          "transparent": true
         },
         {
          "color_name": "Trans-Yellow",
          "hex": "#F5CD2F",
          "name": "Knight Bus",
          "num_name": "4755-1: Knight Bus",
          "num_parts": 1,
          "quantity": 1,
          "theme_name": "Prisoner of Azkaban",
          "transparent": true
         },
         {
          "color_name": "White",
          "hex": "#FFFFFF",
          "name": "Knight Bus",
          "num_name": "4755-1: Knight Bus",
          "num_parts": 14,
          "quantity": 14,
          "theme_name": "Prisoner of Azkaban",
          "transparent": false
         },
         {
          "color_name": "Black",
          "hex": "#05131D",
          "name": "Shrieking Shack",
          "num_name": "4756-1: Shrieking Shack",
          "num_parts": 59,
          "quantity": 59,
          "theme_name": "Prisoner of Azkaban",
          "transparent": false
         },
         {
          "color_name": "Blue",
          "hex": "#0055BF",
          "name": "Shrieking Shack",
          "num_name": "4756-1: Shrieking Shack",
          "num_parts": 4,
          "quantity": 4,
          "theme_name": "Prisoner of Azkaban",
          "transparent": false
         },
         {
          "color_name": "Dark Bluish Gray",
          "hex": "#6C6E68",
          "name": "Shrieking Shack",
          "num_name": "4756-1: Shrieking Shack",
          "num_parts": 62,
          "quantity": 62,
          "theme_name": "Prisoner of Azkaban",
          "transparent": false
         },
         {
          "color_name": "Dark Green",
          "hex": "#184632",
          "name": "Shrieking Shack",
          "num_name": "4756-1: Shrieking Shack",
          "num_parts": 2,
          "quantity": 2,
          "theme_name": "Prisoner of Azkaban",
          "transparent": false
         },
         {
          "color_name": "Dark Orange",
          "hex": "#A95500",
          "name": "Shrieking Shack",
          "num_name": "4756-1: Shrieking Shack",
          "num_parts": 27,
          "quantity": 27,
          "theme_name": "Prisoner of Azkaban",
          "transparent": false
         },
         {
          "color_name": "Dark Tan",
          "hex": "#958A73",
          "name": "Shrieking Shack",
          "num_name": "4756-1: Shrieking Shack",
          "num_parts": 1,
          "quantity": 1,
          "theme_name": "Prisoner of Azkaban",
          "transparent": false
         },
         {
          "color_name": "Earth Orange",
          "hex": "#FA9C1C",
          "name": "Shrieking Shack",
          "num_name": "4756-1: Shrieking Shack",
          "num_parts": 1,
          "quantity": 1,
          "theme_name": "Prisoner of Azkaban",
          "transparent": false
         },
         {
          "color_name": "Green",
          "hex": "#237841",
          "name": "Shrieking Shack",
          "num_name": "4756-1: Shrieking Shack",
          "num_parts": 2,
          "quantity": 2,
          "theme_name": "Prisoner of Azkaban",
          "transparent": false
         },
         {
          "color_name": "Light Bluish Gray",
          "hex": "#A0A5A9",
          "name": "Shrieking Shack",
          "num_name": "4756-1: Shrieking Shack",
          "num_parts": 60,
          "quantity": 60,
          "theme_name": "Prisoner of Azkaban",
          "transparent": false
         },
         {
          "color_name": "Light Flesh",
          "hex": "#F6D7B3",
          "name": "Shrieking Shack",
          "num_name": "4756-1: Shrieking Shack",
          "num_parts": 4,
          "quantity": 4,
          "theme_name": "Prisoner of Azkaban",
          "transparent": false
         },
         {
          "color_name": "Red",
          "hex": "#C91A09",
          "name": "Shrieking Shack",
          "num_name": "4756-1: Shrieking Shack",
          "num_parts": 4,
          "quantity": 4,
          "theme_name": "Prisoner of Azkaban",
          "transparent": true
         },
         {
          "color_name": "Reddish Brown",
          "hex": "#582A12",
          "name": "Shrieking Shack",
          "num_name": "4756-1: Shrieking Shack",
          "num_parts": 106,
          "quantity": 106,
          "theme_name": "Prisoner of Azkaban",
          "transparent": false
         },
         {
          "color_name": "Sand Blue",
          "hex": "#6074A1",
          "name": "Shrieking Shack",
          "num_name": "4756-1: Shrieking Shack",
          "num_parts": 2,
          "quantity": 2,
          "theme_name": "Prisoner of Azkaban",
          "transparent": false
         },
         {
          "color_name": "Sand Green",
          "hex": "#A0BCAC",
          "name": "Shrieking Shack",
          "num_name": "4756-1: Shrieking Shack",
          "num_parts": 4,
          "quantity": 4,
          "theme_name": "Prisoner of Azkaban",
          "transparent": false
         },
         {
          "color_name": "Tan",
          "hex": "#E4CD9E",
          "name": "Shrieking Shack",
          "num_name": "4756-1: Shrieking Shack",
          "num_parts": 31,
          "quantity": 31,
          "theme_name": "Prisoner of Azkaban",
          "transparent": false
         },
         {
          "color_name": "Trans-Clear",
          "hex": "#FCFCFC",
          "name": "Shrieking Shack",
          "num_name": "4756-1: Shrieking Shack",
          "num_parts": 2,
          "quantity": 2,
          "theme_name": "Prisoner of Azkaban",
          "transparent": true
         },
         {
          "color_name": "Trans-Dark Blue",
          "hex": "#0020A0",
          "name": "Shrieking Shack",
          "num_name": "4756-1: Shrieking Shack",
          "num_parts": 5,
          "quantity": 5,
          "theme_name": "Prisoner of Azkaban",
          "transparent": true
         },
         {
          "color_name": "Trans-Dark Pink",
          "hex": "#DF6695",
          "name": "Shrieking Shack",
          "num_name": "4756-1: Shrieking Shack",
          "num_parts": 1,
          "quantity": 1,
          "theme_name": "Prisoner of Azkaban",
          "transparent": true
         },
         {
          "color_name": "Trans-Green",
          "hex": "#84B68D",
          "name": "Shrieking Shack",
          "num_name": "4756-1: Shrieking Shack",
          "num_parts": 4,
          "quantity": 4,
          "theme_name": "Prisoner of Azkaban",
          "transparent": true
         },
         {
          "color_name": "Trans-Neon Green",
          "hex": "#F8F184",
          "name": "Shrieking Shack",
          "num_name": "4756-1: Shrieking Shack",
          "num_parts": 4,
          "quantity": 4,
          "theme_name": "Prisoner of Azkaban",
          "transparent": true
         },
         {
          "color_name": "Trans-Neon Orange",
          "hex": "#FF800D",
          "name": "Shrieking Shack",
          "num_name": "4756-1: Shrieking Shack",
          "num_parts": 10,
          "quantity": 10,
          "theme_name": "Prisoner of Azkaban",
          "transparent": true
         },
         {
          "color_name": "Trans-Red",
          "hex": "#C91A09",
          "name": "Shrieking Shack",
          "num_name": "4756-1: Shrieking Shack",
          "num_parts": 1,
          "quantity": 1,
          "theme_name": "Prisoner of Azkaban",
          "transparent": true
         },
         {
          "color_name": "Trans-Yellow",
          "hex": "#F5CD2F",
          "name": "Shrieking Shack",
          "num_name": "4756-1: Shrieking Shack",
          "num_parts": 2,
          "quantity": 2,
          "theme_name": "Prisoner of Azkaban",
          "transparent": true
         },
         {
          "color_name": "White",
          "hex": "#FFFFFF",
          "name": "Shrieking Shack",
          "num_name": "4756-1: Shrieking Shack",
          "num_parts": 60,
          "quantity": 60,
          "theme_name": "Prisoner of Azkaban",
          "transparent": false
         },
         {
          "color_name": "Yellow",
          "hex": "#F2CD37",
          "name": "Shrieking Shack",
          "num_name": "4756-1: Shrieking Shack",
          "num_parts": 1,
          "quantity": 1,
          "theme_name": "Prisoner of Azkaban",
          "transparent": false
         },
         {
          "color_name": "Black",
          "hex": "#05131D",
          "name": "Hogwarts Castle (2nd edition)",
          "num_name": "4757-1: Hogwarts Castle (2nd edition)",
          "num_parts": 168,
          "quantity": 168,
          "theme_name": "Prisoner of Azkaban",
          "transparent": false
         },
         {
          "color_name": "Blue",
          "hex": "#0055BF",
          "name": "Hogwarts Castle (2nd edition)",
          "num_name": "4757-1: Hogwarts Castle (2nd edition)",
          "num_parts": 27,
          "quantity": 27,
          "theme_name": "Prisoner of Azkaban",
          "transparent": false
         },
         {
          "color_name": "Chrome Antique Brass",
          "hex": "#645A4C",
          "name": "Hogwarts Castle (2nd edition)",
          "num_name": "4757-1: Hogwarts Castle (2nd edition)",
          "num_parts": 2,
          "quantity": 2,
          "theme_name": "Prisoner of Azkaban",
          "transparent": false
         },
         {
          "color_name": "Dark Bluish Gray",
          "hex": "#6C6E68",
          "name": "Hogwarts Castle (2nd edition)",
          "num_name": "4757-1: Hogwarts Castle (2nd edition)",
          "num_parts": 136,
          "quantity": 136,
          "theme_name": "Prisoner of Azkaban",
          "transparent": false
         },
         {
          "color_name": "Dark Red",
          "hex": "#720E0F",
          "name": "Hogwarts Castle (2nd edition)",
          "num_name": "4757-1: Hogwarts Castle (2nd edition)",
          "num_parts": 4,
          "quantity": 4,
          "theme_name": "Prisoner of Azkaban",
          "transparent": false
         },
         {
          "color_name": "Earth Orange",
          "hex": "#FA9C1C",
          "name": "Hogwarts Castle (2nd edition)",
          "num_name": "4757-1: Hogwarts Castle (2nd edition)",
          "num_parts": 1,
          "quantity": 1,
          "theme_name": "Prisoner of Azkaban",
          "transparent": false
         },
         {
          "color_name": "Green",
          "hex": "#237841",
          "name": "Hogwarts Castle (2nd edition)",
          "num_name": "4757-1: Hogwarts Castle (2nd edition)",
          "num_parts": 6,
          "quantity": 6,
          "theme_name": "Prisoner of Azkaban",
          "transparent": false
         },
         {
          "color_name": "Light Bluish Gray",
          "hex": "#A0A5A9",
          "name": "Hogwarts Castle (2nd edition)",
          "num_name": "4757-1: Hogwarts Castle (2nd edition)",
          "num_parts": 192,
          "quantity": 192,
          "theme_name": "Prisoner of Azkaban",
          "transparent": false
         },
         {
          "color_name": "Light Flesh",
          "hex": "#F6D7B3",
          "name": "Hogwarts Castle (2nd edition)",
          "num_name": "4757-1: Hogwarts Castle (2nd edition)",
          "num_parts": 6,
          "quantity": 6,
          "theme_name": "Prisoner of Azkaban",
          "transparent": false
         },
         {
          "color_name": "Light Purple",
          "hex": "#CD6298",
          "name": "Hogwarts Castle (2nd edition)",
          "num_name": "4757-1: Hogwarts Castle (2nd edition)",
          "num_parts": 3,
          "quantity": 3,
          "theme_name": "Prisoner of Azkaban",
          "transparent": false
         },
         {
          "color_name": "Red",
          "hex": "#C91A09",
          "name": "Hogwarts Castle (2nd edition)",
          "num_name": "4757-1: Hogwarts Castle (2nd edition)",
          "num_parts": 23,
          "quantity": 23,
          "theme_name": "Prisoner of Azkaban",
          "transparent": true
         },
         {
          "color_name": "Reddish Brown",
          "hex": "#582A12",
          "name": "Hogwarts Castle (2nd edition)",
          "num_name": "4757-1: Hogwarts Castle (2nd edition)",
          "num_parts": 76,
          "quantity": 76,
          "theme_name": "Prisoner of Azkaban",
          "transparent": false
         },
         {
          "color_name": "Sand Green",
          "hex": "#A0BCAC",
          "name": "Hogwarts Castle (2nd edition)",
          "num_name": "4757-1: Hogwarts Castle (2nd edition)",
          "num_parts": 32,
          "quantity": 32,
          "theme_name": "Prisoner of Azkaban",
          "transparent": false
         },
         {
          "color_name": "Tan",
          "hex": "#E4CD9E",
          "name": "Hogwarts Castle (2nd edition)",
          "num_name": "4757-1: Hogwarts Castle (2nd edition)",
          "num_parts": 209,
          "quantity": 209,
          "theme_name": "Prisoner of Azkaban",
          "transparent": false
         },
         {
          "color_name": "Trans-Clear",
          "hex": "#FCFCFC",
          "name": "Hogwarts Castle (2nd edition)",
          "num_name": "4757-1: Hogwarts Castle (2nd edition)",
          "num_parts": 1,
          "quantity": 1,
          "theme_name": "Prisoner of Azkaban",
          "transparent": true
         },
         {
          "color_name": "Trans-Dark Blue",
          "hex": "#0020A0",
          "name": "Hogwarts Castle (2nd edition)",
          "num_name": "4757-1: Hogwarts Castle (2nd edition)",
          "num_parts": 8,
          "quantity": 8,
          "theme_name": "Prisoner of Azkaban",
          "transparent": true
         },
         {
          "color_name": "Trans-Dark Pink",
          "hex": "#DF6695",
          "name": "Hogwarts Castle (2nd edition)",
          "num_name": "4757-1: Hogwarts Castle (2nd edition)",
          "num_parts": 1,
          "quantity": 1,
          "theme_name": "Prisoner of Azkaban",
          "transparent": true
         },
         {
          "color_name": "Trans-Green",
          "hex": "#84B68D",
          "name": "Hogwarts Castle (2nd edition)",
          "num_name": "4757-1: Hogwarts Castle (2nd edition)",
          "num_parts": 6,
          "quantity": 6,
          "theme_name": "Prisoner of Azkaban",
          "transparent": true
         },
         {
          "color_name": "Trans-Neon Green",
          "hex": "#F8F184",
          "name": "Hogwarts Castle (2nd edition)",
          "num_name": "4757-1: Hogwarts Castle (2nd edition)",
          "num_parts": 5,
          "quantity": 5,
          "theme_name": "Prisoner of Azkaban",
          "transparent": true
         },
         {
          "color_name": "Trans-Neon Orange",
          "hex": "#FF800D",
          "name": "Hogwarts Castle (2nd edition)",
          "num_name": "4757-1: Hogwarts Castle (2nd edition)",
          "num_parts": 9,
          "quantity": 9,
          "theme_name": "Prisoner of Azkaban",
          "transparent": true
         },
         {
          "color_name": "Trans-Purple",
          "hex": "#A5A5CB",
          "name": "Hogwarts Castle (2nd edition)",
          "num_name": "4757-1: Hogwarts Castle (2nd edition)",
          "num_parts": 3,
          "quantity": 3,
          "theme_name": "Prisoner of Azkaban",
          "transparent": true
         },
         {
          "color_name": "Trans-Red",
          "hex": "#C91A09",
          "name": "Hogwarts Castle (2nd edition)",
          "num_name": "4757-1: Hogwarts Castle (2nd edition)",
          "num_parts": 12,
          "quantity": 12,
          "theme_name": "Prisoner of Azkaban",
          "transparent": true
         },
         {
          "color_name": "White",
          "hex": "#FFFFFF",
          "name": "Hogwarts Castle (2nd edition)",
          "num_name": "4757-1: Hogwarts Castle (2nd edition)",
          "num_parts": 17,
          "quantity": 17,
          "theme_name": "Prisoner of Azkaban",
          "transparent": false
         },
         {
          "color_name": "Yellow",
          "hex": "#F2CD37",
          "name": "Hogwarts Castle (2nd edition)",
          "num_name": "4757-1: Hogwarts Castle (2nd edition)",
          "num_parts": 1,
          "quantity": 1,
          "theme_name": "Prisoner of Azkaban",
          "transparent": false
         },
         {
          "color_name": "[No Color/Any Color]",
          "hex": "#05131D",
          "name": "Hogwarts Castle (2nd edition)",
          "num_name": "4757-1: Hogwarts Castle (2nd edition)",
          "num_parts": 1,
          "quantity": 1,
          "theme_name": "Prisoner of Azkaban",
          "transparent": false
         },
         {
          "color_name": "Black",
          "hex": "#05131D",
          "name": "Hogwarts Express (2nd edition)",
          "num_name": "4758-1: Hogwarts Express (2nd edition)",
          "num_parts": 141,
          "quantity": 141,
          "theme_name": "Prisoner of Azkaban",
          "transparent": false
         },
         {
          "color_name": "Dark Blue",
          "hex": "#0A3463",
          "name": "Hogwarts Express (2nd edition)",
          "num_name": "4758-1: Hogwarts Express (2nd edition)",
          "num_parts": 1,
          "quantity": 1,
          "theme_name": "Prisoner of Azkaban",
          "transparent": false
         },
         {
          "color_name": "Dark Bluish Gray",
          "hex": "#6C6E68",
          "name": "Hogwarts Express (2nd edition)",
          "num_name": "4758-1: Hogwarts Express (2nd edition)",
          "num_parts": 66,
          "quantity": 66,
          "theme_name": "Prisoner of Azkaban",
          "transparent": false
         },
         {
          "color_name": "Dark Green",
          "hex": "#184632",
          "name": "Hogwarts Express (2nd edition)",
          "num_name": "4758-1: Hogwarts Express (2nd edition)",
          "num_parts": 2,
          "quantity": 2,
          "theme_name": "Prisoner of Azkaban",
          "transparent": false
         },
         {
          "color_name": "Dark Orange",
          "hex": "#A95500",
          "name": "Hogwarts Express (2nd edition)",
          "num_name": "4758-1: Hogwarts Express (2nd edition)",
          "num_parts": 1,
          "quantity": 1,
          "theme_name": "Prisoner of Azkaban",
          "transparent": false
         },
         {
          "color_name": "Dark Red",
          "hex": "#720E0F",
          "name": "Hogwarts Express (2nd edition)",
          "num_name": "4758-1: Hogwarts Express (2nd edition)",
          "num_parts": 1,
          "quantity": 1,
          "theme_name": "Prisoner of Azkaban",
          "transparent": false
         },
         {
          "color_name": "Earth Orange",
          "hex": "#FA9C1C",
          "name": "Hogwarts Express (2nd edition)",
          "num_name": "4758-1: Hogwarts Express (2nd edition)",
          "num_parts": 2,
          "quantity": 2,
          "theme_name": "Prisoner of Azkaban",
          "transparent": false
         },
         {
          "color_name": "Light Bluish Gray",
          "hex": "#A0A5A9",
          "name": "Hogwarts Express (2nd edition)",
          "num_name": "4758-1: Hogwarts Express (2nd edition)",
          "num_parts": 14,
          "quantity": 14,
          "theme_name": "Prisoner of Azkaban",
          "transparent": false
         },
         {
          "color_name": "Light Flesh",
          "hex": "#F6D7B3",
          "name": "Hogwarts Express (2nd edition)",
          "num_name": "4758-1: Hogwarts Express (2nd edition)",
          "num_parts": 3,
          "quantity": 3,
          "theme_name": "Prisoner of Azkaban",
          "transparent": false
         },
         {
          "color_name": "Medium Blue",
          "hex": "#5A93DB",
          "name": "Hogwarts Express (2nd edition)",
          "num_name": "4758-1: Hogwarts Express (2nd edition)",
          "num_parts": 1,
          "quantity": 1,
          "theme_name": "Prisoner of Azkaban",
          "transparent": false
         },
         {
          "color_name": "Red",
          "hex": "#C91A09",
          "name": "Hogwarts Express (2nd edition)",
          "num_name": "4758-1: Hogwarts Express (2nd edition)",
          "num_parts": 89,
          "quantity": 89,
          "theme_name": "Prisoner of Azkaban",
          "transparent": true
         },
         {
          "color_name": "Reddish Brown",
          "hex": "#582A12",
          "name": "Hogwarts Express (2nd edition)",
          "num_name": "4758-1: Hogwarts Express (2nd edition)",
          "num_parts": 17,
          "quantity": 17,
          "theme_name": "Prisoner of Azkaban",
          "transparent": false
         },
         {
          "color_name": "Sand Green",
          "hex": "#A0BCAC",
          "name": "Hogwarts Express (2nd edition)",
          "num_name": "4758-1: Hogwarts Express (2nd edition)",
          "num_parts": 11,
          "quantity": 11,
          "theme_name": "Prisoner of Azkaban",
          "transparent": false
         },
         {
          "color_name": "Tan",
          "hex": "#E4CD9E",
          "name": "Hogwarts Express (2nd edition)",
          "num_name": "4758-1: Hogwarts Express (2nd edition)",
          "num_parts": 7,
          "quantity": 7,
          "theme_name": "Prisoner of Azkaban",
          "transparent": false
         },
         {
          "color_name": "Trans-Clear",
          "hex": "#FCFCFC",
          "name": "Hogwarts Express (2nd edition)",
          "num_name": "4758-1: Hogwarts Express (2nd edition)",
          "num_parts": 13,
          "quantity": 13,
          "theme_name": "Prisoner of Azkaban",
          "transparent": true
         },
         {
          "color_name": "Trans-Neon Orange",
          "hex": "#FF800D",
          "name": "Hogwarts Express (2nd edition)",
          "num_name": "4758-1: Hogwarts Express (2nd edition)",
          "num_parts": 14,
          "quantity": 14,
          "theme_name": "Prisoner of Azkaban",
          "transparent": true
         },
         {
          "color_name": "Trans-Yellow",
          "hex": "#F5CD2F",
          "name": "Hogwarts Express (2nd edition)",
          "num_name": "4758-1: Hogwarts Express (2nd edition)",
          "num_parts": 2,
          "quantity": 2,
          "theme_name": "Prisoner of Azkaban",
          "transparent": true
         },
         {
          "color_name": "White",
          "hex": "#FFFFFF",
          "name": "Hogwarts Express (2nd edition)",
          "num_name": "4758-1: Hogwarts Express (2nd edition)",
          "num_parts": 3,
          "quantity": 3,
          "theme_name": "Prisoner of Azkaban",
          "transparent": false
         },
         {
          "color_name": "Yellow",
          "hex": "#F2CD37",
          "name": "Hogwarts Express (2nd edition)",
          "num_name": "4758-1: Hogwarts Express (2nd edition)",
          "num_parts": 11,
          "quantity": 11,
          "theme_name": "Prisoner of Azkaban",
          "transparent": false
         }
        ]
       },
       "encoding": {
        "color": {
         "condition": {
          "field": "hex",
          "scale": null,
          "selection": "selector005",
          "type": "nominal"
         },
         "value": "lightgray"
        },
        "tooltip": [
         {
          "field": "num_name",
          "title": "Set name",
          "type": "nominal"
         },
         {
          "field": "theme_name",
          "title": "Theme",
          "type": "nominal"
         },
         {
          "field": "color_name",
          "title": "Color",
          "type": "nominal"
         },
         {
          "field": "quantity",
          "title": "Quantity",
          "type": "quantitative"
         },
         {
          "field": "transparent",
          "title": "Transparent",
          "type": "nominal"
         }
        ],
        "x": {
         "aggregate": "sum",
         "axis": {
          "format": "%",
          "title": "Percentage of total parts"
         },
         "field": "quantity",
         "stack": "normalize",
         "type": "quantitative"
        },
        "y": {
         "field": "name",
         "title": "Name of set",
         "type": "ordinal"
        }
       },
       "height": 800,
       "mark": "bar",
       "selection": {
        "selector005": {
         "encodings": [
          "color"
         ],
         "type": "multi"
        },
        "selector006": {
         "bind": "scales",
         "encodings": [
          "x",
          "y"
         ],
         "type": "interval"
        }
       },
       "width": 800
      },
      "image/png": "[encoded data removed]",
      "text/plain": [
       "<VegaLite 3 object>\n",
       "\n",
       "If you see this message, it means the renderer has not been properly enabled\n",
       "for the frontend that you are using. For more information, see\n",
       "https://altair-viz.github.io/user_guide/troubleshooting.html\n"
      ]
     },
     "execution_count": 28,
     "metadata": {},
     "output_type": "execute_result"
    }
   ],
   "source": [
    "click = alt.selection_multi(encodings=['color'])\n",
    "\n",
    "alt.Chart(colors_count_set).mark_bar().encode(\n",
    "    x=alt.X('sum(quantity)', stack=\"normalize\", axis=alt.Axis(format='%', title='Percentage of total parts')),\n",
    "    y=alt.Y(\"name:O\", title='Name of set'),\n",
    "    color=alt.condition(click, alt.Color(\"hex:N\", scale=None), alt.value('lightgray')),\n",
    "    tooltip=[\n",
    "        alt.Tooltip('num_name:N', title='Set name'),\n",
    "        alt.Tooltip('theme_name:N', title='Theme'),\n",
    "        alt.Tooltip('color_name:N', title='Color'),\n",
    "        alt.Tooltip('quantity:Q', title='Quantity'),\n",
    "        alt.Tooltip('transparent:N', title='Transparent')\n",
    "    ]\n",
    ").properties(\n",
    "    height=800,\n",
    "    width=800\n",
    ").add_selection(click).interactive()"
   ]
  }
 ],
 "metadata": {
  "kernelspec": {
   "display_name": "Python 3",
   "language": "python",
   "name": "python3"
  },
  "language_info": {
   "codemirror_mode": {
    "name": "ipython",
    "version": 3
   },
   "file_extension": ".py",
   "mimetype": "text/x-python",
   "name": "python",
   "nbconvert_exporter": "python",
   "pygments_lexer": "ipython3",
   "version": "3.6.5"
  }
 },
 "nbformat": 4,
 "nbformat_minor": 4
}
