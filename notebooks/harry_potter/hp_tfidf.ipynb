{
 "cells": [
  {
   "cell_type": "markdown",
   "metadata": {},
   "source": [
    "# Lego Harry Potter: TF-IDF"
   ]
  },
  {
   "cell_type": "markdown",
   "metadata": {},
   "source": [
    "## Introduction"
   ]
  },
  {
   "cell_type": "markdown",
   "metadata": {},
   "source": [
    "When it comes to the colour palette of the Harry Potter theme, the previous notebook (hp_initial-eda) focused entirely on counts of colours, whether that be by subtheme or year, or the proportions of bricks of different colours within individual sets. The visualisations in that notebook showed that there are several colours within the theme that make up a large percentage of parts within many sets, for example tan, both light and dark blueish gray, and black. This contributes strongly to the overall aesthetic of both the sets themselves and the theme as a whole.\n",
    "\n",
    "However, it is not the only aspect of the colour palette of potential interest. A set may also contain a higher percentage of colours of bricks that are rarely, or never, found in other sets in the theme. This could be considered a defining aspect of the palette of that set. A similar pattern is found in language. Take a large a varied corpus of documents like English-language Wikipedia. Within that, many words, such as 'the' or 'is') occur very frequently in almost all articles, much like tan-coloured bricks in the Harry Potter theme. Other words, such as 'Lego' are found much more rarely overall, but will be found more often in articles about Lego. In those articles, the word 'Lego' should be considered more important than 'the', despite the latter being more common."
   ]
  },
  {
   "cell_type": "markdown",
   "metadata": {},
   "source": [
    "One numerical respresentation of this sort of importance is **term frequency - inverse document frequency** (TF-IDF). While normally applied to words within text documents, for reasons mentioned above it's perfectly applicable here to colours within Lego sets, with each part colour being considered a 'word' and each set a 'document'."
   ]
  },
  {
   "cell_type": "markdown",
   "metadata": {},
   "source": [
    "### So what is TF-IDF?"
   ]
  },
  {
   "cell_type": "markdown",
   "metadata": {},
   "source": [
    "The TF-IDF statistic is the product of two components: the **term frequency** (TF) and the **inverse document frequency** (IDF). TF is a measure of how frequently a word is found within a single document - high frequency words have a high TF, and low frequency words a low TF. IDF, on the other hand, is a measure of how frequently a word appears in *all* documents. Because of how it's calculated (more on that later), the more documents in which a word occurs the lower the IDF value, and vice versa. When both parts are combined, the result is that terms that occur many times in few documents have a higher TF-IDF statistic than those that occur many times in many documents."
   ]
  },
  {
   "cell_type": "markdown",
   "metadata": {},
   "source": [
    "### The calculation"
   ]
  },
  {
   "cell_type": "markdown",
   "metadata": {},
   "source": [
    "There are [many different ways](https://en.wikipedia.org/wiki/Tf%E2%80%93idf) to calculate the TF-IDF value. What follows is a description of the method used by scikit-learn's TfidfTransformer:"
   ]
  },
  {
   "cell_type": "markdown",
   "metadata": {},
   "source": [
    "**Step 1:**"
   ]
  },
  {
   "cell_type": "markdown",
   "metadata": {},
   "source": [
    "Calculate the TF (term frequency) value:"
   ]
  },
  {
   "cell_type": "markdown",
   "metadata": {},
   "source": [
    "$$\\textrm{TF}(t, d) = \\frac{n_{t,d}}{N_{d}}$$"
   ]
  },
  {
   "cell_type": "markdown",
   "metadata": {},
   "source": [
    "where\n",
    "- $n_{t,d}$ is the raw count of term $t$ in document $d$"
   ]
  },
  {
   "cell_type": "markdown",
   "metadata": {},
   "source": [
    "While some methods weight the TF value, this does not appear to be done by the implementation in scikit-learn. I might be mistaken, though..."
   ]
  },
  {
   "cell_type": "markdown",
   "metadata": {},
   "source": [
    "**Step 2:**"
   ]
  },
  {
   "cell_type": "markdown",
   "metadata": {},
   "source": [
    "Calculate the IDF score by dividing the total number of documents by the number of documents containing term $t$ and taking the logarithm of the result. Scikit-learn smooths the IDF weight by adding 1 to the numerator and denominator:"
   ]
  },
  {
   "cell_type": "markdown",
   "metadata": {},
   "source": [
    "$$\\textrm{IDF}(t) = \\log\\left(\\frac{1 + D}{1 + df(t)}\\right) + 1$$"
   ]
  },
  {
   "cell_type": "markdown",
   "metadata": {},
   "source": [
    "where\n",
    "- $D$ is the total number of documents and\n",
    "- $df(t)$ is the number of documents containing term $t$."
   ]
  },
  {
   "cell_type": "markdown",
   "metadata": {},
   "source": [
    "**Step 3:**\n",
    "Compute the TF-IDF score by multiplying the TF and IDF values:"
   ]
  },
  {
   "cell_type": "markdown",
   "metadata": {},
   "source": [
    "$$\\textrm{TF-IDF}(t,d) = \\textrm{TF}(t,d) \\cdot \\textrm{IDF}(t)$$"
   ]
  },
  {
   "cell_type": "markdown",
   "metadata": {},
   "source": [
    "Scikit-learn also performs l2 normalization on the TF-IDF score."
   ]
  },
  {
   "cell_type": "markdown",
   "metadata": {},
   "source": [
    "## Libraries and setup"
   ]
  },
  {
   "cell_type": "code",
   "execution_count": 2,
   "metadata": {},
   "outputs": [],
   "source": [
    "import sqlite3\n",
    "from pathlib import Path\n",
    "\n",
    "import numpy as np\n",
    "import pandas as pd\n",
    "\n",
    "import altair as alt\n",
    "\n",
    "from sklearn.feature_extraction.text import TfidfVectorizer"
   ]
  },
  {
   "cell_type": "code",
   "execution_count": 3,
   "metadata": {},
   "outputs": [],
   "source": [
    "DB_PATH = Path(\"../../data/db\")"
   ]
  },
  {
   "cell_type": "code",
   "execution_count": 4,
   "metadata": {},
   "outputs": [
    {
     "name": "stdout",
     "output_type": "stream",
     "text": [
      "20190511115712.log  lego.db\n"
     ]
    }
   ],
   "source": [
    "!ls {DB_PATH}"
   ]
  },
  {
   "cell_type": "code",
   "execution_count": 5,
   "metadata": {},
   "outputs": [],
   "source": [
    "conn = sqlite3.connect(str(DB_PATH / \"lego.db\"))"
   ]
  },
  {
   "cell_type": "markdown",
   "metadata": {},
   "source": [
    "## Data"
   ]
  },
  {
   "cell_type": "code",
   "execution_count": 6,
   "metadata": {},
   "outputs": [],
   "source": [
    "theme_order = [\"Philosopher's Stone\", \"Chamber of Secrets\", \"Prisoner of Azkaban\", \"Goblet of Fire\",\n",
    "              \"Order of the Phoenix\", \"Harry Potter\", \"Fantastic Beasts\"]"
   ]
  },
  {
   "cell_type": "markdown",
   "metadata": {},
   "source": [
    "### Related to parts and colours"
   ]
  },
  {
   "cell_type": "code",
   "execution_count": 7,
   "metadata": {},
   "outputs": [],
   "source": [
    "cols = \"\"\"sets.set_num, sets.name, sets.year, sets.num_parts, color_id,\n",
    "        parts.part_num, inventory_parts.quantity, colors.rgb, colors.is_trans, colors.name as color_name,\n",
    "        themes.name as theme_name, inventories.id as inv_id, parts.name as part_name\"\"\"\n",
    "\n",
    "hp_parts_df = pd.read_sql_query(\n",
    "    f\"\"\"SELECT {cols} FROM sets\n",
    "    JOIN themes on sets.theme_id = themes.id\n",
    "    JOIN inventories on sets.set_num = inventories.set_num\n",
    "    JOIN inventory_parts on inventories.id = inventory_parts.inventory_id\n",
    "    JOIN parts on inventory_parts.part_num = parts.part_num\n",
    "    JOIN colors on inventory_parts.color_id = colors.id\n",
    "    WHERE themes.name = 'Harry Potter'\n",
    "        OR themes.name LIKE '%Sorcerer''s Stone%'\n",
    "        OR themes.name = 'Chamber of Secrets'\n",
    "        OR themes.name = 'Prisoner of Azkaban'\n",
    "        OR themes.name = 'Goblet of Fire'\n",
    "        OR themes.name = 'Order of the Phoenix'\n",
    "        OR themes.name = 'Fantastic Beasts'\"\"\",\n",
    "    conn)"
   ]
  },
  {
   "cell_type": "code",
   "execution_count": 8,
   "metadata": {},
   "outputs": [],
   "source": [
    "dfs = [hp_parts_df]"
   ]
  },
  {
   "cell_type": "code",
   "execution_count": 9,
   "metadata": {},
   "outputs": [],
   "source": [
    "for df in dfs:\n",
    "    df.drop(df[df['year']==2019].index, axis=0, inplace=True)"
   ]
  },
  {
   "cell_type": "code",
   "execution_count": 10,
   "metadata": {},
   "outputs": [],
   "source": [
    "for df in dfs:\n",
    "    df.drop(df[(df['set_num']=='K4706-1') | (df['set_num']=='K4701-1') | (df['set_num']=='K4729-1') | (df['set_num']=='5000068-1')]\\\n",
    "            .index, axis=0, inplace=True)"
   ]
  },
  {
   "cell_type": "code",
   "execution_count": 11,
   "metadata": {},
   "outputs": [],
   "source": [
    "# Fixes identically named sets\n",
    "# Changes 'Sorcerer's Stone' to 'Philosopher's Stone'\n",
    "for df in dfs:\n",
    "    df.loc[df['theme_name']==\"Sorcerer's Stone\", 'theme_name'] = \"Philosopher's Stone\"\n",
    "    df.loc[(df['name']=='Hogwarts Castle') & (df['theme_name']=='Order of the Phoenix'), 'name'] = 'Hogwarts (Third Edition)'\n",
    "    df.loc[(df['name']=='Hogwarts Castle') & (df['theme_name']==\"Philosopher's Stone\"), 'name'] = 'Hogwarts (First Edition)'\n",
    "    df.loc[(df['name']=='Diagon Alley') & (df['theme_name']=='Harry Potter'), 'name'] = 'Diagon Alley'\n",
    "    df.loc[(df['name']=='Diagon Alley') & (df['theme_name']=='Fantastic Beasts'), 'name'] = 'Diagon Alley (micro)'\n",
    "    df.loc[(df['name']=='Hogwarts Express') & (df['theme_name']==\"Philosopher's Stone\"), 'name'] = 'Hogwarts Express (1st Edition)'\n",
    "    df.loc[(df['name']=='Hogwarts Express') & (df['theme_name']=='Fantastic Beasts'), 'name'] = 'Hogwarts Express (4th Edition)'"
   ]
  },
  {
   "cell_type": "code",
   "execution_count": 12,
   "metadata": {},
   "outputs": [],
   "source": [
    "# Combines set_num and name columns\n",
    "# It's easier for people to look up sets this way, but set_num by itself is opaque\n",
    "for df in dfs:\n",
    "    df['num_name'] = df['set_num'] + \": \" + df[\"name\"]"
   ]
  },
  {
   "cell_type": "markdown",
   "metadata": {},
   "source": [
    "### Colours"
   ]
  },
  {
   "cell_type": "code",
   "execution_count": 13,
   "metadata": {},
   "outputs": [],
   "source": [
    "# data groups the part name, its colour and the quantity of said part in said colour\n",
    "# This expands the df into a row for every part (still grouped by colour)\n",
    "hp_colors_df = hp_parts_df.reindex(hp_parts_df.index.repeat(hp_parts_df['quantity'])).reset_index().drop('index', axis=1)\n",
    "hp_colors_df['hex'] = '#' + hp_colors_df['rgb']"
   ]
  },
  {
   "cell_type": "code",
   "execution_count": 14,
   "metadata": {},
   "outputs": [
    {
     "data": {
      "text/html": [
       "<div>\n",
       "<style scoped>\n",
       "    .dataframe tbody tr th:only-of-type {\n",
       "        vertical-align: middle;\n",
       "    }\n",
       "\n",
       "    .dataframe tbody tr th {\n",
       "        vertical-align: top;\n",
       "    }\n",
       "\n",
       "    .dataframe thead th {\n",
       "        text-align: right;\n",
       "    }\n",
       "</style>\n",
       "<table border=\"1\" class=\"dataframe\">\n",
       "  <thead>\n",
       "    <tr style=\"text-align: right;\">\n",
       "      <th></th>\n",
       "      <th>set_num</th>\n",
       "      <th>name</th>\n",
       "      <th>year</th>\n",
       "      <th>num_parts</th>\n",
       "      <th>color_id</th>\n",
       "      <th>part_num</th>\n",
       "      <th>quantity</th>\n",
       "      <th>rgb</th>\n",
       "      <th>is_trans</th>\n",
       "      <th>color_name</th>\n",
       "      <th>theme_name</th>\n",
       "      <th>inv_id</th>\n",
       "      <th>part_name</th>\n",
       "      <th>num_name</th>\n",
       "      <th>hex</th>\n",
       "    </tr>\n",
       "  </thead>\n",
       "  <tbody>\n",
       "    <tr>\n",
       "      <th>0</th>\n",
       "      <td>10217-1</td>\n",
       "      <td>Diagon Alley</td>\n",
       "      <td>2011</td>\n",
       "      <td>2031</td>\n",
       "      <td>0</td>\n",
       "      <td>10201</td>\n",
       "      <td>4</td>\n",
       "      <td>05131D</td>\n",
       "      <td>f</td>\n",
       "      <td>Black</td>\n",
       "      <td>Harry Potter</td>\n",
       "      <td>14029</td>\n",
       "      <td>Bracket 1 x 2 - 1 x 4 [Rounded Corners]</td>\n",
       "      <td>10217-1: Diagon Alley</td>\n",
       "      <td>#05131D</td>\n",
       "    </tr>\n",
       "    <tr>\n",
       "      <th>1</th>\n",
       "      <td>10217-1</td>\n",
       "      <td>Diagon Alley</td>\n",
       "      <td>2011</td>\n",
       "      <td>2031</td>\n",
       "      <td>0</td>\n",
       "      <td>10201</td>\n",
       "      <td>4</td>\n",
       "      <td>05131D</td>\n",
       "      <td>f</td>\n",
       "      <td>Black</td>\n",
       "      <td>Harry Potter</td>\n",
       "      <td>14029</td>\n",
       "      <td>Bracket 1 x 2 - 1 x 4 [Rounded Corners]</td>\n",
       "      <td>10217-1: Diagon Alley</td>\n",
       "      <td>#05131D</td>\n",
       "    </tr>\n",
       "    <tr>\n",
       "      <th>2</th>\n",
       "      <td>10217-1</td>\n",
       "      <td>Diagon Alley</td>\n",
       "      <td>2011</td>\n",
       "      <td>2031</td>\n",
       "      <td>0</td>\n",
       "      <td>10201</td>\n",
       "      <td>4</td>\n",
       "      <td>05131D</td>\n",
       "      <td>f</td>\n",
       "      <td>Black</td>\n",
       "      <td>Harry Potter</td>\n",
       "      <td>14029</td>\n",
       "      <td>Bracket 1 x 2 - 1 x 4 [Rounded Corners]</td>\n",
       "      <td>10217-1: Diagon Alley</td>\n",
       "      <td>#05131D</td>\n",
       "    </tr>\n",
       "    <tr>\n",
       "      <th>3</th>\n",
       "      <td>10217-1</td>\n",
       "      <td>Diagon Alley</td>\n",
       "      <td>2011</td>\n",
       "      <td>2031</td>\n",
       "      <td>0</td>\n",
       "      <td>10201</td>\n",
       "      <td>4</td>\n",
       "      <td>05131D</td>\n",
       "      <td>f</td>\n",
       "      <td>Black</td>\n",
       "      <td>Harry Potter</td>\n",
       "      <td>14029</td>\n",
       "      <td>Bracket 1 x 2 - 1 x 4 [Rounded Corners]</td>\n",
       "      <td>10217-1: Diagon Alley</td>\n",
       "      <td>#05131D</td>\n",
       "    </tr>\n",
       "    <tr>\n",
       "      <th>4</th>\n",
       "      <td>10217-1</td>\n",
       "      <td>Diagon Alley</td>\n",
       "      <td>2011</td>\n",
       "      <td>2031</td>\n",
       "      <td>71</td>\n",
       "      <td>10201</td>\n",
       "      <td>5</td>\n",
       "      <td>A0A5A9</td>\n",
       "      <td>f</td>\n",
       "      <td>Light Bluish Gray</td>\n",
       "      <td>Harry Potter</td>\n",
       "      <td>14029</td>\n",
       "      <td>Bracket 1 x 2 - 1 x 4 [Rounded Corners]</td>\n",
       "      <td>10217-1: Diagon Alley</td>\n",
       "      <td>#A0A5A9</td>\n",
       "    </tr>\n",
       "  </tbody>\n",
       "</table>\n",
       "</div>"
      ],
      "text/plain": [
       "   set_num          name  year  num_parts  color_id part_num  quantity  \\\n",
       "0  10217-1  Diagon Alley  2011       2031         0    10201         4   \n",
       "1  10217-1  Diagon Alley  2011       2031         0    10201         4   \n",
       "2  10217-1  Diagon Alley  2011       2031         0    10201         4   \n",
       "3  10217-1  Diagon Alley  2011       2031         0    10201         4   \n",
       "4  10217-1  Diagon Alley  2011       2031        71    10201         5   \n",
       "\n",
       "      rgb is_trans         color_name    theme_name  inv_id  \\\n",
       "0  05131D        f              Black  Harry Potter   14029   \n",
       "1  05131D        f              Black  Harry Potter   14029   \n",
       "2  05131D        f              Black  Harry Potter   14029   \n",
       "3  05131D        f              Black  Harry Potter   14029   \n",
       "4  A0A5A9        f  Light Bluish Gray  Harry Potter   14029   \n",
       "\n",
       "                                 part_name               num_name      hex  \n",
       "0  Bracket 1 x 2 - 1 x 4 [Rounded Corners]  10217-1: Diagon Alley  #05131D  \n",
       "1  Bracket 1 x 2 - 1 x 4 [Rounded Corners]  10217-1: Diagon Alley  #05131D  \n",
       "2  Bracket 1 x 2 - 1 x 4 [Rounded Corners]  10217-1: Diagon Alley  #05131D  \n",
       "3  Bracket 1 x 2 - 1 x 4 [Rounded Corners]  10217-1: Diagon Alley  #05131D  \n",
       "4  Bracket 1 x 2 - 1 x 4 [Rounded Corners]  10217-1: Diagon Alley  #A0A5A9  "
      ]
     },
     "execution_count": 14,
     "metadata": {},
     "output_type": "execute_result"
    }
   ],
   "source": [
    "hp_colors_df.head()"
   ]
  },
  {
   "cell_type": "code",
   "execution_count": 15,
   "metadata": {},
   "outputs": [
    {
     "data": {
      "text/plain": [
       "(29946, 15)"
      ]
     },
     "execution_count": 15,
     "metadata": {},
     "output_type": "execute_result"
    }
   ],
   "source": [
    "hp_colors_df.shape"
   ]
  },
  {
   "cell_type": "markdown",
   "metadata": {},
   "source": [
    "## TF-IDF scores"
   ]
  },
  {
   "cell_type": "markdown",
   "metadata": {},
   "source": [
    "The `TfidfTransformer` function requires a [Bag of Words](https://en.wikipedia.org/wiki/Bag-of-words_model) representation of the data as an input. The below concatenates each hex colour code for each part in each set into a single string."
   ]
  },
  {
   "cell_type": "code",
   "execution_count": 19,
   "metadata": {},
   "outputs": [
    {
     "data": {
      "text/html": [
       "<div>\n",
       "<style scoped>\n",
       "    .dataframe tbody tr th:only-of-type {\n",
       "        vertical-align: middle;\n",
       "    }\n",
       "\n",
       "    .dataframe tbody tr th {\n",
       "        vertical-align: top;\n",
       "    }\n",
       "\n",
       "    .dataframe thead th {\n",
       "        text-align: right;\n",
       "    }\n",
       "</style>\n",
       "<table border=\"1\" class=\"dataframe\">\n",
       "  <thead>\n",
       "    <tr style=\"text-align: right;\">\n",
       "      <th></th>\n",
       "      <th>set_num</th>\n",
       "      <th>palette</th>\n",
       "    </tr>\n",
       "  </thead>\n",
       "  <tbody>\n",
       "    <tr>\n",
       "      <th>0</th>\n",
       "      <td>10132-1</td>\n",
       "      <td>#6C6E68, #6C6E68, #C91A09, #C91A09, #6C6E68, #...</td>\n",
       "    </tr>\n",
       "    <tr>\n",
       "      <th>1</th>\n",
       "      <td>10217-1</td>\n",
       "      <td>#05131D, #05131D, #05131D, #05131D, #A0A5A9, #...</td>\n",
       "    </tr>\n",
       "    <tr>\n",
       "      <th>2</th>\n",
       "      <td>30110-1</td>\n",
       "      <td>#6C6E68, #05131D, #05131D, #05131D, #A0A5A9, #...</td>\n",
       "    </tr>\n",
       "    <tr>\n",
       "      <th>3</th>\n",
       "      <td>30111-1</td>\n",
       "      <td>#E4CD9E, #0020A0, #F08F1C, #582A12, #582A12, #...</td>\n",
       "    </tr>\n",
       "    <tr>\n",
       "      <th>4</th>\n",
       "      <td>30407-1</td>\n",
       "      <td>#582A12, #582A12, #582A12, #A0A5A9, #582A12, #...</td>\n",
       "    </tr>\n",
       "  </tbody>\n",
       "</table>\n",
       "</div>"
      ],
      "text/plain": [
       "   set_num                                            palette\n",
       "0  10132-1  #6C6E68, #6C6E68, #C91A09, #C91A09, #6C6E68, #...\n",
       "1  10217-1  #05131D, #05131D, #05131D, #05131D, #A0A5A9, #...\n",
       "2  30110-1  #6C6E68, #05131D, #05131D, #05131D, #A0A5A9, #...\n",
       "3  30111-1  #E4CD9E, #0020A0, #F08F1C, #582A12, #582A12, #...\n",
       "4  30407-1  #582A12, #582A12, #582A12, #A0A5A9, #582A12, #..."
      ]
     },
     "execution_count": 19,
     "metadata": {},
     "output_type": "execute_result"
    }
   ],
   "source": [
    "hp_palette_df = hp_colors_df.groupby('set_num')['hex']\\\n",
    "    .agg(lambda x: ', '.join(x))\\\n",
    "    .reset_index()\\\n",
    "    .rename(columns={'hex': 'palette'})\n",
    "\n",
    "hp_palette_df.head()"
   ]
  },
  {
   "cell_type": "code",
   "execution_count": 23,
   "metadata": {},
   "outputs": [],
   "source": [
    "# Compute TF-IDF scores\n",
    "tfidf_vec = TfidfVectorizer()\n",
    "tfidf_scores = tfidf_vec.fit_transform(hp_palette_df['palette'])\n",
    "feature_names = tfidf_vec.get_feature_names()"
   ]
  },
  {
   "cell_type": "code",
   "execution_count": 24,
   "metadata": {},
   "outputs": [
    {
     "data": {
      "text/plain": [
       "<73x75 sparse matrix of type '<class 'numpy.float64'>'\n",
       "\twith 1220 stored elements in Compressed Sparse Row format>"
      ]
     },
     "execution_count": 24,
     "metadata": {},
     "output_type": "execute_result"
    }
   ],
   "source": [
    "tfidf_scores"
   ]
  },
  {
   "cell_type": "markdown",
   "metadata": {},
   "source": [
    "`TfidfTransformer` returns a numpy sparse matrix. The below converts this back into a usable pandas dataframe:"
   ]
  },
  {
   "cell_type": "code",
   "execution_count": 31,
   "metadata": {},
   "outputs": [],
   "source": [
    "tfidf_df = pd.DataFrame(bag_of_words.toarray(), columns=feature_names)\\\n",
    "    .join(hp_palette_df['set_num'])\\\n",
    "    .melt(id_vars='set_num', var_name='hex', value_name='tf_idf')\\\n",
    "    .groupby(['set_num'])['tf_idf', 'hex']\\\n",
    "    .apply(lambda x: x.sort_values('tf_idf', ascending=False))\\\n",
    "    .reset_index((0,0))"
   ]
  },
  {
   "cell_type": "code",
   "execution_count": 32,
   "metadata": {},
   "outputs": [
    {
     "data": {
      "text/html": [
       "<div>\n",
       "<style scoped>\n",
       "    .dataframe tbody tr th:only-of-type {\n",
       "        vertical-align: middle;\n",
       "    }\n",
       "\n",
       "    .dataframe tbody tr th {\n",
       "        vertical-align: top;\n",
       "    }\n",
       "\n",
       "    .dataframe thead th {\n",
       "        text-align: right;\n",
       "    }\n",
       "</style>\n",
       "<table border=\"1\" class=\"dataframe\">\n",
       "  <thead>\n",
       "    <tr style=\"text-align: right;\">\n",
       "      <th></th>\n",
       "      <th>set_num</th>\n",
       "      <th>name</th>\n",
       "      <th>num_name</th>\n",
       "      <th>theme_name</th>\n",
       "      <th>tf_idf</th>\n",
       "      <th>hex</th>\n",
       "    </tr>\n",
       "  </thead>\n",
       "  <tbody>\n",
       "    <tr>\n",
       "      <th>0</th>\n",
       "      <td>10217-1</td>\n",
       "      <td>Diagon Alley</td>\n",
       "      <td>10217-1: Diagon Alley</td>\n",
       "      <td>Harry Potter</td>\n",
       "      <td>0.493880</td>\n",
       "      <td>#FFFFFF</td>\n",
       "    </tr>\n",
       "    <tr>\n",
       "      <th>1</th>\n",
       "      <td>10217-1</td>\n",
       "      <td>Diagon Alley</td>\n",
       "      <td>10217-1: Diagon Alley</td>\n",
       "      <td>Harry Potter</td>\n",
       "      <td>0.482384</td>\n",
       "      <td>#05131D</td>\n",
       "    </tr>\n",
       "    <tr>\n",
       "      <th>2</th>\n",
       "      <td>10217-1</td>\n",
       "      <td>Diagon Alley</td>\n",
       "      <td>10217-1: Diagon Alley</td>\n",
       "      <td>Harry Potter</td>\n",
       "      <td>0.397413</td>\n",
       "      <td>#582A12</td>\n",
       "    </tr>\n",
       "    <tr>\n",
       "      <th>3</th>\n",
       "      <td>10217-1</td>\n",
       "      <td>Diagon Alley</td>\n",
       "      <td>10217-1: Diagon Alley</td>\n",
       "      <td>Harry Potter</td>\n",
       "      <td>0.324206</td>\n",
       "      <td>#6C6E68</td>\n",
       "    </tr>\n",
       "    <tr>\n",
       "      <th>4</th>\n",
       "      <td>10217-1</td>\n",
       "      <td>Diagon Alley</td>\n",
       "      <td>10217-1: Diagon Alley</td>\n",
       "      <td>Harry Potter</td>\n",
       "      <td>0.259790</td>\n",
       "      <td>#E4CD9E</td>\n",
       "    </tr>\n",
       "  </tbody>\n",
       "</table>\n",
       "</div>"
      ],
      "text/plain": [
       "   set_num          name               num_name    theme_name    tf_idf  \\\n",
       "0  10217-1  Diagon Alley  10217-1: Diagon Alley  Harry Potter  0.493880   \n",
       "1  10217-1  Diagon Alley  10217-1: Diagon Alley  Harry Potter  0.482384   \n",
       "2  10217-1  Diagon Alley  10217-1: Diagon Alley  Harry Potter  0.397413   \n",
       "3  10217-1  Diagon Alley  10217-1: Diagon Alley  Harry Potter  0.324206   \n",
       "4  10217-1  Diagon Alley  10217-1: Diagon Alley  Harry Potter  0.259790   \n",
       "\n",
       "       hex  \n",
       "0  #FFFFFF  \n",
       "1  #05131D  \n",
       "2  #582A12  \n",
       "3  #6C6E68  \n",
       "4  #E4CD9E  "
      ]
     },
     "execution_count": 32,
     "metadata": {},
     "output_type": "execute_result"
    }
   ],
   "source": [
    "tfidf_df = hp_parts_df[['set_num', 'name', 'num_name', 'theme_name']].drop_duplicates(subset=['set_num']).merge(tfidf_df, how='left')\n",
    "tfidf_df['hex'] = tfidf_df['hex'] = '#' + tfidf_df['hex'].str.upper()\n",
    "\n",
    "tfidf_df.head()"
   ]
  },
  {
   "cell_type": "markdown",
   "metadata": {},
   "source": [
    "## Set colours by highest TF-IDF score"
   ]
  },
  {
   "cell_type": "code",
   "execution_count": 34,
   "metadata": {},
   "outputs": [],
   "source": [
    "hex_codes = hp_colors_df[['hex', 'color_name']].drop_duplicates(subset=['hex']).reset_index().drop('index', axis=1)"
   ]
  },
  {
   "cell_type": "code",
   "execution_count": 39,
   "metadata": {},
   "outputs": [
    {
     "data": {
      "text/html": [
       "<div>\n",
       "<style scoped>\n",
       "    .dataframe tbody tr th:only-of-type {\n",
       "        vertical-align: middle;\n",
       "    }\n",
       "\n",
       "    .dataframe tbody tr th {\n",
       "        vertical-align: top;\n",
       "    }\n",
       "\n",
       "    .dataframe thead th {\n",
       "        text-align: right;\n",
       "    }\n",
       "</style>\n",
       "<table border=\"1\" class=\"dataframe\">\n",
       "  <thead>\n",
       "    <tr style=\"text-align: right;\">\n",
       "      <th></th>\n",
       "      <th>set_num</th>\n",
       "      <th>theme_name</th>\n",
       "      <th>name</th>\n",
       "      <th>color_name</th>\n",
       "      <th>hex</th>\n",
       "      <th>tf_idf</th>\n",
       "    </tr>\n",
       "  </thead>\n",
       "  <tbody>\n",
       "    <tr>\n",
       "      <th>0</th>\n",
       "      <td>10132-1</td>\n",
       "      <td>Prisoner of Azkaban</td>\n",
       "      <td>Motorized Hogwarts Express</td>\n",
       "      <td>Dark Bluish Gray</td>\n",
       "      <td>#6C6E68</td>\n",
       "      <td>0.573218</td>\n",
       "    </tr>\n",
       "    <tr>\n",
       "      <th>1</th>\n",
       "      <td>10132-1</td>\n",
       "      <td>Prisoner of Azkaban</td>\n",
       "      <td>Motorized Hogwarts Express</td>\n",
       "      <td>Black</td>\n",
       "      <td>#05131D</td>\n",
       "      <td>0.524511</td>\n",
       "    </tr>\n",
       "    <tr>\n",
       "      <th>2</th>\n",
       "      <td>10132-1</td>\n",
       "      <td>Prisoner of Azkaban</td>\n",
       "      <td>Motorized Hogwarts Express</td>\n",
       "      <td>Trans-Red</td>\n",
       "      <td>#C91A09</td>\n",
       "      <td>0.413765</td>\n",
       "    </tr>\n",
       "    <tr>\n",
       "      <th>3</th>\n",
       "      <td>10132-1</td>\n",
       "      <td>Prisoner of Azkaban</td>\n",
       "      <td>Motorized Hogwarts Express</td>\n",
       "      <td>Light Bluish Gray</td>\n",
       "      <td>#A0A5A9</td>\n",
       "      <td>0.346246</td>\n",
       "    </tr>\n",
       "    <tr>\n",
       "      <th>4</th>\n",
       "      <td>10132-1</td>\n",
       "      <td>Prisoner of Azkaban</td>\n",
       "      <td>Motorized Hogwarts Express</td>\n",
       "      <td>Dark Red</td>\n",
       "      <td>#720E0F</td>\n",
       "      <td>0.270928</td>\n",
       "    </tr>\n",
       "    <tr>\n",
       "      <th>5</th>\n",
       "      <td>10217-1</td>\n",
       "      <td>Harry Potter</td>\n",
       "      <td>Diagon Alley</td>\n",
       "      <td>White</td>\n",
       "      <td>#FFFFFF</td>\n",
       "      <td>0.493880</td>\n",
       "    </tr>\n",
       "    <tr>\n",
       "      <th>6</th>\n",
       "      <td>10217-1</td>\n",
       "      <td>Harry Potter</td>\n",
       "      <td>Diagon Alley</td>\n",
       "      <td>Black</td>\n",
       "      <td>#05131D</td>\n",
       "      <td>0.482384</td>\n",
       "    </tr>\n",
       "    <tr>\n",
       "      <th>7</th>\n",
       "      <td>10217-1</td>\n",
       "      <td>Harry Potter</td>\n",
       "      <td>Diagon Alley</td>\n",
       "      <td>Reddish Brown</td>\n",
       "      <td>#582A12</td>\n",
       "      <td>0.397413</td>\n",
       "    </tr>\n",
       "    <tr>\n",
       "      <th>8</th>\n",
       "      <td>10217-1</td>\n",
       "      <td>Harry Potter</td>\n",
       "      <td>Diagon Alley</td>\n",
       "      <td>Dark Bluish Gray</td>\n",
       "      <td>#6C6E68</td>\n",
       "      <td>0.324206</td>\n",
       "    </tr>\n",
       "    <tr>\n",
       "      <th>9</th>\n",
       "      <td>10217-1</td>\n",
       "      <td>Harry Potter</td>\n",
       "      <td>Diagon Alley</td>\n",
       "      <td>Tan</td>\n",
       "      <td>#E4CD9E</td>\n",
       "      <td>0.259790</td>\n",
       "    </tr>\n",
       "  </tbody>\n",
       "</table>\n",
       "</div>"
      ],
      "text/plain": [
       "   set_num           theme_name                        name  \\\n",
       "0  10132-1  Prisoner of Azkaban  Motorized Hogwarts Express   \n",
       "1  10132-1  Prisoner of Azkaban  Motorized Hogwarts Express   \n",
       "2  10132-1  Prisoner of Azkaban  Motorized Hogwarts Express   \n",
       "3  10132-1  Prisoner of Azkaban  Motorized Hogwarts Express   \n",
       "4  10132-1  Prisoner of Azkaban  Motorized Hogwarts Express   \n",
       "5  10217-1         Harry Potter                Diagon Alley   \n",
       "6  10217-1         Harry Potter                Diagon Alley   \n",
       "7  10217-1         Harry Potter                Diagon Alley   \n",
       "8  10217-1         Harry Potter                Diagon Alley   \n",
       "9  10217-1         Harry Potter                Diagon Alley   \n",
       "\n",
       "          color_name      hex    tf_idf  \n",
       "0   Dark Bluish Gray  #6C6E68  0.573218  \n",
       "1              Black  #05131D  0.524511  \n",
       "2          Trans-Red  #C91A09  0.413765  \n",
       "3  Light Bluish Gray  #A0A5A9  0.346246  \n",
       "4           Dark Red  #720E0F  0.270928  \n",
       "5              White  #FFFFFF  0.493880  \n",
       "6              Black  #05131D  0.482384  \n",
       "7      Reddish Brown  #582A12  0.397413  \n",
       "8   Dark Bluish Gray  #6C6E68  0.324206  \n",
       "9                Tan  #E4CD9E  0.259790  "
      ]
     },
     "execution_count": 39,
     "metadata": {},
     "output_type": "execute_result"
    }
   ],
   "source": [
    "largest_colors_tfidf = tfidf_df\\\n",
    "    .groupby('set_num')['theme_name', 'name', 'hex', 'tf_idf']\\\n",
    "    .apply(lambda grp: grp.nlargest(5, 'tf_idf'))\\\n",
    "    .reset_index().drop('level_1', axis=1)\n",
    "\n",
    "\n",
    "largest_colors_tfidf = largest_colors_tfidf\\\n",
    "    .merge(hex_codes, on=['hex'])\\\n",
    "    .groupby(['set_num'])['theme_name', 'name', 'color_name', 'hex', 'tf_idf']\\\n",
    "    .apply(lambda x: x.sort_values('tf_idf', ascending=False))\\\n",
    "    .reset_index((0,0))\n",
    "\n",
    "largest_colors_tfidf.head(10)"
   ]
  },
  {
   "cell_type": "markdown",
   "metadata": {},
   "source": [
    "### Philosopher's Stone"
   ]
  },
  {
   "cell_type": "code",
   "execution_count": 48,
   "metadata": {},
   "outputs": [
    {
     "data": {
      "application/vnd.vegalite.v3+json": {
       "$schema": "https://vega.github.io/schema/vega-lite/v3.2.1.json",
       "config": {
        "mark": {
         "tooltip": null
        },
        "view": {
         "fill": "#f4f4f4",
         "height": 300,
         "width": 400
        }
       },
       "data": {
        "name": "data-ff0e63731e0e712d62b7321d0a8e90f7"
       },
       "datasets": {
        "data-ff0e63731e0e712d62b7321d0a8e90f7": [
         {
          "color_name": "Light Gray",
          "hex": "#9BA19D",
          "name": "Sorting Hat",
          "set_num": "4701-1",
          "tf_idf": 0.6887088855682693,
          "theme_name": "Philosopher's Stone"
         },
         {
          "color_name": "Brown",
          "hex": "#583927",
          "name": "Sorting Hat",
          "set_num": "4701-1",
          "tf_idf": 0.49366778187844584,
          "theme_name": "Philosopher's Stone"
         },
         {
          "color_name": "Black",
          "hex": "#05131D",
          "name": "Sorting Hat",
          "set_num": "4701-1",
          "tf_idf": 0.392093096211268,
          "theme_name": "Philosopher's Stone"
         },
         {
          "color_name": "Dark Gray",
          "hex": "#6D6E5C",
          "name": "Sorting Hat",
          "set_num": "4701-1",
          "tf_idf": 0.24683389093922292,
          "theme_name": "Philosopher's Stone"
         },
         {
          "color_name": "Yellow",
          "hex": "#F2CD37",
          "name": "Sorting Hat",
          "set_num": "4701-1",
          "tf_idf": 0.1780010601441503,
          "theme_name": "Philosopher's Stone"
         },
         {
          "color_name": "Dark Gray",
          "hex": "#6D6E5C",
          "name": "The Final Challenge",
          "set_num": "4702-1",
          "tf_idf": 0.8373431367503886,
          "theme_name": "Philosopher's Stone"
         },
         {
          "color_name": "Black",
          "hex": "#05131D",
          "name": "The Final Challenge",
          "set_num": "4702-1",
          "tf_idf": 0.32310387637394594,
          "theme_name": "Philosopher's Stone"
         },
         {
          "color_name": "Tan",
          "hex": "#E4CD9E",
          "name": "The Final Challenge",
          "set_num": "4702-1",
          "tf_idf": 0.3126923143115638,
          "theme_name": "Philosopher's Stone"
         },
         {
          "color_name": "Light Gray",
          "hex": "#9BA19D",
          "name": "The Final Challenge",
          "set_num": "4702-1",
          "tf_idf": 0.20494131127534818,
          "theme_name": "Philosopher's Stone"
         },
         {
          "color_name": "Trans-Neon Orange",
          "hex": "#FF800D",
          "name": "The Final Challenge",
          "set_num": "4702-1",
          "tf_idf": 0.13916606428095565,
          "theme_name": "Philosopher's Stone"
         },
         {
          "color_name": "Dark Gray",
          "hex": "#6D6E5C",
          "name": "The Chamber of the Winged Keys",
          "set_num": "4704-1",
          "tf_idf": 0.5331198901799086,
          "theme_name": "Philosopher's Stone"
         },
         {
          "color_name": "Light Gray",
          "hex": "#9BA19D",
          "name": "The Chamber of the Winged Keys",
          "set_num": "4704-1",
          "tf_idf": 0.5129296272373248,
          "theme_name": "Philosopher's Stone"
         },
         {
          "color_name": "Tan",
          "hex": "#E4CD9E",
          "name": "The Chamber of the Winged Keys",
          "set_num": "4704-1",
          "tf_idf": 0.48913134942665537,
          "theme_name": "Philosopher's Stone"
         },
         {
          "color_name": "Black",
          "hex": "#05131D",
          "name": "The Chamber of the Winged Keys",
          "set_num": "4704-1",
          "tf_idf": 0.41331937597484747,
          "theme_name": "Philosopher's Stone"
         },
         {
          "color_name": "White",
          "hex": "#FFFFFF",
          "name": "The Chamber of the Winged Keys",
          "set_num": "4704-1",
          "tf_idf": 0.156438770524717,
          "theme_name": "Philosopher's Stone"
         },
         {
          "color_name": "Light Gray",
          "hex": "#9BA19D",
          "name": "Snape's Class",
          "set_num": "4705-1",
          "tf_idf": 0.8600718225198607,
          "theme_name": "Philosopher's Stone"
         },
         {
          "color_name": "Black",
          "hex": "#05131D",
          "name": "Snape's Class",
          "set_num": "4705-1",
          "tf_idf": 0.3863761429831539,
          "theme_name": "Philosopher's Stone"
         },
         {
          "color_name": "Dark Gray",
          "hex": "#6D6E5C",
          "name": "Snape's Class",
          "set_num": "4705-1",
          "tf_idf": 0.2983069581193596,
          "theme_name": "Philosopher's Stone"
         },
         {
          "color_name": "Trans-Neon Orange",
          "hex": "#FF800D",
          "name": "Snape's Class",
          "set_num": "4705-1",
          "tf_idf": 0.11774890517612545,
          "theme_name": "Philosopher's Stone"
         },
         {
          "color_name": "Yellow",
          "hex": "#F2CD37",
          "name": "Snape's Class",
          "set_num": "4705-1",
          "tf_idf": 0.043024039034167336,
          "theme_name": "Philosopher's Stone"
         },
         {
          "color_name": "Dark Gray",
          "hex": "#6D6E5C",
          "name": "Forbidden Corridor",
          "set_num": "4706-1",
          "tf_idf": 0.6441689479378361,
          "theme_name": "Philosopher's Stone"
         },
         {
          "color_name": "Light Gray",
          "hex": "#9BA19D",
          "name": "Forbidden Corridor",
          "set_num": "4706-1",
          "tf_idf": 0.5991139446908296,
          "theme_name": "Philosopher's Stone"
         },
         {
          "color_name": "Black",
          "hex": "#05131D",
          "name": "Forbidden Corridor",
          "set_num": "4706-1",
          "tf_idf": 0.41216455234756966,
          "theme_name": "Philosopher's Stone"
         },
         {
          "color_name": "Green",
          "hex": "#237841",
          "name": "Forbidden Corridor",
          "set_num": "4706-1",
          "tf_idf": 0.169039342222029,
          "theme_name": "Philosopher's Stone"
         },
         {
          "color_name": "Tan",
          "hex": "#E4CD9E",
          "name": "Forbidden Corridor",
          "set_num": "4706-1",
          "tf_idf": 0.13850108919941356,
          "theme_name": "Philosopher's Stone"
         },
         {
          "color_name": "Light Gray",
          "hex": "#9BA19D",
          "name": "Hagrid's Hut",
          "set_num": "4707-1",
          "tf_idf": 0.726881721475435,
          "theme_name": "Philosopher's Stone"
         },
         {
          "color_name": "Dark Gray",
          "hex": "#6D6E5C",
          "name": "Hagrid's Hut",
          "set_num": "4707-1",
          "tf_idf": 0.42454307711025335,
          "theme_name": "Philosopher's Stone"
         },
         {
          "color_name": "Brown",
          "hex": "#583927",
          "name": "Hagrid's Hut",
          "set_num": "4707-1",
          "tf_idf": 0.32805601413065033,
          "theme_name": "Philosopher's Stone"
         },
         {
          "color_name": "Black",
          "hex": "#05131D",
          "name": "Hagrid's Hut",
          "set_num": "4707-1",
          "tf_idf": 0.28295761262368246,
          "theme_name": "Philosopher's Stone"
         },
         {
          "color_name": "Green",
          "hex": "#237841",
          "name": "Hagrid's Hut",
          "set_num": "4707-1",
          "tf_idf": 0.2630426653682396,
          "theme_name": "Philosopher's Stone"
         },
         {
          "color_name": "Dark Gray",
          "hex": "#6D6E5C",
          "name": "Hogwarts Express (1st Edition)",
          "set_num": "4708-1",
          "tf_idf": 0.6046249158968772,
          "theme_name": "Philosopher's Stone"
         },
         {
          "color_name": "Black",
          "hex": "#05131D",
          "name": "Hogwarts Express (1st Edition)",
          "set_num": "4708-1",
          "tf_idf": 0.5595181336153056,
          "theme_name": "Philosopher's Stone"
         },
         {
          "color_name": "Trans-Red",
          "hex": "#C91A09",
          "name": "Hogwarts Express (1st Edition)",
          "set_num": "4708-1",
          "tf_idf": 0.48369352318535896,
          "theme_name": "Philosopher's Stone"
         },
         {
          "color_name": "Light Gray",
          "hex": "#9BA19D",
          "name": "Hogwarts Express (1st Edition)",
          "set_num": "4708-1",
          "tf_idf": 0.1949430545947127,
          "theme_name": "Philosopher's Stone"
         },
         {
          "color_name": "Brown",
          "hex": "#583927",
          "name": "Hogwarts Express (1st Edition)",
          "set_num": "4708-1",
          "tf_idf": 0.1531716453605422,
          "theme_name": "Philosopher's Stone"
         },
         {
          "color_name": "Light Gray",
          "hex": "#9BA19D",
          "name": "Hogwarts (First Edition)",
          "set_num": "4709-1",
          "tf_idf": 0.7391334807773268,
          "theme_name": "Philosopher's Stone"
         },
         {
          "color_name": "Dark Gray",
          "hex": "#6D6E5C",
          "name": "Hogwarts (First Edition)",
          "set_num": "4709-1",
          "tf_idf": 0.44936952983069667,
          "theme_name": "Philosopher's Stone"
         },
         {
          "color_name": "Tan",
          "hex": "#E4CD9E",
          "name": "Hogwarts (First Edition)",
          "set_num": "4709-1",
          "tf_idf": 0.3813270911101159,
          "theme_name": "Philosopher's Stone"
         },
         {
          "color_name": "Brown",
          "hex": "#583927",
          "name": "Hogwarts (First Edition)",
          "set_num": "4709-1",
          "tf_idf": 0.2288455938952622,
          "theme_name": "Philosopher's Stone"
         },
         {
          "color_name": "Black",
          "hex": "#05131D",
          "name": "Hogwarts (First Edition)",
          "set_num": "4709-1",
          "tf_idf": 0.19929985678355086,
          "theme_name": "Philosopher's Stone"
         },
         {
          "color_name": "Light Gray",
          "hex": "#9BA19D",
          "name": "Flying Lesson",
          "set_num": "4711-1",
          "tf_idf": 0.7161164781906775,
          "theme_name": "Philosopher's Stone"
         },
         {
          "color_name": "Brown",
          "hex": "#583927",
          "name": "Flying Lesson",
          "set_num": "4711-1",
          "tf_idf": 0.5499788508452967,
          "theme_name": "Philosopher's Stone"
         },
         {
          "color_name": "Tan",
          "hex": "#E4CD9E",
          "name": "Flying Lesson",
          "set_num": "4711-1",
          "tf_idf": 0.325186184209988,
          "theme_name": "Philosopher's Stone"
         },
         {
          "color_name": "Black",
          "hex": "#05131D",
          "name": "Flying Lesson",
          "set_num": "4711-1",
          "tf_idf": 0.21504879904517918,
          "theme_name": "Philosopher's Stone"
         },
         {
          "color_name": "Yellow",
          "hex": "#F2CD37",
          "name": "Flying Lesson",
          "set_num": "4711-1",
          "tf_idf": 0.15864404703068774,
          "theme_name": "Philosopher's Stone"
         },
         {
          "color_name": "Light Gray",
          "hex": "#9BA19D",
          "name": "Troll on the Loose",
          "set_num": "4712-1",
          "tf_idf": 0.8770365362177492,
          "theme_name": "Philosopher's Stone"
         },
         {
          "color_name": "Black",
          "hex": "#05131D",
          "name": "Troll on the Loose",
          "set_num": "4712-1",
          "tf_idf": 0.35847974298569585,
          "theme_name": "Philosopher's Stone"
         },
         {
          "color_name": "Brown",
          "hex": "#583927",
          "name": "Troll on the Loose",
          "set_num": "4712-1",
          "tf_idf": 0.2095537948053444,
          "theme_name": "Philosopher's Stone"
         },
         {
          "color_name": "Dark Gray",
          "hex": "#6D6E5C",
          "name": "Troll on the Loose",
          "set_num": "4712-1",
          "tf_idf": 0.13970252987022957,
          "theme_name": "Philosopher's Stone"
         },
         {
          "color_name": "Sand Green",
          "hex": "#A0BCAC",
          "name": "Troll on the Loose",
          "set_num": "4712-1",
          "tf_idf": 0.13575226937147908,
          "theme_name": "Philosopher's Stone"
         },
         {
          "color_name": "Light Gray",
          "hex": "#9BA19D",
          "name": "Gringott's Bank",
          "set_num": "4714-1",
          "tf_idf": 0.5768280171870791,
          "theme_name": "Philosopher's Stone"
         },
         {
          "color_name": "Dark Gray",
          "hex": "#6D6E5C",
          "name": "Gringott's Bank",
          "set_num": "4714-1",
          "tf_idf": 0.3664859887481489,
          "theme_name": "Philosopher's Stone"
         },
         {
          "color_name": "Tan",
          "hex": "#E4CD9E",
          "name": "Gringott's Bank",
          "set_num": "4714-1",
          "tf_idf": 0.3500414021305034,
          "theme_name": "Philosopher's Stone"
         },
         {
          "color_name": "Black",
          "hex": "#05131D",
          "name": "Gringott's Bank",
          "set_num": "4714-1",
          "tf_idf": 0.3238045379821995,
          "theme_name": "Philosopher's Stone"
         },
         {
          "color_name": "White",
          "hex": "#FFFFFF",
          "name": "Gringott's Bank",
          "set_num": "4714-1",
          "tf_idf": 0.29987588481874206,
          "theme_name": "Philosopher's Stone"
         },
         {
          "color_name": "Orange",
          "hex": "#FE8A18",
          "name": "Hogwarts Classroom",
          "set_num": "4721-1",
          "tf_idf": 0.5658923727439215,
          "theme_name": "Philosopher's Stone"
         },
         {
          "color_name": "Dark Pink",
          "hex": "#C870A0",
          "name": "Hogwarts Classroom",
          "set_num": "4721-1",
          "tf_idf": 0.44100911393728826,
          "theme_name": "Philosopher's Stone"
         },
         {
          "color_name": "White",
          "hex": "#FFFFFF",
          "name": "Hogwarts Classroom",
          "set_num": "4721-1",
          "tf_idf": 0.31586556347569505,
          "theme_name": "Philosopher's Stone"
         },
         {
          "color_name": "Trans-Dark Pink",
          "hex": "#DF6695",
          "name": "Hogwarts Classroom",
          "set_num": "4721-1",
          "tf_idf": 0.29320809839015005,
          "theme_name": "Philosopher's Stone"
         },
         {
          "color_name": "Trans-Neon Orange",
          "hex": "#FF800D",
          "name": "Hogwarts Classroom",
          "set_num": "4721-1",
          "tf_idf": 0.25245439436628453,
          "theme_name": "Philosopher's Stone"
         },
         {
          "color_name": "Orange",
          "hex": "#FE8A18",
          "name": "Gryffindor",
          "set_num": "4722-1",
          "tf_idf": 0.6201703783861291,
          "theme_name": "Philosopher's Stone"
         },
         {
          "color_name": "Dark Pink",
          "hex": "#C870A0",
          "name": "Gryffindor",
          "set_num": "4722-1",
          "tf_idf": 0.5523529657083186,
          "theme_name": "Philosopher's Stone"
         },
         {
          "color_name": "Medium Orange",
          "hex": "#FFA70B",
          "name": "Gryffindor",
          "set_num": "4722-1",
          "tf_idf": 0.44738912894375876,
          "theme_name": "Philosopher's Stone"
         },
         {
          "color_name": "Dark Turquoise",
          "hex": "#008F9B",
          "name": "Gryffindor",
          "set_num": "4722-1",
          "tf_idf": 0.22369456447187938,
          "theme_name": "Philosopher's Stone"
         },
         {
          "color_name": "Light Violet",
          "hex": "#C9CAE2",
          "name": "Gryffindor",
          "set_num": "4722-1",
          "tf_idf": 0.12006023295514023,
          "theme_name": "Philosopher's Stone"
         },
         {
          "color_name": "Dark Pink",
          "hex": "#C870A0",
          "name": "Diagon Alley Shops",
          "set_num": "4723-1",
          "tf_idf": 0.6974854760067366,
          "theme_name": "Philosopher's Stone"
         },
         {
          "color_name": "White",
          "hex": "#FFFFFF",
          "name": "Diagon Alley Shops",
          "set_num": "4723-1",
          "tf_idf": 0.35176298755734087,
          "theme_name": "Philosopher's Stone"
         },
         {
          "color_name": "Orange",
          "hex": "#FE8A18",
          "name": "Diagon Alley Shops",
          "set_num": "4723-1",
          "tf_idf": 0.3212808742595734,
          "theme_name": "Philosopher's Stone"
         },
         {
          "color_name": "Trans-Dark Pink",
          "hex": "#DF6695",
          "name": "Diagon Alley Shops",
          "set_num": "4723-1",
          "tf_idf": 0.24969983355846426,
          "theme_name": "Philosopher's Stone"
         },
         {
          "color_name": "Chrome Gold",
          "hex": "#BBA53D",
          "name": "Diagon Alley Shops",
          "set_num": "4723-1",
          "tf_idf": 0.1997598668467714,
          "theme_name": "Philosopher's Stone"
         }
        ]
       },
       "encoding": {
        "color": {
         "field": "hex",
         "scale": null,
         "title": "Colour",
         "type": "nominal"
        },
        "column": {
         "field": "name",
         "title": "Set name",
         "type": "nominal"
        },
        "tooltip": [
         {
          "field": "hex",
          "type": "nominal"
         }
        ],
        "x": {
         "field": "color_name",
         "sort": {
          "field": "tf_idf:Q",
          "order": "ascending"
         },
         "title": "Colour",
         "type": "nominal"
        },
        "y": {
         "field": "tf_idf",
         "title": "TF-IDF",
         "type": "quantitative"
        }
       },
       "mark": "bar",
       "resolve": {
        "scale": {
         "x": "independent"
        }
       }
      },
      "image/png": "[encoded data removed]",
      "text/plain": [
       "<VegaLite 3 object>\n",
       "\n",
       "If you see this message, it means the renderer has not been properly enabled\n",
       "for the frontend that you are using. For more information, see\n",
       "https://altair-viz.github.io/user_guide/troubleshooting.html\n"
      ]
     },
     "execution_count": 48,
     "metadata": {},
     "output_type": "execute_result"
    }
   ],
   "source": [
    "alt.Chart(largest_colors_tfidf[largest_colors_tfidf['theme_name']==\"Philosopher's Stone\"]).mark_bar().encode(\n",
    "    y=alt.X('tf_idf', title='TF-IDF'),\n",
    "    x=alt.X('color_name', sort=alt.Sort(field='tf_idf:Q', order='ascending'), title='Colour'),\n",
    "    color=alt.Color(\"hex:N\", scale=None, title='Colour'),\n",
    "    tooltip=['hex'],\n",
    "    column=alt.Column('name', title='Set name')\n",
    ").resolve_scale(x='independent').configure_view(\n",
    "    fill='#f4f4f4'\n",
    ")"
   ]
  },
  {
   "cell_type": "markdown",
   "metadata": {},
   "source": [
    "### Chamber of Secrets"
   ]
  },
  {
   "cell_type": "code",
   "execution_count": 49,
   "metadata": {},
   "outputs": [
    {
     "data": {
      "application/vnd.vegalite.v3+json": {
       "$schema": "https://vega.github.io/schema/vega-lite/v3.2.1.json",
       "config": {
        "mark": {
         "tooltip": null
        },
        "view": {
         "fill": "#f4f4f4",
         "height": 300,
         "width": 400
        }
       },
       "data": {
        "name": "data-eef35c2ccbea664bab83f074a780e188"
       },
       "datasets": {
        "data-eef35c2ccbea664bab83f074a780e188": [
         {
          "color_name": "Light Gray",
          "hex": "#9BA19D",
          "name": "Quality Quidditch Supplies",
          "set_num": "4719-1",
          "tf_idf": 0.6571401403870875,
          "theme_name": "Chamber of Secrets"
         },
         {
          "color_name": "Dark Orange",
          "hex": "#A95500",
          "name": "Quality Quidditch Supplies",
          "set_num": "4719-1",
          "tf_idf": 0.45437880962847843,
          "theme_name": "Chamber of Secrets"
         },
         {
          "color_name": "Sand Green",
          "hex": "#A0BCAC",
          "name": "Quality Quidditch Supplies",
          "set_num": "4719-1",
          "tf_idf": 0.4166830663790919,
          "theme_name": "Chamber of Secrets"
         },
         {
          "color_name": "Dark Gray",
          "hex": "#6D6E5C",
          "name": "Quality Quidditch Supplies",
          "set_num": "4719-1",
          "tf_idf": 0.31673328738890305,
          "theme_name": "Chamber of Secrets"
         },
         {
          "color_name": "Brown",
          "hex": "#583927",
          "name": "Quality Quidditch Supplies",
          "set_num": "4719-1",
          "tf_idf": 0.2192768912692406,
          "theme_name": "Chamber of Secrets"
         },
         {
          "color_name": "Sand Blue",
          "hex": "#6074A1",
          "name": "Knockturn Alley",
          "set_num": "4720-1",
          "tf_idf": 0.7846485606885749,
          "theme_name": "Chamber of Secrets"
         },
         {
          "color_name": "Black",
          "hex": "#05131D",
          "name": "Knockturn Alley",
          "set_num": "4720-1",
          "tf_idf": 0.4319904804896839,
          "theme_name": "Chamber of Secrets"
         },
         {
          "color_name": "Dark Gray",
          "hex": "#6D6E5C",
          "name": "Knockturn Alley",
          "set_num": "4720-1",
          "tf_idf": 0.3977275226490692,
          "theme_name": "Chamber of Secrets"
         },
         {
          "color_name": "Dark Blue",
          "hex": "#0A3463",
          "name": "Knockturn Alley",
          "set_num": "4720-1",
          "tf_idf": 0.15036638290316331,
          "theme_name": "Chamber of Secrets"
         },
         {
          "color_name": "Light Gray",
          "hex": "#9BA19D",
          "name": "Knockturn Alley",
          "set_num": "4720-1",
          "tf_idf": 0.09247733291445076,
          "theme_name": "Chamber of Secrets"
         },
         {
          "color_name": "Light Gray",
          "hex": "#9BA19D",
          "name": "Quidditch Practice",
          "set_num": "4726-1",
          "tf_idf": 0.7166732461581015,
          "theme_name": "Chamber of Secrets"
         },
         {
          "color_name": "Green",
          "hex": "#237841",
          "name": "Quidditch Practice",
          "set_num": "4726-1",
          "tf_idf": 0.4867984096438086,
          "theme_name": "Chamber of Secrets"
         },
         {
          "color_name": "Dark Gray",
          "hex": "#6D6E5C",
          "name": "Quidditch Practice",
          "set_num": "4726-1",
          "tf_idf": 0.3502586498277546,
          "theme_name": "Chamber of Secrets"
         },
         {
          "color_name": "Black",
          "hex": "#05131D",
          "name": "Quidditch Practice",
          "set_num": "4726-1",
          "tf_idf": 0.19402048097590474,
          "theme_name": "Chamber of Secrets"
         },
         {
          "color_name": "Trans-Red",
          "hex": "#C91A09",
          "name": "Quidditch Practice",
          "set_num": "4726-1",
          "tf_idf": 0.18972092128858087,
          "theme_name": "Chamber of Secrets"
         },
         {
          "color_name": "Brown",
          "hex": "#583927",
          "name": "Aragog in the Dark Forest",
          "set_num": "4727-1",
          "tf_idf": 0.7531618706011883,
          "theme_name": "Chamber of Secrets"
         },
         {
          "color_name": "Black",
          "hex": "#05131D",
          "name": "Aragog in the Dark Forest",
          "set_num": "4727-1",
          "tf_idf": 0.48360857997848955,
          "theme_name": "Chamber of Secrets"
         },
         {
          "color_name": "Dark Gray",
          "hex": "#6D6E5C",
          "name": "Aragog in the Dark Forest",
          "set_num": "4727-1",
          "tf_idf": 0.3396612357613202,
          "theme_name": "Chamber of Secrets"
         },
         {
          "color_name": "Light Gray",
          "hex": "#9BA19D",
          "name": "Aragog in the Dark Forest",
          "set_num": "4727-1",
          "tf_idf": 0.19228961382269436,
          "theme_name": "Chamber of Secrets"
         },
         {
          "color_name": "Green",
          "hex": "#237841",
          "name": "Aragog in the Dark Forest",
          "set_num": "4727-1",
          "tf_idf": 0.18945947283332,
          "theme_name": "Chamber of Secrets"
         },
         {
          "color_name": "Medium Blue",
          "hex": "#5A93DB",
          "name": "Escape from Privet Drive",
          "set_num": "4728-1",
          "tf_idf": 0.6867071634746749,
          "theme_name": "Chamber of Secrets"
         },
         {
          "color_name": "Light Gray",
          "hex": "#9BA19D",
          "name": "Escape from Privet Drive",
          "set_num": "4728-1",
          "tf_idf": 0.493856153290049,
          "theme_name": "Chamber of Secrets"
         },
         {
          "color_name": "Dark Gray",
          "hex": "#6D6E5C",
          "name": "Escape from Privet Drive",
          "set_num": "4728-1",
          "tf_idf": 0.3676122577669918,
          "theme_name": "Chamber of Secrets"
         },
         {
          "color_name": "Dark Orange",
          "hex": "#A95500",
          "name": "Escape from Privet Drive",
          "set_num": "4728-1",
          "tf_idf": 0.23053105187125206,
          "theme_name": "Chamber of Secrets"
         },
         {
          "color_name": "Black",
          "hex": "#05131D",
          "name": "Escape from Privet Drive",
          "set_num": "4728-1",
          "tf_idf": 0.20962246282251798,
          "theme_name": "Chamber of Secrets"
         },
         {
          "color_name": "Light Gray",
          "hex": "#9BA19D",
          "name": "Dumbledore's Office",
          "set_num": "4729-1",
          "tf_idf": 0.779888527832142,
          "theme_name": "Chamber of Secrets"
         },
         {
          "color_name": "Tan",
          "hex": "#E4CD9E",
          "name": "Dumbledore's Office",
          "set_num": "4729-1",
          "tf_idf": 0.3804998331706584,
          "theme_name": "Chamber of Secrets"
         },
         {
          "color_name": "Dark Gray",
          "hex": "#6D6E5C",
          "name": "Dumbledore's Office",
          "set_num": "4729-1",
          "tf_idf": 0.33801542785655997,
          "theme_name": "Chamber of Secrets"
         },
         {
          "color_name": "Black",
          "hex": "#05131D",
          "name": "Dumbledore's Office",
          "set_num": "4729-1",
          "tf_idf": 0.2573470792206156,
          "theme_name": "Chamber of Secrets"
         },
         {
          "color_name": "Sand Green",
          "hex": "#A0BCAC",
          "name": "Dumbledore's Office",
          "set_num": "4729-1",
          "tf_idf": 0.23750013012164625,
          "theme_name": "Chamber of Secrets"
         },
         {
          "color_name": "Dark Gray",
          "hex": "#6D6E5C",
          "name": "Chamber of Secrets",
          "set_num": "4730-1",
          "tf_idf": 0.655484628859837,
          "theme_name": "Chamber of Secrets"
         },
         {
          "color_name": "Light Gray",
          "hex": "#9BA19D",
          "name": "Chamber of Secrets",
          "set_num": "4730-1",
          "tf_idf": 0.6419368860423903,
          "theme_name": "Chamber of Secrets"
         },
         {
          "color_name": "Black",
          "hex": "#05131D",
          "name": "Chamber of Secrets",
          "set_num": "4730-1",
          "tf_idf": 0.3097700784400139,
          "theme_name": "Chamber of Secrets"
         },
         {
          "color_name": "Sand Green",
          "hex": "#A0BCAC",
          "name": "Chamber of Secrets",
          "set_num": "4730-1",
          "tf_idf": 0.23284529671797166,
          "theme_name": "Chamber of Secrets"
         },
         {
          "color_name": "Tan",
          "hex": "#E4CD9E",
          "name": "Chamber of Secrets",
          "set_num": "4730-1",
          "tf_idf": 0.06416699037205666,
          "theme_name": "Chamber of Secrets"
         },
         {
          "color_name": "Light Gray",
          "hex": "#9BA19D",
          "name": "Dobby's Release",
          "set_num": "4731-1",
          "tf_idf": 0.6887278579217415,
          "theme_name": "Chamber of Secrets"
         },
         {
          "color_name": "Dark Gray",
          "hex": "#6D6E5C",
          "name": "Dobby's Release",
          "set_num": "4731-1",
          "tf_idf": 0.392041096911469,
          "theme_name": "Chamber of Secrets"
         },
         {
          "color_name": "Tan",
          "hex": "#E4CD9E",
          "name": "Dobby's Release",
          "set_num": "4731-1",
          "tf_idf": 0.3863371235766521,
          "theme_name": "Chamber of Secrets"
         },
         {
          "color_name": "Sand Green",
          "hex": "#A0BCAC",
          "name": "Dobby's Release",
          "set_num": "4731-1",
          "tf_idf": 0.3724899725231757,
          "theme_name": "Chamber of Secrets"
         },
         {
          "color_name": "Black",
          "hex": "#05131D",
          "name": "Dobby's Release",
          "set_num": "4731-1",
          "tf_idf": 0.23419780301891693,
          "theme_name": "Chamber of Secrets"
         },
         {
          "color_name": "Light Gray",
          "hex": "#9BA19D",
          "name": "The Dueling Club",
          "set_num": "4733-1",
          "tf_idf": 0.6297968936531257,
          "theme_name": "Chamber of Secrets"
         },
         {
          "color_name": "Dark Gray",
          "hex": "#6D6E5C",
          "name": "The Dueling Club",
          "set_num": "4733-1",
          "tf_idf": 0.6136756504038152,
          "theme_name": "Chamber of Secrets"
         },
         {
          "color_name": "Tan",
          "hex": "#E4CD9E",
          "name": "The Dueling Club",
          "set_num": "4733-1",
          "tf_idf": 0.38787222745717503,
          "theme_name": "Chamber of Secrets"
         },
         {
          "color_name": "Black",
          "hex": "#05131D",
          "name": "The Dueling Club",
          "set_num": "4733-1",
          "tf_idf": 0.1861720342045235,
          "theme_name": "Chamber of Secrets"
         },
         {
          "color_name": "Sand Green",
          "hex": "#A0BCAC",
          "name": "The Dueling Club",
          "set_num": "4733-1",
          "tf_idf": 0.16450295673977133,
          "theme_name": "Chamber of Secrets"
         },
         {
          "color_name": "Light Gray",
          "hex": "#9BA19D",
          "name": "Slytherin",
          "set_num": "4735-1",
          "tf_idf": 0.68509640376356,
          "theme_name": "Chamber of Secrets"
         },
         {
          "color_name": "Black",
          "hex": "#05131D",
          "name": "Slytherin",
          "set_num": "4735-1",
          "tf_idf": 0.6218763010143672,
          "theme_name": "Chamber of Secrets"
         },
         {
          "color_name": "Dark Gray",
          "hex": "#6D6E5C",
          "name": "Slytherin",
          "set_num": "4735-1",
          "tf_idf": 0.23437830262160614,
          "theme_name": "Chamber of Secrets"
         },
         {
          "color_name": "Green",
          "hex": "#237841",
          "name": "Slytherin",
          "set_num": "4735-1",
          "tf_idf": 0.18792977653358325,
          "theme_name": "Chamber of Secrets"
         },
         {
          "color_name": "Brown",
          "hex": "#583927",
          "name": "Slytherin",
          "set_num": "4735-1",
          "tf_idf": 0.16741307330114724,
          "theme_name": "Chamber of Secrets"
         }
        ]
       },
       "encoding": {
        "color": {
         "field": "hex",
         "scale": null,
         "title": "Colour",
         "type": "nominal"
        },
        "column": {
         "field": "name",
         "title": "Set name",
         "type": "nominal"
        },
        "tooltip": [
         {
          "field": "hex",
          "type": "nominal"
         }
        ],
        "x": {
         "field": "color_name",
         "sort": {
          "field": "tf_idf:Q",
          "order": "ascending"
         },
         "title": "Colour",
         "type": "nominal"
        },
        "y": {
         "field": "tf_idf",
         "title": "TF-IDF",
         "type": "quantitative"
        }
       },
       "mark": "bar",
       "resolve": {
        "scale": {
         "x": "independent"
        }
       }
      },
      "image/png": "[encoded data removed]",
      "text/plain": [
       "<VegaLite 3 object>\n",
       "\n",
       "If you see this message, it means the renderer has not been properly enabled\n",
       "for the frontend that you are using. For more information, see\n",
       "https://altair-viz.github.io/user_guide/troubleshooting.html\n"
      ]
     },
     "execution_count": 49,
     "metadata": {},
     "output_type": "execute_result"
    }
   ],
   "source": [
    "alt.Chart(largest_colors_tfidf[largest_colors_tfidf['theme_name']==\"Chamber of Secrets\"]).mark_bar().encode(\n",
    "    y=alt.X('tf_idf', title='TF-IDF'),\n",
    "    x=alt.X('color_name', sort=alt.Sort(field='tf_idf:Q', order='ascending'), title='Colour'),\n",
    "    color=alt.Color(\"hex:N\", scale=None, title='Colour'),\n",
    "    tooltip=['hex'],\n",
    "    column=alt.Column('name', title='Set name')\n",
    ").resolve_scale(x='independent').configure_view(\n",
    "    fill='#f4f4f4'\n",
    ")"
   ]
  },
  {
   "cell_type": "markdown",
   "metadata": {},
   "source": [
    "### Prisoner of Azkaban"
   ]
  },
  {
   "cell_type": "code",
   "execution_count": 50,
   "metadata": {},
   "outputs": [
    {
     "data": {
      "application/vnd.vegalite.v3+json": {
       "$schema": "https://vega.github.io/schema/vega-lite/v3.2.1.json",
       "config": {
        "mark": {
         "tooltip": null
        },
        "view": {
         "fill": "#f4f4f4",
         "height": 300,
         "width": 400
        }
       },
       "data": {
        "name": "data-1c45a02f30998712d73ecdeb6652438f"
       },
       "datasets": {
        "data-1c45a02f30998712d73ecdeb6652438f": [
         {
          "color_name": "Dark Bluish Gray",
          "hex": "#6C6E68",
          "name": "Motorized Hogwarts Express",
          "set_num": "10132-1",
          "tf_idf": 0.5732180624626203,
          "theme_name": "Prisoner of Azkaban"
         },
         {
          "color_name": "Black",
          "hex": "#05131D",
          "name": "Motorized Hogwarts Express",
          "set_num": "10132-1",
          "tf_idf": 0.5245109646265668,
          "theme_name": "Prisoner of Azkaban"
         },
         {
          "color_name": "Trans-Red",
          "hex": "#C91A09",
          "name": "Motorized Hogwarts Express",
          "set_num": "10132-1",
          "tf_idf": 0.4137646807265334,
          "theme_name": "Prisoner of Azkaban"
         },
         {
          "color_name": "Light Bluish Gray",
          "hex": "#A0A5A9",
          "name": "Motorized Hogwarts Express",
          "set_num": "10132-1",
          "tf_idf": 0.34624609650381394,
          "theme_name": "Prisoner of Azkaban"
         },
         {
          "color_name": "Dark Red",
          "hex": "#720E0F",
          "name": "Motorized Hogwarts Express",
          "set_num": "10132-1",
          "tf_idf": 0.27092830769256976,
          "theme_name": "Prisoner of Azkaban"
         },
         {
          "color_name": "Dark Purple",
          "hex": "#3F3691",
          "name": "Knight Bus - Mini",
          "set_num": "4695-1",
          "tf_idf": 0.9722994904129572,
          "theme_name": "Prisoner of Azkaban"
         },
         {
          "color_name": "Trans-Clear",
          "hex": "#FCFCFC",
          "name": "Knight Bus - Mini",
          "set_num": "4695-1",
          "tf_idf": 0.21544487495774106,
          "theme_name": "Prisoner of Azkaban"
         },
         {
          "color_name": "Black",
          "hex": "#05131D",
          "name": "Knight Bus - Mini",
          "set_num": "4695-1",
          "tf_idf": 0.08574882874550521,
          "theme_name": "Prisoner of Azkaban"
         },
         {
          "color_name": "Light Bluish Gray",
          "hex": "#A0A5A9",
          "name": "Knight Bus - Mini",
          "set_num": "4695-1",
          "tf_idf": 0.029399747718665516,
          "theme_name": "Prisoner of Azkaban"
         },
         {
          "color_name": "Dark Pink",
          "hex": "#C870A0",
          "name": "Knight Bus - Mini",
          "set_num": "4695-1",
          "tf_idf": 0,
          "theme_name": "Prisoner of Azkaban"
         },
         {
          "color_name": "Dark Bluish Gray",
          "hex": "#6C6E68",
          "name": "Draco's Encounter with Buckbeak",
          "set_num": "4750-1",
          "tf_idf": 0.6557691146431693,
          "theme_name": "Prisoner of Azkaban"
         },
         {
          "color_name": "Light Bluish Gray",
          "hex": "#A0A5A9",
          "name": "Draco's Encounter with Buckbeak",
          "set_num": "4750-1",
          "tf_idf": 0.5011254066800486,
          "theme_name": "Prisoner of Azkaban"
         },
         {
          "color_name": "Reddish Brown",
          "hex": "#582A12",
          "name": "Draco's Encounter with Buckbeak",
          "set_num": "4750-1",
          "tf_idf": 0.3934614687859016,
          "theme_name": "Prisoner of Azkaban"
         },
         {
          "color_name": "Green",
          "hex": "#237841",
          "name": "Draco's Encounter with Buckbeak",
          "set_num": "4750-1",
          "tf_idf": 0.26641928135593773,
          "theme_name": "Prisoner of Azkaban"
         },
         {
          "color_name": "Tan",
          "hex": "#E4CD9E",
          "name": "Draco's Encounter with Buckbeak",
          "set_num": "4750-1",
          "tf_idf": 0.19645973623554686,
          "theme_name": "Prisoner of Azkaban"
         },
         {
          "color_name": "Light Bluish Gray",
          "hex": "#A0A5A9",
          "name": "Harry and the Marauder's Map",
          "set_num": "4751-1",
          "tf_idf": 0.5943950801733946,
          "theme_name": "Prisoner of Azkaban"
         },
         {
          "color_name": "Dark Bluish Gray",
          "hex": "#6C6E68",
          "name": "Harry and the Marauder's Map",
          "set_num": "4751-1",
          "tf_idf": 0.5475860830751872,
          "theme_name": "Prisoner of Azkaban"
         },
         {
          "color_name": "Tan",
          "hex": "#E4CD9E",
          "name": "Harry and the Marauder's Map",
          "set_num": "4751-1",
          "tf_idf": 0.3541978567704018,
          "theme_name": "Prisoner of Azkaban"
         },
         {
          "color_name": "Reddish Brown",
          "hex": "#582A12",
          "name": "Harry and the Marauder's Map",
          "set_num": "4751-1",
          "tf_idf": 0.34846387104784643,
          "theme_name": "Prisoner of Azkaban"
         },
         {
          "color_name": "Black",
          "hex": "#05131D",
          "name": "Harry and the Marauder's Map",
          "set_num": "4751-1",
          "tf_idf": 0.27738296219242675,
          "theme_name": "Prisoner of Azkaban"
         },
         {
          "color_name": "Dark Bluish Gray",
          "hex": "#6C6E68",
          "name": "Professor Lupin's Classroom",
          "set_num": "4752-1",
          "tf_idf": 0.6770911407245039,
          "theme_name": "Prisoner of Azkaban"
         },
         {
          "color_name": "Sand Green",
          "hex": "#A0BCAC",
          "name": "Professor Lupin's Classroom",
          "set_num": "4752-1",
          "tf_idf": 0.4314199457655317,
          "theme_name": "Prisoner of Azkaban"
         },
         {
          "color_name": "Black",
          "hex": "#05131D",
          "name": "Professor Lupin's Classroom",
          "set_num": "4752-1",
          "tf_idf": 0.30823771635691916,
          "theme_name": "Prisoner of Azkaban"
         },
         {
          "color_name": "Light Bluish Gray",
          "hex": "#A0A5A9",
          "name": "Professor Lupin's Classroom",
          "set_num": "4752-1",
          "tf_idf": 0.28534150638896344,
          "theme_name": "Prisoner of Azkaban"
         },
         {
          "color_name": "Tan",
          "hex": "#E4CD9E",
          "name": "Professor Lupin's Classroom",
          "set_num": "4752-1",
          "tf_idf": 0.26847467560799476,
          "theme_name": "Prisoner of Azkaban"
         },
         {
          "color_name": "Dark Bluish Gray",
          "hex": "#6C6E68",
          "name": "Sirius Black's Escape",
          "set_num": "4753-1",
          "tf_idf": 0.8552091796803533,
          "theme_name": "Prisoner of Azkaban"
         },
         {
          "color_name": "Light Bluish Gray",
          "hex": "#A0A5A9",
          "name": "Sirius Black's Escape",
          "set_num": "4753-1",
          "tf_idf": 0.3753401536506161,
          "theme_name": "Prisoner of Azkaban"
         },
         {
          "color_name": "Tan",
          "hex": "#E4CD9E",
          "name": "Sirius Black's Escape",
          "set_num": "4753-1",
          "tf_idf": 0.24236018332901577,
          "theme_name": "Prisoner of Azkaban"
         },
         {
          "color_name": "Black",
          "hex": "#05131D",
          "name": "Sirius Black's Escape",
          "set_num": "4753-1",
          "tf_idf": 0.15025795862883978,
          "theme_name": "Prisoner of Azkaban"
         },
         {
          "color_name": "Dark Orange",
          "hex": "#A95500",
          "name": "Sirius Black's Escape",
          "set_num": "4753-1",
          "tf_idf": 0.14369155899041045,
          "theme_name": "Prisoner of Azkaban"
         },
         {
          "color_name": "Light Bluish Gray",
          "hex": "#A0A5A9",
          "name": "Hagrid's Hut (2nd edition)",
          "set_num": "4754-1",
          "tf_idf": 0.7623421607469199,
          "theme_name": "Prisoner of Azkaban"
         },
         {
          "color_name": "Dark Bluish Gray",
          "hex": "#6C6E68",
          "name": "Hagrid's Hut (2nd edition)",
          "set_num": "4754-1",
          "tf_idf": 0.38275092130024035,
          "theme_name": "Prisoner of Azkaban"
         },
         {
          "color_name": "Reddish Brown",
          "hex": "#582A12",
          "name": "Hagrid's Hut (2nd edition)",
          "set_num": "4754-1",
          "tf_idf": 0.3583200114300122,
          "theme_name": "Prisoner of Azkaban"
         },
         {
          "color_name": "Sand Green",
          "hex": "#A0BCAC",
          "name": "Hagrid's Hut (2nd edition)",
          "set_num": "4754-1",
          "tf_idf": 0.2967081225942239,
          "theme_name": "Prisoner of Azkaban"
         },
         {
          "color_name": "Black",
          "hex": "#05131D",
          "name": "Hagrid's Hut (2nd edition)",
          "set_num": "4754-1",
          "tf_idf": 0.21176063599466263,
          "theme_name": "Prisoner of Azkaban"
         },
         {
          "color_name": "Dark Purple",
          "hex": "#3F3691",
          "name": "Knight Bus",
          "set_num": "4755-1",
          "tf_idf": 0.9759525622444019,
          "theme_name": "Prisoner of Azkaban"
         },
         {
          "color_name": "Black",
          "hex": "#05131D",
          "name": "Knight Bus",
          "set_num": "4755-1",
          "tf_idf": 0.18154605301883642,
          "theme_name": "Prisoner of Azkaban"
         },
         {
          "color_name": "Trans-Clear",
          "hex": "#FCFCFC",
          "name": "Knight Bus",
          "set_num": "4755-1",
          "tf_idf": 0.10503781886670042,
          "theme_name": "Prisoner of Azkaban"
         },
         {
          "color_name": "White",
          "hex": "#FFFFFF",
          "name": "Knight Bus",
          "set_num": "4755-1",
          "tf_idf": 0.04717679892164352,
          "theme_name": "Prisoner of Azkaban"
         },
         {
          "color_name": "Light Bluish Gray",
          "hex": "#A0A5A9",
          "name": "Knight Bus",
          "set_num": "4755-1",
          "tf_idf": 0.020903063209555713,
          "theme_name": "Prisoner of Azkaban"
         },
         {
          "color_name": "Reddish Brown",
          "hex": "#582A12",
          "name": "Shrieking Shack",
          "set_num": "4756-1",
          "tf_idf": 0.686893030290909,
          "theme_name": "Prisoner of Azkaban"
         },
         {
          "color_name": "Dark Bluish Gray",
          "hex": "#6C6E68",
          "name": "Shrieking Shack",
          "set_num": "4756-1",
          "tf_idf": 0.401767621490909,
          "theme_name": "Prisoner of Azkaban"
         },
         {
          "color_name": "Light Bluish Gray",
          "hex": "#A0A5A9",
          "name": "Shrieking Shack",
          "set_num": "4756-1",
          "tf_idf": 0.3713983509691444,
          "theme_name": "Prisoner of Azkaban"
         },
         {
          "color_name": "White",
          "hex": "#FFFFFF",
          "name": "Shrieking Shack",
          "set_num": "4756-1",
          "tf_idf": 0.2993646219600743,
          "theme_name": "Prisoner of Azkaban"
         },
         {
          "color_name": "Black",
          "hex": "#05131D",
          "name": "Shrieking Shack",
          "set_num": "4756-1",
          "tf_idf": 0.23670793217579608,
          "theme_name": "Prisoner of Azkaban"
         },
         {
          "color_name": "Light Bluish Gray",
          "hex": "#A0A5A9",
          "name": "Hogwarts Castle (2nd edition)",
          "set_num": "4757-1",
          "tf_idf": 0.5897989313833993,
          "theme_name": "Prisoner of Azkaban"
         },
         {
          "color_name": "Tan",
          "hex": "#E4CD9E",
          "name": "Hogwarts Castle (2nd edition)",
          "set_num": "4757-1",
          "tf_idf": 0.5033918376918244,
          "theme_name": "Prisoner of Azkaban"
         },
         {
          "color_name": "Dark Bluish Gray",
          "hex": "#6C6E68",
          "name": "Hogwarts Castle (2nd edition)",
          "set_num": "4757-1",
          "tf_idf": 0.43735710357901403,
          "theme_name": "Prisoner of Azkaban"
         },
         {
          "color_name": "Black",
          "hex": "#05131D",
          "name": "Hogwarts Castle (2nd edition)",
          "set_num": "4757-1",
          "tf_idf": 0.33648176733676216,
          "theme_name": "Prisoner of Azkaban"
         },
         {
          "color_name": "Reddish Brown",
          "hex": "#582A12",
          "name": "Hogwarts Castle (2nd edition)",
          "set_num": "4757-1",
          "tf_idf": 0.24440544023533134,
          "theme_name": "Prisoner of Azkaban"
         },
         {
          "color_name": "Black",
          "hex": "#05131D",
          "name": "Hogwarts Express (2nd edition)",
          "set_num": "4758-1",
          "tf_idf": 0.6494602038778607,
          "theme_name": "Prisoner of Azkaban"
         },
         {
          "color_name": "Trans-Red",
          "hex": "#C91A09",
          "name": "Hogwarts Express (2nd edition)",
          "set_num": "4758-1",
          "tf_idf": 0.5241995643200751,
          "theme_name": "Prisoner of Azkaban"
         },
         {
          "color_name": "Dark Bluish Gray",
          "hex": "#6C6E68",
          "name": "Hogwarts Express (2nd edition)",
          "set_num": "4758-1",
          "tf_idf": 0.49102071230236144,
          "theme_name": "Prisoner of Azkaban"
         },
         {
          "color_name": "Reddish Brown",
          "hex": "#582A12",
          "name": "Hogwarts Express (2nd edition)",
          "set_num": "4758-1",
          "tf_idf": 0.12647503195666887,
          "theme_name": "Prisoner of Azkaban"
         },
         {
          "color_name": "Trans-Neon Orange",
          "hex": "#FF800D",
          "name": "Hogwarts Express (2nd edition)",
          "set_num": "4758-1",
          "tf_idf": 0.10415590867019787,
          "theme_name": "Prisoner of Azkaban"
         }
        ]
       },
       "encoding": {
        "color": {
         "field": "hex",
         "scale": null,
         "title": "Colour",
         "type": "nominal"
        },
        "column": {
         "field": "name",
         "title": "Set name",
         "type": "nominal"
        },
        "tooltip": [
         {
          "field": "hex",
          "type": "nominal"
         }
        ],
        "x": {
         "field": "color_name",
         "sort": {
          "field": "tf_idf:Q",
          "order": "ascending"
         },
         "title": "Colour",
         "type": "nominal"
        },
        "y": {
         "field": "tf_idf",
         "title": "TF-IDF",
         "type": "quantitative"
        }
       },
       "mark": "bar",
       "resolve": {
        "scale": {
         "x": "independent"
        }
       }
      },
      "image/png": "[encoded data removed]",
      "text/plain": [
       "<VegaLite 3 object>\n",
       "\n",
       "If you see this message, it means the renderer has not been properly enabled\n",
       "for the frontend that you are using. For more information, see\n",
       "https://altair-viz.github.io/user_guide/troubleshooting.html\n"
      ]
     },
     "execution_count": 50,
     "metadata": {},
     "output_type": "execute_result"
    }
   ],
   "source": [
    "alt.Chart(largest_colors_tfidf[largest_colors_tfidf['theme_name']==\"Prisoner of Azkaban\"]).mark_bar().encode(\n",
    "    y=alt.X('tf_idf', title='TF-IDF'),\n",
    "    x=alt.X('color_name', sort=alt.Sort(field='tf_idf:Q', order='ascending'), title='Colour'),\n",
    "    color=alt.Color(\"hex:N\", scale=None, title='Colour'),\n",
    "    tooltip=['hex'],\n",
    "    column=alt.Column('name', title='Set name')\n",
    ").resolve_scale(x='independent').configure_view(\n",
    "    fill='#f4f4f4'\n",
    ")"
   ]
  },
  {
   "cell_type": "markdown",
   "metadata": {},
   "source": [
    "### Goblet of Fire"
   ]
  },
  {
   "cell_type": "code",
   "execution_count": 51,
   "metadata": {},
   "outputs": [
    {
     "data": {
      "application/vnd.vegalite.v3+json": {
       "$schema": "https://vega.github.io/schema/vega-lite/v3.2.1.json",
       "config": {
        "mark": {
         "tooltip": null
        },
        "view": {
         "fill": "#f4f4f4",
         "height": 300,
         "width": 400
        }
       },
       "data": {
        "name": "data-171256b97035d6a378b69a967e35f8b7"
       },
       "datasets": {
        "data-171256b97035d6a378b69a967e35f8b7": [
         {
          "color_name": "Medium Blue",
          "hex": "#5A93DB",
          "name": "Rescue from the Merpeople",
          "set_num": "4762-1",
          "tf_idf": 0.5860677959355479,
          "theme_name": "Goblet of Fire"
         },
         {
          "color_name": "Blue",
          "hex": "#0055BF",
          "name": "Rescue from the Merpeople",
          "set_num": "4762-1",
          "tf_idf": 0.4173818946751439,
          "theme_name": "Goblet of Fire"
         },
         {
          "color_name": "Dark Bluish Gray",
          "hex": "#6C6E68",
          "name": "Rescue from the Merpeople",
          "set_num": "4762-1",
          "tf_idf": 0.3792245653230373,
          "theme_name": "Goblet of Fire"
         },
         {
          "color_name": "Dark Blue",
          "hex": "#0A3463",
          "name": "Rescue from the Merpeople",
          "set_num": "4762-1",
          "tf_idf": 0.36575858647535037,
          "theme_name": "Goblet of Fire"
         },
         {
          "color_name": "Trans-Green",
          "hex": "#84B68D",
          "name": "Rescue from the Merpeople",
          "set_num": "4762-1",
          "tf_idf": 0.21982607808906005,
          "theme_name": "Goblet of Fire"
         },
         {
          "color_name": "Dark Bluish Gray",
          "hex": "#6C6E68",
          "name": "Graveyard Duel",
          "set_num": "4766-1",
          "tf_idf": 0.7287062798831485,
          "theme_name": "Goblet of Fire"
         },
         {
          "color_name": "Black",
          "hex": "#05131D",
          "name": "Graveyard Duel",
          "set_num": "4766-1",
          "tf_idf": 0.4044877912531243,
          "theme_name": "Goblet of Fire"
         },
         {
          "color_name": "Reddish Brown",
          "hex": "#582A12",
          "name": "Graveyard Duel",
          "set_num": "4766-1",
          "tf_idf": 0.33168699636060556,
          "theme_name": "Goblet of Fire"
         },
         {
          "color_name": "Tan",
          "hex": "#E4CD9E",
          "name": "Graveyard Duel",
          "set_num": "4766-1",
          "tf_idf": 0.28982633301544636,
          "theme_name": "Goblet of Fire"
         },
         {
          "color_name": "Light Bluish Gray",
          "hex": "#A0A5A9",
          "name": "Graveyard Duel",
          "set_num": "4766-1",
          "tf_idf": 0.27843125171841443,
          "theme_name": "Goblet of Fire"
         },
         {
          "color_name": "Dark Orange",
          "hex": "#A95500",
          "name": "Harry and the Hungarian Horntail",
          "set_num": "4767-1",
          "tf_idf": 0.6927301484489914,
          "theme_name": "Goblet of Fire"
         },
         {
          "color_name": "Light Bluish Gray",
          "hex": "#A0A5A9",
          "name": "Harry and the Hungarian Horntail",
          "set_num": "4767-1",
          "tf_idf": 0.5322049906638009,
          "theme_name": "Goblet of Fire"
         },
         {
          "color_name": "Dark Bluish Gray",
          "hex": "#6C6E68",
          "name": "Harry and the Hungarian Horntail",
          "set_num": "4767-1",
          "tf_idf": 0.3105435751455057,
          "theme_name": "Goblet of Fire"
         },
         {
          "color_name": "Black",
          "hex": "#05131D",
          "name": "Harry and the Hungarian Horntail",
          "set_num": "4767-1",
          "tf_idf": 0.2544683071669375,
          "theme_name": "Goblet of Fire"
         },
         {
          "color_name": "Tan",
          "hex": "#E4CD9E",
          "name": "Harry and the Hungarian Horntail",
          "set_num": "4767-1",
          "tf_idf": 0.24626842853127673,
          "theme_name": "Goblet of Fire"
         },
         {
          "color_name": "Medium Blue",
          "hex": "#5A93DB",
          "name": "The Durmstrang Ship",
          "set_num": "4768-1",
          "tf_idf": 0.5689674341249796,
          "theme_name": "Goblet of Fire"
         },
         {
          "color_name": "Dark Red",
          "hex": "#720E0F",
          "name": "The Durmstrang Ship",
          "set_num": "4768-1",
          "tf_idf": 0.5559450761084213,
          "theme_name": "Goblet of Fire"
         },
         {
          "color_name": "Tan",
          "hex": "#E4CD9E",
          "name": "The Durmstrang Ship",
          "set_num": "4768-1",
          "tf_idf": 0.3778158260095811,
          "theme_name": "Goblet of Fire"
         },
         {
          "color_name": "Black",
          "hex": "#05131D",
          "name": "The Durmstrang Ship",
          "set_num": "4768-1",
          "tf_idf": 0.34793167189502017,
          "theme_name": "Goblet of Fire"
         },
         {
          "color_name": "Dark Bluish Gray",
          "hex": "#6C6E68",
          "name": "The Durmstrang Ship",
          "set_num": "4768-1",
          "tf_idf": 0.27434962889313763,
          "theme_name": "Goblet of Fire"
         },
         {
          "color_name": "Medium Blue",
          "hex": "#5A93DB",
          "name": "The Durmstrang Ship with Bonus Mini - Figures (Target exclusive)",
          "set_num": "4768-2",
          "tf_idf": 0.563551969912718,
          "theme_name": "Goblet of Fire"
         },
         {
          "color_name": "Dark Red",
          "hex": "#720E0F",
          "name": "The Durmstrang Ship with Bonus Mini - Figures (Target exclusive)",
          "set_num": "4768-2",
          "tf_idf": 0.5506535594361563,
          "theme_name": "Goblet of Fire"
         },
         {
          "color_name": "Tan",
          "hex": "#E4CD9E",
          "name": "The Durmstrang Ship with Bonus Mini - Figures (Target exclusive)",
          "set_num": "4768-2",
          "tf_idf": 0.3742197536127003,
          "theme_name": "Goblet of Fire"
         },
         {
          "color_name": "Black",
          "hex": "#05131D",
          "name": "The Durmstrang Ship with Bonus Mini - Figures (Target exclusive)",
          "set_num": "4768-2",
          "tf_idf": 0.3500471257884322,
          "theme_name": "Goblet of Fire"
         },
         {
          "color_name": "Dark Bluish Gray",
          "hex": "#6C6E68",
          "name": "The Durmstrang Ship with Bonus Mini - Figures (Target exclusive)",
          "set_num": "4768-2",
          "tf_idf": 0.28926986029586843,
          "theme_name": "Goblet of Fire"
         }
        ]
       },
       "encoding": {
        "color": {
         "field": "hex",
         "scale": null,
         "title": "Colour",
         "type": "nominal"
        },
        "column": {
         "field": "name",
         "title": "Set name",
         "type": "nominal"
        },
        "tooltip": [
         {
          "field": "hex",
          "type": "nominal"
         }
        ],
        "x": {
         "field": "color_name",
         "sort": {
          "field": "tf_idf:Q",
          "order": "ascending"
         },
         "title": "Colour",
         "type": "nominal"
        },
        "y": {
         "field": "tf_idf",
         "title": "TF-IDF",
         "type": "quantitative"
        }
       },
       "mark": "bar",
       "resolve": {
        "scale": {
         "x": "independent"
        }
       }
      },
      "image/png": "[encoded data removed]",
      "text/plain": [
       "<VegaLite 3 object>\n",
       "\n",
       "If you see this message, it means the renderer has not been properly enabled\n",
       "for the frontend that you are using. For more information, see\n",
       "https://altair-viz.github.io/user_guide/troubleshooting.html\n"
      ]
     },
     "execution_count": 51,
     "metadata": {},
     "output_type": "execute_result"
    }
   ],
   "source": [
    "alt.Chart(largest_colors_tfidf[largest_colors_tfidf['theme_name']==\"Goblet of Fire\"]).mark_bar().encode(\n",
    "    y=alt.X('tf_idf', title='TF-IDF'),\n",
    "    x=alt.X('color_name', sort=alt.Sort(field='tf_idf:Q', order='ascending'), title='Colour'),\n",
    "    color=alt.Color(\"hex:N\", scale=None, title='Colour'),\n",
    "    tooltip=['hex'],\n",
    "    column=alt.Column('name', title='Set name')\n",
    ").resolve_scale(x='independent').configure_view(\n",
    "    fill='#f4f4f4'\n",
    ")"
   ]
  },
  {
   "cell_type": "markdown",
   "metadata": {},
   "source": [
    "### Order of the Phoenix"
   ]
  },
  {
   "cell_type": "code",
   "execution_count": 52,
   "metadata": {},
   "outputs": [
    {
     "data": {
      "application/vnd.vegalite.v3+json": {
       "$schema": "https://vega.github.io/schema/vega-lite/v3.2.1.json",
       "config": {
        "mark": {
         "tooltip": null
        },
        "view": {
         "fill": "#f4f4f4",
         "height": 300,
         "width": 400
        }
       },
       "data": {
        "name": "data-03980f1b70be127a563147bb6f1b8aa9"
       },
       "datasets": {
        "data-03980f1b70be127a563147bb6f1b8aa9": [
         {
          "color_name": "Light Bluish Gray",
          "hex": "#A0A5A9",
          "name": "Hogwarts (Third Edition)",
          "set_num": "5378-1",
          "tf_idf": 0.7433868293199398,
          "theme_name": "Order of the Phoenix"
         },
         {
          "color_name": "Dark Bluish Gray",
          "hex": "#6C6E68",
          "name": "Hogwarts (Third Edition)",
          "set_num": "5378-1",
          "tf_idf": 0.44595347823055653,
          "theme_name": "Order of the Phoenix"
         },
         {
          "color_name": "Tan",
          "hex": "#E4CD9E",
          "name": "Hogwarts (Third Edition)",
          "set_num": "5378-1",
          "tf_idf": 0.3110825110778972,
          "theme_name": "Order of the Phoenix"
         },
         {
          "color_name": "Reddish Brown",
          "hex": "#582A12",
          "name": "Hogwarts (Third Edition)",
          "set_num": "5378-1",
          "tf_idf": 0.26232557542973917,
          "theme_name": "Order of the Phoenix"
         },
         {
          "color_name": "Black",
          "hex": "#05131D",
          "name": "Hogwarts (Third Edition)",
          "set_num": "5378-1",
          "tf_idf": 0.24361804217516708,
          "theme_name": "Order of the Phoenix"
         }
        ]
       },
       "encoding": {
        "color": {
         "field": "hex",
         "scale": null,
         "title": "Colour",
         "type": "nominal"
        },
        "column": {
         "field": "name",
         "title": "Set name",
         "type": "nominal"
        },
        "tooltip": [
         {
          "field": "hex",
          "type": "nominal"
         }
        ],
        "x": {
         "field": "color_name",
         "sort": {
          "field": "tf_idf:Q",
          "order": "ascending"
         },
         "title": "Colour",
         "type": "nominal"
        },
        "y": {
         "field": "tf_idf",
         "title": "TF-IDF",
         "type": "quantitative"
        }
       },
       "mark": "bar",
       "resolve": {
        "scale": {
         "x": "independent"
        }
       }
      },
      "image/png": "[encoded data removed]",
      "text/plain": [
       "<VegaLite 3 object>\n",
       "\n",
       "If you see this message, it means the renderer has not been properly enabled\n",
       "for the frontend that you are using. For more information, see\n",
       "https://altair-viz.github.io/user_guide/troubleshooting.html\n"
      ]
     },
     "execution_count": 52,
     "metadata": {},
     "output_type": "execute_result"
    }
   ],
   "source": [
    "alt.Chart(largest_colors_tfidf[largest_colors_tfidf['theme_name']==\"Order of the Phoenix\"]).mark_bar().encode(\n",
    "    y=alt.X('tf_idf', title='TF-IDF'),\n",
    "    x=alt.X('color_name', sort=alt.Sort(field='tf_idf:Q', order='ascending'), title='Colour'),\n",
    "    color=alt.Color(\"hex:N\", scale=None, title='Colour'),\n",
    "    tooltip=['hex'],\n",
    "    column=alt.Column('name', title='Set name')\n",
    ").resolve_scale(x='independent').configure_view(\n",
    "    fill='#f4f4f4'\n",
    ")"
   ]
  },
  {
   "cell_type": "markdown",
   "metadata": {},
   "source": [
    "### Harry Potter"
   ]
  },
  {
   "cell_type": "code",
   "execution_count": 53,
   "metadata": {},
   "outputs": [
    {
     "data": {
      "application/vnd.vegalite.v3+json": {
       "$schema": "https://vega.github.io/schema/vega-lite/v3.2.1.json",
       "config": {
        "mark": {
         "tooltip": null
        },
        "view": {
         "fill": "#f4f4f4",
         "height": 300,
         "width": 400
        }
       },
       "data": {
        "name": "data-db9d1f15e57669049a868b6710392117"
       },
       "datasets": {
        "data-db9d1f15e57669049a868b6710392117": [
         {
          "color_name": "White",
          "hex": "#FFFFFF",
          "name": "Diagon Alley",
          "set_num": "10217-1",
          "tf_idf": 0.493879916134996,
          "theme_name": "Harry Potter"
         },
         {
          "color_name": "Black",
          "hex": "#05131D",
          "name": "Diagon Alley",
          "set_num": "10217-1",
          "tf_idf": 0.4823837230545351,
          "theme_name": "Harry Potter"
         },
         {
          "color_name": "Reddish Brown",
          "hex": "#582A12",
          "name": "Diagon Alley",
          "set_num": "10217-1",
          "tf_idf": 0.3974133148500065,
          "theme_name": "Harry Potter"
         },
         {
          "color_name": "Dark Bluish Gray",
          "hex": "#6C6E68",
          "name": "Diagon Alley",
          "set_num": "10217-1",
          "tf_idf": 0.3242055989565843,
          "theme_name": "Harry Potter"
         },
         {
          "color_name": "Tan",
          "hex": "#E4CD9E",
          "name": "Diagon Alley",
          "set_num": "10217-1",
          "tf_idf": 0.2597904904352064,
          "theme_name": "Harry Potter"
         },
         {
          "color_name": "Pearl Gold",
          "hex": "#AA7F2E",
          "name": "Trolley",
          "set_num": "30110-1",
          "tf_idf": 0.8550323836834351,
          "theme_name": "Harry Potter"
         },
         {
          "color_name": "Dark Bluish Gray",
          "hex": "#6C6E68",
          "name": "Trolley",
          "set_num": "30110-1",
          "tf_idf": 0.2729320905476346,
          "theme_name": "Harry Potter"
         },
         {
          "color_name": "Reddish Brown",
          "hex": "#582A12",
          "name": "Trolley",
          "set_num": "30110-1",
          "tf_idf": 0.2729320905476346,
          "theme_name": "Harry Potter"
         },
         {
          "color_name": "Black",
          "hex": "#05131D",
          "name": "Trolley",
          "set_num": "30110-1",
          "tf_idf": 0.22530503321493608,
          "theme_name": "Harry Potter"
         },
         {
          "color_name": "Light Bluish Gray",
          "hex": "#A0A5A9",
          "name": "Trolley",
          "set_num": "30110-1",
          "tf_idf": 0.1738076225020945,
          "theme_name": "Harry Potter"
         },
         {
          "color_name": "Pearl Gold",
          "hex": "#AA7F2E",
          "name": "The Lab",
          "set_num": "30111-1",
          "tf_idf": 0.8277930556494476,
          "theme_name": "Harry Potter"
         },
         {
          "color_name": "Reddish Brown",
          "hex": "#582A12",
          "name": "The Lab",
          "set_num": "30111-1",
          "tf_idf": 0.3699319592367778,
          "theme_name": "Harry Potter"
         },
         {
          "color_name": "Tan",
          "hex": "#E4CD9E",
          "name": "The Lab",
          "set_num": "30111-1",
          "tf_idf": 0.32324457813308755,
          "theme_name": "Harry Potter"
         },
         {
          "color_name": "White",
          "hex": "#FFFFFF",
          "name": "The Lab",
          "set_num": "30111-1",
          "tf_idf": 0.14241568970574606,
          "theme_name": "Harry Potter"
         },
         {
          "color_name": "Black",
          "hex": "#05131D",
          "name": "The Lab",
          "set_num": "30111-1",
          "tf_idf": 0.11451685499294836,
          "theme_name": "Harry Potter"
         },
         {
          "color_name": "Trans-Red",
          "hex": "#C91A09",
          "name": "Mini Hogwarts Express",
          "set_num": "40028-1",
          "tf_idf": 0.8504529156573334,
          "theme_name": "Harry Potter"
         },
         {
          "color_name": "Black",
          "hex": "#05131D",
          "name": "Mini Hogwarts Express",
          "set_num": "40028-1",
          "tf_idf": 0.5085942995605136,
          "theme_name": "Harry Potter"
         },
         {
          "color_name": "Light Bluish Gray",
          "hex": "#A0A5A9",
          "name": "Mini Hogwarts Express",
          "set_num": "40028-1",
          "tf_idf": 0.0905414229869371,
          "theme_name": "Harry Potter"
         },
         {
          "color_name": "Yellow",
          "hex": "#F2CD37",
          "name": "Mini Hogwarts Express",
          "set_num": "40028-1",
          "tf_idf": 0.08658370172143698,
          "theme_name": "Harry Potter"
         },
         {
          "color_name": "White",
          "hex": "#FFFFFF",
          "name": "Mini Hogwarts Express",
          "set_num": "40028-1",
          "tf_idf": 0.048653777080561976,
          "theme_name": "Harry Potter"
         },
         {
          "color_name": "Dark Bluish Gray",
          "hex": "#6C6E68",
          "name": "Freeing Dobby",
          "set_num": "4736-1",
          "tf_idf": 0.7441303841459759,
          "theme_name": "Harry Potter"
         },
         {
          "color_name": "Light Bluish Gray",
          "hex": "#A0A5A9",
          "name": "Freeing Dobby",
          "set_num": "4736-1",
          "tf_idf": 0.4400262362297156,
          "theme_name": "Harry Potter"
         },
         {
          "color_name": "Tan",
          "hex": "#E4CD9E",
          "name": "Freeing Dobby",
          "set_num": "4736-1",
          "tf_idf": 0.3450131929216037,
          "theme_name": "Harry Potter"
         },
         {
          "color_name": "Black",
          "hex": "#05131D",
          "name": "Freeing Dobby",
          "set_num": "4736-1",
          "tf_idf": 0.19744666746571446,
          "theme_name": "Harry Potter"
         },
         {
          "color_name": "Reddish Brown",
          "hex": "#582A12",
          "name": "Freeing Dobby",
          "set_num": "4736-1",
          "tf_idf": 0.17717390098713712,
          "theme_name": "Harry Potter"
         },
         {
          "color_name": "Reddish Brown",
          "hex": "#582A12",
          "name": "Quidditch Match",
          "set_num": "4737-1",
          "tf_idf": 0.5658735576302594,
          "theme_name": "Harry Potter"
         },
         {
          "color_name": "Light Bluish Gray",
          "hex": "#A0A5A9",
          "name": "Quidditch Match",
          "set_num": "4737-1",
          "tf_idf": 0.36679249962069743,
          "theme_name": "Harry Potter"
         },
         {
          "color_name": "Pearl Gold",
          "hex": "#AA7F2E",
          "name": "Quidditch Match",
          "set_num": "4737-1",
          "tf_idf": 0.3527409644965105,
          "theme_name": "Harry Potter"
         },
         {
          "color_name": "Dark Red",
          "hex": "#720E0F",
          "name": "Quidditch Match",
          "set_num": "4737-1",
          "tf_idf": 0.3247691761650277,
          "theme_name": "Harry Potter"
         },
         {
          "color_name": "Blue",
          "hex": "#0055BF",
          "name": "Quidditch Match",
          "set_num": "4737-1",
          "tf_idf": 0.28916242982177687,
          "theme_name": "Harry Potter"
         },
         {
          "color_name": "Reddish Brown",
          "hex": "#582A12",
          "name": "Hagrid's Hut (3rd edition)",
          "set_num": "4738-1",
          "tf_idf": 0.6529246732607736,
          "theme_name": "Harry Potter"
         },
         {
          "color_name": "Light Bluish Gray",
          "hex": "#A0A5A9",
          "name": "Hagrid's Hut (3rd edition)",
          "set_num": "4738-1",
          "tf_idf": 0.5139664939952606,
          "theme_name": "Harry Potter"
         },
         {
          "color_name": "Dark Bluish Gray",
          "hex": "#6C6E68",
          "name": "Hagrid's Hut (3rd edition)",
          "set_num": "4738-1",
          "tf_idf": 0.4231919178542051,
          "theme_name": "Harry Potter"
         },
         {
          "color_name": "Black",
          "hex": "#05131D",
          "name": "Hagrid's Hut (3rd edition)",
          "set_num": "4738-1",
          "tf_idf": 0.2582652476174055,
          "theme_name": "Harry Potter"
         },
         {
          "color_name": "Sand Green",
          "hex": "#A0BCAC",
          "name": "Hagrid's Hut (3rd edition)",
          "set_num": "4738-1",
          "tf_idf": 0.1785952501403233,
          "theme_name": "Harry Potter"
         },
         {
          "color_name": "Medium Dark Flesh",
          "hex": "#CC702A",
          "name": "The Burrow",
          "set_num": "4840-1",
          "tf_idf": 0.6264356593165434,
          "theme_name": "Harry Potter"
         },
         {
          "color_name": "Dark Red",
          "hex": "#720E0F",
          "name": "The Burrow",
          "set_num": "4840-1",
          "tf_idf": 0.5852925044047169,
          "theme_name": "Harry Potter"
         },
         {
          "color_name": "Reddish Brown",
          "hex": "#582A12",
          "name": "The Burrow",
          "set_num": "4840-1",
          "tf_idf": 0.2712653586137566,
          "theme_name": "Harry Potter"
         },
         {
          "color_name": "Medium Blue",
          "hex": "#5A93DB",
          "name": "The Burrow",
          "set_num": "4840-1",
          "tf_idf": 0.2079349099858516,
          "theme_name": "Harry Potter"
         },
         {
          "color_name": "Dark Bluish Gray",
          "hex": "#6C6E68",
          "name": "The Burrow",
          "set_num": "4840-1",
          "tf_idf": 0.19614572084379325,
          "theme_name": "Harry Potter"
         },
         {
          "color_name": "Black",
          "hex": "#05131D",
          "name": "Hogwarts Express (3rd edition)",
          "set_num": "4841-1",
          "tf_idf": 0.6247793002522908,
          "theme_name": "Harry Potter"
         },
         {
          "color_name": "Trans-Red",
          "hex": "#C91A09",
          "name": "Hogwarts Express (3rd edition)",
          "set_num": "4841-1",
          "tf_idf": 0.5688265293502882,
          "theme_name": "Harry Potter"
         },
         {
          "color_name": "Medium Blue",
          "hex": "#5A93DB",
          "name": "Hogwarts Express (3rd edition)",
          "set_num": "4841-1",
          "tf_idf": 0.47360541937774064,
          "theme_name": "Harry Potter"
         },
         {
          "color_name": "Light Bluish Gray",
          "hex": "#A0A5A9",
          "name": "Hogwarts Express (3rd edition)",
          "set_num": "4841-1",
          "tf_idf": 0.1657994173776491,
          "theme_name": "Harry Potter"
         },
         {
          "color_name": "Reddish Brown",
          "hex": "#582A12",
          "name": "Hogwarts Express (3rd edition)",
          "set_num": "4841-1",
          "tf_idf": 0.09687691712336113,
          "theme_name": "Harry Potter"
         },
         {
          "color_name": "Tan",
          "hex": "#E4CD9E",
          "name": "Hogwarts Castle [Fourth Edition]",
          "set_num": "4842-1",
          "tf_idf": 0.7193181161765473,
          "theme_name": "Harry Potter"
         },
         {
          "color_name": "Reddish Brown",
          "hex": "#582A12",
          "name": "Hogwarts Castle [Fourth Edition]",
          "set_num": "4842-1",
          "tf_idf": 0.46485782063938513,
          "theme_name": "Harry Potter"
         },
         {
          "color_name": "Dark Bluish Gray",
          "hex": "#6C6E68",
          "name": "Hogwarts Castle [Fourth Edition]",
          "set_num": "4842-1",
          "tf_idf": 0.36618517003196843,
          "theme_name": "Harry Potter"
         },
         {
          "color_name": "Dark Tan",
          "hex": "#958A73",
          "name": "Hogwarts Castle [Fourth Edition]",
          "set_num": "4842-1",
          "tf_idf": 0.19429067280451515,
          "theme_name": "Harry Potter"
         },
         {
          "color_name": "Sand Green",
          "hex": "#A0BCAC",
          "name": "Hogwarts Castle [Fourth Edition]",
          "set_num": "4842-1",
          "tf_idf": 0.17273629196318155,
          "theme_name": "Harry Potter"
         },
         {
          "color_name": "Dark Brown",
          "hex": "#352100",
          "name": "The Forbidden Forest",
          "set_num": "4865-1",
          "tf_idf": 0.848203121793722,
          "theme_name": "Harry Potter"
         },
         {
          "color_name": "Black",
          "hex": "#05131D",
          "name": "The Forbidden Forest",
          "set_num": "4865-1",
          "tf_idf": 0.38367001366415204,
          "theme_name": "Harry Potter"
         },
         {
          "color_name": "Trans-Light Blue",
          "hex": "#AEEFEC",
          "name": "The Forbidden Forest",
          "set_num": "4865-1",
          "tf_idf": 0.2096869619210739,
          "theme_name": "Harry Potter"
         },
         {
          "color_name": "Trans-Dark Blue",
          "hex": "#0020A0",
          "name": "The Forbidden Forest",
          "set_num": "4865-1",
          "tf_idf": 0.1684262305420641,
          "theme_name": "Harry Potter"
         },
         {
          "color_name": "Dark Green",
          "hex": "#184632",
          "name": "The Forbidden Forest",
          "set_num": "4865-1",
          "tf_idf": 0.14294491317081243,
          "theme_name": "Harry Potter"
         },
         {
          "color_name": "Dark Purple",
          "hex": "#3F3691",
          "name": "The Knight Bus",
          "set_num": "4866-1",
          "tf_idf": 0.9551775332504842,
          "theme_name": "Harry Potter"
         },
         {
          "color_name": "Black",
          "hex": "#05131D",
          "name": "The Knight Bus",
          "set_num": "4866-1",
          "tf_idf": 0.234337060952575,
          "theme_name": "Harry Potter"
         },
         {
          "color_name": "Trans-Clear",
          "hex": "#FCFCFC",
          "name": "The Knight Bus",
          "set_num": "4866-1",
          "tf_idf": 0.135511577915545,
          "theme_name": "Harry Potter"
         },
         {
          "color_name": "Light Bluish Gray",
          "hex": "#A0A5A9",
          "name": "The Knight Bus",
          "set_num": "4866-1",
          "tf_idf": 0.09819888609978916,
          "theme_name": "Harry Potter"
         },
         {
          "color_name": "Reddish Brown",
          "hex": "#582A12",
          "name": "The Knight Bus",
          "set_num": "4866-1",
          "tf_idf": 0.04205531728413465,
          "theme_name": "Harry Potter"
         },
         {
          "color_name": "Dark Bluish Gray",
          "hex": "#6C6E68",
          "name": "Hogwarts",
          "set_num": "4867-1",
          "tf_idf": 0.6455254593703319,
          "theme_name": "Harry Potter"
         },
         {
          "color_name": "Tan",
          "hex": "#E4CD9E",
          "name": "Hogwarts",
          "set_num": "4867-1",
          "tf_idf": 0.5362201474997824,
          "theme_name": "Harry Potter"
         },
         {
          "color_name": "Dark Tan",
          "hex": "#958A73",
          "name": "Hogwarts",
          "set_num": "4867-1",
          "tf_idf": 0.327085490367424,
          "theme_name": "Harry Potter"
         },
         {
          "color_name": "Reddish Brown",
          "hex": "#582A12",
          "name": "Hogwarts",
          "set_num": "4867-1",
          "tf_idf": 0.27581542354914185,
          "theme_name": "Harry Potter"
         },
         {
          "color_name": "Sand Green",
          "hex": "#A0BCAC",
          "name": "Hogwarts",
          "set_num": "4867-1",
          "tf_idf": 0.22536923058500488,
          "theme_name": "Harry Potter"
         },
         {
          "color_name": "Yellow",
          "hex": "#F2CD37",
          "name": "Harry Potter Gallery 1 - Potter L. Malfoy Lockhart Madame Hooch",
          "set_num": "HPG01-1",
          "tf_idf": 0.49739409724407124,
          "theme_name": "Harry Potter"
         },
         {
          "color_name": "Light Gray",
          "hex": "#9BA19D",
          "name": "Harry Potter Gallery 1 - Potter L. Malfoy Lockhart Madame Hooch",
          "set_num": "HPG01-1",
          "tf_idf": 0.4811203569852127,
          "theme_name": "Harry Potter"
         },
         {
          "color_name": "Black",
          "hex": "#05131D",
          "name": "Harry Potter Gallery 1 - Potter L. Malfoy Lockhart Madame Hooch",
          "set_num": "HPG01-1",
          "tf_idf": 0.42139937357611545,
          "theme_name": "Harry Potter"
         },
         {
          "color_name": "Green",
          "hex": "#237841",
          "name": "Harry Potter Gallery 1 - Potter L. Malfoy Lockhart Madame Hooch",
          "set_num": "HPG01-1",
          "tf_idf": 0.4147842749679973,
          "theme_name": "Harry Potter"
         },
         {
          "color_name": "Dark Gray",
          "hex": "#6D6E5C",
          "name": "Harry Potter Gallery 1 - Potter L. Malfoy Lockhart Madame Hooch",
          "set_num": "HPG01-1",
          "tf_idf": 0.34486794700416584,
          "theme_name": "Harry Potter"
         },
         {
          "color_name": "Light Gray",
          "hex": "#9BA19D",
          "name": "Harry Potter Gallery 2 - Hagrid V. Dursley Crabbe Ron Weasley",
          "set_num": "HPG02-1",
          "tf_idf": 0.5842165858380872,
          "theme_name": "Harry Potter"
         },
         {
          "color_name": "Brown",
          "hex": "#583927",
          "name": "Harry Potter Gallery 2 - Hagrid V. Dursley Crabbe Ron Weasley",
          "set_num": "HPG02-1",
          "tf_idf": 0.47111345029036295,
          "theme_name": "Harry Potter"
         },
         {
          "color_name": "Yellow",
          "hex": "#F2CD37",
          "name": "Harry Potter Gallery 2 - Hagrid V. Dursley Crabbe Ron Weasley",
          "set_num": "HPG02-1",
          "tf_idf": 0.45298314198677736,
          "theme_name": "Harry Potter"
         },
         {
          "color_name": "Earth Orange",
          "hex": "#FA9C1C",
          "name": "Harry Potter Gallery 2 - Hagrid V. Dursley Crabbe Ron Weasley",
          "set_num": "HPG02-1",
          "tf_idf": 0.37052488490413205,
          "theme_name": "Harry Potter"
         },
         {
          "color_name": "Black",
          "hex": "#05131D",
          "name": "Harry Potter Gallery 2 - Hagrid V. Dursley Crabbe Ron Weasley",
          "set_num": "HPG02-1",
          "tf_idf": 0.3070190230747357,
          "theme_name": "Harry Potter"
         },
         {
          "color_name": "Light Gray",
          "hex": "#9BA19D",
          "name": "Harry Potter Gallery 3 - Dumbledore Ginny Weasley D. Malfoy Snape",
          "set_num": "HPG03-1",
          "tf_idf": 0.6301594106581458,
          "theme_name": "Harry Potter"
         },
         {
          "color_name": "Purple",
          "hex": "#81007B",
          "name": "Harry Potter Gallery 3 - Dumbledore Ginny Weasley D. Malfoy Snape",
          "set_num": "HPG03-1",
          "tf_idf": 0.5339380306096715,
          "theme_name": "Harry Potter"
         },
         {
          "color_name": "Black",
          "hex": "#05131D",
          "name": "Harry Potter Gallery 3 - Dumbledore Ginny Weasley D. Malfoy Snape",
          "set_num": "HPG03-1",
          "tf_idf": 0.3311630161339422,
          "theme_name": "Harry Potter"
         },
         {
          "color_name": "Chrome Antique Brass",
          "hex": "#645A4C",
          "name": "Harry Potter Gallery 3 - Dumbledore Ginny Weasley D. Malfoy Snape",
          "set_num": "HPG03-1",
          "tf_idf": 0.3112003376937228,
          "theme_name": "Harry Potter"
         },
         {
          "color_name": "Yellow",
          "hex": "#F2CD37",
          "name": "Harry Potter Gallery 3 - Dumbledore Ginny Weasley D. Malfoy Snape",
          "set_num": "HPG03-1",
          "tf_idf": 0.2443028807398275,
          "theme_name": "Harry Potter"
         },
         {
          "color_name": "Light Gray",
          "hex": "#9BA19D",
          "name": "Harry Potter Gallery 4 - Tom Riddle McGonagall Dobby Goyle Hermione",
          "set_num": "HPG04-1",
          "tf_idf": 0.7212234033542587,
          "theme_name": "Harry Potter"
         },
         {
          "color_name": "Green",
          "hex": "#237841",
          "name": "Harry Potter Gallery 4 - Tom Riddle McGonagall Dobby Goyle Hermione",
          "set_num": "HPG04-1",
          "tf_idf": 0.4145215393015712,
          "theme_name": "Harry Potter"
         },
         {
          "color_name": "Yellow",
          "hex": "#F2CD37",
          "name": "Harry Potter Gallery 4 - Tom Riddle McGonagall Dobby Goyle Hermione",
          "set_num": "HPG04-1",
          "tf_idf": 0.37280927569825717,
          "theme_name": "Harry Potter"
         },
         {
          "color_name": "Black",
          "hex": "#05131D",
          "name": "Harry Potter Gallery 4 - Tom Riddle McGonagall Dobby Goyle Hermione",
          "set_num": "HPG04-1",
          "tf_idf": 0.3158493357944318,
          "theme_name": "Harry Potter"
         },
         {
          "color_name": "Tan",
          "hex": "#E4CD9E",
          "name": "Harry Potter Gallery 4 - Tom Riddle McGonagall Dobby Goyle Hermione",
          "set_num": "HPG04-1",
          "tf_idf": 0.22925365572454434,
          "theme_name": "Harry Potter"
         },
         {
          "color_name": "Reddish Brown",
          "hex": "#582A12",
          "name": "Harry Potter Wand",
          "set_num": "HPWAND-1",
          "tf_idf": 0.9326134116072224,
          "theme_name": "Harry Potter"
         },
         {
          "color_name": "Black",
          "hex": "#05131D",
          "name": "Harry Potter Wand",
          "set_num": "HPWAND-1",
          "tf_idf": 0.3608770212833417,
          "theme_name": "Harry Potter"
         },
         {
          "color_name": "Light Violet",
          "hex": "#C9CAE2",
          "name": "Harry Potter Wand",
          "set_num": "HPWAND-1",
          "tf_idf": 0,
          "theme_name": "Harry Potter"
         },
         {
          "color_name": "Trans-Dark Blue",
          "hex": "#0020A0",
          "name": "Harry Potter Wand",
          "set_num": "HPWAND-1",
          "tf_idf": 0,
          "theme_name": "Harry Potter"
         },
         {
          "color_name": "Trans-Bright Green",
          "hex": "#D9E4A7",
          "name": "Harry Potter Wand",
          "set_num": "HPWAND-1",
          "tf_idf": 0,
          "theme_name": "Harry Potter"
         },
         {
          "color_name": "Light Gray",
          "hex": "#9BA19D",
          "name": "Harry Potter Quidditch Tower (TRU Event Exclusive)",
          "set_num": "TRU01-1",
          "tf_idf": 0.6955386911474104,
          "theme_name": "Harry Potter"
         },
         {
          "color_name": "Blue",
          "hex": "#0055BF",
          "name": "Harry Potter Quidditch Tower (TRU Event Exclusive)",
          "set_num": "TRU01-1",
          "tf_idf": 0.45485222696660493,
          "theme_name": "Harry Potter"
         },
         {
          "color_name": "Tan",
          "hex": "#E4CD9E",
          "name": "Harry Potter Quidditch Tower (TRU Event Exclusive)",
          "set_num": "TRU01-1",
          "tf_idf": 0.4421786284300198,
          "theme_name": "Harry Potter"
         },
         {
          "color_name": "Black",
          "hex": "#05131D",
          "name": "Harry Potter Quidditch Tower (TRU Event Exclusive)",
          "set_num": "TRU01-1",
          "tf_idf": 0.3289691754375264,
          "theme_name": "Harry Potter"
         },
         {
          "color_name": "Dark Gray",
          "hex": "#6D6E5C",
          "name": "Harry Potter Quidditch Tower (TRU Event Exclusive)",
          "set_num": "TRU01-1",
          "tf_idf": 0.07478450984106177,
          "theme_name": "Harry Potter"
         },
         {
          "color_name": "Medium Blue",
          "hex": "#5A93DB",
          "name": "Weasley Family Car",
          "set_num": "TRUWEASLEYCAR-1",
          "tf_idf": 0.9085331356220928,
          "theme_name": "Harry Potter"
         },
         {
          "color_name": "Light Bluish Gray",
          "hex": "#A0A5A9",
          "name": "Weasley Family Car",
          "set_num": "TRUWEASLEYCAR-1",
          "tf_idf": 0.3085485174380926,
          "theme_name": "Harry Potter"
         },
         {
          "color_name": "Trans-Clear",
          "hex": "#FCFCFC",
          "name": "Weasley Family Car",
          "set_num": "TRUWEASLEYCAR-1",
          "tf_idf": 0.24225862677207116,
          "theme_name": "Harry Potter"
         },
         {
          "color_name": "Black",
          "hex": "#05131D",
          "name": "Weasley Family Car",
          "set_num": "TRUWEASLEYCAR-1",
          "tf_idf": 0.12499008416793364,
          "theme_name": "Harry Potter"
         },
         {
          "color_name": "Trans-Red",
          "hex": "#C91A09",
          "name": "Weasley Family Car",
          "set_num": "TRUWEASLEYCAR-1",
          "tf_idf": 0.06393059832050707,
          "theme_name": "Harry Potter"
         }
        ]
       },
       "encoding": {
        "color": {
         "field": "hex",
         "scale": null,
         "title": "Colour",
         "type": "nominal"
        },
        "column": {
         "field": "name",
         "title": "Set name",
         "type": "nominal"
        },
        "tooltip": [
         {
          "field": "hex",
          "type": "nominal"
         }
        ],
        "x": {
         "field": "color_name",
         "sort": {
          "field": "tf_idf:Q",
          "order": "ascending"
         },
         "title": "Colour",
         "type": "nominal"
        },
        "y": {
         "field": "tf_idf",
         "title": "TF-IDF",
         "type": "quantitative"
        }
       },
       "mark": "bar",
       "resolve": {
        "scale": {
         "x": "independent"
        }
       }
      },
      "image/png": "[encoded data removed]",
      "text/plain": [
       "<VegaLite 3 object>\n",
       "\n",
       "If you see this message, it means the renderer has not been properly enabled\n",
       "for the frontend that you are using. For more information, see\n",
       "https://altair-viz.github.io/user_guide/troubleshooting.html\n"
      ]
     },
     "execution_count": 53,
     "metadata": {},
     "output_type": "execute_result"
    }
   ],
   "source": [
    "alt.Chart(largest_colors_tfidf[largest_colors_tfidf['theme_name']==\"Harry Potter\"]).mark_bar().encode(\n",
    "    y=alt.X('tf_idf', title='TF-IDF'),\n",
    "    x=alt.X('color_name', sort=alt.Sort(field='tf_idf:Q', order='ascending'), title='Colour'),\n",
    "    color=alt.Color(\"hex:N\", scale=None, title='Colour'),\n",
    "    tooltip=['hex'],\n",
    "    column=alt.Column('name', title='Set name')\n",
    ").resolve_scale(x='independent').configure_view(\n",
    "    fill='#f4f4f4'\n",
    ")"
   ]
  },
  {
   "cell_type": "markdown",
   "metadata": {},
   "source": [
    "### Fantastic Beasts"
   ]
  },
  {
   "cell_type": "code",
   "execution_count": 54,
   "metadata": {},
   "outputs": [
    {
     "data": {
      "application/vnd.vegalite.v3+json": {
       "$schema": "https://vega.github.io/schema/vega-lite/v3.2.1.json",
       "config": {
        "mark": {
         "tooltip": null
        },
        "view": {
         "fill": "#f4f4f4",
         "height": 300,
         "width": 400
        }
       },
       "data": {
        "name": "data-cb1dac737e648e644471cc776e7658a5"
       },
       "datasets": {
        "data-cb1dac737e648e644471cc776e7658a5": [
         {
          "color_name": "Pearl Gold",
          "hex": "#AA7F2E",
          "name": "Harry's Journey to Hogwarts",
          "set_num": "30407-1",
          "tf_idf": 0.6045848477258536,
          "theme_name": "Fantastic Beasts"
         },
         {
          "color_name": "Reddish Brown",
          "hex": "#582A12",
          "name": "Harry's Journey to Hogwarts",
          "set_num": "30407-1",
          "tf_idf": 0.550371906873304,
          "theme_name": "Fantastic Beasts"
         },
         {
          "color_name": "Dark Brown",
          "hex": "#352100",
          "name": "Harry's Journey to Hogwarts",
          "set_num": "30407-1",
          "tf_idf": 0.45923932182436555,
          "theme_name": "Fantastic Beasts"
         },
         {
          "color_name": "Dark Bluish Gray",
          "hex": "#6C6E68",
          "name": "Harry's Journey to Hogwarts",
          "set_num": "30407-1",
          "tf_idf": 0.20013523886301962,
          "theme_name": "Fantastic Beasts"
         },
         {
          "color_name": "Light Bluish Gray",
          "hex": "#A0A5A9",
          "name": "Harry's Journey to Hogwarts",
          "set_num": "30407-1",
          "tf_idf": 0.19117409376014302,
          "theme_name": "Fantastic Beasts"
         },
         {
          "color_name": "Light Bluish Gray",
          "hex": "#A0A5A9",
          "name": "Diagon Alley (micro)",
          "set_num": "40289-1",
          "tf_idf": 0.48196067411792026,
          "theme_name": "Fantastic Beasts"
         },
         {
          "color_name": "Lavender",
          "hex": "#E1D5ED",
          "name": "Diagon Alley (micro)",
          "set_num": "40289-1",
          "tf_idf": 0.42502082889883297,
          "theme_name": "Fantastic Beasts"
         },
         {
          "color_name": "White",
          "hex": "#FFFFFF",
          "name": "Diagon Alley (micro)",
          "set_num": "40289-1",
          "tf_idf": 0.35991814693740903,
          "theme_name": "Fantastic Beasts"
         },
         {
          "color_name": "Medium Lavender",
          "hex": "#AC78BA",
          "name": "Diagon Alley (micro)",
          "set_num": "40289-1",
          "tf_idf": 0.32842518596728004,
          "theme_name": "Fantastic Beasts"
         },
         {
          "color_name": "Orange",
          "hex": "#FE8A18",
          "name": "Diagon Alley (micro)",
          "set_num": "40289-1",
          "tf_idf": 0.3104666047252555,
          "theme_name": "Fantastic Beasts"
         },
         {
          "color_name": "Tan",
          "hex": "#E4CD9E",
          "name": "Hogwarts Castle",
          "set_num": "71043-1",
          "tf_idf": 0.6700720117329128,
          "theme_name": "Fantastic Beasts"
         },
         {
          "color_name": "Dark Tan",
          "hex": "#958A73",
          "name": "Hogwarts Castle",
          "set_num": "71043-1",
          "tf_idf": 0.4375034303706146,
          "theme_name": "Fantastic Beasts"
         },
         {
          "color_name": "Dark Bluish Gray",
          "hex": "#6C6E68",
          "name": "Hogwarts Castle",
          "set_num": "71043-1",
          "tf_idf": 0.4187184489944841,
          "theme_name": "Fantastic Beasts"
         },
         {
          "color_name": "Light Bluish Gray",
          "hex": "#A0A5A9",
          "name": "Hogwarts Castle",
          "set_num": "71043-1",
          "tf_idf": 0.29908878441031406,
          "theme_name": "Fantastic Beasts"
         },
         {
          "color_name": "Reddish Brown",
          "hex": "#582A12",
          "name": "Hogwarts Castle",
          "set_num": "71043-1",
          "tf_idf": 0.19307572925856767,
          "theme_name": "Fantastic Beasts"
         },
         {
          "color_name": "Black",
          "hex": "#05131D",
          "name": "Hogwarts Express (4th Edition)",
          "set_num": "71247-2",
          "tf_idf": 0.7242506861161864,
          "theme_name": "Fantastic Beasts"
         },
         {
          "color_name": "Trans-Red",
          "hex": "#C91A09",
          "name": "Hogwarts Express (4th Edition)",
          "set_num": "71247-2",
          "tf_idf": 0.67353386115211,
          "theme_name": "Fantastic Beasts"
         },
         {
          "color_name": "Trans-Clear",
          "hex": "#FCFCFC",
          "name": "Hogwarts Express (4th Edition)",
          "set_num": "71247-2",
          "tf_idf": 0.10634539157419205,
          "theme_name": "Fantastic Beasts"
         },
         {
          "color_name": "Pearl Gold",
          "hex": "#AA7F2E",
          "name": "Hogwarts Express (4th Edition)",
          "set_num": "71247-2",
          "tf_idf": 0.07139040662536425,
          "theme_name": "Fantastic Beasts"
         },
         {
          "color_name": "Dark Bluish Gray",
          "hex": "#6C6E68",
          "name": "Hogwarts Express (4th Edition)",
          "set_num": "71247-2",
          "tf_idf": 0.053172695787096026,
          "theme_name": "Fantastic Beasts"
         },
         {
          "color_name": "Reddish Brown",
          "hex": "#582A12",
          "name": "Aragog's Lair",
          "set_num": "75950-1",
          "tf_idf": 0.6413876510203261,
          "theme_name": "Fantastic Beasts"
         },
         {
          "color_name": "Dark Brown",
          "hex": "#352100",
          "name": "Aragog's Lair",
          "set_num": "75950-1",
          "tf_idf": 0.4905856519062747,
          "theme_name": "Fantastic Beasts"
         },
         {
          "color_name": "Black",
          "hex": "#05131D",
          "name": "Aragog's Lair",
          "set_num": "75950-1",
          "tf_idf": 0.3970984111656621,
          "theme_name": "Fantastic Beasts"
         },
         {
          "color_name": "Dark Tan",
          "hex": "#958A73",
          "name": "Aragog's Lair",
          "set_num": "75950-1",
          "tf_idf": 0.2520747061592757,
          "theme_name": "Fantastic Beasts"
         },
         {
          "color_name": "Dark Bluish Gray",
          "hex": "#6C6E68",
          "name": "Aragog's Lair",
          "set_num": "75950-1",
          "tf_idf": 0.19241629530609786,
          "theme_name": "Fantastic Beasts"
         },
         {
          "color_name": "Black",
          "hex": "#05131D",
          "name": "Grindelwald's Escape",
          "set_num": "75951-1",
          "tf_idf": 0.8348634262521982,
          "theme_name": "Fantastic Beasts"
         },
         {
          "color_name": "Dark Tan",
          "hex": "#958A73",
          "name": "Grindelwald's Escape",
          "set_num": "75951-1",
          "tf_idf": 0.34008399648415516,
          "theme_name": "Fantastic Beasts"
         },
         {
          "color_name": "Light Bluish Gray",
          "hex": "#A0A5A9",
          "name": "Grindelwald's Escape",
          "set_num": "75951-1",
          "tf_idf": 0.2083661316920484,
          "theme_name": "Fantastic Beasts"
         },
         {
          "color_name": "Pearl Gold",
          "hex": "#AA7F2E",
          "name": "Grindelwald's Escape",
          "set_num": "75951-1",
          "tf_idf": 0.1863709351280575,
          "theme_name": "Fantastic Beasts"
         },
         {
          "color_name": "Reddish Brown",
          "hex": "#582A12",
          "name": "Grindelwald's Escape",
          "set_num": "75951-1",
          "tf_idf": 0.15864228431579044,
          "theme_name": "Fantastic Beasts"
         },
         {
          "color_name": "Reddish Brown",
          "hex": "#582A12",
          "name": "Newt's Case of Magical Creatures",
          "set_num": "75952-1",
          "tf_idf": 0.5876545414355434,
          "theme_name": "Fantastic Beasts"
         },
         {
          "color_name": "Dark Bluish Gray",
          "hex": "#6C6E68",
          "name": "Newt's Case of Magical Creatures",
          "set_num": "75952-1",
          "tf_idf": 0.5037038926590373,
          "theme_name": "Fantastic Beasts"
         },
         {
          "color_name": "Dark Brown",
          "hex": "#352100",
          "name": "Newt's Case of Magical Creatures",
          "set_num": "75952-1",
          "tf_idf": 0.29354199627250244,
          "theme_name": "Fantastic Beasts"
         },
         {
          "color_name": "Medium Azure",
          "hex": "#36AEBF",
          "name": "Newt's Case of Magical Creatures",
          "set_num": "75952-1",
          "tf_idf": 0.2618093178363292,
          "theme_name": "Fantastic Beasts"
         },
         {
          "color_name": "Pearl Gold",
          "hex": "#AA7F2E",
          "name": "Newt's Case of Magical Creatures",
          "set_num": "75952-1",
          "tf_idf": 0.24689583874677345,
          "theme_name": "Fantastic Beasts"
         },
         {
          "color_name": "Tan",
          "hex": "#E4CD9E",
          "name": "Hogwarts Whomping Willow",
          "set_num": "75953-1",
          "tf_idf": 0.4501171353538634,
          "theme_name": "Fantastic Beasts"
         },
         {
          "color_name": "Reddish Brown",
          "hex": "#582A12",
          "name": "Hogwarts Whomping Willow",
          "set_num": "75953-1",
          "tf_idf": 0.41235401338635813,
          "theme_name": "Fantastic Beasts"
         },
         {
          "color_name": "Medium Blue",
          "hex": "#5A93DB",
          "name": "Hogwarts Whomping Willow",
          "set_num": "75953-1",
          "tf_idf": 0.3877839201502225,
          "theme_name": "Fantastic Beasts"
         },
         {
          "color_name": "Dark Brown",
          "hex": "#352100",
          "name": "Hogwarts Whomping Willow",
          "set_num": "75953-1",
          "tf_idf": 0.31540202271045015,
          "theme_name": "Fantastic Beasts"
         },
         {
          "color_name": "Light Bluish Gray",
          "hex": "#A0A5A9",
          "name": "Hogwarts Whomping Willow",
          "set_num": "75953-1",
          "tf_idf": 0.31427447668931824,
          "theme_name": "Fantastic Beasts"
         },
         {
          "color_name": "Tan",
          "hex": "#E4CD9E",
          "name": "Hogwarts Great Hall",
          "set_num": "75954-1",
          "tf_idf": 0.6860936564856682,
          "theme_name": "Fantastic Beasts"
         },
         {
          "color_name": "Dark Bluish Gray",
          "hex": "#6C6E68",
          "name": "Hogwarts Great Hall",
          "set_num": "75954-1",
          "tf_idf": 0.3940376812718294,
          "theme_name": "Fantastic Beasts"
         },
         {
          "color_name": "Medium Dark Flesh",
          "hex": "#CC702A",
          "name": "Hogwarts Great Hall",
          "set_num": "75954-1",
          "tf_idf": 0.32918266768896726,
          "theme_name": "Fantastic Beasts"
         },
         {
          "color_name": "Reddish Brown",
          "hex": "#582A12",
          "name": "Hogwarts Great Hall",
          "set_num": "75954-1",
          "tf_idf": 0.3098415955299855,
          "theme_name": "Fantastic Beasts"
         },
         {
          "color_name": "Black",
          "hex": "#05131D",
          "name": "Hogwarts Great Hall",
          "set_num": "75954-1",
          "tf_idf": 0.2668943733557787,
          "theme_name": "Fantastic Beasts"
         },
         {
          "color_name": "Black",
          "hex": "#05131D",
          "name": "Hogwarts Express (4th Edition)",
          "set_num": "75955-1",
          "tf_idf": 0.5898467902394013,
          "theme_name": "Fantastic Beasts"
         },
         {
          "color_name": "Trans-Red",
          "hex": "#C91A09",
          "name": "Hogwarts Express (4th Edition)",
          "set_num": "75955-1",
          "tf_idf": 0.5070554595512305,
          "theme_name": "Fantastic Beasts"
         },
         {
          "color_name": "Dark Bluish Gray",
          "hex": "#6C6E68",
          "name": "Hogwarts Express (4th Edition)",
          "set_num": "75955-1",
          "tf_idf": 0.3802842275694297,
          "theme_name": "Fantastic Beasts"
         },
         {
          "color_name": "Light Bluish Gray",
          "hex": "#A0A5A9",
          "name": "Hogwarts Express (4th Edition)",
          "set_num": "75955-1",
          "tf_idf": 0.3020767328816639,
          "theme_name": "Fantastic Beasts"
         },
         {
          "color_name": "Reddish Brown",
          "hex": "#582A12",
          "name": "Hogwarts Express (4th Edition)",
          "set_num": "75955-1",
          "tf_idf": 0.26019447149487296,
          "theme_name": "Fantastic Beasts"
         },
         {
          "color_name": "Light Bluish Gray",
          "hex": "#A0A5A9",
          "name": "Quidditch Match",
          "set_num": "75956-1",
          "tf_idf": 0.6075423665564197,
          "theme_name": "Fantastic Beasts"
         },
         {
          "color_name": "Reddish Brown",
          "hex": "#582A12",
          "name": "Quidditch Match",
          "set_num": "75956-1",
          "tf_idf": 0.41536030586279693,
          "theme_name": "Fantastic Beasts"
         },
         {
          "color_name": "Yellow",
          "hex": "#F2CD37",
          "name": "Quidditch Match",
          "set_num": "75956-1",
          "tf_idf": 0.35570549704543647,
          "theme_name": "Fantastic Beasts"
         },
         {
          "color_name": "Green",
          "hex": "#237841",
          "name": "Quidditch Match",
          "set_num": "75956-1",
          "tf_idf": 0.3164032652291523,
          "theme_name": "Fantastic Beasts"
         },
         {
          "color_name": "Black",
          "hex": "#05131D",
          "name": "Quidditch Match",
          "set_num": "75956-1",
          "tf_idf": 0.2772500689212175,
          "theme_name": "Fantastic Beasts"
         },
         {
          "color_name": "Bright Light Orange",
          "hex": "#F8BB3D",
          "name": "Golden Snitch",
          "set_num": "HP-SNITCH",
          "tf_idf": 0.9967009300857499,
          "theme_name": "Fantastic Beasts"
         },
         {
          "color_name": "White",
          "hex": "#FFFFFF",
          "name": "Golden Snitch",
          "set_num": "HP-SNITCH",
          "tf_idf": 0.06137916441673226,
          "theme_name": "Fantastic Beasts"
         },
         {
          "color_name": "Light Bluish Gray",
          "hex": "#A0A5A9",
          "name": "Golden Snitch",
          "set_num": "HP-SNITCH",
          "tf_idf": 0.03807417239048144,
          "theme_name": "Fantastic Beasts"
         },
         {
          "color_name": "Black",
          "hex": "#05131D",
          "name": "Golden Snitch",
          "set_num": "HP-SNITCH",
          "tf_idf": 0.037016368521029255,
          "theme_name": "Fantastic Beasts"
         },
         {
          "color_name": "Trans-Light Blue",
          "hex": "#AEEFEC",
          "name": "Golden Snitch",
          "set_num": "HP-SNITCH",
          "tf_idf": 0,
          "theme_name": "Fantastic Beasts"
         }
        ]
       },
       "encoding": {
        "color": {
         "field": "hex",
         "scale": null,
         "title": "Colour",
         "type": "nominal"
        },
        "column": {
         "field": "name",
         "title": "Set name",
         "type": "nominal"
        },
        "tooltip": [
         {
          "field": "hex",
          "type": "nominal"
         }
        ],
        "x": {
         "field": "color_name",
         "sort": {
          "field": "tf_idf:Q",
          "order": "ascending"
         },
         "title": "Colour",
         "type": "nominal"
        },
        "y": {
         "field": "tf_idf",
         "title": "TF-IDF",
         "type": "quantitative"
        }
       },
       "mark": "bar",
       "resolve": {
        "scale": {
         "x": "independent"
        }
       }
      },
      "image/png": "[encoded data removed]",
      "text/plain": [
       "<VegaLite 3 object>\n",
       "\n",
       "If you see this message, it means the renderer has not been properly enabled\n",
       "for the frontend that you are using. For more information, see\n",
       "https://altair-viz.github.io/user_guide/troubleshooting.html\n"
      ]
     },
     "execution_count": 54,
     "metadata": {},
     "output_type": "execute_result"
    }
   ],
   "source": [
    "alt.Chart(largest_colors_tfidf[largest_colors_tfidf['theme_name']==\"Fantastic Beasts\"]).mark_bar().encode(\n",
    "    y=alt.X('tf_idf', title='TF-IDF'),\n",
    "    x=alt.X('color_name', sort=alt.Sort(field='tf_idf:Q', order='ascending'), title='Colour'),\n",
    "    color=alt.Color(\"hex:N\", scale=None, title='Colour'),\n",
    "    tooltip=['hex'],\n",
    "    column=alt.Column('name', title='Set name')\n",
    ").resolve_scale(x='independent').configure_view(\n",
    "    fill='#f4f4f4'\n",
    ")"
   ]
  }
 ],
 "metadata": {
  "kernelspec": {
   "display_name": "Python 3",
   "language": "python",
   "name": "python3"
  },
  "language_info": {
   "codemirror_mode": {
    "name": "ipython",
    "version": 3
   },
   "file_extension": ".py",
   "mimetype": "text/x-python",
   "name": "python",
   "nbconvert_exporter": "python",
   "pygments_lexer": "ipython3",
   "version": "3.6.5"
  }
 },
 "nbformat": 4,
 "nbformat_minor": 4
}
